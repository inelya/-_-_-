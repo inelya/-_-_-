{
 "cells": [
  {
   "cell_type": "markdown",
   "id": "4b748400",
   "metadata": {},
   "source": [
    "# Исследование надежности заемщиков."
   ]
  },
  {
   "cell_type": "markdown",
   "id": "5de7f5de",
   "metadata": {},
   "source": [
    "Описание проекта\n",
    "\n",
    "Заказчик — кредитный отдел банка. Нужно разобраться, влияет ли семейное положение и количество детей клиента на факт погашения кредита в срок. Входные данные от банка — статистика о платёжеспособности клиентов.\n",
    "\n",
    "Результаты исследования будут учтены при построении модели кредитного скоринга — специальной системы, которая оценивает способность потенциального заёмщика вернуть кредит банку."
   ]
  },
  {
   "cell_type": "markdown",
   "id": "0f8c61df",
   "metadata": {},
   "source": [
    "### Шаг 1. Обзор данных"
   ]
  },
  {
   "cell_type": "markdown",
   "id": "176ec6c5",
   "metadata": {},
   "source": [
    "Посмотрим общую информацию по датафрему, из каких столбцов состоит, и проверим, есть ли пропуски."
   ]
  },
  {
   "cell_type": "code",
   "execution_count": 1,
   "id": "42a13e07",
   "metadata": {},
   "outputs": [
    {
     "name": "stdout",
     "output_type": "stream",
     "text": [
      "<class 'pandas.core.frame.DataFrame'>\n",
      "RangeIndex: 21525 entries, 0 to 21524\n",
      "Data columns (total 12 columns):\n",
      " #   Column            Non-Null Count  Dtype  \n",
      "---  ------            --------------  -----  \n",
      " 0   children          21525 non-null  int64  \n",
      " 1   days_employed     19351 non-null  float64\n",
      " 2   dob_years         21525 non-null  int64  \n",
      " 3   education         21525 non-null  object \n",
      " 4   education_id      21525 non-null  int64  \n",
      " 5   family_status     21525 non-null  object \n",
      " 6   family_status_id  21525 non-null  int64  \n",
      " 7   gender            21525 non-null  object \n",
      " 8   income_type       21525 non-null  object \n",
      " 9   debt              21525 non-null  int64  \n",
      " 10  total_income      19351 non-null  float64\n",
      " 11  purpose           21525 non-null  object \n",
      "dtypes: float64(2), int64(5), object(5)\n",
      "memory usage: 2.0+ MB\n"
     ]
    },
    {
     "data": {
      "text/html": [
       "<div>\n",
       "<style scoped>\n",
       "    .dataframe tbody tr th:only-of-type {\n",
       "        vertical-align: middle;\n",
       "    }\n",
       "\n",
       "    .dataframe tbody tr th {\n",
       "        vertical-align: top;\n",
       "    }\n",
       "\n",
       "    .dataframe thead th {\n",
       "        text-align: right;\n",
       "    }\n",
       "</style>\n",
       "<table border=\"1\" class=\"dataframe\">\n",
       "  <thead>\n",
       "    <tr style=\"text-align: right;\">\n",
       "      <th></th>\n",
       "      <th>children</th>\n",
       "      <th>days_employed</th>\n",
       "      <th>dob_years</th>\n",
       "      <th>education</th>\n",
       "      <th>education_id</th>\n",
       "      <th>family_status</th>\n",
       "      <th>family_status_id</th>\n",
       "      <th>gender</th>\n",
       "      <th>income_type</th>\n",
       "      <th>debt</th>\n",
       "      <th>total_income</th>\n",
       "      <th>purpose</th>\n",
       "    </tr>\n",
       "  </thead>\n",
       "  <tbody>\n",
       "    <tr>\n",
       "      <th>0</th>\n",
       "      <td>1</td>\n",
       "      <td>-8437.673028</td>\n",
       "      <td>42</td>\n",
       "      <td>высшее</td>\n",
       "      <td>0</td>\n",
       "      <td>женат / замужем</td>\n",
       "      <td>0</td>\n",
       "      <td>F</td>\n",
       "      <td>сотрудник</td>\n",
       "      <td>0</td>\n",
       "      <td>253875.639453</td>\n",
       "      <td>покупка жилья</td>\n",
       "    </tr>\n",
       "    <tr>\n",
       "      <th>1</th>\n",
       "      <td>1</td>\n",
       "      <td>-4024.803754</td>\n",
       "      <td>36</td>\n",
       "      <td>среднее</td>\n",
       "      <td>1</td>\n",
       "      <td>женат / замужем</td>\n",
       "      <td>0</td>\n",
       "      <td>F</td>\n",
       "      <td>сотрудник</td>\n",
       "      <td>0</td>\n",
       "      <td>112080.014102</td>\n",
       "      <td>приобретение автомобиля</td>\n",
       "    </tr>\n",
       "    <tr>\n",
       "      <th>2</th>\n",
       "      <td>0</td>\n",
       "      <td>-5623.422610</td>\n",
       "      <td>33</td>\n",
       "      <td>Среднее</td>\n",
       "      <td>1</td>\n",
       "      <td>женат / замужем</td>\n",
       "      <td>0</td>\n",
       "      <td>M</td>\n",
       "      <td>сотрудник</td>\n",
       "      <td>0</td>\n",
       "      <td>145885.952297</td>\n",
       "      <td>покупка жилья</td>\n",
       "    </tr>\n",
       "    <tr>\n",
       "      <th>3</th>\n",
       "      <td>3</td>\n",
       "      <td>-4124.747207</td>\n",
       "      <td>32</td>\n",
       "      <td>среднее</td>\n",
       "      <td>1</td>\n",
       "      <td>женат / замужем</td>\n",
       "      <td>0</td>\n",
       "      <td>M</td>\n",
       "      <td>сотрудник</td>\n",
       "      <td>0</td>\n",
       "      <td>267628.550329</td>\n",
       "      <td>дополнительное образование</td>\n",
       "    </tr>\n",
       "    <tr>\n",
       "      <th>4</th>\n",
       "      <td>0</td>\n",
       "      <td>340266.072047</td>\n",
       "      <td>53</td>\n",
       "      <td>среднее</td>\n",
       "      <td>1</td>\n",
       "      <td>гражданский брак</td>\n",
       "      <td>1</td>\n",
       "      <td>F</td>\n",
       "      <td>пенсионер</td>\n",
       "      <td>0</td>\n",
       "      <td>158616.077870</td>\n",
       "      <td>сыграть свадьбу</td>\n",
       "    </tr>\n",
       "    <tr>\n",
       "      <th>5</th>\n",
       "      <td>0</td>\n",
       "      <td>-926.185831</td>\n",
       "      <td>27</td>\n",
       "      <td>высшее</td>\n",
       "      <td>0</td>\n",
       "      <td>гражданский брак</td>\n",
       "      <td>1</td>\n",
       "      <td>M</td>\n",
       "      <td>компаньон</td>\n",
       "      <td>0</td>\n",
       "      <td>255763.565419</td>\n",
       "      <td>покупка жилья</td>\n",
       "    </tr>\n",
       "    <tr>\n",
       "      <th>6</th>\n",
       "      <td>0</td>\n",
       "      <td>-2879.202052</td>\n",
       "      <td>43</td>\n",
       "      <td>высшее</td>\n",
       "      <td>0</td>\n",
       "      <td>женат / замужем</td>\n",
       "      <td>0</td>\n",
       "      <td>F</td>\n",
       "      <td>компаньон</td>\n",
       "      <td>0</td>\n",
       "      <td>240525.971920</td>\n",
       "      <td>операции с жильем</td>\n",
       "    </tr>\n",
       "    <tr>\n",
       "      <th>7</th>\n",
       "      <td>0</td>\n",
       "      <td>-152.779569</td>\n",
       "      <td>50</td>\n",
       "      <td>СРЕДНЕЕ</td>\n",
       "      <td>1</td>\n",
       "      <td>женат / замужем</td>\n",
       "      <td>0</td>\n",
       "      <td>M</td>\n",
       "      <td>сотрудник</td>\n",
       "      <td>0</td>\n",
       "      <td>135823.934197</td>\n",
       "      <td>образование</td>\n",
       "    </tr>\n",
       "    <tr>\n",
       "      <th>8</th>\n",
       "      <td>2</td>\n",
       "      <td>-6929.865299</td>\n",
       "      <td>35</td>\n",
       "      <td>ВЫСШЕЕ</td>\n",
       "      <td>0</td>\n",
       "      <td>гражданский брак</td>\n",
       "      <td>1</td>\n",
       "      <td>F</td>\n",
       "      <td>сотрудник</td>\n",
       "      <td>0</td>\n",
       "      <td>95856.832424</td>\n",
       "      <td>на проведение свадьбы</td>\n",
       "    </tr>\n",
       "    <tr>\n",
       "      <th>9</th>\n",
       "      <td>0</td>\n",
       "      <td>-2188.756445</td>\n",
       "      <td>41</td>\n",
       "      <td>среднее</td>\n",
       "      <td>1</td>\n",
       "      <td>женат / замужем</td>\n",
       "      <td>0</td>\n",
       "      <td>M</td>\n",
       "      <td>сотрудник</td>\n",
       "      <td>0</td>\n",
       "      <td>144425.938277</td>\n",
       "      <td>покупка жилья для семьи</td>\n",
       "    </tr>\n",
       "    <tr>\n",
       "      <th>10</th>\n",
       "      <td>2</td>\n",
       "      <td>-4171.483647</td>\n",
       "      <td>36</td>\n",
       "      <td>высшее</td>\n",
       "      <td>0</td>\n",
       "      <td>женат / замужем</td>\n",
       "      <td>0</td>\n",
       "      <td>M</td>\n",
       "      <td>компаньон</td>\n",
       "      <td>0</td>\n",
       "      <td>113943.491460</td>\n",
       "      <td>покупка недвижимости</td>\n",
       "    </tr>\n",
       "    <tr>\n",
       "      <th>11</th>\n",
       "      <td>0</td>\n",
       "      <td>-792.701887</td>\n",
       "      <td>40</td>\n",
       "      <td>среднее</td>\n",
       "      <td>1</td>\n",
       "      <td>женат / замужем</td>\n",
       "      <td>0</td>\n",
       "      <td>F</td>\n",
       "      <td>сотрудник</td>\n",
       "      <td>0</td>\n",
       "      <td>77069.234271</td>\n",
       "      <td>покупка коммерческой недвижимости</td>\n",
       "    </tr>\n",
       "    <tr>\n",
       "      <th>12</th>\n",
       "      <td>0</td>\n",
       "      <td>NaN</td>\n",
       "      <td>65</td>\n",
       "      <td>среднее</td>\n",
       "      <td>1</td>\n",
       "      <td>гражданский брак</td>\n",
       "      <td>1</td>\n",
       "      <td>M</td>\n",
       "      <td>пенсионер</td>\n",
       "      <td>0</td>\n",
       "      <td>NaN</td>\n",
       "      <td>сыграть свадьбу</td>\n",
       "    </tr>\n",
       "    <tr>\n",
       "      <th>13</th>\n",
       "      <td>0</td>\n",
       "      <td>-1846.641941</td>\n",
       "      <td>54</td>\n",
       "      <td>неоконченное высшее</td>\n",
       "      <td>2</td>\n",
       "      <td>женат / замужем</td>\n",
       "      <td>0</td>\n",
       "      <td>F</td>\n",
       "      <td>сотрудник</td>\n",
       "      <td>0</td>\n",
       "      <td>130458.228857</td>\n",
       "      <td>приобретение автомобиля</td>\n",
       "    </tr>\n",
       "    <tr>\n",
       "      <th>14</th>\n",
       "      <td>0</td>\n",
       "      <td>-1844.956182</td>\n",
       "      <td>56</td>\n",
       "      <td>высшее</td>\n",
       "      <td>0</td>\n",
       "      <td>гражданский брак</td>\n",
       "      <td>1</td>\n",
       "      <td>F</td>\n",
       "      <td>компаньон</td>\n",
       "      <td>1</td>\n",
       "      <td>165127.911772</td>\n",
       "      <td>покупка жилой недвижимости</td>\n",
       "    </tr>\n",
       "  </tbody>\n",
       "</table>\n",
       "</div>"
      ],
      "text/plain": [
       "    children  days_employed  dob_years            education  education_id  \\\n",
       "0          1   -8437.673028         42               высшее             0   \n",
       "1          1   -4024.803754         36              среднее             1   \n",
       "2          0   -5623.422610         33              Среднее             1   \n",
       "3          3   -4124.747207         32              среднее             1   \n",
       "4          0  340266.072047         53              среднее             1   \n",
       "5          0    -926.185831         27               высшее             0   \n",
       "6          0   -2879.202052         43               высшее             0   \n",
       "7          0    -152.779569         50              СРЕДНЕЕ             1   \n",
       "8          2   -6929.865299         35               ВЫСШЕЕ             0   \n",
       "9          0   -2188.756445         41              среднее             1   \n",
       "10         2   -4171.483647         36               высшее             0   \n",
       "11         0    -792.701887         40              среднее             1   \n",
       "12         0            NaN         65              среднее             1   \n",
       "13         0   -1846.641941         54  неоконченное высшее             2   \n",
       "14         0   -1844.956182         56               высшее             0   \n",
       "\n",
       "       family_status  family_status_id gender income_type  debt  \\\n",
       "0    женат / замужем                 0      F   сотрудник     0   \n",
       "1    женат / замужем                 0      F   сотрудник     0   \n",
       "2    женат / замужем                 0      M   сотрудник     0   \n",
       "3    женат / замужем                 0      M   сотрудник     0   \n",
       "4   гражданский брак                 1      F   пенсионер     0   \n",
       "5   гражданский брак                 1      M   компаньон     0   \n",
       "6    женат / замужем                 0      F   компаньон     0   \n",
       "7    женат / замужем                 0      M   сотрудник     0   \n",
       "8   гражданский брак                 1      F   сотрудник     0   \n",
       "9    женат / замужем                 0      M   сотрудник     0   \n",
       "10   женат / замужем                 0      M   компаньон     0   \n",
       "11   женат / замужем                 0      F   сотрудник     0   \n",
       "12  гражданский брак                 1      M   пенсионер     0   \n",
       "13   женат / замужем                 0      F   сотрудник     0   \n",
       "14  гражданский брак                 1      F   компаньон     1   \n",
       "\n",
       "     total_income                            purpose  \n",
       "0   253875.639453                      покупка жилья  \n",
       "1   112080.014102            приобретение автомобиля  \n",
       "2   145885.952297                      покупка жилья  \n",
       "3   267628.550329         дополнительное образование  \n",
       "4   158616.077870                    сыграть свадьбу  \n",
       "5   255763.565419                      покупка жилья  \n",
       "6   240525.971920                  операции с жильем  \n",
       "7   135823.934197                        образование  \n",
       "8    95856.832424              на проведение свадьбы  \n",
       "9   144425.938277            покупка жилья для семьи  \n",
       "10  113943.491460               покупка недвижимости  \n",
       "11   77069.234271  покупка коммерческой недвижимости  \n",
       "12            NaN                    сыграть свадьбу  \n",
       "13  130458.228857            приобретение автомобиля  \n",
       "14  165127.911772         покупка жилой недвижимости  "
      ]
     },
     "execution_count": 1,
     "metadata": {},
     "output_type": "execute_result"
    }
   ],
   "source": [
    "# импортируем библиотеку пандас и выводим информацию о таблице и первые 15 строк\n",
    "import pandas as pd\n",
    "\n",
    "try:\n",
    "    df = pd.read_csv('C:/Users/datasets/data.csv')\n",
    "except:\n",
    "    df = pd.read_csv('/datasets/data.csv')  # Серверный путь\n",
    "        \n",
    "# df = pd.read_csv('/datasets/data.csv')\n",
    "df.info()\n",
    "df.head(15)"
   ]
  },
  {
   "cell_type": "markdown",
   "id": "3244166c",
   "metadata": {},
   "source": [
    "### Шаг 2.1 Заполнение пропусков"
   ]
  },
  {
   "cell_type": "code",
   "execution_count": 2,
   "id": "5fd4ca5c",
   "metadata": {},
   "outputs": [
    {
     "data": {
      "text/html": [
       "<div>\n",
       "<style scoped>\n",
       "    .dataframe tbody tr th:only-of-type {\n",
       "        vertical-align: middle;\n",
       "    }\n",
       "\n",
       "    .dataframe tbody tr th {\n",
       "        vertical-align: top;\n",
       "    }\n",
       "\n",
       "    .dataframe thead th {\n",
       "        text-align: right;\n",
       "    }\n",
       "</style>\n",
       "<table border=\"1\" class=\"dataframe\">\n",
       "  <thead>\n",
       "    <tr style=\"text-align: right;\">\n",
       "      <th></th>\n",
       "      <th>children</th>\n",
       "      <th>days_employed</th>\n",
       "      <th>dob_years</th>\n",
       "      <th>education</th>\n",
       "      <th>education_id</th>\n",
       "      <th>family_status</th>\n",
       "      <th>family_status_id</th>\n",
       "      <th>gender</th>\n",
       "      <th>income_type</th>\n",
       "      <th>debt</th>\n",
       "      <th>total_income</th>\n",
       "      <th>purpose</th>\n",
       "    </tr>\n",
       "  </thead>\n",
       "  <tbody>\n",
       "    <tr>\n",
       "      <th>12</th>\n",
       "      <td>0</td>\n",
       "      <td>NaN</td>\n",
       "      <td>65</td>\n",
       "      <td>среднее</td>\n",
       "      <td>1</td>\n",
       "      <td>гражданский брак</td>\n",
       "      <td>1</td>\n",
       "      <td>M</td>\n",
       "      <td>пенсионер</td>\n",
       "      <td>0</td>\n",
       "      <td>NaN</td>\n",
       "      <td>сыграть свадьбу</td>\n",
       "    </tr>\n",
       "    <tr>\n",
       "      <th>26</th>\n",
       "      <td>0</td>\n",
       "      <td>NaN</td>\n",
       "      <td>41</td>\n",
       "      <td>среднее</td>\n",
       "      <td>1</td>\n",
       "      <td>женат / замужем</td>\n",
       "      <td>0</td>\n",
       "      <td>M</td>\n",
       "      <td>госслужащий</td>\n",
       "      <td>0</td>\n",
       "      <td>NaN</td>\n",
       "      <td>образование</td>\n",
       "    </tr>\n",
       "    <tr>\n",
       "      <th>29</th>\n",
       "      <td>0</td>\n",
       "      <td>NaN</td>\n",
       "      <td>63</td>\n",
       "      <td>среднее</td>\n",
       "      <td>1</td>\n",
       "      <td>Не женат / не замужем</td>\n",
       "      <td>4</td>\n",
       "      <td>F</td>\n",
       "      <td>пенсионер</td>\n",
       "      <td>0</td>\n",
       "      <td>NaN</td>\n",
       "      <td>строительство жилой недвижимости</td>\n",
       "    </tr>\n",
       "    <tr>\n",
       "      <th>41</th>\n",
       "      <td>0</td>\n",
       "      <td>NaN</td>\n",
       "      <td>50</td>\n",
       "      <td>среднее</td>\n",
       "      <td>1</td>\n",
       "      <td>женат / замужем</td>\n",
       "      <td>0</td>\n",
       "      <td>F</td>\n",
       "      <td>госслужащий</td>\n",
       "      <td>0</td>\n",
       "      <td>NaN</td>\n",
       "      <td>сделка с подержанным автомобилем</td>\n",
       "    </tr>\n",
       "    <tr>\n",
       "      <th>55</th>\n",
       "      <td>0</td>\n",
       "      <td>NaN</td>\n",
       "      <td>54</td>\n",
       "      <td>среднее</td>\n",
       "      <td>1</td>\n",
       "      <td>гражданский брак</td>\n",
       "      <td>1</td>\n",
       "      <td>F</td>\n",
       "      <td>пенсионер</td>\n",
       "      <td>1</td>\n",
       "      <td>NaN</td>\n",
       "      <td>сыграть свадьбу</td>\n",
       "    </tr>\n",
       "    <tr>\n",
       "      <th>65</th>\n",
       "      <td>0</td>\n",
       "      <td>NaN</td>\n",
       "      <td>21</td>\n",
       "      <td>среднее</td>\n",
       "      <td>1</td>\n",
       "      <td>Не женат / не замужем</td>\n",
       "      <td>4</td>\n",
       "      <td>M</td>\n",
       "      <td>компаньон</td>\n",
       "      <td>0</td>\n",
       "      <td>NaN</td>\n",
       "      <td>операции с коммерческой недвижимостью</td>\n",
       "    </tr>\n",
       "    <tr>\n",
       "      <th>67</th>\n",
       "      <td>0</td>\n",
       "      <td>NaN</td>\n",
       "      <td>52</td>\n",
       "      <td>высшее</td>\n",
       "      <td>0</td>\n",
       "      <td>женат / замужем</td>\n",
       "      <td>0</td>\n",
       "      <td>F</td>\n",
       "      <td>пенсионер</td>\n",
       "      <td>0</td>\n",
       "      <td>NaN</td>\n",
       "      <td>покупка жилья для семьи</td>\n",
       "    </tr>\n",
       "    <tr>\n",
       "      <th>72</th>\n",
       "      <td>1</td>\n",
       "      <td>NaN</td>\n",
       "      <td>32</td>\n",
       "      <td>высшее</td>\n",
       "      <td>0</td>\n",
       "      <td>женат / замужем</td>\n",
       "      <td>0</td>\n",
       "      <td>M</td>\n",
       "      <td>госслужащий</td>\n",
       "      <td>0</td>\n",
       "      <td>NaN</td>\n",
       "      <td>операции с коммерческой недвижимостью</td>\n",
       "    </tr>\n",
       "    <tr>\n",
       "      <th>82</th>\n",
       "      <td>2</td>\n",
       "      <td>NaN</td>\n",
       "      <td>50</td>\n",
       "      <td>высшее</td>\n",
       "      <td>0</td>\n",
       "      <td>женат / замужем</td>\n",
       "      <td>0</td>\n",
       "      <td>F</td>\n",
       "      <td>сотрудник</td>\n",
       "      <td>0</td>\n",
       "      <td>NaN</td>\n",
       "      <td>жилье</td>\n",
       "    </tr>\n",
       "    <tr>\n",
       "      <th>83</th>\n",
       "      <td>0</td>\n",
       "      <td>NaN</td>\n",
       "      <td>52</td>\n",
       "      <td>среднее</td>\n",
       "      <td>1</td>\n",
       "      <td>женат / замужем</td>\n",
       "      <td>0</td>\n",
       "      <td>M</td>\n",
       "      <td>сотрудник</td>\n",
       "      <td>0</td>\n",
       "      <td>NaN</td>\n",
       "      <td>жилье</td>\n",
       "    </tr>\n",
       "    <tr>\n",
       "      <th>90</th>\n",
       "      <td>2</td>\n",
       "      <td>NaN</td>\n",
       "      <td>35</td>\n",
       "      <td>высшее</td>\n",
       "      <td>0</td>\n",
       "      <td>женат / замужем</td>\n",
       "      <td>0</td>\n",
       "      <td>F</td>\n",
       "      <td>сотрудник</td>\n",
       "      <td>0</td>\n",
       "      <td>NaN</td>\n",
       "      <td>операции с жильем</td>\n",
       "    </tr>\n",
       "    <tr>\n",
       "      <th>94</th>\n",
       "      <td>1</td>\n",
       "      <td>NaN</td>\n",
       "      <td>34</td>\n",
       "      <td>высшее</td>\n",
       "      <td>0</td>\n",
       "      <td>гражданский брак</td>\n",
       "      <td>1</td>\n",
       "      <td>F</td>\n",
       "      <td>компаньон</td>\n",
       "      <td>0</td>\n",
       "      <td>NaN</td>\n",
       "      <td>на проведение свадьбы</td>\n",
       "    </tr>\n",
       "    <tr>\n",
       "      <th>96</th>\n",
       "      <td>0</td>\n",
       "      <td>NaN</td>\n",
       "      <td>44</td>\n",
       "      <td>СРЕДНЕЕ</td>\n",
       "      <td>1</td>\n",
       "      <td>женат / замужем</td>\n",
       "      <td>0</td>\n",
       "      <td>F</td>\n",
       "      <td>сотрудник</td>\n",
       "      <td>0</td>\n",
       "      <td>NaN</td>\n",
       "      <td>покупка жилой недвижимости</td>\n",
       "    </tr>\n",
       "    <tr>\n",
       "      <th>97</th>\n",
       "      <td>0</td>\n",
       "      <td>NaN</td>\n",
       "      <td>47</td>\n",
       "      <td>высшее</td>\n",
       "      <td>0</td>\n",
       "      <td>женат / замужем</td>\n",
       "      <td>0</td>\n",
       "      <td>F</td>\n",
       "      <td>сотрудник</td>\n",
       "      <td>0</td>\n",
       "      <td>NaN</td>\n",
       "      <td>профильное образование</td>\n",
       "    </tr>\n",
       "    <tr>\n",
       "      <th>120</th>\n",
       "      <td>0</td>\n",
       "      <td>NaN</td>\n",
       "      <td>46</td>\n",
       "      <td>среднее</td>\n",
       "      <td>1</td>\n",
       "      <td>женат / замужем</td>\n",
       "      <td>0</td>\n",
       "      <td>F</td>\n",
       "      <td>сотрудник</td>\n",
       "      <td>0</td>\n",
       "      <td>NaN</td>\n",
       "      <td>высшее образование</td>\n",
       "    </tr>\n",
       "  </tbody>\n",
       "</table>\n",
       "</div>"
      ],
      "text/plain": [
       "     children  days_employed  dob_years education  education_id  \\\n",
       "12          0            NaN         65   среднее             1   \n",
       "26          0            NaN         41   среднее             1   \n",
       "29          0            NaN         63   среднее             1   \n",
       "41          0            NaN         50   среднее             1   \n",
       "55          0            NaN         54   среднее             1   \n",
       "65          0            NaN         21   среднее             1   \n",
       "67          0            NaN         52    высшее             0   \n",
       "72          1            NaN         32    высшее             0   \n",
       "82          2            NaN         50    высшее             0   \n",
       "83          0            NaN         52   среднее             1   \n",
       "90          2            NaN         35    высшее             0   \n",
       "94          1            NaN         34    высшее             0   \n",
       "96          0            NaN         44   СРЕДНЕЕ             1   \n",
       "97          0            NaN         47    высшее             0   \n",
       "120         0            NaN         46   среднее             1   \n",
       "\n",
       "             family_status  family_status_id gender  income_type  debt  \\\n",
       "12        гражданский брак                 1      M    пенсионер     0   \n",
       "26         женат / замужем                 0      M  госслужащий     0   \n",
       "29   Не женат / не замужем                 4      F    пенсионер     0   \n",
       "41         женат / замужем                 0      F  госслужащий     0   \n",
       "55        гражданский брак                 1      F    пенсионер     1   \n",
       "65   Не женат / не замужем                 4      M    компаньон     0   \n",
       "67         женат / замужем                 0      F    пенсионер     0   \n",
       "72         женат / замужем                 0      M  госслужащий     0   \n",
       "82         женат / замужем                 0      F    сотрудник     0   \n",
       "83         женат / замужем                 0      M    сотрудник     0   \n",
       "90         женат / замужем                 0      F    сотрудник     0   \n",
       "94        гражданский брак                 1      F    компаньон     0   \n",
       "96         женат / замужем                 0      F    сотрудник     0   \n",
       "97         женат / замужем                 0      F    сотрудник     0   \n",
       "120        женат / замужем                 0      F    сотрудник     0   \n",
       "\n",
       "     total_income                                purpose  \n",
       "12            NaN                        сыграть свадьбу  \n",
       "26            NaN                            образование  \n",
       "29            NaN       строительство жилой недвижимости  \n",
       "41            NaN       сделка с подержанным автомобилем  \n",
       "55            NaN                        сыграть свадьбу  \n",
       "65            NaN  операции с коммерческой недвижимостью  \n",
       "67            NaN                покупка жилья для семьи  \n",
       "72            NaN  операции с коммерческой недвижимостью  \n",
       "82            NaN                                  жилье  \n",
       "83            NaN                                  жилье  \n",
       "90            NaN                      операции с жильем  \n",
       "94            NaN                  на проведение свадьбы  \n",
       "96            NaN             покупка жилой недвижимости  \n",
       "97            NaN                 профильное образование  \n",
       "120           NaN                     высшее образование  "
      ]
     },
     "execution_count": 2,
     "metadata": {},
     "output_type": "execute_result"
    }
   ],
   "source": [
    "#df.isnull().sum() #смотрим количество пропусков в столбцах\n",
    "df[df['total_income'].isnull()].head(15) \n",
    "#пропуски в столбцах совпадают с доходом и стажем \n",
    "#есть вероятность, что это связано с тем, что человек не работает или не предоставил данные о доходах/стаже\n"
   ]
  },
  {
   "cell_type": "code",
   "execution_count": 3,
   "id": "0c93473c",
   "metadata": {},
   "outputs": [
    {
     "name": "stdout",
     "output_type": "stream",
     "text": [
      "Доля пропусков в процентах составляет:\n"
     ]
    },
    {
     "data": {
      "text/plain": [
       "children            0.000000\n",
       "days_employed       0.100999\n",
       "dob_years           0.000000\n",
       "education           0.000000\n",
       "education_id        0.000000\n",
       "family_status       0.000000\n",
       "family_status_id    0.000000\n",
       "gender              0.000000\n",
       "income_type         0.000000\n",
       "debt                0.000000\n",
       "total_income        0.100999\n",
       "purpose             0.000000\n",
       "dtype: float64"
      ]
     },
     "execution_count": 3,
     "metadata": {},
     "output_type": "execute_result"
    }
   ],
   "source": [
    "print('Доля пропусков в процентах составляет:')\n",
    "df.isna().mean()\n",
    "#проверяем, какую долю составляют пропущенные значения в каждом из столбцов с пропусками;"
   ]
  },
  {
   "cell_type": "markdown",
   "id": "b5aab06c",
   "metadata": {},
   "source": [
    "\n",
    "   <b> Возможные причины пропуска:</b>\n",
    "    \n",
    "\n",
    "- отсутствие работы;\n",
    "    \n",
    "- отсутствие необходимых документов, которые нужно предоставить в банк (например, справка о доходах и пр.)\n",
    "\n",
    "- неофициальный доход, который невозможно отразить\n",
    "</div>"
   ]
  },
  {
   "cell_type": "code",
   "execution_count": 4,
   "id": "f8cf8edd",
   "metadata": {},
   "outputs": [
    {
     "data": {
      "text/plain": [
       "<AxesSubplot:xlabel='total_income', ylabel='income_type'>"
      ]
     },
     "execution_count": 4,
     "metadata": {},
     "output_type": "execute_result"
    },
    {
     "data": {
      "image/png": "[encoded data removed]",
      "text/plain": [
       "<Figure size 432x288 with 1 Axes>"
      ]
     },
     "metadata": {
      "needs_background": "light"
     },
     "output_type": "display_data"
    }
   ],
   "source": [
    "import seaborn as sns\n",
    "#x = df['days_employed']\n",
    "x = df['total_income'] \n",
    "y = df['income_type']\n",
    "\n",
    "sns.barplot(x=x, y=y)\n",
    "#sns.heatmap(df.corr(), annot = True)"
   ]
  },
  {
   "cell_type": "code",
   "execution_count": 5,
   "id": "56b0020a",
   "metadata": {},
   "outputs": [
    {
     "data": {
      "text/plain": [
       "<AxesSubplot:xlabel='days_employed', ylabel='income_type'>"
      ]
     },
     "execution_count": 5,
     "metadata": {},
     "output_type": "execute_result"
    },
    {
     "data": {
      "image/png": "[encoded data removed]",
      "text/plain": [
       "<Figure size 432x288 with 1 Axes>"
      ]
     },
     "metadata": {
      "needs_background": "light"
     },
     "output_type": "display_data"
    }
   ],
   "source": [
    "# по выводу в таблице я обратила внимание, что положительные значения в стаже встречаются только у пенсионеров.\n",
    "# теперь проверим по графику у кого больше всего стаж и верно ли мое замечание\n",
    "import seaborn as sns\n",
    "x = df['days_employed']\n",
    "#x = df['total_income'] \n",
    "y = df['income_type']\n",
    "\n",
    "sns.barplot(x=x, y=y)"
   ]
  },
  {
   "cell_type": "markdown",
   "id": "87f91458",
   "metadata": {},
   "source": [
    "<div class=\"alert alert-info\">\n",
    "     По графику и по вычислениям удалось выяснить и поправить мою гипотезу - Положительные и аномально большие значения в стаже у пенсионеров и безработных.\n",
    "  \n",
    "</div>"
   ]
  },
  {
   "cell_type": "markdown",
   "id": "76a9eec8",
   "metadata": {},
   "source": [
    "<div class=\"alert alert-info\"> \n",
    "     Заполним пропуским именно медианными значениями, т.к. среднее значение некорректно характеризует данные, когда некоторые значения сильно выделяются среди большинства.\n",
    "    Стаж и доход будем вычислять, ориентируясь на 2 параметра: уровень образования и тип занятости, т.к. они наиболее актуальные для этих показателей.\n",
    "</div>"
   ]
  },
  {
   "cell_type": "code",
   "execution_count": 6,
   "id": "12045e24",
   "metadata": {},
   "outputs": [
    {
     "name": "stdout",
     "output_type": "stream",
     "text": [
      "<class 'pandas.core.frame.DataFrame'>\n",
      "RangeIndex: 21525 entries, 0 to 21524\n",
      "Data columns (total 12 columns):\n",
      " #   Column            Non-Null Count  Dtype  \n",
      "---  ------            --------------  -----  \n",
      " 0   children          21525 non-null  int64  \n",
      " 1   days_employed     21525 non-null  float64\n",
      " 2   dob_years         21525 non-null  int64  \n",
      " 3   education         21525 non-null  object \n",
      " 4   education_id      21525 non-null  int64  \n",
      " 5   family_status     21525 non-null  object \n",
      " 6   family_status_id  21525 non-null  int64  \n",
      " 7   gender            21525 non-null  object \n",
      " 8   income_type       21525 non-null  object \n",
      " 9   debt              21525 non-null  int64  \n",
      " 10  total_income      21525 non-null  float64\n",
      " 11  purpose           21525 non-null  object \n",
      "dtypes: float64(2), int64(5), object(5)\n",
      "memory usage: 2.0+ MB\n"
     ]
    }
   ],
   "source": [
    "\n",
    "import math \n",
    "# сначала создаем функцию для вычисления медианных значений дохода\n",
    "def income_median(df, education_level, income_type):\n",
    "    # берем медианные значения для дохода из тех строк, где доход и стаж будут совпадать со строками где пропуски\n",
    "    try:\n",
    "        median_total_income = df[(df['education'] == education_level) & (df['income_type'] == income_type)]['total_income'].median()\n",
    "        # если будет возникать ошибка, например отсутствие совпадений, то будем брать медиану, не обрщая внимания на 2 параметра\n",
    "    except:\n",
    "        if math.isnan(median_total_income):\n",
    "            median_total_income = df['total_income'].median()\n",
    "    return median_total_income\n",
    "\n",
    "def days_median(df, education_level, income_type):\n",
    "    # берем медианные значения для стажа из тех строк, где доход и стаж будут совпадать со строками где пропуски\n",
    "    try:\n",
    "        median_days_employed = df[(df['education'] == education_level) & (df['income_type'] == income_type)]['days_employed'].median()\n",
    "    # если будет возникать ошибка, например отсутствие совпадений, то будем брать медиану, не обрщая внимания на 2 параметра\n",
    "    except:\n",
    "         if math.isnan(median_days_employed):\n",
    "                median_days_employed = df['days_employed'].median()\n",
    "    return median_days_employed\n",
    "\n",
    "# проходимся по всем строчкам где пропуски в доходах\n",
    "for education_level in df[df['total_income'].isnull()]['education'].unique():\n",
    "    for income_type in df[df['total_income'].isnull()]['income_type'].unique():\n",
    "        median_total_income = income_median(df, education_level, income_type)\n",
    "        nan_income = (df['education'] == education_level) & (df['income_type'] == income_type) & (df['total_income'].isna())\n",
    "        df.loc[nan_income, 'total_income'] = df.loc[nan_income, 'total_income'].fillna(median_total_income) \n",
    "#         заменяем строки с пропусками в доходах медианным значением, которое найдем с помощью функции, написанной выше\n",
    "        \n",
    "for education_level in df[df['days_employed'].isnull()]['education'].unique():\n",
    "    for income_type in df[df['days_employed'].isnull()]['income_type'].unique():\n",
    "        median_days_employed = days_median(df, education_level, income_type)\n",
    "        nan_days = (df['education'] == education_level) & (df['income_type'] == income_type) & (df['days_employed'].isna())\n",
    "        df.loc[nan_days, 'days_employed'] = df.loc[nan_days, 'days_employed'].fillna(median_days_employed)\n",
    "#         заменяем строки с пропусками в стаже медианным значением, которое найдем с помощью функции, написанной выше\n",
    "df.info()\n",
    "# проверяем наличие пропусков\n"
   ]
  },
  {
   "cell_type": "code",
   "execution_count": 7,
   "id": "67c20921",
   "metadata": {
    "scrolled": false
   },
   "outputs": [
    {
     "data": {
      "text/html": [
       "<div>\n",
       "<style scoped>\n",
       "    .dataframe tbody tr th:only-of-type {\n",
       "        vertical-align: middle;\n",
       "    }\n",
       "\n",
       "    .dataframe tbody tr th {\n",
       "        vertical-align: top;\n",
       "    }\n",
       "\n",
       "    .dataframe thead th {\n",
       "        text-align: right;\n",
       "    }\n",
       "</style>\n",
       "<table border=\"1\" class=\"dataframe\">\n",
       "  <thead>\n",
       "    <tr style=\"text-align: right;\">\n",
       "      <th></th>\n",
       "      <th>children</th>\n",
       "      <th>days_employed</th>\n",
       "      <th>dob_years</th>\n",
       "      <th>education</th>\n",
       "      <th>education_id</th>\n",
       "      <th>family_status</th>\n",
       "      <th>family_status_id</th>\n",
       "      <th>gender</th>\n",
       "      <th>income_type</th>\n",
       "      <th>debt</th>\n",
       "      <th>total_income</th>\n",
       "      <th>purpose</th>\n",
       "    </tr>\n",
       "  </thead>\n",
       "  <tbody>\n",
       "    <tr>\n",
       "      <th>16335</th>\n",
       "      <td>1</td>\n",
       "      <td>-18388.949901</td>\n",
       "      <td>61</td>\n",
       "      <td>среднее</td>\n",
       "      <td>1</td>\n",
       "      <td>женат / замужем</td>\n",
       "      <td>0</td>\n",
       "      <td>F</td>\n",
       "      <td>сотрудник</td>\n",
       "      <td>0</td>\n",
       "      <td>186178.934089</td>\n",
       "      <td>операции с недвижимостью</td>\n",
       "    </tr>\n",
       "    <tr>\n",
       "      <th>4299</th>\n",
       "      <td>0</td>\n",
       "      <td>-17615.563266</td>\n",
       "      <td>61</td>\n",
       "      <td>среднее</td>\n",
       "      <td>1</td>\n",
       "      <td>женат / замужем</td>\n",
       "      <td>0</td>\n",
       "      <td>F</td>\n",
       "      <td>компаньон</td>\n",
       "      <td>0</td>\n",
       "      <td>122560.741753</td>\n",
       "      <td>покупка жилья</td>\n",
       "    </tr>\n",
       "    <tr>\n",
       "      <th>7329</th>\n",
       "      <td>0</td>\n",
       "      <td>-16593.472817</td>\n",
       "      <td>60</td>\n",
       "      <td>высшее</td>\n",
       "      <td>0</td>\n",
       "      <td>женат / замужем</td>\n",
       "      <td>0</td>\n",
       "      <td>F</td>\n",
       "      <td>сотрудник</td>\n",
       "      <td>0</td>\n",
       "      <td>124697.846781</td>\n",
       "      <td>заняться высшим образованием</td>\n",
       "    </tr>\n",
       "    <tr>\n",
       "      <th>17838</th>\n",
       "      <td>0</td>\n",
       "      <td>-16264.699501</td>\n",
       "      <td>59</td>\n",
       "      <td>среднее</td>\n",
       "      <td>1</td>\n",
       "      <td>женат / замужем</td>\n",
       "      <td>0</td>\n",
       "      <td>F</td>\n",
       "      <td>сотрудник</td>\n",
       "      <td>0</td>\n",
       "      <td>51238.967133</td>\n",
       "      <td>на покупку автомобиля</td>\n",
       "    </tr>\n",
       "    <tr>\n",
       "      <th>16825</th>\n",
       "      <td>0</td>\n",
       "      <td>-16119.687737</td>\n",
       "      <td>64</td>\n",
       "      <td>среднее</td>\n",
       "      <td>1</td>\n",
       "      <td>женат / замужем</td>\n",
       "      <td>0</td>\n",
       "      <td>F</td>\n",
       "      <td>сотрудник</td>\n",
       "      <td>0</td>\n",
       "      <td>91527.685995</td>\n",
       "      <td>покупка жилой недвижимости</td>\n",
       "    </tr>\n",
       "    <tr>\n",
       "      <th>3974</th>\n",
       "      <td>0</td>\n",
       "      <td>-15835.725775</td>\n",
       "      <td>64</td>\n",
       "      <td>среднее</td>\n",
       "      <td>1</td>\n",
       "      <td>гражданский брак</td>\n",
       "      <td>1</td>\n",
       "      <td>F</td>\n",
       "      <td>компаньон</td>\n",
       "      <td>0</td>\n",
       "      <td>96858.531436</td>\n",
       "      <td>сыграть свадьбу</td>\n",
       "    </tr>\n",
       "    <tr>\n",
       "      <th>1539</th>\n",
       "      <td>0</td>\n",
       "      <td>-15785.678893</td>\n",
       "      <td>59</td>\n",
       "      <td>высшее</td>\n",
       "      <td>0</td>\n",
       "      <td>Не женат / не замужем</td>\n",
       "      <td>4</td>\n",
       "      <td>F</td>\n",
       "      <td>сотрудник</td>\n",
       "      <td>0</td>\n",
       "      <td>119563.851852</td>\n",
       "      <td>операции с коммерческой недвижимостью</td>\n",
       "    </tr>\n",
       "    <tr>\n",
       "      <th>4321</th>\n",
       "      <td>0</td>\n",
       "      <td>-15773.061335</td>\n",
       "      <td>61</td>\n",
       "      <td>среднее</td>\n",
       "      <td>1</td>\n",
       "      <td>гражданский брак</td>\n",
       "      <td>1</td>\n",
       "      <td>F</td>\n",
       "      <td>сотрудник</td>\n",
       "      <td>0</td>\n",
       "      <td>205868.585780</td>\n",
       "      <td>свадьба</td>\n",
       "    </tr>\n",
       "    <tr>\n",
       "      <th>7731</th>\n",
       "      <td>0</td>\n",
       "      <td>-15618.063786</td>\n",
       "      <td>64</td>\n",
       "      <td>среднее</td>\n",
       "      <td>1</td>\n",
       "      <td>женат / замужем</td>\n",
       "      <td>0</td>\n",
       "      <td>F</td>\n",
       "      <td>компаньон</td>\n",
       "      <td>0</td>\n",
       "      <td>296525.358574</td>\n",
       "      <td>высшее образование</td>\n",
       "    </tr>\n",
       "    <tr>\n",
       "      <th>15675</th>\n",
       "      <td>0</td>\n",
       "      <td>-15410.040779</td>\n",
       "      <td>65</td>\n",
       "      <td>высшее</td>\n",
       "      <td>0</td>\n",
       "      <td>женат / замужем</td>\n",
       "      <td>0</td>\n",
       "      <td>F</td>\n",
       "      <td>сотрудник</td>\n",
       "      <td>0</td>\n",
       "      <td>188800.068859</td>\n",
       "      <td>покупка жилой недвижимости</td>\n",
       "    </tr>\n",
       "    <tr>\n",
       "      <th>19788</th>\n",
       "      <td>0</td>\n",
       "      <td>-15267.541183</td>\n",
       "      <td>56</td>\n",
       "      <td>среднее</td>\n",
       "      <td>1</td>\n",
       "      <td>женат / замужем</td>\n",
       "      <td>0</td>\n",
       "      <td>M</td>\n",
       "      <td>сотрудник</td>\n",
       "      <td>0</td>\n",
       "      <td>122976.371341</td>\n",
       "      <td>приобретение автомобиля</td>\n",
       "    </tr>\n",
       "    <tr>\n",
       "      <th>16868</th>\n",
       "      <td>0</td>\n",
       "      <td>-15193.032201</td>\n",
       "      <td>57</td>\n",
       "      <td>среднее</td>\n",
       "      <td>1</td>\n",
       "      <td>женат / замужем</td>\n",
       "      <td>0</td>\n",
       "      <td>F</td>\n",
       "      <td>госслужащий</td>\n",
       "      <td>0</td>\n",
       "      <td>194993.882911</td>\n",
       "      <td>строительство недвижимости</td>\n",
       "    </tr>\n",
       "    <tr>\n",
       "      <th>5581</th>\n",
       "      <td>0</td>\n",
       "      <td>-15079.216069</td>\n",
       "      <td>55</td>\n",
       "      <td>среднее</td>\n",
       "      <td>1</td>\n",
       "      <td>женат / замужем</td>\n",
       "      <td>0</td>\n",
       "      <td>F</td>\n",
       "      <td>госслужащий</td>\n",
       "      <td>0</td>\n",
       "      <td>178761.373413</td>\n",
       "      <td>операции с жильем</td>\n",
       "    </tr>\n",
       "    <tr>\n",
       "      <th>14908</th>\n",
       "      <td>0</td>\n",
       "      <td>-14920.049805</td>\n",
       "      <td>56</td>\n",
       "      <td>высшее</td>\n",
       "      <td>0</td>\n",
       "      <td>женат / замужем</td>\n",
       "      <td>0</td>\n",
       "      <td>F</td>\n",
       "      <td>сотрудник</td>\n",
       "      <td>0</td>\n",
       "      <td>204286.170700</td>\n",
       "      <td>получение дополнительного образования</td>\n",
       "    </tr>\n",
       "    <tr>\n",
       "      <th>12969</th>\n",
       "      <td>0</td>\n",
       "      <td>-14747.887934</td>\n",
       "      <td>68</td>\n",
       "      <td>среднее</td>\n",
       "      <td>1</td>\n",
       "      <td>гражданский брак</td>\n",
       "      <td>1</td>\n",
       "      <td>F</td>\n",
       "      <td>сотрудник</td>\n",
       "      <td>0</td>\n",
       "      <td>110361.303832</td>\n",
       "      <td>свадьба</td>\n",
       "    </tr>\n",
       "  </tbody>\n",
       "</table>\n",
       "</div>"
      ],
      "text/plain": [
       "       children  days_employed  dob_years education  education_id  \\\n",
       "16335         1  -18388.949901         61   среднее             1   \n",
       "4299          0  -17615.563266         61   среднее             1   \n",
       "7329          0  -16593.472817         60    высшее             0   \n",
       "17838         0  -16264.699501         59   среднее             1   \n",
       "16825         0  -16119.687737         64   среднее             1   \n",
       "3974          0  -15835.725775         64   среднее             1   \n",
       "1539          0  -15785.678893         59    высшее             0   \n",
       "4321          0  -15773.061335         61   среднее             1   \n",
       "7731          0  -15618.063786         64   среднее             1   \n",
       "15675         0  -15410.040779         65    высшее             0   \n",
       "19788         0  -15267.541183         56   среднее             1   \n",
       "16868         0  -15193.032201         57   среднее             1   \n",
       "5581          0  -15079.216069         55   среднее             1   \n",
       "14908         0  -14920.049805         56    высшее             0   \n",
       "12969         0  -14747.887934         68   среднее             1   \n",
       "\n",
       "               family_status  family_status_id gender  income_type  debt  \\\n",
       "16335        женат / замужем                 0      F    сотрудник     0   \n",
       "4299         женат / замужем                 0      F    компаньон     0   \n",
       "7329         женат / замужем                 0      F    сотрудник     0   \n",
       "17838        женат / замужем                 0      F    сотрудник     0   \n",
       "16825        женат / замужем                 0      F    сотрудник     0   \n",
       "3974        гражданский брак                 1      F    компаньон     0   \n",
       "1539   Не женат / не замужем                 4      F    сотрудник     0   \n",
       "4321        гражданский брак                 1      F    сотрудник     0   \n",
       "7731         женат / замужем                 0      F    компаньон     0   \n",
       "15675        женат / замужем                 0      F    сотрудник     0   \n",
       "19788        женат / замужем                 0      M    сотрудник     0   \n",
       "16868        женат / замужем                 0      F  госслужащий     0   \n",
       "5581         женат / замужем                 0      F  госслужащий     0   \n",
       "14908        женат / замужем                 0      F    сотрудник     0   \n",
       "12969       гражданский брак                 1      F    сотрудник     0   \n",
       "\n",
       "        total_income                                purpose  \n",
       "16335  186178.934089               операции с недвижимостью  \n",
       "4299   122560.741753                          покупка жилья  \n",
       "7329   124697.846781           заняться высшим образованием  \n",
       "17838   51238.967133                  на покупку автомобиля  \n",
       "16825   91527.685995             покупка жилой недвижимости  \n",
       "3974    96858.531436                        сыграть свадьбу  \n",
       "1539   119563.851852  операции с коммерческой недвижимостью  \n",
       "4321   205868.585780                                свадьба  \n",
       "7731   296525.358574                     высшее образование  \n",
       "15675  188800.068859             покупка жилой недвижимости  \n",
       "19788  122976.371341                приобретение автомобиля  \n",
       "16868  194993.882911             строительство недвижимости  \n",
       "5581   178761.373413                      операции с жильем  \n",
       "14908  204286.170700  получение дополнительного образования  \n",
       "12969  110361.303832                                свадьба  "
      ]
     },
     "execution_count": 7,
     "metadata": {},
     "output_type": "execute_result"
    }
   ],
   "source": [
    "df.sort_values(by='days_employed').head(15)\n",
    "# сортируем по стажу для наглядности"
   ]
  },
  {
   "cell_type": "code",
   "execution_count": 8,
   "id": "1dc2e45f",
   "metadata": {
    "scrolled": true
   },
   "outputs": [
    {
     "data": {
      "text/plain": [
       "сотрудник          11119\n",
       "компаньон           5085\n",
       "пенсионер           3856\n",
       "госслужащий         1459\n",
       "безработный            2\n",
       "предприниматель        2\n",
       "студент                1\n",
       "в декрете              1\n",
       "Name: income_type, dtype: int64"
      ]
     },
     "execution_count": 8,
     "metadata": {},
     "output_type": "execute_result"
    }
   ],
   "source": [
    "df['income_type'].value_counts()\n",
    "# проверим какие уникальные значения встречаются в столбце income_type - \"тип занятости\" и в каком количестве"
   ]
  },
  {
   "cell_type": "markdown",
   "id": "f37b2ae7",
   "metadata": {},
   "source": [
    "<div class=\"alert alert-info\">\n",
    "Когда я строила barplot я заметила что самое маленькое минусовое значение стажа есть в категории \"студент\", а самые большие положительные в категории \"пенсионер\".\n",
    "\n",
    "\n",
    "<b>По нему будет проще проверить мою гипотезу, что в минусовых значениях верно посчитаны дни стажа, а в значениях с минусом видимо ошибочно использована формула и все данные представлены в часах\n",
    "</div>"
   ]
  },
  {
   "cell_type": "code",
   "execution_count": 9,
   "id": "3b32618a",
   "metadata": {},
   "outputs": [
    {
     "data": {
      "text/html": [
       "<div>\n",
       "<style scoped>\n",
       "    .dataframe tbody tr th:only-of-type {\n",
       "        vertical-align: middle;\n",
       "    }\n",
       "\n",
       "    .dataframe tbody tr th {\n",
       "        vertical-align: top;\n",
       "    }\n",
       "\n",
       "    .dataframe thead th {\n",
       "        text-align: right;\n",
       "    }\n",
       "</style>\n",
       "<table border=\"1\" class=\"dataframe\">\n",
       "  <thead>\n",
       "    <tr style=\"text-align: right;\">\n",
       "      <th></th>\n",
       "      <th>children</th>\n",
       "      <th>days_employed</th>\n",
       "      <th>dob_years</th>\n",
       "      <th>education</th>\n",
       "      <th>education_id</th>\n",
       "      <th>family_status</th>\n",
       "      <th>family_status_id</th>\n",
       "      <th>gender</th>\n",
       "      <th>income_type</th>\n",
       "      <th>debt</th>\n",
       "      <th>total_income</th>\n",
       "      <th>purpose</th>\n",
       "    </tr>\n",
       "  </thead>\n",
       "  <tbody>\n",
       "    <tr>\n",
       "      <th>9410</th>\n",
       "      <td>0</td>\n",
       "      <td>-578.751554</td>\n",
       "      <td>22</td>\n",
       "      <td>высшее</td>\n",
       "      <td>0</td>\n",
       "      <td>Не женат / не замужем</td>\n",
       "      <td>4</td>\n",
       "      <td>M</td>\n",
       "      <td>студент</td>\n",
       "      <td>0</td>\n",
       "      <td>98201.625314</td>\n",
       "      <td>строительство собственной недвижимости</td>\n",
       "    </tr>\n",
       "  </tbody>\n",
       "</table>\n",
       "</div>"
      ],
      "text/plain": [
       "      children  days_employed  dob_years education  education_id  \\\n",
       "9410         0    -578.751554         22    высшее             0   \n",
       "\n",
       "              family_status  family_status_id gender income_type  debt  \\\n",
       "9410  Не женат / не замужем                 4      M     студент     0   \n",
       "\n",
       "      total_income                                 purpose  \n",
       "9410  98201.625314  строительство собственной недвижимости  "
      ]
     },
     "execution_count": 9,
     "metadata": {},
     "output_type": "execute_result"
    }
   ],
   "source": [
    "# сначала выведем строку по студентам\n",
    "\n",
    "df[df['income_type'] == 'студент']"
   ]
  },
  {
   "cell_type": "code",
   "execution_count": 10,
   "id": "ba478e8b",
   "metadata": {},
   "outputs": [
    {
     "data": {
      "text/html": [
       "<div>\n",
       "<style scoped>\n",
       "    .dataframe tbody tr th:only-of-type {\n",
       "        vertical-align: middle;\n",
       "    }\n",
       "\n",
       "    .dataframe tbody tr th {\n",
       "        vertical-align: top;\n",
       "    }\n",
       "\n",
       "    .dataframe thead th {\n",
       "        text-align: right;\n",
       "    }\n",
       "</style>\n",
       "<table border=\"1\" class=\"dataframe\">\n",
       "  <thead>\n",
       "    <tr style=\"text-align: right;\">\n",
       "      <th></th>\n",
       "      <th>children</th>\n",
       "      <th>days_employed</th>\n",
       "      <th>dob_years</th>\n",
       "      <th>education</th>\n",
       "      <th>education_id</th>\n",
       "      <th>family_status</th>\n",
       "      <th>family_status_id</th>\n",
       "      <th>gender</th>\n",
       "      <th>income_type</th>\n",
       "      <th>debt</th>\n",
       "      <th>total_income</th>\n",
       "      <th>purpose</th>\n",
       "    </tr>\n",
       "  </thead>\n",
       "  <tbody>\n",
       "    <tr>\n",
       "      <th>21505</th>\n",
       "      <td>0</td>\n",
       "      <td>338904.866406</td>\n",
       "      <td>53</td>\n",
       "      <td>среднее</td>\n",
       "      <td>1</td>\n",
       "      <td>гражданский брак</td>\n",
       "      <td>1</td>\n",
       "      <td>M</td>\n",
       "      <td>пенсионер</td>\n",
       "      <td>0</td>\n",
       "      <td>75439.993167</td>\n",
       "      <td>сыграть свадьбу</td>\n",
       "    </tr>\n",
       "    <tr>\n",
       "      <th>21508</th>\n",
       "      <td>0</td>\n",
       "      <td>386497.714078</td>\n",
       "      <td>62</td>\n",
       "      <td>среднее</td>\n",
       "      <td>1</td>\n",
       "      <td>женат / замужем</td>\n",
       "      <td>0</td>\n",
       "      <td>M</td>\n",
       "      <td>пенсионер</td>\n",
       "      <td>0</td>\n",
       "      <td>72638.590915</td>\n",
       "      <td>недвижимость</td>\n",
       "    </tr>\n",
       "    <tr>\n",
       "      <th>21509</th>\n",
       "      <td>0</td>\n",
       "      <td>362161.054124</td>\n",
       "      <td>59</td>\n",
       "      <td>высшее</td>\n",
       "      <td>0</td>\n",
       "      <td>женат / замужем</td>\n",
       "      <td>0</td>\n",
       "      <td>M</td>\n",
       "      <td>пенсионер</td>\n",
       "      <td>0</td>\n",
       "      <td>73029.059379</td>\n",
       "      <td>операции с недвижимостью</td>\n",
       "    </tr>\n",
       "    <tr>\n",
       "      <th>21518</th>\n",
       "      <td>0</td>\n",
       "      <td>373995.710838</td>\n",
       "      <td>59</td>\n",
       "      <td>СРЕДНЕЕ</td>\n",
       "      <td>1</td>\n",
       "      <td>женат / замужем</td>\n",
       "      <td>0</td>\n",
       "      <td>F</td>\n",
       "      <td>пенсионер</td>\n",
       "      <td>0</td>\n",
       "      <td>153864.650328</td>\n",
       "      <td>сделка с автомобилем</td>\n",
       "    </tr>\n",
       "    <tr>\n",
       "      <th>21521</th>\n",
       "      <td>0</td>\n",
       "      <td>343937.404131</td>\n",
       "      <td>67</td>\n",
       "      <td>среднее</td>\n",
       "      <td>1</td>\n",
       "      <td>женат / замужем</td>\n",
       "      <td>0</td>\n",
       "      <td>F</td>\n",
       "      <td>пенсионер</td>\n",
       "      <td>0</td>\n",
       "      <td>155999.806512</td>\n",
       "      <td>сделка с автомобилем</td>\n",
       "    </tr>\n",
       "  </tbody>\n",
       "</table>\n",
       "</div>"
      ],
      "text/plain": [
       "       children  days_employed  dob_years education  education_id  \\\n",
       "21505         0  338904.866406         53   среднее             1   \n",
       "21508         0  386497.714078         62   среднее             1   \n",
       "21509         0  362161.054124         59    высшее             0   \n",
       "21518         0  373995.710838         59   СРЕДНЕЕ             1   \n",
       "21521         0  343937.404131         67   среднее             1   \n",
       "\n",
       "          family_status  family_status_id gender income_type  debt  \\\n",
       "21505  гражданский брак                 1      M   пенсионер     0   \n",
       "21508   женат / замужем                 0      M   пенсионер     0   \n",
       "21509   женат / замужем                 0      M   пенсионер     0   \n",
       "21518   женат / замужем                 0      F   пенсионер     0   \n",
       "21521   женат / замужем                 0      F   пенсионер     0   \n",
       "\n",
       "        total_income                   purpose  \n",
       "21505   75439.993167           сыграть свадьбу  \n",
       "21508   72638.590915              недвижимость  \n",
       "21509   73029.059379  операции с недвижимостью  \n",
       "21518  153864.650328      сделка с автомобилем  \n",
       "21521  155999.806512      сделка с автомобилем  "
      ]
     },
     "execution_count": 10,
     "metadata": {},
     "output_type": "execute_result"
    }
   ],
   "source": [
    "# теперь строчки по \"пенсионерам\"\n",
    "# возьмем, например, 5 последних, чтобы видеть максимальные значения\n",
    "df[df['income_type'] == 'пенсионер'].tail(5)"
   ]
  },
  {
   "cell_type": "markdown",
   "id": "97d058ac",
   "metadata": {},
   "source": [
    "### Шаг 2.2 Проверка данных на аномалии и исправления."
   ]
  },
  {
   "cell_type": "markdown",
   "id": "0004bf82",
   "metadata": {},
   "source": [
    "Приведем данные к одному стилю. Исправляем регистр в столбцах образования и положения."
   ]
  },
  {
   "cell_type": "code",
   "execution_count": 11,
   "id": "ff2dcc0a",
   "metadata": {
    "scrolled": true
   },
   "outputs": [
    {
     "data": {
      "text/html": [
       "<div>\n",
       "<style scoped>\n",
       "    .dataframe tbody tr th:only-of-type {\n",
       "        vertical-align: middle;\n",
       "    }\n",
       "\n",
       "    .dataframe tbody tr th {\n",
       "        vertical-align: top;\n",
       "    }\n",
       "\n",
       "    .dataframe thead th {\n",
       "        text-align: right;\n",
       "    }\n",
       "</style>\n",
       "<table border=\"1\" class=\"dataframe\">\n",
       "  <thead>\n",
       "    <tr style=\"text-align: right;\">\n",
       "      <th></th>\n",
       "      <th>children</th>\n",
       "      <th>days_employed</th>\n",
       "      <th>dob_years</th>\n",
       "      <th>education</th>\n",
       "      <th>education_id</th>\n",
       "      <th>family_status</th>\n",
       "      <th>family_status_id</th>\n",
       "      <th>gender</th>\n",
       "      <th>income_type</th>\n",
       "      <th>debt</th>\n",
       "      <th>total_income</th>\n",
       "      <th>purpose</th>\n",
       "    </tr>\n",
       "  </thead>\n",
       "  <tbody>\n",
       "  </tbody>\n",
       "</table>\n",
       "</div>"
      ],
      "text/plain": [
       "Empty DataFrame\n",
       "Columns: [children, days_employed, dob_years, education, education_id, family_status, family_status_id, gender, income_type, debt, total_income, purpose]\n",
       "Index: []"
      ]
     },
     "execution_count": 11,
     "metadata": {},
     "output_type": "execute_result"
    }
   ],
   "source": [
    "df['family_status'] = df['family_status'].str.lower() # заменили в значениях все на строчные буквы в столбце статуса\n",
    "df[df['total_income'].isnull()].head(5) "
   ]
  },
  {
   "cell_type": "code",
   "execution_count": 12,
   "id": "807e0801",
   "metadata": {},
   "outputs": [
    {
     "data": {
      "text/html": [
       "<div>\n",
       "<style scoped>\n",
       "    .dataframe tbody tr th:only-of-type {\n",
       "        vertical-align: middle;\n",
       "    }\n",
       "\n",
       "    .dataframe tbody tr th {\n",
       "        vertical-align: top;\n",
       "    }\n",
       "\n",
       "    .dataframe thead th {\n",
       "        text-align: right;\n",
       "    }\n",
       "</style>\n",
       "<table border=\"1\" class=\"dataframe\">\n",
       "  <thead>\n",
       "    <tr style=\"text-align: right;\">\n",
       "      <th></th>\n",
       "      <th>children</th>\n",
       "      <th>days_employed</th>\n",
       "      <th>dob_years</th>\n",
       "      <th>education</th>\n",
       "      <th>education_id</th>\n",
       "      <th>family_status</th>\n",
       "      <th>family_status_id</th>\n",
       "      <th>gender</th>\n",
       "      <th>income_type</th>\n",
       "      <th>debt</th>\n",
       "      <th>total_income</th>\n",
       "      <th>purpose</th>\n",
       "    </tr>\n",
       "  </thead>\n",
       "  <tbody>\n",
       "    <tr>\n",
       "      <th>21520</th>\n",
       "      <td>1</td>\n",
       "      <td>-4529.316663</td>\n",
       "      <td>43</td>\n",
       "      <td>среднее</td>\n",
       "      <td>1</td>\n",
       "      <td>гражданский брак</td>\n",
       "      <td>1</td>\n",
       "      <td>F</td>\n",
       "      <td>компаньон</td>\n",
       "      <td>0</td>\n",
       "      <td>224791.862382</td>\n",
       "      <td>операции с жильем</td>\n",
       "    </tr>\n",
       "    <tr>\n",
       "      <th>21521</th>\n",
       "      <td>0</td>\n",
       "      <td>343937.404131</td>\n",
       "      <td>67</td>\n",
       "      <td>среднее</td>\n",
       "      <td>1</td>\n",
       "      <td>женат / замужем</td>\n",
       "      <td>0</td>\n",
       "      <td>F</td>\n",
       "      <td>пенсионер</td>\n",
       "      <td>0</td>\n",
       "      <td>155999.806512</td>\n",
       "      <td>сделка с автомобилем</td>\n",
       "    </tr>\n",
       "    <tr>\n",
       "      <th>21522</th>\n",
       "      <td>1</td>\n",
       "      <td>-2113.346888</td>\n",
       "      <td>38</td>\n",
       "      <td>среднее</td>\n",
       "      <td>1</td>\n",
       "      <td>гражданский брак</td>\n",
       "      <td>1</td>\n",
       "      <td>M</td>\n",
       "      <td>сотрудник</td>\n",
       "      <td>1</td>\n",
       "      <td>89672.561153</td>\n",
       "      <td>недвижимость</td>\n",
       "    </tr>\n",
       "    <tr>\n",
       "      <th>21523</th>\n",
       "      <td>3</td>\n",
       "      <td>-3112.481705</td>\n",
       "      <td>38</td>\n",
       "      <td>среднее</td>\n",
       "      <td>1</td>\n",
       "      <td>женат / замужем</td>\n",
       "      <td>0</td>\n",
       "      <td>M</td>\n",
       "      <td>сотрудник</td>\n",
       "      <td>1</td>\n",
       "      <td>244093.050500</td>\n",
       "      <td>на покупку своего автомобиля</td>\n",
       "    </tr>\n",
       "    <tr>\n",
       "      <th>21524</th>\n",
       "      <td>2</td>\n",
       "      <td>-1984.507589</td>\n",
       "      <td>40</td>\n",
       "      <td>среднее</td>\n",
       "      <td>1</td>\n",
       "      <td>женат / замужем</td>\n",
       "      <td>0</td>\n",
       "      <td>F</td>\n",
       "      <td>сотрудник</td>\n",
       "      <td>0</td>\n",
       "      <td>82047.418899</td>\n",
       "      <td>на покупку автомобиля</td>\n",
       "    </tr>\n",
       "  </tbody>\n",
       "</table>\n",
       "</div>"
      ],
      "text/plain": [
       "       children  days_employed  dob_years education  education_id  \\\n",
       "21520         1   -4529.316663         43   среднее             1   \n",
       "21521         0  343937.404131         67   среднее             1   \n",
       "21522         1   -2113.346888         38   среднее             1   \n",
       "21523         3   -3112.481705         38   среднее             1   \n",
       "21524         2   -1984.507589         40   среднее             1   \n",
       "\n",
       "          family_status  family_status_id gender income_type  debt  \\\n",
       "21520  гражданский брак                 1      F   компаньон     0   \n",
       "21521   женат / замужем                 0      F   пенсионер     0   \n",
       "21522  гражданский брак                 1      M   сотрудник     1   \n",
       "21523   женат / замужем                 0      M   сотрудник     1   \n",
       "21524   женат / замужем                 0      F   сотрудник     0   \n",
       "\n",
       "        total_income                       purpose  \n",
       "21520  224791.862382             операции с жильем  \n",
       "21521  155999.806512          сделка с автомобилем  \n",
       "21522   89672.561153                  недвижимость  \n",
       "21523  244093.050500  на покупку своего автомобиля  \n",
       "21524   82047.418899         на покупку автомобиля  "
      ]
     },
     "execution_count": 12,
     "metadata": {},
     "output_type": "execute_result"
    }
   ],
   "source": [
    "#  заменили в значениях все на строчные буквы в столбце образования\n",
    "df['education'] = df['education'].str.lower()\n",
    "#df.head(5)\n",
    "df.tail(5)"
   ]
  },
  {
   "cell_type": "markdown",
   "id": "34d3346a",
   "metadata": {},
   "source": [
    "Теперь рассмотрим аномальные значения."
   ]
  },
  {
   "cell_type": "code",
   "execution_count": 13,
   "id": "cd60a4b5",
   "metadata": {},
   "outputs": [
    {
     "data": {
      "text/plain": [
       " 0     14149\n",
       " 1      4818\n",
       " 2      2055\n",
       " 3       330\n",
       " 20       76\n",
       "-1        47\n",
       " 4        41\n",
       " 5         9\n",
       "Name: children, dtype: int64"
      ]
     },
     "execution_count": 13,
     "metadata": {},
     "output_type": "execute_result"
    }
   ],
   "source": [
    "# проверим уникальные значения в столбце по количеству детей\n",
    "df['children'].value_counts()\n"
   ]
  },
  {
   "cell_type": "markdown",
   "id": "5f3a3232",
   "metadata": {},
   "source": [
    "<div class=\"alert alert-info\">\n",
    "    Аномальные значения в количестве детей \"-1\" и \"20\"\n",
    "</div>"
   ]
  },
  {
   "cell_type": "code",
   "execution_count": 14,
   "id": "18ba9a13",
   "metadata": {},
   "outputs": [
    {
     "data": {
      "text/plain": [
       "array([42, 36, 33, 32, 53, 27, 43, 50, 35, 41, 40, 65, 54, 56, 26, 48, 24,\n",
       "       21, 57, 67, 28, 63, 62, 47, 34, 68, 25, 31, 30, 20, 49, 37, 45, 61,\n",
       "       64, 44, 52, 46, 23, 38, 39, 51,  0, 59, 29, 60, 55, 58, 71, 22, 73,\n",
       "       66, 69, 19, 72, 70, 74, 75])"
      ]
     },
     "execution_count": 14,
     "metadata": {},
     "output_type": "execute_result"
    }
   ],
   "source": [
    "#df['dob_years'].value_counts().sort\n",
    "df['dob_years'].unique()"
   ]
  },
  {
   "cell_type": "markdown",
   "id": "d217d80f",
   "metadata": {},
   "source": [
    "<div class=\"alert alert-info\">\n",
    "Так как доля этих аномальных значений(нулевой возраст и значения в количестве детей \"-1\" и \"20\") мала и она не повлияет на статистику, то их можно удалить.\n",
    "</div>"
   ]
  },
  {
   "cell_type": "code",
   "execution_count": 15,
   "id": "979eae28",
   "metadata": {},
   "outputs": [
    {
     "data": {
      "text/plain": [
       "0    14149\n",
       "1     4818\n",
       "2     2055\n",
       "3      330\n",
       "4       41\n",
       "5        9\n",
       "Name: children, dtype: int64"
      ]
     },
     "execution_count": 15,
     "metadata": {},
     "output_type": "execute_result"
    }
   ],
   "source": [
    "df = df[(df['children'] != -1)&(df['children'] != 20)]\n",
    "# аномальные значения в количестве детей \"-1\" и \"20\" убираем\n",
    "df['children'].value_counts()"
   ]
  },
  {
   "cell_type": "code",
   "execution_count": 16,
   "id": "2ae10954",
   "metadata": {},
   "outputs": [
    {
     "data": {
      "text/plain": [
       "array([42, 36, 33, 32, 53, 27, 43, 50, 35, 41, 40, 65, 54, 56, 26, 48, 24,\n",
       "       21, 57, 67, 28, 63, 62, 47, 34, 68, 25, 31, 30, 20, 49, 37, 45, 61,\n",
       "       64, 44, 52, 46, 23, 38, 39, 51, 59, 29, 60, 55, 58, 71, 22, 73, 66,\n",
       "       69, 19, 72, 70, 74, 75])"
      ]
     },
     "execution_count": 16,
     "metadata": {},
     "output_type": "execute_result"
    }
   ],
   "source": [
    "df = df[(df['dob_years'] != 0)] \n",
    "# оставляем только те строки где возраст не равен 0\n",
    "df['dob_years'].unique()"
   ]
  },
  {
   "cell_type": "code",
   "execution_count": 17,
   "id": "1840330e",
   "metadata": {},
   "outputs": [
    {
     "data": {
      "text/plain": [
       "array(['пенсионер', 'безработный'], dtype=object)"
      ]
     },
     "execution_count": 17,
     "metadata": {},
     "output_type": "execute_result"
    }
   ],
   "source": [
    "# выведем все положительные значения стажа, группируя по категориям\n",
    "df[df['days_employed']>0]['income_type'].unique()"
   ]
  },
  {
   "cell_type": "code",
   "execution_count": 18,
   "id": "a298339e",
   "metadata": {},
   "outputs": [
    {
     "data": {
      "text/plain": [
       "<AxesSubplot:xlabel='days_employed', ylabel='income_type'>"
      ]
     },
     "execution_count": 18,
     "metadata": {},
     "output_type": "execute_result"
    },
    {
     "data": {
      "image/png": "[encoded data removed]",
      "text/plain": [
       "<Figure size 432x288 with 1 Axes>"
      ]
     },
     "metadata": {
      "needs_background": "light"
     },
     "output_type": "display_data"
    }
   ],
   "source": [
    "df_days = df[df['days_employed']>0] #создаю новый датафрейм для строк где стаж больше ноля\n",
    "sns.barplot(x = df_days['days_employed'], y =  df_days['income_type']) #по графику видно, что все положительные значения - значительно больше возможных реальных\n"
   ]
  },
  {
   "cell_type": "markdown",
   "id": "ba71d068",
   "metadata": {},
   "source": [
    "\n",
    "   \n",
    "   <div class=\"alert alert-info\"> Моя гипотеза подтвердилась - положительные и аномально большие знаения есть в 2 категориях - пенсионеры и безработные.\n",
    "    Предполагаю, что эти аномально большие значения появились, потому что посчитаны данные в часах.\n",
    "    Если перевести в дни, то в целом все соответсвует реальности. А минусовые значения просто возьмем по модулю.\n",
    "  \n",
    "</div>"
   ]
  },
  {
   "cell_type": "code",
   "execution_count": 19,
   "id": "e6039e35",
   "metadata": {},
   "outputs": [
    {
     "data": {
      "text/html": [
       "<div>\n",
       "<style scoped>\n",
       "    .dataframe tbody tr th:only-of-type {\n",
       "        vertical-align: middle;\n",
       "    }\n",
       "\n",
       "    .dataframe tbody tr th {\n",
       "        vertical-align: top;\n",
       "    }\n",
       "\n",
       "    .dataframe thead th {\n",
       "        text-align: right;\n",
       "    }\n",
       "</style>\n",
       "<table border=\"1\" class=\"dataframe\">\n",
       "  <thead>\n",
       "    <tr style=\"text-align: right;\">\n",
       "      <th></th>\n",
       "      <th>children</th>\n",
       "      <th>days_employed</th>\n",
       "      <th>dob_years</th>\n",
       "      <th>education</th>\n",
       "      <th>education_id</th>\n",
       "      <th>family_status</th>\n",
       "      <th>family_status_id</th>\n",
       "      <th>gender</th>\n",
       "      <th>income_type</th>\n",
       "      <th>debt</th>\n",
       "      <th>total_income</th>\n",
       "      <th>purpose</th>\n",
       "    </tr>\n",
       "  </thead>\n",
       "  <tbody>\n",
       "    <tr>\n",
       "      <th>0</th>\n",
       "      <td>1</td>\n",
       "      <td>-8437.673028</td>\n",
       "      <td>42</td>\n",
       "      <td>высшее</td>\n",
       "      <td>0</td>\n",
       "      <td>женат / замужем</td>\n",
       "      <td>0</td>\n",
       "      <td>F</td>\n",
       "      <td>сотрудник</td>\n",
       "      <td>0</td>\n",
       "      <td>253875.639453</td>\n",
       "      <td>покупка жилья</td>\n",
       "    </tr>\n",
       "    <tr>\n",
       "      <th>1</th>\n",
       "      <td>1</td>\n",
       "      <td>-4024.803754</td>\n",
       "      <td>36</td>\n",
       "      <td>среднее</td>\n",
       "      <td>1</td>\n",
       "      <td>женат / замужем</td>\n",
       "      <td>0</td>\n",
       "      <td>F</td>\n",
       "      <td>сотрудник</td>\n",
       "      <td>0</td>\n",
       "      <td>112080.014102</td>\n",
       "      <td>приобретение автомобиля</td>\n",
       "    </tr>\n",
       "    <tr>\n",
       "      <th>2</th>\n",
       "      <td>0</td>\n",
       "      <td>-5623.422610</td>\n",
       "      <td>33</td>\n",
       "      <td>среднее</td>\n",
       "      <td>1</td>\n",
       "      <td>женат / замужем</td>\n",
       "      <td>0</td>\n",
       "      <td>M</td>\n",
       "      <td>сотрудник</td>\n",
       "      <td>0</td>\n",
       "      <td>145885.952297</td>\n",
       "      <td>покупка жилья</td>\n",
       "    </tr>\n",
       "    <tr>\n",
       "      <th>3</th>\n",
       "      <td>3</td>\n",
       "      <td>-4124.747207</td>\n",
       "      <td>32</td>\n",
       "      <td>среднее</td>\n",
       "      <td>1</td>\n",
       "      <td>женат / замужем</td>\n",
       "      <td>0</td>\n",
       "      <td>M</td>\n",
       "      <td>сотрудник</td>\n",
       "      <td>0</td>\n",
       "      <td>267628.550329</td>\n",
       "      <td>дополнительное образование</td>\n",
       "    </tr>\n",
       "    <tr>\n",
       "      <th>4</th>\n",
       "      <td>0</td>\n",
       "      <td>14177.753002</td>\n",
       "      <td>53</td>\n",
       "      <td>среднее</td>\n",
       "      <td>1</td>\n",
       "      <td>гражданский брак</td>\n",
       "      <td>1</td>\n",
       "      <td>F</td>\n",
       "      <td>пенсионер</td>\n",
       "      <td>0</td>\n",
       "      <td>158616.077870</td>\n",
       "      <td>сыграть свадьбу</td>\n",
       "    </tr>\n",
       "  </tbody>\n",
       "</table>\n",
       "</div>"
      ],
      "text/plain": [
       "   children  days_employed  dob_years education  education_id  \\\n",
       "0         1   -8437.673028         42    высшее             0   \n",
       "1         1   -4024.803754         36   среднее             1   \n",
       "2         0   -5623.422610         33   среднее             1   \n",
       "3         3   -4124.747207         32   среднее             1   \n",
       "4         0   14177.753002         53   среднее             1   \n",
       "\n",
       "      family_status  family_status_id gender income_type  debt   total_income  \\\n",
       "0   женат / замужем                 0      F   сотрудник     0  253875.639453   \n",
       "1   женат / замужем                 0      F   сотрудник     0  112080.014102   \n",
       "2   женат / замужем                 0      M   сотрудник     0  145885.952297   \n",
       "3   женат / замужем                 0      M   сотрудник     0  267628.550329   \n",
       "4  гражданский брак                 1      F   пенсионер     0  158616.077870   \n",
       "\n",
       "                      purpose  \n",
       "0               покупка жилья  \n",
       "1     приобретение автомобиля  \n",
       "2               покупка жилья  \n",
       "3  дополнительное образование  \n",
       "4             сыграть свадьбу  "
      ]
     },
     "execution_count": 19,
     "metadata": {},
     "output_type": "execute_result"
    }
   ],
   "source": [
    "df.loc[df['days_employed']>0,'days_employed'] = (df.loc[df['days_employed']>0,'days_employed']/24)\n",
    "#делим все положительные числа на 24, чтобы перевести в дни\n",
    "\n",
    "df.head(5) #проверяем"
   ]
  },
  {
   "cell_type": "code",
   "execution_count": 20,
   "id": "ea103faa",
   "metadata": {},
   "outputs": [
    {
     "data": {
      "text/html": [
       "<div>\n",
       "<style scoped>\n",
       "    .dataframe tbody tr th:only-of-type {\n",
       "        vertical-align: middle;\n",
       "    }\n",
       "\n",
       "    .dataframe tbody tr th {\n",
       "        vertical-align: top;\n",
       "    }\n",
       "\n",
       "    .dataframe thead th {\n",
       "        text-align: right;\n",
       "    }\n",
       "</style>\n",
       "<table border=\"1\" class=\"dataframe\">\n",
       "  <thead>\n",
       "    <tr style=\"text-align: right;\">\n",
       "      <th></th>\n",
       "      <th>children</th>\n",
       "      <th>days_employed</th>\n",
       "      <th>dob_years</th>\n",
       "      <th>education</th>\n",
       "      <th>education_id</th>\n",
       "      <th>family_status</th>\n",
       "      <th>family_status_id</th>\n",
       "      <th>gender</th>\n",
       "      <th>income_type</th>\n",
       "      <th>debt</th>\n",
       "      <th>total_income</th>\n",
       "      <th>purpose</th>\n",
       "    </tr>\n",
       "  </thead>\n",
       "  <tbody>\n",
       "    <tr>\n",
       "      <th>0</th>\n",
       "      <td>1</td>\n",
       "      <td>8437.673028</td>\n",
       "      <td>42</td>\n",
       "      <td>высшее</td>\n",
       "      <td>0</td>\n",
       "      <td>женат / замужем</td>\n",
       "      <td>0</td>\n",
       "      <td>F</td>\n",
       "      <td>сотрудник</td>\n",
       "      <td>0</td>\n",
       "      <td>253875.639453</td>\n",
       "      <td>покупка жилья</td>\n",
       "    </tr>\n",
       "    <tr>\n",
       "      <th>1</th>\n",
       "      <td>1</td>\n",
       "      <td>4024.803754</td>\n",
       "      <td>36</td>\n",
       "      <td>среднее</td>\n",
       "      <td>1</td>\n",
       "      <td>женат / замужем</td>\n",
       "      <td>0</td>\n",
       "      <td>F</td>\n",
       "      <td>сотрудник</td>\n",
       "      <td>0</td>\n",
       "      <td>112080.014102</td>\n",
       "      <td>приобретение автомобиля</td>\n",
       "    </tr>\n",
       "    <tr>\n",
       "      <th>2</th>\n",
       "      <td>0</td>\n",
       "      <td>5623.422610</td>\n",
       "      <td>33</td>\n",
       "      <td>среднее</td>\n",
       "      <td>1</td>\n",
       "      <td>женат / замужем</td>\n",
       "      <td>0</td>\n",
       "      <td>M</td>\n",
       "      <td>сотрудник</td>\n",
       "      <td>0</td>\n",
       "      <td>145885.952297</td>\n",
       "      <td>покупка жилья</td>\n",
       "    </tr>\n",
       "    <tr>\n",
       "      <th>3</th>\n",
       "      <td>3</td>\n",
       "      <td>4124.747207</td>\n",
       "      <td>32</td>\n",
       "      <td>среднее</td>\n",
       "      <td>1</td>\n",
       "      <td>женат / замужем</td>\n",
       "      <td>0</td>\n",
       "      <td>M</td>\n",
       "      <td>сотрудник</td>\n",
       "      <td>0</td>\n",
       "      <td>267628.550329</td>\n",
       "      <td>дополнительное образование</td>\n",
       "    </tr>\n",
       "    <tr>\n",
       "      <th>4</th>\n",
       "      <td>0</td>\n",
       "      <td>14177.753002</td>\n",
       "      <td>53</td>\n",
       "      <td>среднее</td>\n",
       "      <td>1</td>\n",
       "      <td>гражданский брак</td>\n",
       "      <td>1</td>\n",
       "      <td>F</td>\n",
       "      <td>пенсионер</td>\n",
       "      <td>0</td>\n",
       "      <td>158616.077870</td>\n",
       "      <td>сыграть свадьбу</td>\n",
       "    </tr>\n",
       "  </tbody>\n",
       "</table>\n",
       "</div>"
      ],
      "text/plain": [
       "   children  days_employed  dob_years education  education_id  \\\n",
       "0         1    8437.673028         42    высшее             0   \n",
       "1         1    4024.803754         36   среднее             1   \n",
       "2         0    5623.422610         33   среднее             1   \n",
       "3         3    4124.747207         32   среднее             1   \n",
       "4         0   14177.753002         53   среднее             1   \n",
       "\n",
       "      family_status  family_status_id gender income_type  debt   total_income  \\\n",
       "0   женат / замужем                 0      F   сотрудник     0  253875.639453   \n",
       "1   женат / замужем                 0      F   сотрудник     0  112080.014102   \n",
       "2   женат / замужем                 0      M   сотрудник     0  145885.952297   \n",
       "3   женат / замужем                 0      M   сотрудник     0  267628.550329   \n",
       "4  гражданский брак                 1      F   пенсионер     0  158616.077870   \n",
       "\n",
       "                      purpose  \n",
       "0               покупка жилья  \n",
       "1     приобретение автомобиля  \n",
       "2               покупка жилья  \n",
       "3  дополнительное образование  \n",
       "4             сыграть свадьбу  "
      ]
     },
     "execution_count": 20,
     "metadata": {},
     "output_type": "execute_result"
    }
   ],
   "source": [
    "df.loc[df['days_employed']<0,'days_employed'] = df.loc[df['days_employed']<0,'days_employed'].abs()\n",
    "# избавляемся от отрицательных чисел\n",
    "\n",
    "df.head(5)"
   ]
  },
  {
   "cell_type": "markdown",
   "id": "ec1352a0",
   "metadata": {},
   "source": [
    "### Шаг 2.3. Изменение типов данных."
   ]
  },
  {
   "cell_type": "code",
   "execution_count": 21,
   "id": "4e4c339d",
   "metadata": {},
   "outputs": [],
   "source": [
    "df['days_employed'] = df['days_employed'].astype('int') \n",
    "# преобразуем стаж и доход в целые числа\n",
    "df['total_income'] = df['total_income'].astype('int') "
   ]
  },
  {
   "cell_type": "code",
   "execution_count": 22,
   "id": "46aea117",
   "metadata": {},
   "outputs": [
    {
     "name": "stdout",
     "output_type": "stream",
     "text": [
      "<class 'pandas.core.frame.DataFrame'>\n",
      "Int64Index: 21302 entries, 0 to 21524\n",
      "Data columns (total 12 columns):\n",
      " #   Column            Non-Null Count  Dtype \n",
      "---  ------            --------------  ----- \n",
      " 0   children          21302 non-null  int64 \n",
      " 1   days_employed     21302 non-null  int64 \n",
      " 2   dob_years         21302 non-null  int64 \n",
      " 3   education         21302 non-null  object\n",
      " 4   education_id      21302 non-null  int64 \n",
      " 5   family_status     21302 non-null  object\n",
      " 6   family_status_id  21302 non-null  int64 \n",
      " 7   gender            21302 non-null  object\n",
      " 8   income_type       21302 non-null  object\n",
      " 9   debt              21302 non-null  int64 \n",
      " 10  total_income      21302 non-null  int64 \n",
      " 11  purpose           21302 non-null  object\n",
      "dtypes: int64(7), object(5)\n",
      "memory usage: 2.1+ MB\n"
     ]
    }
   ],
   "source": [
    "df.info()"
   ]
  },
  {
   "cell_type": "markdown",
   "id": "e01acf1b",
   "metadata": {},
   "source": [
    "### Шаг 2.4. Удаление дубликатов."
   ]
  },
  {
   "cell_type": "code",
   "execution_count": 23,
   "id": "35cbf62b",
   "metadata": {},
   "outputs": [
    {
     "data": {
      "text/plain": [
       "54"
      ]
     },
     "execution_count": 23,
     "metadata": {},
     "output_type": "execute_result"
    }
   ],
   "source": [
    "df.duplicated().sum()\n",
    "# найдем количество явных дубликатов"
   ]
  },
  {
   "cell_type": "code",
   "execution_count": 24,
   "id": "9f340abc",
   "metadata": {},
   "outputs": [
    {
     "data": {
      "text/plain": [
       "0"
      ]
     },
     "execution_count": 24,
     "metadata": {},
     "output_type": "execute_result"
    }
   ],
   "source": [
    "# удаляем явные дубликаты и проверяем результат\n",
    "df.drop_duplicates(subset=None, keep=\"first\", inplace=True)\n",
    "df.duplicated().sum()"
   ]
  },
  {
   "cell_type": "markdown",
   "id": "1aea608e",
   "metadata": {},
   "source": [
    "<div class=\"alert alert-info\">\n",
    "    Неявные дубликаты тоже нужно удалить.\n",
    "    В столбце education есть одни и те же значения, но записанные по-разному. Ранее мы исправили значения, оформив их в один регистр.\n",
    "    В столбце \"purpose\" - причины указаны по-разному, но в целом их можно разбить на 4 категорий:\n",
    "    <p>'операции с автомобилем',\n",
    "'операции с недвижимостью',\n",
    "'проведение свадьбы',\n",
    "        'получение образования'</p>\n",
    "    Скорее всего это произошло, т.к. ввод данных был ручной, а категории заранее не  были определены.\n",
    "  \n",
    "</div>"
   ]
  },
  {
   "cell_type": "code",
   "execution_count": 25,
   "id": "5bd127b7",
   "metadata": {},
   "outputs": [
    {
     "data": {
      "text/plain": [
       "свадьба                                   787\n",
       "на проведение свадьбы                     764\n",
       "сыграть свадьбу                           759\n",
       "операции с недвижимостью                  669\n",
       "покупка коммерческой недвижимости         656\n",
       "покупка жилья для сдачи                   648\n",
       "операции с коммерческой недвижимостью     643\n",
       "операции с жильем                         641\n",
       "покупка жилья для семьи                   636\n",
       "жилье                                     635\n",
       "покупка жилья                             634\n",
       "недвижимость                              627\n",
       "строительство собственной недвижимости    626\n",
       "операции со своей недвижимостью           623\n",
       "строительство недвижимости                619\n",
       "строительство жилой недвижимости          618\n",
       "покупка своего жилья                      618\n",
       "покупка недвижимости                      613\n",
       "ремонт жилью                              602\n",
       "покупка жилой недвижимости                599\n",
       "на покупку своего автомобиля              501\n",
       "заняться высшим образованием              493\n",
       "автомобиль                                487\n",
       "сделка с подержанным автомобилем          479\n",
       "автомобили                                474\n",
       "на покупку подержанного автомобиля        471\n",
       "свой автомобиль                           471\n",
       "на покупку автомобиля                     466\n",
       "приобретение автомобиля                   457\n",
       "сделка с автомобилем                      454\n",
       "дополнительное образование                453\n",
       "высшее образование                        443\n",
       "получение дополнительного образования     443\n",
       "образование                               439\n",
       "получение образования                     439\n",
       "профильное образование                    431\n",
       "получение высшего образования             423\n",
       "заняться образованием                     407\n",
       "Name: purpose, dtype: int64"
      ]
     },
     "execution_count": 25,
     "metadata": {},
     "output_type": "execute_result"
    }
   ],
   "source": [
    "<div class=\"alert alert-info\"># проверим какие уникальные значения присутстсвует в столбце с целью кредита\n",
    "df['purpose'].value_counts()"
   ]
  },
  {
   "cell_type": "markdown",
   "id": "87fc0754",
   "metadata": {},
   "source": [
    "### Шаг 2.5. Формирование дополнительных датафреймов словарей, декомпозиция исходного датафрейма."
   ]
  },
  {
   "cell_type": "code",
   "execution_count": 26,
   "id": "9d645394",
   "metadata": {},
   "outputs": [
    {
     "data": {
      "text/html": [
       "<div>\n",
       "<style scoped>\n",
       "    .dataframe tbody tr th:only-of-type {\n",
       "        vertical-align: middle;\n",
       "    }\n",
       "\n",
       "    .dataframe tbody tr th {\n",
       "        vertical-align: top;\n",
       "    }\n",
       "\n",
       "    .dataframe thead th {\n",
       "        text-align: right;\n",
       "    }\n",
       "</style>\n",
       "<table border=\"1\" class=\"dataframe\">\n",
       "  <thead>\n",
       "    <tr style=\"text-align: right;\">\n",
       "      <th></th>\n",
       "      <th>education_id</th>\n",
       "      <th>education</th>\n",
       "    </tr>\n",
       "  </thead>\n",
       "  <tbody>\n",
       "    <tr>\n",
       "      <th>0</th>\n",
       "      <td>0</td>\n",
       "      <td>высшее</td>\n",
       "    </tr>\n",
       "    <tr>\n",
       "      <th>1</th>\n",
       "      <td>1</td>\n",
       "      <td>среднее</td>\n",
       "    </tr>\n",
       "    <tr>\n",
       "      <th>2</th>\n",
       "      <td>2</td>\n",
       "      <td>неоконченное высшее</td>\n",
       "    </tr>\n",
       "    <tr>\n",
       "      <th>3</th>\n",
       "      <td>3</td>\n",
       "      <td>начальное</td>\n",
       "    </tr>\n",
       "    <tr>\n",
       "      <th>4</th>\n",
       "      <td>4</td>\n",
       "      <td>ученая степень</td>\n",
       "    </tr>\n",
       "  </tbody>\n",
       "</table>\n",
       "</div>"
      ],
      "text/plain": [
       "   education_id            education\n",
       "0             0               высшее\n",
       "1             1              среднее\n",
       "2             2  неоконченное высшее\n",
       "3             3            начальное\n",
       "4             4       ученая степень"
      ]
     },
     "execution_count": 26,
     "metadata": {},
     "output_type": "execute_result"
    }
   ],
   "source": [
    "# создаем словарь для education\n",
    "df_education = df[['education_id', 'education']]\n",
    "df_education = df_education.drop_duplicates().reset_index(drop=True)\n",
    "df_education.head(7)"
   ]
  },
  {
   "cell_type": "code",
   "execution_count": 27,
   "id": "e0039b52",
   "metadata": {},
   "outputs": [
    {
     "data": {
      "text/html": [
       "<div>\n",
       "<style scoped>\n",
       "    .dataframe tbody tr th:only-of-type {\n",
       "        vertical-align: middle;\n",
       "    }\n",
       "\n",
       "    .dataframe tbody tr th {\n",
       "        vertical-align: top;\n",
       "    }\n",
       "\n",
       "    .dataframe thead th {\n",
       "        text-align: right;\n",
       "    }\n",
       "</style>\n",
       "<table border=\"1\" class=\"dataframe\">\n",
       "  <thead>\n",
       "    <tr style=\"text-align: right;\">\n",
       "      <th></th>\n",
       "      <th>family_status_id</th>\n",
       "      <th>family_status</th>\n",
       "    </tr>\n",
       "  </thead>\n",
       "  <tbody>\n",
       "    <tr>\n",
       "      <th>0</th>\n",
       "      <td>0</td>\n",
       "      <td>женат / замужем</td>\n",
       "    </tr>\n",
       "    <tr>\n",
       "      <th>1</th>\n",
       "      <td>1</td>\n",
       "      <td>гражданский брак</td>\n",
       "    </tr>\n",
       "    <tr>\n",
       "      <th>2</th>\n",
       "      <td>2</td>\n",
       "      <td>вдовец / вдова</td>\n",
       "    </tr>\n",
       "    <tr>\n",
       "      <th>3</th>\n",
       "      <td>3</td>\n",
       "      <td>в разводе</td>\n",
       "    </tr>\n",
       "    <tr>\n",
       "      <th>4</th>\n",
       "      <td>4</td>\n",
       "      <td>не женат / не замужем</td>\n",
       "    </tr>\n",
       "  </tbody>\n",
       "</table>\n",
       "</div>"
      ],
      "text/plain": [
       "   family_status_id          family_status\n",
       "0                 0        женат / замужем\n",
       "1                 1       гражданский брак\n",
       "2                 2         вдовец / вдова\n",
       "3                 3              в разводе\n",
       "4                 4  не женат / не замужем"
      ]
     },
     "execution_count": 27,
     "metadata": {},
     "output_type": "execute_result"
    }
   ],
   "source": [
    "# создаем словарь для family_status\n",
    "df_family_status = df[['family_status_id', 'family_status']]\n",
    "df_family_status = df_family_status.drop_duplicates().reset_index(drop=True)\n",
    "df_family_status.head()"
   ]
  },
  {
   "cell_type": "markdown",
   "id": "aa412e74",
   "metadata": {},
   "source": [
    "\n",
    "    Удаляем из исходного датафрейма столбцы education и family_status, оставив только их идентификаторы: education_id и family_status_id. "
   ]
  },
  {
   "cell_type": "code",
   "execution_count": 28,
   "id": "d13029dd",
   "metadata": {},
   "outputs": [
    {
     "name": "stdout",
     "output_type": "stream",
     "text": [
      "<class 'pandas.core.frame.DataFrame'>\n",
      "Int64Index: 21248 entries, 0 to 21524\n",
      "Data columns (total 10 columns):\n",
      " #   Column            Non-Null Count  Dtype \n",
      "---  ------            --------------  ----- \n",
      " 0   children          21248 non-null  int64 \n",
      " 1   days_employed     21248 non-null  int64 \n",
      " 2   dob_years         21248 non-null  int64 \n",
      " 3   education_id      21248 non-null  int64 \n",
      " 4   family_status_id  21248 non-null  int64 \n",
      " 5   gender            21248 non-null  object\n",
      " 6   income_type       21248 non-null  object\n",
      " 7   debt              21248 non-null  int64 \n",
      " 8   total_income      21248 non-null  int64 \n",
      " 9   purpose           21248 non-null  object\n",
      "dtypes: int64(7), object(3)\n",
      "memory usage: 1.8+ MB\n"
     ]
    }
   ],
   "source": [
    "del df['education']\n",
    "del df['family_status']\n",
    "\n",
    "df.info()"
   ]
  },
  {
   "cell_type": "code",
   "execution_count": 29,
   "id": "a0c43ead",
   "metadata": {},
   "outputs": [
    {
     "data": {
      "text/html": [
       "<div>\n",
       "<style scoped>\n",
       "    .dataframe tbody tr th:only-of-type {\n",
       "        vertical-align: middle;\n",
       "    }\n",
       "\n",
       "    .dataframe tbody tr th {\n",
       "        vertical-align: top;\n",
       "    }\n",
       "\n",
       "    .dataframe thead th {\n",
       "        text-align: right;\n",
       "    }\n",
       "</style>\n",
       "<table border=\"1\" class=\"dataframe\">\n",
       "  <thead>\n",
       "    <tr style=\"text-align: right;\">\n",
       "      <th></th>\n",
       "      <th>children</th>\n",
       "      <th>days_employed</th>\n",
       "      <th>dob_years</th>\n",
       "      <th>education_id</th>\n",
       "      <th>family_status_id</th>\n",
       "      <th>gender</th>\n",
       "      <th>income_type</th>\n",
       "      <th>debt</th>\n",
       "      <th>total_income</th>\n",
       "      <th>purpose</th>\n",
       "    </tr>\n",
       "  </thead>\n",
       "  <tbody>\n",
       "    <tr>\n",
       "      <th>0</th>\n",
       "      <td>1</td>\n",
       "      <td>8437</td>\n",
       "      <td>42</td>\n",
       "      <td>0</td>\n",
       "      <td>0</td>\n",
       "      <td>F</td>\n",
       "      <td>сотрудник</td>\n",
       "      <td>0</td>\n",
       "      <td>253875</td>\n",
       "      <td>покупка жилья</td>\n",
       "    </tr>\n",
       "    <tr>\n",
       "      <th>1</th>\n",
       "      <td>1</td>\n",
       "      <td>4024</td>\n",
       "      <td>36</td>\n",
       "      <td>1</td>\n",
       "      <td>0</td>\n",
       "      <td>F</td>\n",
       "      <td>сотрудник</td>\n",
       "      <td>0</td>\n",
       "      <td>112080</td>\n",
       "      <td>приобретение автомобиля</td>\n",
       "    </tr>\n",
       "    <tr>\n",
       "      <th>2</th>\n",
       "      <td>0</td>\n",
       "      <td>5623</td>\n",
       "      <td>33</td>\n",
       "      <td>1</td>\n",
       "      <td>0</td>\n",
       "      <td>M</td>\n",
       "      <td>сотрудник</td>\n",
       "      <td>0</td>\n",
       "      <td>145885</td>\n",
       "      <td>покупка жилья</td>\n",
       "    </tr>\n",
       "    <tr>\n",
       "      <th>3</th>\n",
       "      <td>3</td>\n",
       "      <td>4124</td>\n",
       "      <td>32</td>\n",
       "      <td>1</td>\n",
       "      <td>0</td>\n",
       "      <td>M</td>\n",
       "      <td>сотрудник</td>\n",
       "      <td>0</td>\n",
       "      <td>267628</td>\n",
       "      <td>дополнительное образование</td>\n",
       "    </tr>\n",
       "    <tr>\n",
       "      <th>4</th>\n",
       "      <td>0</td>\n",
       "      <td>14177</td>\n",
       "      <td>53</td>\n",
       "      <td>1</td>\n",
       "      <td>1</td>\n",
       "      <td>F</td>\n",
       "      <td>пенсионер</td>\n",
       "      <td>0</td>\n",
       "      <td>158616</td>\n",
       "      <td>сыграть свадьбу</td>\n",
       "    </tr>\n",
       "  </tbody>\n",
       "</table>\n",
       "</div>"
      ],
      "text/plain": [
       "   children  days_employed  dob_years  education_id  family_status_id gender  \\\n",
       "0         1           8437         42             0                 0      F   \n",
       "1         1           4024         36             1                 0      F   \n",
       "2         0           5623         33             1                 0      M   \n",
       "3         3           4124         32             1                 0      M   \n",
       "4         0          14177         53             1                 1      F   \n",
       "\n",
       "  income_type  debt  total_income                     purpose  \n",
       "0   сотрудник     0        253875               покупка жилья  \n",
       "1   сотрудник     0        112080     приобретение автомобиля  \n",
       "2   сотрудник     0        145885               покупка жилья  \n",
       "3   сотрудник     0        267628  дополнительное образование  \n",
       "4   пенсионер     0        158616             сыграть свадьбу  "
      ]
     },
     "execution_count": 29,
     "metadata": {},
     "output_type": "execute_result"
    }
   ],
   "source": [
    "df.head()"
   ]
  },
  {
   "cell_type": "markdown",
   "id": "f3f440c3",
   "metadata": {},
   "source": [
    "### Шаг 2.6. Категоризация дохода."
   ]
  },
  {
   "cell_type": "code",
   "execution_count": 30,
   "id": "d9cae6cd",
   "metadata": {},
   "outputs": [
    {
     "data": {
      "text/plain": [
       "C    15686\n",
       "B     5168\n",
       "D      347\n",
       "A       25\n",
       "E       22\n",
       "Name: income_category, dtype: int64"
      ]
     },
     "execution_count": 30,
     "metadata": {},
     "output_type": "execute_result"
    }
   ],
   "source": [
    "# cjplftv функцию для распределений дохода по категориям согласно условиям\n",
    "def total_income_cat(total_income):\n",
    "    if total_income < 30000:\n",
    "        return 'E'\n",
    "    if 30000 <= total_income < 50000:\n",
    "        return 'D'\n",
    "    if 50000 <= total_income < 200000:\n",
    "        return 'C'\n",
    "    if 200000 <= total_income < 1000000:\n",
    "        return 'B'\n",
    "    if total_income > 1000000:\n",
    "        return 'A'\n",
    "\n",
    "\n",
    "df['income_category'] = df['total_income'].apply(total_income_cat)\n",
    "# применяем функцию\n",
    "df['income_category'].value_counts() \n",
    "# проверяем распределение по категориям"
   ]
  },
  {
   "cell_type": "markdown",
   "id": "1802bbd7",
   "metadata": {},
   "source": [
    "### Шаг 2.7. Категоризация целей кредита."
   ]
  },
  {
   "cell_type": "code",
   "execution_count": 31,
   "id": "8b7f2b99",
   "metadata": {},
   "outputs": [
    {
     "data": {
      "text/plain": [
       "операции с недвижимостью    10707\n",
       "операции с автомобилем       4260\n",
       "получение образования        3971\n",
       "проведение свадьбы           2310\n",
       "Name: purpose_category, dtype: int64"
      ]
     },
     "execution_count": 31,
     "metadata": {},
     "output_type": "execute_result"
    }
   ],
   "source": [
    "# аналогичным образом создаем функцию с условиями для целей кредита\n",
    "def cat_purpose(row):\n",
    "    purp = row['purpose']\n",
    "    if 'свадьб' in purp:\n",
    "        return 'проведение свадьбы'\n",
    "    elif 'недвижимост' in purp or 'жиль' in purp:\n",
    "        return 'операции с недвижимостью'\n",
    "    elif 'авто' in purp:\n",
    "        return 'операции с автомобилем'\n",
    "    elif 'образовани' in purp:\n",
    "        return 'получение образования'\n",
    "    return 'другое'\n",
    "\n",
    "df['purpose_category'] = df.apply(cat_purpose, axis = 1)\n",
    "df['purpose_category'].value_counts()\n",
    "    \n",
    "        "
   ]
  },
  {
   "cell_type": "code",
   "execution_count": 32,
   "id": "98f945db",
   "metadata": {},
   "outputs": [
    {
     "data": {
      "text/html": [
       "<div>\n",
       "<style scoped>\n",
       "    .dataframe tbody tr th:only-of-type {\n",
       "        vertical-align: middle;\n",
       "    }\n",
       "\n",
       "    .dataframe tbody tr th {\n",
       "        vertical-align: top;\n",
       "    }\n",
       "\n",
       "    .dataframe thead th {\n",
       "        text-align: right;\n",
       "    }\n",
       "</style>\n",
       "<table border=\"1\" class=\"dataframe\">\n",
       "  <thead>\n",
       "    <tr style=\"text-align: right;\">\n",
       "      <th></th>\n",
       "      <th>children</th>\n",
       "      <th>days_employed</th>\n",
       "      <th>dob_years</th>\n",
       "      <th>education_id</th>\n",
       "      <th>family_status_id</th>\n",
       "      <th>gender</th>\n",
       "      <th>income_type</th>\n",
       "      <th>debt</th>\n",
       "      <th>total_income</th>\n",
       "      <th>income_category</th>\n",
       "      <th>purpose_category</th>\n",
       "    </tr>\n",
       "  </thead>\n",
       "  <tbody>\n",
       "    <tr>\n",
       "      <th>0</th>\n",
       "      <td>1</td>\n",
       "      <td>8437</td>\n",
       "      <td>42</td>\n",
       "      <td>0</td>\n",
       "      <td>0</td>\n",
       "      <td>F</td>\n",
       "      <td>сотрудник</td>\n",
       "      <td>0</td>\n",
       "      <td>253875</td>\n",
       "      <td>B</td>\n",
       "      <td>операции с недвижимостью</td>\n",
       "    </tr>\n",
       "    <tr>\n",
       "      <th>1</th>\n",
       "      <td>1</td>\n",
       "      <td>4024</td>\n",
       "      <td>36</td>\n",
       "      <td>1</td>\n",
       "      <td>0</td>\n",
       "      <td>F</td>\n",
       "      <td>сотрудник</td>\n",
       "      <td>0</td>\n",
       "      <td>112080</td>\n",
       "      <td>C</td>\n",
       "      <td>операции с автомобилем</td>\n",
       "    </tr>\n",
       "    <tr>\n",
       "      <th>2</th>\n",
       "      <td>0</td>\n",
       "      <td>5623</td>\n",
       "      <td>33</td>\n",
       "      <td>1</td>\n",
       "      <td>0</td>\n",
       "      <td>M</td>\n",
       "      <td>сотрудник</td>\n",
       "      <td>0</td>\n",
       "      <td>145885</td>\n",
       "      <td>C</td>\n",
       "      <td>операции с недвижимостью</td>\n",
       "    </tr>\n",
       "    <tr>\n",
       "      <th>3</th>\n",
       "      <td>3</td>\n",
       "      <td>4124</td>\n",
       "      <td>32</td>\n",
       "      <td>1</td>\n",
       "      <td>0</td>\n",
       "      <td>M</td>\n",
       "      <td>сотрудник</td>\n",
       "      <td>0</td>\n",
       "      <td>267628</td>\n",
       "      <td>B</td>\n",
       "      <td>получение образования</td>\n",
       "    </tr>\n",
       "    <tr>\n",
       "      <th>4</th>\n",
       "      <td>0</td>\n",
       "      <td>14177</td>\n",
       "      <td>53</td>\n",
       "      <td>1</td>\n",
       "      <td>1</td>\n",
       "      <td>F</td>\n",
       "      <td>пенсионер</td>\n",
       "      <td>0</td>\n",
       "      <td>158616</td>\n",
       "      <td>C</td>\n",
       "      <td>проведение свадьбы</td>\n",
       "    </tr>\n",
       "  </tbody>\n",
       "</table>\n",
       "</div>"
      ],
      "text/plain": [
       "   children  days_employed  dob_years  education_id  family_status_id gender  \\\n",
       "0         1           8437         42             0                 0      F   \n",
       "1         1           4024         36             1                 0      F   \n",
       "2         0           5623         33             1                 0      M   \n",
       "3         3           4124         32             1                 0      M   \n",
       "4         0          14177         53             1                 1      F   \n",
       "\n",
       "  income_type  debt  total_income income_category          purpose_category  \n",
       "0   сотрудник     0        253875               B  операции с недвижимостью  \n",
       "1   сотрудник     0        112080               C    операции с автомобилем  \n",
       "2   сотрудник     0        145885               C  операции с недвижимостью  \n",
       "3   сотрудник     0        267628               B     получение образования  \n",
       "4   пенсионер     0        158616               C        проведение свадьбы  "
      ]
     },
     "execution_count": 32,
     "metadata": {},
     "output_type": "execute_result"
    }
   ],
   "source": [
    "del df['purpose'] #удаляем столбец с ручным вводом целей кредита, т.к. тееперь у нас есть отдельный столец с категориями\n",
    "df.head()\n",
    "# проверяем "
   ]
  },
  {
   "cell_type": "markdown",
   "id": "da8d2fc2",
   "metadata": {},
   "source": [
    "<div class=\"alert alert-info\"><b>Теперь после предобработки таблица имеет четкую структуру и определенный тип данных, что позволит анализировать данные без \"мусора\"."
   ]
  },
  {
   "cell_type": "markdown",
   "id": "3902e32c",
   "metadata": {},
   "source": [
    "### Ответы на вопросы."
   ]
  },
  {
   "cell_type": "markdown",
   "id": "15907d5f",
   "metadata": {},
   "source": [
    "##### Вопрос 1: Есть ли зависимость между количеством детей и возвратом кредита в срок?\n"
   ]
  },
  {
   "cell_type": "code",
   "execution_count": 33,
   "id": "bff18f68",
   "metadata": {},
   "outputs": [
    {
     "data": {
      "text/html": [
       "<style  type=\"text/css\" >\n",
       "</style><table id=\"T_1fba8_\" ><thead>    <tr>        <th class=\"index_name level0\" >debt</th>        <th class=\"col_heading level0 col0\" >0</th>        <th class=\"col_heading level0 col1\" >1</th>        <th class=\"col_heading level0 col2\" >convers_debt</th>        <th class=\"col_heading level0 col3\" >children</th>    </tr>    <tr>        <th class=\"index_name level0\" >children</th>        <th class=\"blank\" ></th>        <th class=\"blank\" ></th>        <th class=\"blank\" ></th>        <th class=\"blank\" ></th>    </tr></thead><tbody>\n",
       "                <tr>\n",
       "                        <th id=\"T_1fba8_level0_row0\" class=\"row_heading level0 row0\" >0</th>\n",
       "                        <td id=\"T_1fba8_row0_col0\" class=\"data row0 col0\" >12980.000000</td>\n",
       "                        <td id=\"T_1fba8_row0_col1\" class=\"data row0 col1\" >1058.000000</td>\n",
       "                        <td id=\"T_1fba8_row0_col2\" class=\"data row0 col2\" >7.54%</td>\n",
       "                        <td id=\"T_1fba8_row0_col3\" class=\"data row0 col3\" >нет детей</td>\n",
       "            </tr>\n",
       "            <tr>\n",
       "                        <th id=\"T_1fba8_level0_row1\" class=\"row_heading level0 row1\" >3</th>\n",
       "                        <td id=\"T_1fba8_row1_col0\" class=\"data row1 col0\" >301.000000</td>\n",
       "                        <td id=\"T_1fba8_row1_col1\" class=\"data row1 col1\" >27.000000</td>\n",
       "                        <td id=\"T_1fba8_row1_col2\" class=\"data row1 col2\" >8.23%</td>\n",
       "                        <td id=\"T_1fba8_row1_col3\" class=\"data row1 col3\" >3</td>\n",
       "            </tr>\n",
       "            <tr>\n",
       "                        <th id=\"T_1fba8_level0_row2\" class=\"row_heading level0 row2\" >1</th>\n",
       "                        <td id=\"T_1fba8_row2_col0\" class=\"data row2 col0\" >4352.000000</td>\n",
       "                        <td id=\"T_1fba8_row2_col1\" class=\"data row2 col1\" >441.000000</td>\n",
       "                        <td id=\"T_1fba8_row2_col2\" class=\"data row2 col2\" >9.20%</td>\n",
       "                        <td id=\"T_1fba8_row2_col3\" class=\"data row2 col3\" >1</td>\n",
       "            </tr>\n",
       "            <tr>\n",
       "                        <th id=\"T_1fba8_level0_row3\" class=\"row_heading level0 row3\" >2</th>\n",
       "                        <td id=\"T_1fba8_row3_col0\" class=\"data row3 col0\" >1845.000000</td>\n",
       "                        <td id=\"T_1fba8_row3_col1\" class=\"data row3 col1\" >194.000000</td>\n",
       "                        <td id=\"T_1fba8_row3_col2\" class=\"data row3 col2\" >9.51%</td>\n",
       "                        <td id=\"T_1fba8_row3_col3\" class=\"data row3 col3\" >2</td>\n",
       "            </tr>\n",
       "            <tr>\n",
       "                        <th id=\"T_1fba8_level0_row4\" class=\"row_heading level0 row4\" >4</th>\n",
       "                        <td id=\"T_1fba8_row4_col0\" class=\"data row4 col0\" >37.000000</td>\n",
       "                        <td id=\"T_1fba8_row4_col1\" class=\"data row4 col1\" >4.000000</td>\n",
       "                        <td id=\"T_1fba8_row4_col2\" class=\"data row4 col2\" >9.76%</td>\n",
       "                        <td id=\"T_1fba8_row4_col3\" class=\"data row4 col3\" >4</td>\n",
       "            </tr>\n",
       "            <tr>\n",
       "                        <th id=\"T_1fba8_level0_row5\" class=\"row_heading level0 row5\" >5</th>\n",
       "                        <td id=\"T_1fba8_row5_col0\" class=\"data row5 col0\" >9.000000</td>\n",
       "                        <td id=\"T_1fba8_row5_col1\" class=\"data row5 col1\" >nan</td>\n",
       "                        <td id=\"T_1fba8_row5_col2\" class=\"data row5 col2\" >nan%</td>\n",
       "                        <td id=\"T_1fba8_row5_col3\" class=\"data row5 col3\" >5</td>\n",
       "            </tr>\n",
       "    </tbody></table>"
      ],
      "text/plain": [
       "<pandas.io.formats.style.Styler at 0x7f1aeedf7e50>"
      ]
     },
     "metadata": {},
     "output_type": "display_data"
    },
    {
     "data": {
      "text/plain": [
       "<AxesSubplot:xlabel='convers_debt', ylabel='children'>"
      ]
     },
     "execution_count": 33,
     "metadata": {},
     "output_type": "execute_result"
    },
    {
     "data": {
      "image/png": "[encoded data removed]",
      "text/plain": [
       "<Figure size 432x288 with 1 Axes>"
      ]
     },
     "metadata": {
      "needs_background": "light"
     },
     "output_type": "display_data"
    }
   ],
   "source": [
    "\n",
    "data_pivot = df.pivot_table(index=['children'], columns='debt', values='gender', aggfunc='count')\n",
    "data_pivot['convers_debt'] = df[df['debt']==1]['children'].value_counts()/df['children'].value_counts()\n",
    "# вычисляем конверсию только для тех значений где была задолженность, по отношению к общему количеству\n",
    "# data_pivot.style.format({'column_name': '{:.2%}'})\n",
    "data_pivot['children'] = ['нет детей', '1','2','3','4','5'] \n",
    "# для удобства добавим названия колонок\n",
    "\n",
    "data_pivot = data_pivot.sort_values(by=('convers_debt'))\n",
    "display(data_pivot.style.format({'convers_debt': '{:.2%}'}))\n",
    "\n",
    "# сортируем по конверсии\n",
    "sns.barplot( y = data_pivot['children'], x =  data_pivot['convers_debt'], data = data_pivot) \n",
    "\n"
   ]
  },
  {
   "cell_type": "markdown",
   "id": "3ba71b2b",
   "metadata": {},
   "source": [
    "<div class=\"alert alert-info\">\n",
    "Вывод 1: Как видно по получившимся данным и по графику - у людей, у которых 5 детей - просрочки отсутствуют(но их количество в таблице данных значительно мало, поэтому ориентироваться на них не стоит), меньше всего просрочек по кредитам у людей, не имеющих детей - около 7,5%."
   ]
  },
  {
   "cell_type": "markdown",
   "id": "141aa391",
   "metadata": {},
   "source": [
    "##### Вопрос 2: Есть ли зависимость между семейным положением и возвратом кредита в срок?\n"
   ]
  },
  {
   "cell_type": "code",
   "execution_count": 34,
   "id": "d62e7cea",
   "metadata": {},
   "outputs": [
    {
     "data": {
      "text/html": [
       "<style  type=\"text/css\" >\n",
       "</style><table id=\"T_6013c_\" ><thead>    <tr>        <th class=\"index_name level0\" >debt</th>        <th class=\"col_heading level0 col0\" >0</th>        <th class=\"col_heading level0 col1\" >1</th>        <th class=\"col_heading level0 col2\" >convers_debt</th>    </tr>    <tr>        <th class=\"index_name level0\" >family_status</th>        <th class=\"blank\" ></th>        <th class=\"blank\" ></th>        <th class=\"blank\" ></th>    </tr></thead><tbody>\n",
       "                <tr>\n",
       "                        <th id=\"T_6013c_level0_row0\" class=\"row_heading level0 row0\" >вдовец / вдова</th>\n",
       "                        <td id=\"T_6013c_row0_col0\" class=\"data row0 col0\" >884</td>\n",
       "                        <td id=\"T_6013c_row0_col1\" class=\"data row0 col1\" >62</td>\n",
       "                        <td id=\"T_6013c_row0_col2\" class=\"data row0 col2\" >6.55%</td>\n",
       "            </tr>\n",
       "            <tr>\n",
       "                        <th id=\"T_6013c_level0_row1\" class=\"row_heading level0 row1\" >в разводе</th>\n",
       "                        <td id=\"T_6013c_row1_col0\" class=\"data row1 col0\" >1095</td>\n",
       "                        <td id=\"T_6013c_row1_col1\" class=\"data row1 col1\" >84</td>\n",
       "                        <td id=\"T_6013c_row1_col2\" class=\"data row1 col2\" >7.12%</td>\n",
       "            </tr>\n",
       "            <tr>\n",
       "                        <th id=\"T_6013c_level0_row2\" class=\"row_heading level0 row2\" >женат / замужем</th>\n",
       "                        <td id=\"T_6013c_row2_col0\" class=\"data row2 col0\" >11295</td>\n",
       "                        <td id=\"T_6013c_row2_col1\" class=\"data row2 col1\" >923</td>\n",
       "                        <td id=\"T_6013c_row2_col2\" class=\"data row2 col2\" >7.55%</td>\n",
       "            </tr>\n",
       "            <tr>\n",
       "                        <th id=\"T_6013c_level0_row3\" class=\"row_heading level0 row3\" >гражданский брак</th>\n",
       "                        <td id=\"T_6013c_row3_col0\" class=\"data row3 col0\" >3742</td>\n",
       "                        <td id=\"T_6013c_row3_col1\" class=\"data row3 col1\" >383</td>\n",
       "                        <td id=\"T_6013c_row3_col2\" class=\"data row3 col2\" >9.28%</td>\n",
       "            </tr>\n",
       "            <tr>\n",
       "                        <th id=\"T_6013c_level0_row4\" class=\"row_heading level0 row4\" >не женат / не замужем</th>\n",
       "                        <td id=\"T_6013c_row4_col0\" class=\"data row4 col0\" >2508</td>\n",
       "                        <td id=\"T_6013c_row4_col1\" class=\"data row4 col1\" >272</td>\n",
       "                        <td id=\"T_6013c_row4_col2\" class=\"data row4 col2\" >9.78%</td>\n",
       "            </tr>\n",
       "    </tbody></table>"
      ],
      "text/plain": [
       "<pandas.io.formats.style.Styler at 0x7f1aef41a910>"
      ]
     },
     "metadata": {},
     "output_type": "display_data"
    },
    {
     "data": {
      "text/plain": [
       "<AxesSubplot:xlabel='convers_debt', ylabel='family_status'>"
      ]
     },
     "execution_count": 34,
     "metadata": {},
     "output_type": "execute_result"
    },
    {
     "data": {
      "image/png": "[encoded data removed]",
      "text/plain": [
       "<Figure size 432x288 with 1 Axes>"
      ]
     },
     "metadata": {
      "needs_background": "light"
     },
     "output_type": "display_data"
    }
   ],
   "source": [
    "df_new = df.merge(df_family_status, on='family_status_id', how='left') \n",
    "# добавим из словаря колонку с текстовыми значениями статуса и присвоим значения в новый датафрейм\n",
    "data_pivot = df_new.pivot_table(index=['family_status'], columns='debt', values='gender', aggfunc='count')\n",
    "data_pivot['convers_debt'] = df_new[df_new['debt']==1]['family_status'].value_counts()/df_new['family_status'].value_counts()\n",
    "# вычисляем конверсию только для тех значений где была задолженность, по отношению к общему количеству\n",
    "data_pivot = data_pivot.sort_values(by=('convers_debt'))\n",
    "display(data_pivot.style.format({'convers_debt': '{:.2%}'}))\n",
    "\n",
    "# сортируем по конверсии\n",
    "sns.barplot( y = data_pivot.index, x =  data_pivot['convers_debt'], data = data_pivot) \n",
    "# ось y возьмем по индексу, т.к. по смысловым значениям она уже адаптирована\n",
    "\n"
   ]
  },
  {
   "cell_type": "markdown",
   "id": "84159fa3",
   "metadata": {},
   "source": [
    "<div class=\"alert alert-info\">\n",
    "    Вывод 2:\n",
    "    Семейное положение тоже влияет на возврат кредита в срок. Меньше всего просрочек у людей со статусом \"вдовец/вдова\" - 6,55%, и самые ненадежные заемщики по возврату в срок - это люди в статусе \"не замужем/ не женат\" - 9,78%"
   ]
  },
  {
   "cell_type": "markdown",
   "id": "4cca3292",
   "metadata": {},
   "source": [
    "##### Вопрос 3: Есть ли зависимость между уровнем дохода и возвратом кредита в срок?\n"
   ]
  },
  {
   "cell_type": "code",
   "execution_count": 35,
   "id": "22468e48",
   "metadata": {},
   "outputs": [
    {
     "data": {
      "text/html": [
       "<style  type=\"text/css\" >\n",
       "</style><table id=\"T_6c6df_\" ><thead>    <tr>        <th class=\"index_name level0\" >debt</th>        <th class=\"col_heading level0 col0\" >0</th>        <th class=\"col_heading level0 col1\" >1</th>        <th class=\"col_heading level0 col2\" >convers_debt</th>        <th class=\"col_heading level0 col3\" >income_name</th>    </tr>    <tr>        <th class=\"index_name level0\" >income_category</th>        <th class=\"blank\" ></th>        <th class=\"blank\" ></th>        <th class=\"blank\" ></th>        <th class=\"blank\" ></th>    </tr></thead><tbody>\n",
       "                <tr>\n",
       "                        <th id=\"T_6c6df_level0_row0\" class=\"row_heading level0 row0\" >A</th>\n",
       "                        <td id=\"T_6c6df_row0_col0\" class=\"data row0 col0\" >23</td>\n",
       "                        <td id=\"T_6c6df_row0_col1\" class=\"data row0 col1\" >2</td>\n",
       "                        <td id=\"T_6c6df_row0_col2\" class=\"data row0 col2\" >8.00%</td>\n",
       "                        <td id=\"T_6c6df_row0_col3\" class=\"data row0 col3\" >1000001 и выше</td>\n",
       "            </tr>\n",
       "            <tr>\n",
       "                        <th id=\"T_6c6df_level0_row1\" class=\"row_heading level0 row1\" >B</th>\n",
       "                        <td id=\"T_6c6df_row1_col0\" class=\"data row1 col0\" >4807</td>\n",
       "                        <td id=\"T_6c6df_row1_col1\" class=\"data row1 col1\" >361</td>\n",
       "                        <td id=\"T_6c6df_row1_col2\" class=\"data row1 col2\" >6.99%</td>\n",
       "                        <td id=\"T_6c6df_row1_col3\" class=\"data row1 col3\" >200001–1000000</td>\n",
       "            </tr>\n",
       "            <tr>\n",
       "                        <th id=\"T_6c6df_level0_row2\" class=\"row_heading level0 row2\" >C</th>\n",
       "                        <td id=\"T_6c6df_row2_col0\" class=\"data row2 col0\" >14348</td>\n",
       "                        <td id=\"T_6c6df_row2_col1\" class=\"data row2 col1\" >1338</td>\n",
       "                        <td id=\"T_6c6df_row2_col2\" class=\"data row2 col2\" >8.53%</td>\n",
       "                        <td id=\"T_6c6df_row2_col3\" class=\"data row2 col3\" >50001–200000</td>\n",
       "            </tr>\n",
       "            <tr>\n",
       "                        <th id=\"T_6c6df_level0_row3\" class=\"row_heading level0 row3\" >D</th>\n",
       "                        <td id=\"T_6c6df_row3_col0\" class=\"data row3 col0\" >326</td>\n",
       "                        <td id=\"T_6c6df_row3_col1\" class=\"data row3 col1\" >21</td>\n",
       "                        <td id=\"T_6c6df_row3_col2\" class=\"data row3 col2\" >6.05%</td>\n",
       "                        <td id=\"T_6c6df_row3_col3\" class=\"data row3 col3\" >30001–50000 </td>\n",
       "            </tr>\n",
       "            <tr>\n",
       "                        <th id=\"T_6c6df_level0_row4\" class=\"row_heading level0 row4\" >E</th>\n",
       "                        <td id=\"T_6c6df_row4_col0\" class=\"data row4 col0\" >20</td>\n",
       "                        <td id=\"T_6c6df_row4_col1\" class=\"data row4 col1\" >2</td>\n",
       "                        <td id=\"T_6c6df_row4_col2\" class=\"data row4 col2\" >9.09%</td>\n",
       "                        <td id=\"T_6c6df_row4_col3\" class=\"data row4 col3\" >0–30000</td>\n",
       "            </tr>\n",
       "    </tbody></table>"
      ],
      "text/plain": [
       "<pandas.io.formats.style.Styler at 0x7f1aeede5490>"
      ]
     },
     "metadata": {},
     "output_type": "display_data"
    },
    {
     "data": {
      "text/plain": [
       "<AxesSubplot:xlabel='convers_debt', ylabel='income_name'>"
      ]
     },
     "execution_count": 35,
     "metadata": {},
     "output_type": "execute_result"
    },
    {
     "data": {
      "image/png": "[encoded data removed]",
      "text/plain": [
       "<Figure size 432x288 with 1 Axes>"
      ]
     },
     "metadata": {
      "needs_background": "light"
     },
     "output_type": "display_data"
    }
   ],
   "source": [
    "\n",
    "data_pivot = df.pivot_table(index=['income_category'], columns='debt', values='gender', aggfunc='count')\n",
    "data_pivot['convers_debt'] = df[df['debt']==1]['income_category'].value_counts()/df['income_category'].value_counts()\n",
    "# вычисляем конверсию только для тех значений где была задолженность, по отношению к общему количеству\n",
    "# для удобства добавим названия колонок\n",
    "data_pivot['income_name'] = ['1000001 и выше', '200001–1000000', '50001–200000','30001–50000 ','0–30000'] \n",
    "display(data_pivot.style.format({'convers_debt': '{:.2%}'}))\n",
    "\n",
    "data_pivot = data_pivot.sort_values(by=('convers_debt'))\n",
    "# сортируем по конверсии\n",
    "sns.barplot( y = data_pivot['income_name'], x =  data_pivot['convers_debt'], data = data_pivot) \n",
    "# здесь y берем по значениям нового столбца, чтобы было нагляднее\n",
    "\n"
   ]
  },
  {
   "cell_type": "markdown",
   "id": "3917451e",
   "metadata": {},
   "source": [
    "<div class=\"alert alert-info\">\n",
    "    <b>Вывод 3:</b>\n",
    "    Больше всего просрочек по кредиту у людей с меньшим уровнем и с самым высоким уровнями дохода, но так как в пердоставленных данных таблицы их количество значительно меньше остальных, их нельзя использовать для адекватного анализа. Поэтому более результативным будет тот факт, что:больше всего просрочек у категории людей со средним достатком - 8,54%"
   ]
  },
  {
   "cell_type": "markdown",
   "id": "9af209b8",
   "metadata": {},
   "source": [
    "##### Вопрос 4: Как разные цели кредита влияют на его возврат в срок?\n"
   ]
  },
  {
   "cell_type": "code",
   "execution_count": 36,
   "id": "96dcfe60",
   "metadata": {
    "scrolled": true
   },
   "outputs": [
    {
     "data": {
      "text/html": [
       "<style  type=\"text/css\" >\n",
       "</style><table id=\"T_35152_\" ><thead>    <tr>        <th class=\"index_name level0\" >debt</th>        <th class=\"col_heading level0 col0\" >0</th>        <th class=\"col_heading level0 col1\" >1</th>        <th class=\"col_heading level0 col2\" >convers_debt</th>    </tr>    <tr>        <th class=\"index_name level0\" >purpose_category</th>        <th class=\"blank\" ></th>        <th class=\"blank\" ></th>        <th class=\"blank\" ></th>    </tr></thead><tbody>\n",
       "                <tr>\n",
       "                        <th id=\"T_35152_level0_row0\" class=\"row_heading level0 row0\" >операции с автомобилем</th>\n",
       "                        <td id=\"T_35152_row0_col0\" class=\"data row0 col0\" >3863</td>\n",
       "                        <td id=\"T_35152_row0_col1\" class=\"data row0 col1\" >397</td>\n",
       "                        <td id=\"T_35152_row0_col2\" class=\"data row0 col2\" >9.32%</td>\n",
       "            </tr>\n",
       "            <tr>\n",
       "                        <th id=\"T_35152_level0_row1\" class=\"row_heading level0 row1\" >операции с недвижимостью</th>\n",
       "                        <td id=\"T_35152_row1_col0\" class=\"data row1 col0\" >9930</td>\n",
       "                        <td id=\"T_35152_row1_col1\" class=\"data row1 col1\" >777</td>\n",
       "                        <td id=\"T_35152_row1_col2\" class=\"data row1 col2\" >7.26%</td>\n",
       "            </tr>\n",
       "            <tr>\n",
       "                        <th id=\"T_35152_level0_row2\" class=\"row_heading level0 row2\" >получение образования</th>\n",
       "                        <td id=\"T_35152_row2_col0\" class=\"data row2 col0\" >3602</td>\n",
       "                        <td id=\"T_35152_row2_col1\" class=\"data row2 col1\" >369</td>\n",
       "                        <td id=\"T_35152_row2_col2\" class=\"data row2 col2\" >9.29%</td>\n",
       "            </tr>\n",
       "            <tr>\n",
       "                        <th id=\"T_35152_level0_row3\" class=\"row_heading level0 row3\" >проведение свадьбы</th>\n",
       "                        <td id=\"T_35152_row3_col0\" class=\"data row3 col0\" >2129</td>\n",
       "                        <td id=\"T_35152_row3_col1\" class=\"data row3 col1\" >181</td>\n",
       "                        <td id=\"T_35152_row3_col2\" class=\"data row3 col2\" >7.84%</td>\n",
       "            </tr>\n",
       "    </tbody></table>"
      ],
      "text/plain": [
       "<pandas.io.formats.style.Styler at 0x7f1aeec91be0>"
      ]
     },
     "metadata": {},
     "output_type": "display_data"
    },
    {
     "data": {
      "text/plain": [
       "<AxesSubplot:xlabel='convers_debt', ylabel='purpose_category'>"
      ]
     },
     "execution_count": 36,
     "metadata": {},
     "output_type": "execute_result"
    },
    {
     "data": {
      "image/png": "[encoded data removed]",
      "text/plain": [
       "<Figure size 432x288 with 1 Axes>"
      ]
     },
     "metadata": {
      "needs_background": "light"
     },
     "output_type": "display_data"
    }
   ],
   "source": [
    "# data_pivot = df.pivot_table(index=['purpose_category'], columns='debt', values='gender', aggfunc='count')\n",
    "# data_pivot['convers_debt'] = df[df['debt']==1]['purpose_category'].value_counts()/df['purpose_category'].value_counts()*100\n",
    "# # вычисляем конверсию только для тех значений где была задолженность, по отношению к общему количеству\n",
    "# data_pivot = data_pivot.sort_values(by=('convers_debt'))\n",
    "# # сортируем по конверсии\n",
    "\n",
    "#использую код ревьювера\n",
    "\n",
    "data_pivot = df.pivot_table(index=['purpose_category'], columns='debt', values='gender', aggfunc='count')\n",
    "data_pivot['convers_debt'] = df[df['debt']==1]['purpose_category'].value_counts()/df['purpose_category'].value_counts()\n",
    "display(data_pivot.style.format({'convers_debt': '{:.2%}'}))\n",
    "\n",
    "sns.barplot( y = data_pivot.index, x = data_pivot['convers_debt']) \n",
    "# ось y возьмем по индексу, т.к. по смысловым значениям она уже адаптирована\n",
    "\n"
   ]
  },
  {
   "cell_type": "markdown",
   "id": "2417d684",
   "metadata": {},
   "source": [
    "<div class=\"alert alert-info\">\n",
    "    Вывод 4:\n",
    "    Здесь мы видим, что к ипотеке и к связанным с жильем кредитам - люди относятся серьезнее, просрочки меньше остальных категорий, всего - 7,26%. "
   ]
  },
  {
   "cell_type": "markdown",
   "id": "8a2ec8b9",
   "metadata": {},
   "source": [
    "## Общий вывод:"
   ]
  },
  {
   "cell_type": "markdown",
   "id": "0e333454",
   "metadata": {},
   "source": [
    "<div class=\"alert alert-info\">\n",
    "Самые надежные заемщики - это люди, не имеющие детей.\n",
    "    \n"
   ]
  },
  {
   "cell_type": "markdown",
   "id": "a177c4fb",
   "metadata": {},
   "source": [
    "<div class=\"alert alert-info\">\n",
    "    \n",
    "<b>Вывод</b>    \n",
    "\n",
    "    \n",
    "Самый большой разрыв(разница около 3%) по доле просрочек по выборкам \"категории дохода\" и \"семейное положение\".\n",
    "Больше всего просрочек по кредиту у людей со средним уровнем дохода, а также \"свободных\" по семейному положению.\n",
    "    \n",
    "Проверка по целям кредита не так показательна, т.к. разрывы между категориями незначительные. Но по ним видно, что ответственнее все-таки относятся к кредитам, связанным с недвижимостью.\n",
    "    \n",
    "<b> Для вычисления надежности заемщика по просрочкам следует учитывать, что категория заемщиков без детей имеет меньше всего просрочек, как на дополнительный показатель я бы советовала ориентироваться на категоризацию по \"Семейному положению\" и по \"Уровню дохода\", так как разница конверсий в данных категориях более показательна.\n",
    "   \n",
    "   -- \n",
    "    \n",
    "    \n",
    "Чтобы в последующем избежать ошибок в заполнении данных рекомендуется разбить на заданные категории данные в столбцах - \"цель кредита\", \"образование\", \"семейное положение\". Также это поможет исключить проблемы с разным регистром данных.\n",
    "    \n",
    "В данных по столбцам \"стаж\" и \"доход\" по умолчанию лучше использовать ограничение в целых положительных числах.\n",
    "    \n",
    "В данных \"возраст\" ограничить так же в целых положительных числах, и еще можно добавить ограничение в промежутке 18 до 100 лет, например, т.к. законодательно кредиты не выдать лицам младше определенного возраст, к тому же это исключить ошибки с 0 возрастом.\n",
    "    \n",
    "    "
   ]
  }
 ],
 "metadata": {
  "ExecuteTimeLog": [
   {
    "duration": 81,
    "start_time": "2022-03-14T14:05:39.030Z"
   },
   {
    "duration": 781,
    "start_time": "2022-03-14T14:05:52.028Z"
   },
   {
    "duration": 82,
    "start_time": "2022-03-14T14:06:10.906Z"
   },
   {
    "duration": 70,
    "start_time": "2022-03-14T14:06:42.979Z"
   },
   {
    "duration": 80,
    "start_time": "2022-03-14T14:07:18.145Z"
   },
   {
    "duration": 53,
    "start_time": "2022-03-14T19:35:43.938Z"
   },
   {
    "duration": 54,
    "start_time": "2022-03-14T19:35:44.568Z"
   },
   {
    "duration": 242,
    "start_time": "2022-03-14T19:51:32.654Z"
   },
   {
    "duration": 18,
    "start_time": "2022-03-14T19:55:13.069Z"
   },
   {
    "duration": 33,
    "start_time": "2022-03-14T19:55:28.574Z"
   },
   {
    "duration": 22,
    "start_time": "2022-03-14T20:00:49.835Z"
   },
   {
    "duration": 24,
    "start_time": "2022-03-14T20:01:31.418Z"
   },
   {
    "duration": 11,
    "start_time": "2022-03-14T20:14:46.990Z"
   },
   {
    "duration": 28,
    "start_time": "2022-03-14T20:16:42.102Z"
   },
   {
    "duration": 19,
    "start_time": "2022-03-14T20:17:02.967Z"
   },
   {
    "duration": 10,
    "start_time": "2022-03-14T20:17:12.726Z"
   },
   {
    "duration": 20,
    "start_time": "2022-03-14T20:17:54.133Z"
   },
   {
    "duration": 14,
    "start_time": "2022-03-14T20:22:25.701Z"
   },
   {
    "duration": 4518,
    "start_time": "2022-03-14T20:23:09.920Z"
   },
   {
    "duration": 6122,
    "start_time": "2022-03-14T20:23:33.149Z"
   },
   {
    "duration": 30,
    "start_time": "2022-03-14T20:24:06.725Z"
   },
   {
    "duration": 8,
    "start_time": "2022-03-14T20:27:51.931Z"
   },
   {
    "duration": 8,
    "start_time": "2022-03-14T20:31:11.587Z"
   },
   {
    "duration": 10,
    "start_time": "2022-03-14T20:32:23.241Z"
   },
   {
    "duration": 177,
    "start_time": "2022-03-14T20:32:54.033Z"
   },
   {
    "duration": 2037,
    "start_time": "2022-03-14T20:33:02.225Z"
   },
   {
    "duration": 12,
    "start_time": "2022-03-14T20:34:25.369Z"
   },
   {
    "duration": 11,
    "start_time": "2022-03-14T20:35:51.258Z"
   },
   {
    "duration": 65,
    "start_time": "2022-03-14T20:36:03.554Z"
   },
   {
    "duration": 76,
    "start_time": "2022-03-14T20:36:08.722Z"
   },
   {
    "duration": 13,
    "start_time": "2022-03-14T20:36:13.921Z"
   },
   {
    "duration": 47,
    "start_time": "2022-03-19T19:10:09.921Z"
   },
   {
    "duration": 7,
    "start_time": "2022-03-19T19:10:14.562Z"
   },
   {
    "duration": 482,
    "start_time": "2022-03-19T19:10:28.920Z"
   },
   {
    "duration": 23,
    "start_time": "2022-03-19T19:10:29.404Z"
   },
   {
    "duration": 17,
    "start_time": "2022-03-19T19:10:29.429Z"
   },
   {
    "duration": 39,
    "start_time": "2022-03-19T19:10:29.448Z"
   },
   {
    "duration": 14,
    "start_time": "2022-03-19T19:10:29.489Z"
   },
   {
    "duration": 13,
    "start_time": "2022-03-19T19:22:21.577Z"
   },
   {
    "duration": 127,
    "start_time": "2022-03-19T19:22:34.398Z"
   },
   {
    "duration": 14,
    "start_time": "2022-03-19T19:22:57.654Z"
   },
   {
    "duration": 13,
    "start_time": "2022-03-19T19:25:02.854Z"
   },
   {
    "duration": 139,
    "start_time": "2022-03-19T19:44:43.914Z"
   },
   {
    "duration": 63,
    "start_time": "2022-03-19T19:44:56.835Z"
   },
   {
    "duration": 7,
    "start_time": "2022-03-19T19:45:09.476Z"
   },
   {
    "duration": 22,
    "start_time": "2022-03-19T19:45:19.578Z"
   },
   {
    "duration": 10,
    "start_time": "2022-03-19T19:46:02.972Z"
   },
   {
    "duration": 8,
    "start_time": "2022-03-19T20:00:46.281Z"
   },
   {
    "duration": 89,
    "start_time": "2022-03-19T20:00:55.010Z"
   },
   {
    "duration": 24,
    "start_time": "2022-03-19T20:00:55.101Z"
   },
   {
    "duration": 37,
    "start_time": "2022-03-19T20:00:55.127Z"
   },
   {
    "duration": 41,
    "start_time": "2022-03-19T20:00:55.166Z"
   },
   {
    "duration": 18,
    "start_time": "2022-03-19T20:00:55.209Z"
   },
   {
    "duration": 998,
    "start_time": "2022-03-19T20:27:38.682Z"
   },
   {
    "duration": 21,
    "start_time": "2022-03-19T20:29:05.249Z"
   },
   {
    "duration": 20,
    "start_time": "2022-03-19T20:29:07.457Z"
   },
   {
    "duration": 377,
    "start_time": "2022-03-19T20:29:28.031Z"
   },
   {
    "duration": 380,
    "start_time": "2022-03-19T20:30:53.879Z"
   },
   {
    "duration": 35,
    "start_time": "2022-03-19T20:31:31.345Z"
   },
   {
    "duration": 31,
    "start_time": "2022-03-19T20:31:53.250Z"
   },
   {
    "duration": 29,
    "start_time": "2022-03-19T20:32:01.017Z"
   },
   {
    "duration": 28,
    "start_time": "2022-03-19T20:32:11.793Z"
   },
   {
    "duration": 32,
    "start_time": "2022-03-19T20:32:26.425Z"
   },
   {
    "duration": 26,
    "start_time": "2022-03-19T20:32:37.450Z"
   },
   {
    "duration": 150,
    "start_time": "2022-03-19T20:33:54.013Z"
   },
   {
    "duration": 194,
    "start_time": "2022-03-19T20:34:11.087Z"
   },
   {
    "duration": 31,
    "start_time": "2022-03-19T20:34:26.687Z"
   },
   {
    "duration": 138,
    "start_time": "2022-03-19T20:34:36.161Z"
   },
   {
    "duration": 143,
    "start_time": "2022-03-19T20:35:16.655Z"
   },
   {
    "duration": 129,
    "start_time": "2022-03-19T20:35:22.608Z"
   },
   {
    "duration": 373,
    "start_time": "2022-03-19T20:36:09.981Z"
   },
   {
    "duration": 14,
    "start_time": "2022-03-19T20:41:06.046Z"
   },
   {
    "duration": 10,
    "start_time": "2022-03-19T20:41:49.159Z"
   },
   {
    "duration": 484,
    "start_time": "2022-03-19T20:48:43.916Z"
   },
   {
    "duration": 29,
    "start_time": "2022-03-19T20:48:44.403Z"
   },
   {
    "duration": 40,
    "start_time": "2022-03-19T20:48:44.434Z"
   },
   {
    "duration": 26,
    "start_time": "2022-03-19T20:48:44.477Z"
   },
   {
    "duration": 16,
    "start_time": "2022-03-19T20:48:44.505Z"
   },
   {
    "duration": 951,
    "start_time": "2022-03-19T20:48:44.523Z"
   },
   {
    "duration": 385,
    "start_time": "2022-03-19T20:54:17.700Z"
   },
   {
    "duration": 584,
    "start_time": "2022-03-19T20:54:38.770Z"
   },
   {
    "duration": 1199,
    "start_time": "2022-03-19T20:56:39.993Z"
   },
   {
    "duration": 711,
    "start_time": "2022-03-19T20:56:52.875Z"
   },
   {
    "duration": 13,
    "start_time": "2022-03-19T21:02:28.258Z"
   },
   {
    "duration": 13,
    "start_time": "2022-03-19T21:02:46.104Z"
   },
   {
    "duration": 406,
    "start_time": "2022-03-19T21:04:04.078Z"
   },
   {
    "duration": 368,
    "start_time": "2022-03-19T21:07:08.309Z"
   },
   {
    "duration": 403,
    "start_time": "2022-03-19T21:07:19.005Z"
   },
   {
    "duration": 539,
    "start_time": "2022-03-19T21:09:01.308Z"
   },
   {
    "duration": 396,
    "start_time": "2022-03-19T21:11:24.628Z"
   },
   {
    "duration": 26,
    "start_time": "2022-03-19T21:15:12.443Z"
   },
   {
    "duration": 25,
    "start_time": "2022-03-19T21:16:16.400Z"
   },
   {
    "duration": 2,
    "start_time": "2022-03-19T21:17:59.061Z"
   },
   {
    "duration": 2742,
    "start_time": "2022-03-19T21:20:44.130Z"
   },
   {
    "duration": 9,
    "start_time": "2022-03-19T21:21:16.065Z"
   },
   {
    "duration": 10,
    "start_time": "2022-03-19T21:21:46.322Z"
   },
   {
    "duration": 3,
    "start_time": "2022-03-19T21:24:30.153Z"
   },
   {
    "duration": 132,
    "start_time": "2022-03-19T21:24:49.753Z"
   },
   {
    "duration": 138,
    "start_time": "2022-03-19T21:31:16.431Z"
   },
   {
    "duration": 141,
    "start_time": "2022-03-19T21:31:43.857Z"
   },
   {
    "duration": 1554,
    "start_time": "2022-03-19T21:37:38.145Z"
   },
   {
    "duration": 1670,
    "start_time": "2022-03-19T21:38:24.846Z"
   },
   {
    "duration": 1283,
    "start_time": "2022-03-19T21:39:48.893Z"
   },
   {
    "duration": 2860,
    "start_time": "2022-03-19T21:41:16.898Z"
   },
   {
    "duration": 2572,
    "start_time": "2022-03-19T21:41:45.621Z"
   },
   {
    "duration": 151,
    "start_time": "2022-03-19T21:42:32.220Z"
   },
   {
    "duration": 31,
    "start_time": "2022-03-19T21:42:57.421Z"
   },
   {
    "duration": 34,
    "start_time": "2022-03-19T21:44:28.879Z"
   },
   {
    "duration": 38,
    "start_time": "2022-03-19T21:44:39.463Z"
   },
   {
    "duration": 19,
    "start_time": "2022-03-19T21:45:06.951Z"
   },
   {
    "duration": 19,
    "start_time": "2022-03-19T21:47:53.307Z"
   },
   {
    "duration": 152,
    "start_time": "2022-03-19T21:49:37.178Z"
   },
   {
    "duration": 19,
    "start_time": "2022-03-19T21:49:55.195Z"
   },
   {
    "duration": 19,
    "start_time": "2022-03-19T21:51:47.650Z"
   },
   {
    "duration": 22,
    "start_time": "2022-03-19T21:53:59.010Z"
   },
   {
    "duration": 81,
    "start_time": "2022-03-19T21:54:07.466Z"
   },
   {
    "duration": 33,
    "start_time": "2022-03-19T21:54:07.549Z"
   },
   {
    "duration": 17,
    "start_time": "2022-03-19T21:54:07.584Z"
   },
   {
    "duration": 26,
    "start_time": "2022-03-19T21:54:07.603Z"
   },
   {
    "duration": 48,
    "start_time": "2022-03-19T21:54:07.631Z"
   },
   {
    "duration": 590,
    "start_time": "2022-03-19T21:54:07.681Z"
   },
   {
    "duration": 609,
    "start_time": "2022-03-19T21:54:08.273Z"
   },
   {
    "duration": 632,
    "start_time": "2022-03-19T21:54:08.884Z"
   },
   {
    "duration": 644,
    "start_time": "2022-03-19T21:55:19.145Z"
   },
   {
    "duration": 118,
    "start_time": "2022-03-19T21:55:30.678Z"
   },
   {
    "duration": 24,
    "start_time": "2022-03-19T21:55:30.799Z"
   },
   {
    "duration": 39,
    "start_time": "2022-03-19T21:55:30.824Z"
   },
   {
    "duration": 29,
    "start_time": "2022-03-19T21:55:30.866Z"
   },
   {
    "duration": 22,
    "start_time": "2022-03-19T21:55:30.897Z"
   },
   {
    "duration": 606,
    "start_time": "2022-03-19T21:55:30.921Z"
   },
   {
    "duration": 614,
    "start_time": "2022-03-19T21:55:31.529Z"
   },
   {
    "duration": 604,
    "start_time": "2022-03-19T21:55:32.146Z"
   },
   {
    "duration": 567,
    "start_time": "2022-03-19T21:55:32.752Z"
   },
   {
    "duration": 23,
    "start_time": "2022-03-19T21:56:23.586Z"
   },
   {
    "duration": 37,
    "start_time": "2022-03-19T21:57:08.373Z"
   },
   {
    "duration": 26,
    "start_time": "2022-03-19T21:57:33.212Z"
   },
   {
    "duration": 29,
    "start_time": "2022-03-19T21:58:00.515Z"
   },
   {
    "duration": 17,
    "start_time": "2022-03-19T21:59:03.172Z"
   },
   {
    "duration": 316,
    "start_time": "2022-03-19T21:59:26.367Z"
   },
   {
    "duration": 27,
    "start_time": "2022-03-19T22:00:28.353Z"
   },
   {
    "duration": 28,
    "start_time": "2022-03-19T22:00:43.042Z"
   },
   {
    "duration": 28,
    "start_time": "2022-03-19T22:04:32.883Z"
   },
   {
    "duration": 136,
    "start_time": "2022-03-19T22:08:25.561Z"
   },
   {
    "duration": 133,
    "start_time": "2022-03-19T22:08:31.990Z"
   },
   {
    "duration": 8,
    "start_time": "2022-03-19T22:08:38.424Z"
   },
   {
    "duration": 6,
    "start_time": "2022-03-19T22:09:02.870Z"
   },
   {
    "duration": 5,
    "start_time": "2022-03-19T22:09:27.246Z"
   },
   {
    "duration": 6,
    "start_time": "2022-03-19T22:10:25.368Z"
   },
   {
    "duration": 4,
    "start_time": "2022-03-19T22:10:33.001Z"
   },
   {
    "duration": 143,
    "start_time": "2022-03-19T22:19:10.517Z"
   },
   {
    "duration": 7,
    "start_time": "2022-03-19T22:19:15.902Z"
   },
   {
    "duration": 9,
    "start_time": "2022-03-19T22:19:48.468Z"
   },
   {
    "duration": 13,
    "start_time": "2022-03-19T22:20:09.364Z"
   },
   {
    "duration": 11,
    "start_time": "2022-03-19T22:24:39.140Z"
   },
   {
    "duration": 24,
    "start_time": "2022-03-19T22:24:43.380Z"
   },
   {
    "duration": 25,
    "start_time": "2022-03-19T22:25:12.604Z"
   },
   {
    "duration": 72,
    "start_time": "2022-03-20T09:36:34.517Z"
   },
   {
    "duration": 620,
    "start_time": "2022-03-20T09:36:39.984Z"
   },
   {
    "duration": 38,
    "start_time": "2022-03-20T09:36:40.606Z"
   },
   {
    "duration": 44,
    "start_time": "2022-03-20T09:36:40.646Z"
   },
   {
    "duration": 35,
    "start_time": "2022-03-20T09:36:40.693Z"
   },
   {
    "duration": 17,
    "start_time": "2022-03-20T09:36:40.730Z"
   },
   {
    "duration": 1913,
    "start_time": "2022-03-20T09:36:40.773Z"
   },
   {
    "duration": 727,
    "start_time": "2022-03-20T09:36:42.688Z"
   },
   {
    "duration": 561,
    "start_time": "2022-03-20T09:36:43.417Z"
   },
   {
    "duration": 44,
    "start_time": "2022-03-20T09:36:43.980Z"
   },
   {
    "duration": 7,
    "start_time": "2022-03-20T09:36:44.027Z"
   },
   {
    "duration": 49,
    "start_time": "2022-03-20T09:36:44.036Z"
   },
   {
    "duration": 45,
    "start_time": "2022-03-20T09:36:44.087Z"
   },
   {
    "duration": 5,
    "start_time": "2022-03-20T09:36:44.134Z"
   },
   {
    "duration": 23,
    "start_time": "2022-03-20T09:37:17.858Z"
   },
   {
    "duration": 10,
    "start_time": "2022-03-20T09:40:54.503Z"
   },
   {
    "duration": 109,
    "start_time": "2022-03-20T09:41:32.185Z"
   },
   {
    "duration": 10,
    "start_time": "2022-03-20T09:42:20.302Z"
   },
   {
    "duration": 15,
    "start_time": "2022-03-20T09:43:40.983Z"
   },
   {
    "duration": 21,
    "start_time": "2022-03-20T09:44:00.902Z"
   },
   {
    "duration": 32,
    "start_time": "2022-03-20T09:45:03.059Z"
   },
   {
    "duration": 24,
    "start_time": "2022-03-20T09:45:49.265Z"
   },
   {
    "duration": 25,
    "start_time": "2022-03-20T09:46:04.895Z"
   },
   {
    "duration": 10,
    "start_time": "2022-03-20T09:55:35.956Z"
   },
   {
    "duration": 532,
    "start_time": "2022-03-20T09:56:18.523Z"
   },
   {
    "duration": 30,
    "start_time": "2022-03-20T09:56:49.171Z"
   },
   {
    "duration": 29,
    "start_time": "2022-03-20T09:56:55.301Z"
   },
   {
    "duration": 473,
    "start_time": "2022-03-20T09:57:50.523Z"
   },
   {
    "duration": 34,
    "start_time": "2022-03-20T10:08:49.514Z"
   },
   {
    "duration": 15,
    "start_time": "2022-03-20T10:09:27.201Z"
   },
   {
    "duration": 13,
    "start_time": "2022-03-20T10:11:32.376Z"
   },
   {
    "duration": 8,
    "start_time": "2022-03-20T10:11:55.672Z"
   },
   {
    "duration": 16,
    "start_time": "2022-03-20T10:14:32.624Z"
   },
   {
    "duration": 411,
    "start_time": "2022-03-20T10:14:51.599Z"
   },
   {
    "duration": 21,
    "start_time": "2022-03-20T10:15:04.090Z"
   },
   {
    "duration": 20,
    "start_time": "2022-03-20T10:15:32.663Z"
   },
   {
    "duration": 19,
    "start_time": "2022-03-20T10:18:04.352Z"
   },
   {
    "duration": 5,
    "start_time": "2022-03-20T10:18:21.319Z"
   },
   {
    "duration": 10,
    "start_time": "2022-03-20T10:18:30.814Z"
   },
   {
    "duration": 9,
    "start_time": "2022-03-20T10:21:07.071Z"
   },
   {
    "duration": 8,
    "start_time": "2022-03-20T10:21:32.294Z"
   },
   {
    "duration": 27,
    "start_time": "2022-03-20T10:22:16.813Z"
   },
   {
    "duration": 28,
    "start_time": "2022-03-20T10:22:32.800Z"
   },
   {
    "duration": 27,
    "start_time": "2022-03-20T10:22:41.374Z"
   },
   {
    "duration": 112,
    "start_time": "2022-03-20T10:23:06.282Z"
   },
   {
    "duration": 38,
    "start_time": "2022-03-20T10:23:06.396Z"
   },
   {
    "duration": 45,
    "start_time": "2022-03-20T10:23:06.436Z"
   },
   {
    "duration": 33,
    "start_time": "2022-03-20T10:23:06.484Z"
   },
   {
    "duration": 16,
    "start_time": "2022-03-20T10:23:06.519Z"
   },
   {
    "duration": 726,
    "start_time": "2022-03-20T10:23:06.538Z"
   },
   {
    "duration": 754,
    "start_time": "2022-03-20T10:23:07.275Z"
   },
   {
    "duration": 578,
    "start_time": "2022-03-20T10:23:08.032Z"
   },
   {
    "duration": 32,
    "start_time": "2022-03-20T10:23:08.613Z"
   },
   {
    "duration": 28,
    "start_time": "2022-03-20T10:23:08.650Z"
   },
   {
    "duration": 20,
    "start_time": "2022-03-20T10:23:08.681Z"
   },
   {
    "duration": 25,
    "start_time": "2022-03-20T10:23:08.703Z"
   },
   {
    "duration": 7,
    "start_time": "2022-03-20T10:23:08.730Z"
   },
   {
    "duration": 10,
    "start_time": "2022-03-20T10:23:08.774Z"
   },
   {
    "duration": 590,
    "start_time": "2022-03-20T10:23:08.786Z"
   },
   {
    "duration": 29,
    "start_time": "2022-03-20T10:23:09.379Z"
   },
   {
    "duration": 107,
    "start_time": "2022-03-20T10:23:33.153Z"
   },
   {
    "duration": 38,
    "start_time": "2022-03-20T10:23:33.274Z"
   },
   {
    "duration": 25,
    "start_time": "2022-03-20T10:23:33.314Z"
   },
   {
    "duration": 57,
    "start_time": "2022-03-20T10:23:33.342Z"
   },
   {
    "duration": 16,
    "start_time": "2022-03-20T10:23:33.401Z"
   },
   {
    "duration": 712,
    "start_time": "2022-03-20T10:23:33.419Z"
   },
   {
    "duration": 789,
    "start_time": "2022-03-20T10:23:34.133Z"
   },
   {
    "duration": 557,
    "start_time": "2022-03-20T10:23:34.925Z"
   },
   {
    "duration": 31,
    "start_time": "2022-03-20T10:23:35.484Z"
   },
   {
    "duration": 9,
    "start_time": "2022-03-20T10:23:35.518Z"
   },
   {
    "duration": 50,
    "start_time": "2022-03-20T10:23:35.529Z"
   },
   {
    "duration": 23,
    "start_time": "2022-03-20T10:23:35.581Z"
   },
   {
    "duration": 8,
    "start_time": "2022-03-20T10:23:35.606Z"
   },
   {
    "duration": 11,
    "start_time": "2022-03-20T10:23:35.616Z"
   },
   {
    "duration": 520,
    "start_time": "2022-03-20T10:23:35.629Z"
   },
   {
    "duration": 33,
    "start_time": "2022-03-20T10:23:36.151Z"
   },
   {
    "duration": 7,
    "start_time": "2022-03-20T10:25:13.510Z"
   },
   {
    "duration": 21,
    "start_time": "2022-03-20T10:25:55.189Z"
   },
   {
    "duration": 467,
    "start_time": "2022-03-20T10:26:57.892Z"
   },
   {
    "duration": 114,
    "start_time": "2022-03-20T10:27:08.449Z"
   },
   {
    "duration": 44,
    "start_time": "2022-03-20T10:27:08.566Z"
   },
   {
    "duration": 43,
    "start_time": "2022-03-20T10:27:08.612Z"
   },
   {
    "duration": 42,
    "start_time": "2022-03-20T10:27:08.659Z"
   },
   {
    "duration": 33,
    "start_time": "2022-03-20T10:27:08.703Z"
   },
   {
    "duration": 713,
    "start_time": "2022-03-20T10:27:08.738Z"
   },
   {
    "duration": 728,
    "start_time": "2022-03-20T10:27:09.454Z"
   },
   {
    "duration": 545,
    "start_time": "2022-03-20T10:27:10.185Z"
   },
   {
    "duration": 43,
    "start_time": "2022-03-20T10:27:10.733Z"
   },
   {
    "duration": 8,
    "start_time": "2022-03-20T10:27:10.781Z"
   },
   {
    "duration": 32,
    "start_time": "2022-03-20T10:27:10.792Z"
   },
   {
    "duration": 46,
    "start_time": "2022-03-20T10:27:10.827Z"
   },
   {
    "duration": 8,
    "start_time": "2022-03-20T10:27:10.876Z"
   },
   {
    "duration": 25,
    "start_time": "2022-03-20T10:27:10.886Z"
   },
   {
    "duration": 489,
    "start_time": "2022-03-20T10:27:10.914Z"
   },
   {
    "duration": 441,
    "start_time": "2022-03-20T10:27:11.406Z"
   },
   {
    "duration": 36,
    "start_time": "2022-03-20T10:28:32.460Z"
   },
   {
    "duration": 36,
    "start_time": "2022-03-20T10:33:47.747Z"
   },
   {
    "duration": 23,
    "start_time": "2022-03-20T10:36:23.227Z"
   },
   {
    "duration": 24,
    "start_time": "2022-03-20T10:37:45.163Z"
   },
   {
    "duration": 32,
    "start_time": "2022-03-20T10:39:02.682Z"
   },
   {
    "duration": 21,
    "start_time": "2022-03-20T10:40:27.835Z"
   },
   {
    "duration": 7,
    "start_time": "2022-03-20T10:41:00.554Z"
   },
   {
    "duration": 17,
    "start_time": "2022-03-20T10:45:01.082Z"
   },
   {
    "duration": 17,
    "start_time": "2022-03-20T10:47:34.664Z"
   },
   {
    "duration": 16,
    "start_time": "2022-03-20T10:47:37.351Z"
   },
   {
    "duration": 112,
    "start_time": "2022-03-20T10:47:40.963Z"
   },
   {
    "duration": 37,
    "start_time": "2022-03-20T10:47:41.077Z"
   },
   {
    "duration": 26,
    "start_time": "2022-03-20T10:47:41.117Z"
   },
   {
    "duration": 61,
    "start_time": "2022-03-20T10:47:41.146Z"
   },
   {
    "duration": 16,
    "start_time": "2022-03-20T10:47:41.209Z"
   },
   {
    "duration": 705,
    "start_time": "2022-03-20T10:47:41.228Z"
   },
   {
    "duration": 705,
    "start_time": "2022-03-20T10:47:41.935Z"
   },
   {
    "duration": 607,
    "start_time": "2022-03-20T10:47:42.642Z"
   },
   {
    "duration": 35,
    "start_time": "2022-03-20T10:47:43.251Z"
   },
   {
    "duration": 7,
    "start_time": "2022-03-20T10:47:43.290Z"
   },
   {
    "duration": 19,
    "start_time": "2022-03-20T10:47:43.300Z"
   },
   {
    "duration": 27,
    "start_time": "2022-03-20T10:47:43.322Z"
   },
   {
    "duration": 7,
    "start_time": "2022-03-20T10:47:43.351Z"
   },
   {
    "duration": 22,
    "start_time": "2022-03-20T10:47:43.360Z"
   },
   {
    "duration": 574,
    "start_time": "2022-03-20T10:47:43.385Z"
   },
   {
    "duration": 22,
    "start_time": "2022-03-20T10:47:43.961Z"
   },
   {
    "duration": 15,
    "start_time": "2022-03-20T10:49:34.831Z"
   },
   {
    "duration": 13,
    "start_time": "2022-03-20T10:49:43.942Z"
   },
   {
    "duration": 9,
    "start_time": "2022-03-20T10:50:04.328Z"
   },
   {
    "duration": 23,
    "start_time": "2022-03-20T10:50:35.432Z"
   },
   {
    "duration": 6,
    "start_time": "2022-03-20T10:52:28.662Z"
   },
   {
    "duration": 35,
    "start_time": "2022-03-20T10:52:36.214Z"
   },
   {
    "duration": 107,
    "start_time": "2022-03-20T10:52:41.717Z"
   },
   {
    "duration": 55,
    "start_time": "2022-03-20T10:52:41.826Z"
   },
   {
    "duration": 26,
    "start_time": "2022-03-20T10:52:41.883Z"
   },
   {
    "duration": 66,
    "start_time": "2022-03-20T10:52:41.913Z"
   },
   {
    "duration": 17,
    "start_time": "2022-03-20T10:52:41.982Z"
   },
   {
    "duration": 698,
    "start_time": "2022-03-20T10:52:42.001Z"
   },
   {
    "duration": 727,
    "start_time": "2022-03-20T10:52:42.702Z"
   },
   {
    "duration": 611,
    "start_time": "2022-03-20T10:52:43.431Z"
   },
   {
    "duration": 43,
    "start_time": "2022-03-20T10:52:44.044Z"
   },
   {
    "duration": 7,
    "start_time": "2022-03-20T10:52:44.091Z"
   },
   {
    "duration": 24,
    "start_time": "2022-03-20T10:52:44.101Z"
   },
   {
    "duration": 53,
    "start_time": "2022-03-20T10:52:44.128Z"
   },
   {
    "duration": 7,
    "start_time": "2022-03-20T10:52:44.183Z"
   },
   {
    "duration": 10,
    "start_time": "2022-03-20T10:52:44.192Z"
   },
   {
    "duration": 628,
    "start_time": "2022-03-20T10:52:44.205Z"
   },
   {
    "duration": 41,
    "start_time": "2022-03-20T10:52:44.836Z"
   },
   {
    "duration": 113,
    "start_time": "2022-03-20T10:53:23.118Z"
   },
   {
    "duration": 46,
    "start_time": "2022-03-20T10:53:23.233Z"
   },
   {
    "duration": 25,
    "start_time": "2022-03-20T10:53:23.282Z"
   },
   {
    "duration": 67,
    "start_time": "2022-03-20T10:53:23.310Z"
   },
   {
    "duration": 18,
    "start_time": "2022-03-20T10:53:23.380Z"
   },
   {
    "duration": 821,
    "start_time": "2022-03-20T10:53:23.401Z"
   },
   {
    "duration": 726,
    "start_time": "2022-03-20T10:53:24.224Z"
   },
   {
    "duration": 535,
    "start_time": "2022-03-20T10:53:24.952Z"
   },
   {
    "duration": 30,
    "start_time": "2022-03-20T10:53:25.490Z"
   },
   {
    "duration": 7,
    "start_time": "2022-03-20T10:53:25.523Z"
   },
   {
    "duration": 49,
    "start_time": "2022-03-20T10:53:25.532Z"
   },
   {
    "duration": 25,
    "start_time": "2022-03-20T10:53:25.583Z"
   },
   {
    "duration": 7,
    "start_time": "2022-03-20T10:53:25.610Z"
   },
   {
    "duration": 9,
    "start_time": "2022-03-20T10:53:25.619Z"
   },
   {
    "duration": 524,
    "start_time": "2022-03-20T10:53:25.630Z"
   },
   {
    "duration": 17,
    "start_time": "2022-03-20T10:53:26.157Z"
   },
   {
    "duration": 24,
    "start_time": "2022-03-20T10:54:47.318Z"
   },
   {
    "duration": 6,
    "start_time": "2022-03-20T10:55:03.662Z"
   },
   {
    "duration": 29,
    "start_time": "2022-03-20T10:55:17.478Z"
   },
   {
    "duration": 109,
    "start_time": "2022-03-20T10:55:35.549Z"
   },
   {
    "duration": 45,
    "start_time": "2022-03-20T10:55:35.661Z"
   },
   {
    "duration": 26,
    "start_time": "2022-03-20T10:55:35.708Z"
   },
   {
    "duration": 60,
    "start_time": "2022-03-20T10:55:35.738Z"
   },
   {
    "duration": 15,
    "start_time": "2022-03-20T10:55:35.801Z"
   },
   {
    "duration": 742,
    "start_time": "2022-03-20T10:55:35.819Z"
   },
   {
    "duration": 768,
    "start_time": "2022-03-20T10:55:36.563Z"
   },
   {
    "duration": 569,
    "start_time": "2022-03-20T10:55:37.333Z"
   },
   {
    "duration": 31,
    "start_time": "2022-03-20T10:55:37.904Z"
   },
   {
    "duration": 7,
    "start_time": "2022-03-20T10:55:37.939Z"
   },
   {
    "duration": 19,
    "start_time": "2022-03-20T10:55:37.975Z"
   },
   {
    "duration": 23,
    "start_time": "2022-03-20T10:55:37.996Z"
   },
   {
    "duration": 8,
    "start_time": "2022-03-20T10:55:38.021Z"
   },
   {
    "duration": 45,
    "start_time": "2022-03-20T10:55:38.031Z"
   },
   {
    "duration": 499,
    "start_time": "2022-03-20T10:55:38.078Z"
   },
   {
    "duration": 29,
    "start_time": "2022-03-20T10:55:38.579Z"
   },
   {
    "duration": 36,
    "start_time": "2022-03-20T10:56:09.169Z"
   },
   {
    "duration": 17,
    "start_time": "2022-03-20T10:57:42.512Z"
   },
   {
    "duration": 117,
    "start_time": "2022-03-20T11:06:54.971Z"
   },
   {
    "duration": 37,
    "start_time": "2022-03-20T11:06:55.091Z"
   },
   {
    "duration": 48,
    "start_time": "2022-03-20T11:06:55.130Z"
   },
   {
    "duration": 33,
    "start_time": "2022-03-20T11:06:55.182Z"
   },
   {
    "duration": 26,
    "start_time": "2022-03-20T11:06:55.218Z"
   },
   {
    "duration": 693,
    "start_time": "2022-03-20T11:06:55.246Z"
   },
   {
    "duration": 717,
    "start_time": "2022-03-20T11:06:55.941Z"
   },
   {
    "duration": 556,
    "start_time": "2022-03-20T11:06:56.661Z"
   },
   {
    "duration": 30,
    "start_time": "2022-03-20T11:06:57.220Z"
   },
   {
    "duration": 23,
    "start_time": "2022-03-20T11:06:57.254Z"
   },
   {
    "duration": 21,
    "start_time": "2022-03-20T11:06:57.279Z"
   },
   {
    "duration": 26,
    "start_time": "2022-03-20T11:06:57.303Z"
   },
   {
    "duration": 8,
    "start_time": "2022-03-20T11:06:57.332Z"
   },
   {
    "duration": 12,
    "start_time": "2022-03-20T11:06:57.375Z"
   },
   {
    "duration": 499,
    "start_time": "2022-03-20T11:06:57.390Z"
   },
   {
    "duration": 22,
    "start_time": "2022-03-20T11:06:57.892Z"
   },
   {
    "duration": 24,
    "start_time": "2022-03-20T11:07:52.188Z"
   },
   {
    "duration": 122,
    "start_time": "2022-03-20T11:08:26.739Z"
   },
   {
    "duration": 37,
    "start_time": "2022-03-20T11:08:26.873Z"
   },
   {
    "duration": 39,
    "start_time": "2022-03-20T11:08:26.913Z"
   },
   {
    "duration": 48,
    "start_time": "2022-03-20T11:08:26.955Z"
   },
   {
    "duration": 15,
    "start_time": "2022-03-20T11:08:27.005Z"
   },
   {
    "duration": 707,
    "start_time": "2022-03-20T11:08:27.022Z"
   },
   {
    "duration": 716,
    "start_time": "2022-03-20T11:08:27.731Z"
   },
   {
    "duration": 562,
    "start_time": "2022-03-20T11:08:28.450Z"
   },
   {
    "duration": 31,
    "start_time": "2022-03-20T11:08:29.014Z"
   },
   {
    "duration": 28,
    "start_time": "2022-03-20T11:08:29.049Z"
   },
   {
    "duration": 19,
    "start_time": "2022-03-20T11:08:29.079Z"
   },
   {
    "duration": 22,
    "start_time": "2022-03-20T11:08:29.101Z"
   },
   {
    "duration": 8,
    "start_time": "2022-03-20T11:08:29.125Z"
   },
   {
    "duration": 47,
    "start_time": "2022-03-20T11:08:29.135Z"
   },
   {
    "duration": 530,
    "start_time": "2022-03-20T11:08:29.185Z"
   },
   {
    "duration": 24,
    "start_time": "2022-03-20T11:08:29.717Z"
   },
   {
    "duration": 36,
    "start_time": "2022-03-20T11:10:07.219Z"
   },
   {
    "duration": 110,
    "start_time": "2022-03-20T11:10:10.722Z"
   },
   {
    "duration": 51,
    "start_time": "2022-03-20T11:10:10.835Z"
   },
   {
    "duration": 29,
    "start_time": "2022-03-20T11:10:10.889Z"
   },
   {
    "duration": 60,
    "start_time": "2022-03-20T11:10:10.920Z"
   },
   {
    "duration": 16,
    "start_time": "2022-03-20T11:10:10.982Z"
   },
   {
    "duration": 692,
    "start_time": "2022-03-20T11:10:11.000Z"
   },
   {
    "duration": 840,
    "start_time": "2022-03-20T11:10:11.694Z"
   },
   {
    "duration": 547,
    "start_time": "2022-03-20T11:10:12.536Z"
   },
   {
    "duration": 32,
    "start_time": "2022-03-20T11:10:13.085Z"
   },
   {
    "duration": 8,
    "start_time": "2022-03-20T11:10:13.121Z"
   },
   {
    "duration": 56,
    "start_time": "2022-03-20T11:10:13.131Z"
   },
   {
    "duration": 32,
    "start_time": "2022-03-20T11:10:13.189Z"
   },
   {
    "duration": 8,
    "start_time": "2022-03-20T11:10:13.224Z"
   },
   {
    "duration": 9,
    "start_time": "2022-03-20T11:10:13.234Z"
   },
   {
    "duration": 499,
    "start_time": "2022-03-20T11:10:13.246Z"
   },
   {
    "duration": 48,
    "start_time": "2022-03-20T11:10:13.748Z"
   },
   {
    "duration": 24,
    "start_time": "2022-03-20T11:13:43.870Z"
   },
   {
    "duration": 110,
    "start_time": "2022-03-20T11:13:48.233Z"
   },
   {
    "duration": 48,
    "start_time": "2022-03-20T11:13:48.346Z"
   },
   {
    "duration": 28,
    "start_time": "2022-03-20T11:13:48.396Z"
   },
   {
    "duration": 55,
    "start_time": "2022-03-20T11:13:48.427Z"
   },
   {
    "duration": 16,
    "start_time": "2022-03-20T11:13:48.484Z"
   },
   {
    "duration": 716,
    "start_time": "2022-03-20T11:13:48.502Z"
   },
   {
    "duration": 711,
    "start_time": "2022-03-20T11:13:49.221Z"
   },
   {
    "duration": 563,
    "start_time": "2022-03-20T11:13:49.934Z"
   },
   {
    "duration": 31,
    "start_time": "2022-03-20T11:13:50.499Z"
   },
   {
    "duration": 8,
    "start_time": "2022-03-20T11:13:50.533Z"
   },
   {
    "duration": 44,
    "start_time": "2022-03-20T11:13:50.543Z"
   },
   {
    "duration": 25,
    "start_time": "2022-03-20T11:13:50.589Z"
   },
   {
    "duration": 8,
    "start_time": "2022-03-20T11:13:50.616Z"
   },
   {
    "duration": 11,
    "start_time": "2022-03-20T11:13:50.626Z"
   },
   {
    "duration": 525,
    "start_time": "2022-03-20T11:13:50.639Z"
   },
   {
    "duration": 28,
    "start_time": "2022-03-20T11:13:51.166Z"
   },
   {
    "duration": 108,
    "start_time": "2022-03-20T11:14:20.482Z"
   },
   {
    "duration": 39,
    "start_time": "2022-03-20T11:14:20.592Z"
   },
   {
    "duration": 50,
    "start_time": "2022-03-20T11:14:20.633Z"
   },
   {
    "duration": 34,
    "start_time": "2022-03-20T11:14:20.685Z"
   },
   {
    "duration": 16,
    "start_time": "2022-03-20T11:14:20.722Z"
   },
   {
    "duration": 718,
    "start_time": "2022-03-20T11:14:20.740Z"
   },
   {
    "duration": 726,
    "start_time": "2022-03-20T11:14:21.461Z"
   },
   {
    "duration": 547,
    "start_time": "2022-03-20T11:14:22.189Z"
   },
   {
    "duration": 43,
    "start_time": "2022-03-20T11:14:22.739Z"
   },
   {
    "duration": 7,
    "start_time": "2022-03-20T11:14:22.785Z"
   },
   {
    "duration": 22,
    "start_time": "2022-03-20T11:14:22.795Z"
   },
   {
    "duration": 24,
    "start_time": "2022-03-20T11:14:22.819Z"
   },
   {
    "duration": 8,
    "start_time": "2022-03-20T11:14:22.874Z"
   },
   {
    "duration": 9,
    "start_time": "2022-03-20T11:14:22.885Z"
   },
   {
    "duration": 500,
    "start_time": "2022-03-20T11:14:22.896Z"
   },
   {
    "duration": 22,
    "start_time": "2022-03-20T11:14:23.399Z"
   },
   {
    "duration": 34,
    "start_time": "2022-03-20T11:15:01.025Z"
   },
   {
    "duration": 33,
    "start_time": "2022-03-20T11:17:00.124Z"
   },
   {
    "duration": 6,
    "start_time": "2022-03-20T11:17:25.897Z"
   },
   {
    "duration": 14,
    "start_time": "2022-03-20T11:17:46.361Z"
   },
   {
    "duration": 18,
    "start_time": "2022-03-20T11:18:04.872Z"
   },
   {
    "duration": 33,
    "start_time": "2022-03-20T11:18:32.392Z"
   },
   {
    "duration": 6,
    "start_time": "2022-03-20T11:19:42.481Z"
   },
   {
    "duration": 31,
    "start_time": "2022-03-20T11:19:52.568Z"
   },
   {
    "duration": 6,
    "start_time": "2022-03-20T11:20:31.217Z"
   },
   {
    "duration": 1191,
    "start_time": "2022-03-20T11:20:37.424Z"
   },
   {
    "duration": 116,
    "start_time": "2022-03-20T11:20:43.680Z"
   },
   {
    "duration": 39,
    "start_time": "2022-03-20T11:20:43.799Z"
   },
   {
    "duration": 55,
    "start_time": "2022-03-20T11:20:43.841Z"
   },
   {
    "duration": 37,
    "start_time": "2022-03-20T11:20:43.900Z"
   },
   {
    "duration": 36,
    "start_time": "2022-03-20T11:20:43.940Z"
   },
   {
    "duration": 715,
    "start_time": "2022-03-20T11:20:43.979Z"
   },
   {
    "duration": 1218,
    "start_time": "2022-03-20T11:20:44.697Z"
   },
   {
    "duration": 887,
    "start_time": "2022-03-20T11:20:45.918Z"
   },
   {
    "duration": 30,
    "start_time": "2022-03-20T11:20:46.807Z"
   },
   {
    "duration": 8,
    "start_time": "2022-03-20T11:20:46.840Z"
   },
   {
    "duration": 20,
    "start_time": "2022-03-20T11:20:46.873Z"
   },
   {
    "duration": 27,
    "start_time": "2022-03-20T11:20:46.895Z"
   },
   {
    "duration": 8,
    "start_time": "2022-03-20T11:20:46.924Z"
   },
   {
    "duration": 41,
    "start_time": "2022-03-20T11:20:46.935Z"
   },
   {
    "duration": 490,
    "start_time": "2022-03-20T11:20:46.978Z"
   },
   {
    "duration": 9,
    "start_time": "2022-03-20T11:20:47.473Z"
   },
   {
    "duration": 1141,
    "start_time": "2022-03-20T11:21:09.296Z"
   },
   {
    "duration": 1109,
    "start_time": "2022-03-20T11:23:26.193Z"
   },
   {
    "duration": 1330,
    "start_time": "2022-03-20T11:23:36.832Z"
   },
   {
    "duration": 1202,
    "start_time": "2022-03-20T11:23:53.440Z"
   },
   {
    "duration": 109,
    "start_time": "2022-03-20T11:24:01.030Z"
   },
   {
    "duration": 44,
    "start_time": "2022-03-20T11:24:01.142Z"
   },
   {
    "duration": 24,
    "start_time": "2022-03-20T11:24:01.188Z"
   },
   {
    "duration": 68,
    "start_time": "2022-03-20T11:24:01.216Z"
   },
   {
    "duration": 16,
    "start_time": "2022-03-20T11:24:01.286Z"
   },
   {
    "duration": 754,
    "start_time": "2022-03-20T11:24:01.305Z"
   },
   {
    "duration": 719,
    "start_time": "2022-03-20T11:24:02.062Z"
   },
   {
    "duration": 569,
    "start_time": "2022-03-20T11:24:02.783Z"
   },
   {
    "duration": 43,
    "start_time": "2022-03-20T11:24:03.354Z"
   },
   {
    "duration": 7,
    "start_time": "2022-03-20T11:24:03.400Z"
   },
   {
    "duration": 32,
    "start_time": "2022-03-20T11:24:03.410Z"
   },
   {
    "duration": 40,
    "start_time": "2022-03-20T11:24:03.445Z"
   },
   {
    "duration": 8,
    "start_time": "2022-03-20T11:24:03.487Z"
   },
   {
    "duration": 14,
    "start_time": "2022-03-20T11:24:03.497Z"
   },
   {
    "duration": 496,
    "start_time": "2022-03-20T11:24:03.514Z"
   },
   {
    "duration": 9,
    "start_time": "2022-03-20T11:24:04.012Z"
   },
   {
    "duration": 111,
    "start_time": "2022-03-20T11:24:28.791Z"
   },
   {
    "duration": 38,
    "start_time": "2022-03-20T11:24:28.905Z"
   },
   {
    "duration": 43,
    "start_time": "2022-03-20T11:24:28.945Z"
   },
   {
    "duration": 34,
    "start_time": "2022-03-20T11:24:28.991Z"
   },
   {
    "duration": 18,
    "start_time": "2022-03-20T11:24:29.027Z"
   },
   {
    "duration": 751,
    "start_time": "2022-03-20T11:24:29.074Z"
   },
   {
    "duration": 1409,
    "start_time": "2022-03-20T11:24:29.827Z"
   },
   {
    "duration": 962,
    "start_time": "2022-03-20T11:24:31.240Z"
   },
   {
    "duration": 46,
    "start_time": "2022-03-20T11:24:32.205Z"
   },
   {
    "duration": 10,
    "start_time": "2022-03-20T11:24:32.275Z"
   },
   {
    "duration": 31,
    "start_time": "2022-03-20T11:24:32.287Z"
   },
   {
    "duration": 41,
    "start_time": "2022-03-20T11:24:32.320Z"
   },
   {
    "duration": 18,
    "start_time": "2022-03-20T11:24:32.364Z"
   },
   {
    "duration": 18,
    "start_time": "2022-03-20T11:24:32.384Z"
   },
   {
    "duration": 498,
    "start_time": "2022-03-20T11:24:32.404Z"
   },
   {
    "duration": 20,
    "start_time": "2022-03-20T11:24:32.905Z"
   },
   {
    "duration": 110,
    "start_time": "2022-03-20T11:24:49.799Z"
   },
   {
    "duration": 36,
    "start_time": "2022-03-20T11:24:49.912Z"
   },
   {
    "duration": 41,
    "start_time": "2022-03-20T11:24:49.951Z"
   },
   {
    "duration": 36,
    "start_time": "2022-03-20T11:24:49.995Z"
   },
   {
    "duration": 46,
    "start_time": "2022-03-20T11:24:50.033Z"
   },
   {
    "duration": 692,
    "start_time": "2022-03-20T11:24:50.082Z"
   },
   {
    "duration": 732,
    "start_time": "2022-03-20T11:24:50.776Z"
   },
   {
    "duration": 571,
    "start_time": "2022-03-20T11:24:51.511Z"
   },
   {
    "duration": 32,
    "start_time": "2022-03-20T11:24:52.084Z"
   },
   {
    "duration": 8,
    "start_time": "2022-03-20T11:24:52.120Z"
   },
   {
    "duration": 54,
    "start_time": "2022-03-20T11:24:52.130Z"
   },
   {
    "duration": 25,
    "start_time": "2022-03-20T11:24:52.186Z"
   },
   {
    "duration": 8,
    "start_time": "2022-03-20T11:24:52.213Z"
   },
   {
    "duration": 18,
    "start_time": "2022-03-20T11:24:52.224Z"
   },
   {
    "duration": 487,
    "start_time": "2022-03-20T11:24:52.273Z"
   },
   {
    "duration": 37,
    "start_time": "2022-03-20T11:24:52.762Z"
   },
   {
    "duration": 112,
    "start_time": "2022-03-20T11:25:43.740Z"
   },
   {
    "duration": 50,
    "start_time": "2022-03-20T11:25:43.855Z"
   },
   {
    "duration": 26,
    "start_time": "2022-03-20T11:25:43.907Z"
   },
   {
    "duration": 59,
    "start_time": "2022-03-20T11:25:43.935Z"
   },
   {
    "duration": 17,
    "start_time": "2022-03-20T11:25:43.998Z"
   },
   {
    "duration": 739,
    "start_time": "2022-03-20T11:25:44.017Z"
   },
   {
    "duration": 736,
    "start_time": "2022-03-20T11:25:44.758Z"
   },
   {
    "duration": 556,
    "start_time": "2022-03-20T11:25:45.496Z"
   },
   {
    "duration": 43,
    "start_time": "2022-03-20T11:25:46.054Z"
   },
   {
    "duration": 7,
    "start_time": "2022-03-20T11:25:46.099Z"
   },
   {
    "duration": 19,
    "start_time": "2022-03-20T11:25:46.108Z"
   },
   {
    "duration": 51,
    "start_time": "2022-03-20T11:25:46.130Z"
   },
   {
    "duration": 8,
    "start_time": "2022-03-20T11:25:46.183Z"
   },
   {
    "duration": 12,
    "start_time": "2022-03-20T11:25:46.195Z"
   },
   {
    "duration": 505,
    "start_time": "2022-03-20T11:25:46.209Z"
   },
   {
    "duration": 14,
    "start_time": "2022-03-20T11:25:46.716Z"
   },
   {
    "duration": 112,
    "start_time": "2022-03-20T11:26:26.910Z"
   },
   {
    "duration": 51,
    "start_time": "2022-03-20T11:26:27.025Z"
   },
   {
    "duration": 24,
    "start_time": "2022-03-20T11:26:27.079Z"
   },
   {
    "duration": 36,
    "start_time": "2022-03-20T11:26:27.106Z"
   },
   {
    "duration": 15,
    "start_time": "2022-03-20T11:26:27.174Z"
   },
   {
    "duration": 748,
    "start_time": "2022-03-20T11:26:27.192Z"
   },
   {
    "duration": 721,
    "start_time": "2022-03-20T11:26:27.943Z"
   },
   {
    "duration": 544,
    "start_time": "2022-03-20T11:26:28.674Z"
   },
   {
    "duration": 33,
    "start_time": "2022-03-20T11:26:29.220Z"
   },
   {
    "duration": 9,
    "start_time": "2022-03-20T11:26:29.274Z"
   },
   {
    "duration": 22,
    "start_time": "2022-03-20T11:26:29.286Z"
   },
   {
    "duration": 28,
    "start_time": "2022-03-20T11:26:29.310Z"
   },
   {
    "duration": 9,
    "start_time": "2022-03-20T11:26:29.373Z"
   },
   {
    "duration": 15,
    "start_time": "2022-03-20T11:26:29.385Z"
   },
   {
    "duration": 505,
    "start_time": "2022-03-20T11:26:29.410Z"
   },
   {
    "duration": 14,
    "start_time": "2022-03-20T11:26:29.917Z"
   },
   {
    "duration": 115,
    "start_time": "2022-03-20T11:27:53.391Z"
   },
   {
    "duration": 38,
    "start_time": "2022-03-20T11:27:53.509Z"
   },
   {
    "duration": 43,
    "start_time": "2022-03-20T11:27:53.549Z"
   },
   {
    "duration": 37,
    "start_time": "2022-03-20T11:27:53.595Z"
   },
   {
    "duration": 38,
    "start_time": "2022-03-20T11:27:53.635Z"
   },
   {
    "duration": 694,
    "start_time": "2022-03-20T11:27:53.676Z"
   },
   {
    "duration": 716,
    "start_time": "2022-03-20T11:27:54.372Z"
   },
   {
    "duration": 552,
    "start_time": "2022-03-20T11:27:55.091Z"
   },
   {
    "duration": 43,
    "start_time": "2022-03-20T11:27:55.646Z"
   },
   {
    "duration": 8,
    "start_time": "2022-03-20T11:27:55.693Z"
   },
   {
    "duration": 20,
    "start_time": "2022-03-20T11:27:55.703Z"
   },
   {
    "duration": 50,
    "start_time": "2022-03-20T11:27:55.725Z"
   },
   {
    "duration": 8,
    "start_time": "2022-03-20T11:27:55.777Z"
   },
   {
    "duration": 11,
    "start_time": "2022-03-20T11:27:55.787Z"
   },
   {
    "duration": 487,
    "start_time": "2022-03-20T11:27:55.800Z"
   },
   {
    "duration": 87,
    "start_time": "2022-03-20T11:27:56.289Z"
   },
   {
    "duration": 121,
    "start_time": "2022-03-20T11:28:18.710Z"
   },
   {
    "duration": 52,
    "start_time": "2022-03-20T11:28:18.834Z"
   },
   {
    "duration": 26,
    "start_time": "2022-03-20T11:28:18.888Z"
   },
   {
    "duration": 65,
    "start_time": "2022-03-20T11:28:18.918Z"
   },
   {
    "duration": 16,
    "start_time": "2022-03-20T11:28:18.986Z"
   },
   {
    "duration": 715,
    "start_time": "2022-03-20T11:28:19.004Z"
   },
   {
    "duration": 717,
    "start_time": "2022-03-20T11:28:19.721Z"
   },
   {
    "duration": 575,
    "start_time": "2022-03-20T11:28:20.440Z"
   },
   {
    "duration": 32,
    "start_time": "2022-03-20T11:28:21.018Z"
   },
   {
    "duration": 24,
    "start_time": "2022-03-20T11:28:21.053Z"
   },
   {
    "duration": 24,
    "start_time": "2022-03-20T11:28:21.079Z"
   },
   {
    "duration": 31,
    "start_time": "2022-03-20T11:28:21.105Z"
   },
   {
    "duration": 35,
    "start_time": "2022-03-20T11:28:21.138Z"
   },
   {
    "duration": 10,
    "start_time": "2022-03-20T11:28:21.176Z"
   },
   {
    "duration": 496,
    "start_time": "2022-03-20T11:28:21.188Z"
   },
   {
    "duration": 20,
    "start_time": "2022-03-20T11:28:21.686Z"
   },
   {
    "duration": 121,
    "start_time": "2022-03-20T11:29:05.782Z"
   },
   {
    "duration": 40,
    "start_time": "2022-03-20T11:29:05.907Z"
   },
   {
    "duration": 49,
    "start_time": "2022-03-20T11:29:05.950Z"
   },
   {
    "duration": 47,
    "start_time": "2022-03-20T11:29:06.002Z"
   },
   {
    "duration": 35,
    "start_time": "2022-03-20T11:29:06.052Z"
   },
   {
    "duration": 1029,
    "start_time": "2022-03-20T11:29:06.089Z"
   },
   {
    "duration": 754,
    "start_time": "2022-03-20T11:29:07.120Z"
   },
   {
    "duration": 831,
    "start_time": "2022-03-20T11:29:07.877Z"
   },
   {
    "duration": 34,
    "start_time": "2022-03-20T11:29:08.711Z"
   },
   {
    "duration": 27,
    "start_time": "2022-03-20T11:29:08.751Z"
   },
   {
    "duration": 28,
    "start_time": "2022-03-20T11:29:08.781Z"
   },
   {
    "duration": 63,
    "start_time": "2022-03-20T11:29:08.812Z"
   },
   {
    "duration": 11,
    "start_time": "2022-03-20T11:29:08.878Z"
   },
   {
    "duration": 9,
    "start_time": "2022-03-20T11:29:08.891Z"
   },
   {
    "duration": 509,
    "start_time": "2022-03-20T11:29:08.902Z"
   },
   {
    "duration": 29,
    "start_time": "2022-03-20T11:29:09.414Z"
   },
   {
    "duration": 107,
    "start_time": "2022-03-20T11:29:49.134Z"
   },
   {
    "duration": 50,
    "start_time": "2022-03-20T11:29:49.244Z"
   },
   {
    "duration": 26,
    "start_time": "2022-03-20T11:29:49.297Z"
   },
   {
    "duration": 58,
    "start_time": "2022-03-20T11:29:49.325Z"
   },
   {
    "duration": 16,
    "start_time": "2022-03-20T11:29:49.386Z"
   },
   {
    "duration": 708,
    "start_time": "2022-03-20T11:29:49.404Z"
   },
   {
    "duration": 708,
    "start_time": "2022-03-20T11:29:50.114Z"
   },
   {
    "duration": 713,
    "start_time": "2022-03-20T11:29:50.825Z"
   },
   {
    "duration": 41,
    "start_time": "2022-03-20T11:29:51.541Z"
   },
   {
    "duration": 7,
    "start_time": "2022-03-20T11:29:51.586Z"
   },
   {
    "duration": 21,
    "start_time": "2022-03-20T11:29:51.595Z"
   },
   {
    "duration": 27,
    "start_time": "2022-03-20T11:29:51.619Z"
   },
   {
    "duration": 35,
    "start_time": "2022-03-20T11:29:51.648Z"
   },
   {
    "duration": 14,
    "start_time": "2022-03-20T11:29:51.686Z"
   },
   {
    "duration": 512,
    "start_time": "2022-03-20T11:29:51.703Z"
   },
   {
    "duration": 14,
    "start_time": "2022-03-20T11:29:52.217Z"
   },
   {
    "duration": 109,
    "start_time": "2022-03-20T11:30:16.989Z"
   },
   {
    "duration": 39,
    "start_time": "2022-03-20T11:30:17.101Z"
   },
   {
    "duration": 50,
    "start_time": "2022-03-20T11:30:17.142Z"
   },
   {
    "duration": 56,
    "start_time": "2022-03-20T11:30:17.194Z"
   },
   {
    "duration": 16,
    "start_time": "2022-03-20T11:30:17.253Z"
   },
   {
    "duration": 706,
    "start_time": "2022-03-20T11:30:17.273Z"
   },
   {
    "duration": 705,
    "start_time": "2022-03-20T11:30:17.981Z"
   },
   {
    "duration": 558,
    "start_time": "2022-03-20T11:30:18.688Z"
   },
   {
    "duration": 43,
    "start_time": "2022-03-20T11:30:19.249Z"
   },
   {
    "duration": 8,
    "start_time": "2022-03-20T11:30:19.295Z"
   },
   {
    "duration": 28,
    "start_time": "2022-03-20T11:30:19.305Z"
   },
   {
    "duration": 42,
    "start_time": "2022-03-20T11:30:19.336Z"
   },
   {
    "duration": 7,
    "start_time": "2022-03-20T11:30:19.381Z"
   },
   {
    "duration": 17,
    "start_time": "2022-03-20T11:30:19.391Z"
   },
   {
    "duration": 486,
    "start_time": "2022-03-20T11:30:19.410Z"
   },
   {
    "duration": 13,
    "start_time": "2022-03-20T11:30:19.898Z"
   },
   {
    "duration": 114,
    "start_time": "2022-03-20T11:31:53.181Z"
   },
   {
    "duration": 37,
    "start_time": "2022-03-20T11:31:53.297Z"
   },
   {
    "duration": 48,
    "start_time": "2022-03-20T11:31:53.336Z"
   },
   {
    "duration": 36,
    "start_time": "2022-03-20T11:31:53.387Z"
   },
   {
    "duration": 16,
    "start_time": "2022-03-20T11:31:53.426Z"
   },
   {
    "duration": 732,
    "start_time": "2022-03-20T11:31:53.444Z"
   },
   {
    "duration": 709,
    "start_time": "2022-03-20T11:31:54.178Z"
   },
   {
    "duration": 570,
    "start_time": "2022-03-20T11:31:54.890Z"
   },
   {
    "duration": 38,
    "start_time": "2022-03-20T11:31:55.463Z"
   },
   {
    "duration": 8,
    "start_time": "2022-03-20T11:31:55.505Z"
   },
   {
    "duration": 21,
    "start_time": "2022-03-20T11:31:55.515Z"
   },
   {
    "duration": 62,
    "start_time": "2022-03-20T11:31:55.538Z"
   },
   {
    "duration": 8,
    "start_time": "2022-03-20T11:31:55.602Z"
   },
   {
    "duration": 14,
    "start_time": "2022-03-20T11:31:55.612Z"
   },
   {
    "duration": 518,
    "start_time": "2022-03-20T11:31:55.628Z"
   },
   {
    "duration": 42,
    "start_time": "2022-03-20T11:31:56.148Z"
   },
   {
    "duration": 22,
    "start_time": "2022-03-20T11:33:06.158Z"
   },
   {
    "duration": 27,
    "start_time": "2022-03-20T11:35:55.382Z"
   },
   {
    "duration": 112,
    "start_time": "2022-03-20T11:36:02.252Z"
   },
   {
    "duration": 40,
    "start_time": "2022-03-20T11:36:02.374Z"
   },
   {
    "duration": 25,
    "start_time": "2022-03-20T11:36:02.416Z"
   },
   {
    "duration": 59,
    "start_time": "2022-03-20T11:36:02.444Z"
   },
   {
    "duration": 16,
    "start_time": "2022-03-20T11:36:02.505Z"
   },
   {
    "duration": 710,
    "start_time": "2022-03-20T11:36:02.523Z"
   },
   {
    "duration": 730,
    "start_time": "2022-03-20T11:36:03.235Z"
   },
   {
    "duration": 558,
    "start_time": "2022-03-20T11:36:03.967Z"
   },
   {
    "duration": 47,
    "start_time": "2022-03-20T11:36:04.528Z"
   },
   {
    "duration": 8,
    "start_time": "2022-03-20T11:36:04.578Z"
   },
   {
    "duration": 24,
    "start_time": "2022-03-20T11:36:04.588Z"
   },
   {
    "duration": 30,
    "start_time": "2022-03-20T11:36:04.614Z"
   },
   {
    "duration": 7,
    "start_time": "2022-03-20T11:36:04.675Z"
   },
   {
    "duration": 9,
    "start_time": "2022-03-20T11:36:04.685Z"
   },
   {
    "duration": 491,
    "start_time": "2022-03-20T11:36:04.696Z"
   },
   {
    "duration": 26,
    "start_time": "2022-03-20T11:36:05.190Z"
   },
   {
    "duration": 25,
    "start_time": "2022-03-20T11:36:16.109Z"
   },
   {
    "duration": 110,
    "start_time": "2022-03-20T11:36:25.216Z"
   },
   {
    "duration": 51,
    "start_time": "2022-03-20T11:36:25.328Z"
   },
   {
    "duration": 24,
    "start_time": "2022-03-20T11:36:25.382Z"
   },
   {
    "duration": 33,
    "start_time": "2022-03-20T11:36:25.409Z"
   },
   {
    "duration": 16,
    "start_time": "2022-03-20T11:36:25.473Z"
   },
   {
    "duration": 718,
    "start_time": "2022-03-20T11:36:25.491Z"
   },
   {
    "duration": 732,
    "start_time": "2022-03-20T11:36:26.211Z"
   },
   {
    "duration": 562,
    "start_time": "2022-03-20T11:36:26.945Z"
   },
   {
    "duration": 30,
    "start_time": "2022-03-20T11:36:27.510Z"
   },
   {
    "duration": 7,
    "start_time": "2022-03-20T11:36:27.544Z"
   },
   {
    "duration": 19,
    "start_time": "2022-03-20T11:36:27.574Z"
   },
   {
    "duration": 24,
    "start_time": "2022-03-20T11:36:27.596Z"
   },
   {
    "duration": 7,
    "start_time": "2022-03-20T11:36:27.622Z"
   },
   {
    "duration": 45,
    "start_time": "2022-03-20T11:36:27.631Z"
   },
   {
    "duration": 509,
    "start_time": "2022-03-20T11:36:27.678Z"
   },
   {
    "duration": 25,
    "start_time": "2022-03-20T11:36:28.189Z"
   },
   {
    "duration": 140,
    "start_time": "2022-03-20T11:37:40.868Z"
   },
   {
    "duration": 41,
    "start_time": "2022-03-20T11:37:41.012Z"
   },
   {
    "duration": 26,
    "start_time": "2022-03-20T11:37:41.075Z"
   },
   {
    "duration": 46,
    "start_time": "2022-03-20T11:37:41.104Z"
   },
   {
    "duration": 29,
    "start_time": "2022-03-20T11:37:41.153Z"
   },
   {
    "duration": 828,
    "start_time": "2022-03-20T11:37:41.185Z"
   },
   {
    "duration": 740,
    "start_time": "2022-03-20T11:37:42.015Z"
   },
   {
    "duration": 624,
    "start_time": "2022-03-20T11:37:42.758Z"
   },
   {
    "duration": 34,
    "start_time": "2022-03-20T11:37:43.384Z"
   },
   {
    "duration": 9,
    "start_time": "2022-03-20T11:37:43.423Z"
   },
   {
    "duration": 41,
    "start_time": "2022-03-20T11:37:43.435Z"
   },
   {
    "duration": 45,
    "start_time": "2022-03-20T11:37:43.479Z"
   },
   {
    "duration": 18,
    "start_time": "2022-03-20T11:37:43.526Z"
   },
   {
    "duration": 18,
    "start_time": "2022-03-20T11:37:43.547Z"
   },
   {
    "duration": 634,
    "start_time": "2022-03-20T11:37:43.568Z"
   },
   {
    "duration": 28,
    "start_time": "2022-03-20T11:37:44.204Z"
   },
   {
    "duration": 16,
    "start_time": "2022-03-20T11:38:21.061Z"
   },
   {
    "duration": 110,
    "start_time": "2022-03-20T11:38:24.892Z"
   },
   {
    "duration": 37,
    "start_time": "2022-03-20T11:38:25.004Z"
   },
   {
    "duration": 46,
    "start_time": "2022-03-20T11:38:25.043Z"
   },
   {
    "duration": 34,
    "start_time": "2022-03-20T11:38:25.091Z"
   },
   {
    "duration": 17,
    "start_time": "2022-03-20T11:38:25.127Z"
   },
   {
    "duration": 711,
    "start_time": "2022-03-20T11:38:25.146Z"
   },
   {
    "duration": 719,
    "start_time": "2022-03-20T11:38:25.860Z"
   },
   {
    "duration": 569,
    "start_time": "2022-03-20T11:38:26.581Z"
   },
   {
    "duration": 44,
    "start_time": "2022-03-20T11:38:27.152Z"
   },
   {
    "duration": 7,
    "start_time": "2022-03-20T11:38:27.199Z"
   },
   {
    "duration": 20,
    "start_time": "2022-03-20T11:38:27.208Z"
   },
   {
    "duration": 50,
    "start_time": "2022-03-20T11:38:27.230Z"
   },
   {
    "duration": 8,
    "start_time": "2022-03-20T11:38:27.283Z"
   },
   {
    "duration": 10,
    "start_time": "2022-03-20T11:38:27.293Z"
   },
   {
    "duration": 515,
    "start_time": "2022-03-20T11:38:27.306Z"
   },
   {
    "duration": 17,
    "start_time": "2022-03-20T11:38:27.824Z"
   },
   {
    "duration": 112,
    "start_time": "2022-03-20T11:38:59.819Z"
   },
   {
    "duration": 47,
    "start_time": "2022-03-20T11:38:59.934Z"
   },
   {
    "duration": 29,
    "start_time": "2022-03-20T11:38:59.983Z"
   },
   {
    "duration": 64,
    "start_time": "2022-03-20T11:39:00.015Z"
   },
   {
    "duration": 25,
    "start_time": "2022-03-20T11:39:00.082Z"
   },
   {
    "duration": 740,
    "start_time": "2022-03-20T11:39:00.109Z"
   },
   {
    "duration": 1028,
    "start_time": "2022-03-20T11:39:00.851Z"
   },
   {
    "duration": 593,
    "start_time": "2022-03-20T11:39:01.881Z"
   },
   {
    "duration": 31,
    "start_time": "2022-03-20T11:39:02.476Z"
   },
   {
    "duration": 7,
    "start_time": "2022-03-20T11:39:02.510Z"
   },
   {
    "duration": 35,
    "start_time": "2022-03-20T11:39:02.519Z"
   },
   {
    "duration": 40,
    "start_time": "2022-03-20T11:39:02.556Z"
   },
   {
    "duration": 8,
    "start_time": "2022-03-20T11:39:02.599Z"
   },
   {
    "duration": 9,
    "start_time": "2022-03-20T11:39:02.609Z"
   },
   {
    "duration": 508,
    "start_time": "2022-03-20T11:39:02.620Z"
   },
   {
    "duration": 27,
    "start_time": "2022-03-20T11:39:03.130Z"
   },
   {
    "duration": 108,
    "start_time": "2022-03-20T11:40:15.524Z"
   },
   {
    "duration": 51,
    "start_time": "2022-03-20T11:40:15.635Z"
   },
   {
    "duration": 25,
    "start_time": "2022-03-20T11:40:15.688Z"
   },
   {
    "duration": 59,
    "start_time": "2022-03-20T11:40:15.717Z"
   },
   {
    "duration": 17,
    "start_time": "2022-03-20T11:40:15.778Z"
   },
   {
    "duration": 708,
    "start_time": "2022-03-20T11:40:15.797Z"
   },
   {
    "duration": 723,
    "start_time": "2022-03-20T11:40:16.507Z"
   },
   {
    "duration": 572,
    "start_time": "2022-03-20T11:40:17.232Z"
   },
   {
    "duration": 31,
    "start_time": "2022-03-20T11:40:17.806Z"
   },
   {
    "duration": 8,
    "start_time": "2022-03-20T11:40:17.840Z"
   },
   {
    "duration": 20,
    "start_time": "2022-03-20T11:40:17.873Z"
   },
   {
    "duration": 25,
    "start_time": "2022-03-20T11:40:17.896Z"
   },
   {
    "duration": 10,
    "start_time": "2022-03-20T11:40:17.923Z"
   },
   {
    "duration": 48,
    "start_time": "2022-03-20T11:40:17.935Z"
   },
   {
    "duration": 488,
    "start_time": "2022-03-20T11:40:17.985Z"
   },
   {
    "duration": 26,
    "start_time": "2022-03-20T11:40:18.476Z"
   },
   {
    "duration": 107,
    "start_time": "2022-03-20T11:40:48.499Z"
   },
   {
    "duration": 36,
    "start_time": "2022-03-20T11:40:48.609Z"
   },
   {
    "duration": 40,
    "start_time": "2022-03-20T11:40:48.647Z"
   },
   {
    "duration": 35,
    "start_time": "2022-03-20T11:40:48.690Z"
   },
   {
    "duration": 47,
    "start_time": "2022-03-20T11:40:48.727Z"
   },
   {
    "duration": 820,
    "start_time": "2022-03-20T11:40:48.777Z"
   },
   {
    "duration": 752,
    "start_time": "2022-03-20T11:40:49.599Z"
   },
   {
    "duration": 627,
    "start_time": "2022-03-20T11:40:50.354Z"
   },
   {
    "duration": 34,
    "start_time": "2022-03-20T11:40:50.983Z"
   },
   {
    "duration": 8,
    "start_time": "2022-03-20T11:40:51.021Z"
   },
   {
    "duration": 51,
    "start_time": "2022-03-20T11:40:51.031Z"
   },
   {
    "duration": 25,
    "start_time": "2022-03-20T11:40:51.086Z"
   },
   {
    "duration": 11,
    "start_time": "2022-03-20T11:40:51.114Z"
   },
   {
    "duration": 10,
    "start_time": "2022-03-20T11:40:51.128Z"
   },
   {
    "duration": 481,
    "start_time": "2022-03-20T11:40:51.173Z"
   },
   {
    "duration": 34,
    "start_time": "2022-03-20T11:40:51.656Z"
   },
   {
    "duration": 107,
    "start_time": "2022-03-20T11:41:18.650Z"
   },
   {
    "duration": 43,
    "start_time": "2022-03-20T11:41:18.759Z"
   },
   {
    "duration": 28,
    "start_time": "2022-03-20T11:41:18.805Z"
   },
   {
    "duration": 57,
    "start_time": "2022-03-20T11:41:18.836Z"
   },
   {
    "duration": 17,
    "start_time": "2022-03-20T11:41:18.895Z"
   },
   {
    "duration": 725,
    "start_time": "2022-03-20T11:41:18.915Z"
   },
   {
    "duration": 808,
    "start_time": "2022-03-20T11:41:19.642Z"
   },
   {
    "duration": 596,
    "start_time": "2022-03-20T11:41:20.453Z"
   },
   {
    "duration": 44,
    "start_time": "2022-03-20T11:41:21.052Z"
   },
   {
    "duration": 8,
    "start_time": "2022-03-20T11:41:21.099Z"
   },
   {
    "duration": 29,
    "start_time": "2022-03-20T11:41:21.109Z"
   },
   {
    "duration": 52,
    "start_time": "2022-03-20T11:41:21.140Z"
   },
   {
    "duration": 12,
    "start_time": "2022-03-20T11:41:21.195Z"
   },
   {
    "duration": 23,
    "start_time": "2022-03-20T11:41:21.209Z"
   },
   {
    "duration": 517,
    "start_time": "2022-03-20T11:41:21.234Z"
   },
   {
    "duration": 36,
    "start_time": "2022-03-20T11:41:21.754Z"
   },
   {
    "duration": 108,
    "start_time": "2022-03-20T11:43:20.919Z"
   },
   {
    "duration": 51,
    "start_time": "2022-03-20T11:43:21.030Z"
   },
   {
    "duration": 37,
    "start_time": "2022-03-20T11:43:21.084Z"
   },
   {
    "duration": 63,
    "start_time": "2022-03-20T11:43:21.125Z"
   },
   {
    "duration": 19,
    "start_time": "2022-03-20T11:43:21.190Z"
   },
   {
    "duration": 734,
    "start_time": "2022-03-20T11:43:21.212Z"
   },
   {
    "duration": 755,
    "start_time": "2022-03-20T11:43:21.948Z"
   },
   {
    "duration": 571,
    "start_time": "2022-03-20T11:43:22.706Z"
   },
   {
    "duration": 29,
    "start_time": "2022-03-20T11:43:23.279Z"
   },
   {
    "duration": 7,
    "start_time": "2022-03-20T11:43:23.311Z"
   },
   {
    "duration": 54,
    "start_time": "2022-03-20T11:43:23.320Z"
   },
   {
    "duration": 23,
    "start_time": "2022-03-20T11:43:23.376Z"
   },
   {
    "duration": 8,
    "start_time": "2022-03-20T11:43:23.402Z"
   },
   {
    "duration": 12,
    "start_time": "2022-03-20T11:43:23.412Z"
   },
   {
    "duration": 526,
    "start_time": "2022-03-20T11:43:23.426Z"
   },
   {
    "duration": 30,
    "start_time": "2022-03-20T11:43:23.954Z"
   },
   {
    "duration": 24,
    "start_time": "2022-03-20T11:43:23.987Z"
   },
   {
    "duration": 8,
    "start_time": "2022-03-20T11:46:00.708Z"
   },
   {
    "duration": 98,
    "start_time": "2022-03-20T11:47:06.369Z"
   },
   {
    "duration": 8,
    "start_time": "2022-03-20T11:48:07.865Z"
   },
   {
    "duration": 6,
    "start_time": "2022-03-20T11:48:51.345Z"
   },
   {
    "duration": 13,
    "start_time": "2022-03-20T11:49:50.555Z"
   },
   {
    "duration": 7,
    "start_time": "2022-03-20T11:50:19.090Z"
   },
   {
    "duration": 1454,
    "start_time": "2022-03-20T11:58:10.104Z"
   },
   {
    "duration": 10,
    "start_time": "2022-03-20T12:00:33.264Z"
   },
   {
    "duration": 13,
    "start_time": "2022-03-20T12:00:48.407Z"
   },
   {
    "duration": 168,
    "start_time": "2022-03-20T12:00:59.386Z"
   },
   {
    "duration": 51,
    "start_time": "2022-03-20T12:00:59.557Z"
   },
   {
    "duration": 41,
    "start_time": "2022-03-20T12:00:59.611Z"
   },
   {
    "duration": 49,
    "start_time": "2022-03-20T12:00:59.675Z"
   },
   {
    "duration": 23,
    "start_time": "2022-03-20T12:00:59.726Z"
   },
   {
    "duration": 705,
    "start_time": "2022-03-20T12:00:59.775Z"
   },
   {
    "duration": 731,
    "start_time": "2022-03-20T12:01:00.483Z"
   },
   {
    "duration": 582,
    "start_time": "2022-03-20T12:01:01.217Z"
   },
   {
    "duration": 31,
    "start_time": "2022-03-20T12:01:01.801Z"
   },
   {
    "duration": 38,
    "start_time": "2022-03-20T12:01:01.835Z"
   },
   {
    "duration": 20,
    "start_time": "2022-03-20T12:01:01.876Z"
   },
   {
    "duration": 34,
    "start_time": "2022-03-20T12:01:01.898Z"
   },
   {
    "duration": 8,
    "start_time": "2022-03-20T12:01:01.934Z"
   },
   {
    "duration": 40,
    "start_time": "2022-03-20T12:01:01.944Z"
   },
   {
    "duration": 22,
    "start_time": "2022-03-20T12:01:01.986Z"
   },
   {
    "duration": 11,
    "start_time": "2022-03-20T12:01:02.011Z"
   },
   {
    "duration": 497,
    "start_time": "2022-03-20T12:01:02.025Z"
   },
   {
    "duration": 24,
    "start_time": "2022-03-20T12:01:02.524Z"
   },
   {
    "duration": 43,
    "start_time": "2022-03-20T12:01:02.551Z"
   },
   {
    "duration": 13,
    "start_time": "2022-03-20T12:01:39.911Z"
   },
   {
    "duration": 20,
    "start_time": "2022-03-20T12:03:38.031Z"
   },
   {
    "duration": 110,
    "start_time": "2022-03-20T12:03:43.695Z"
   },
   {
    "duration": 38,
    "start_time": "2022-03-20T12:03:43.807Z"
   },
   {
    "duration": 44,
    "start_time": "2022-03-20T12:03:43.848Z"
   },
   {
    "duration": 35,
    "start_time": "2022-03-20T12:03:43.895Z"
   },
   {
    "duration": 16,
    "start_time": "2022-03-20T12:03:43.933Z"
   },
   {
    "duration": 727,
    "start_time": "2022-03-20T12:03:43.974Z"
   },
   {
    "duration": 732,
    "start_time": "2022-03-20T12:03:44.703Z"
   },
   {
    "duration": 562,
    "start_time": "2022-03-20T12:03:45.438Z"
   },
   {
    "duration": 30,
    "start_time": "2022-03-20T12:03:46.003Z"
   },
   {
    "duration": 7,
    "start_time": "2022-03-20T12:03:46.036Z"
   },
   {
    "duration": 46,
    "start_time": "2022-03-20T12:03:46.045Z"
   },
   {
    "duration": 27,
    "start_time": "2022-03-20T12:03:46.093Z"
   },
   {
    "duration": 7,
    "start_time": "2022-03-20T12:03:46.122Z"
   },
   {
    "duration": 5,
    "start_time": "2022-03-20T12:03:46.133Z"
   },
   {
    "duration": 51,
    "start_time": "2022-03-20T12:03:46.140Z"
   },
   {
    "duration": 9,
    "start_time": "2022-03-20T12:03:46.193Z"
   },
   {
    "duration": 504,
    "start_time": "2022-03-20T12:03:46.204Z"
   },
   {
    "duration": 23,
    "start_time": "2022-03-20T12:03:46.710Z"
   },
   {
    "duration": 47,
    "start_time": "2022-03-20T12:03:46.736Z"
   },
   {
    "duration": 144,
    "start_time": "2022-03-20T12:04:11.945Z"
   },
   {
    "duration": 37,
    "start_time": "2022-03-20T12:04:12.092Z"
   },
   {
    "duration": 50,
    "start_time": "2022-03-20T12:04:12.132Z"
   },
   {
    "duration": 35,
    "start_time": "2022-03-20T12:04:12.185Z"
   },
   {
    "duration": 15,
    "start_time": "2022-03-20T12:04:12.223Z"
   },
   {
    "duration": 715,
    "start_time": "2022-03-20T12:04:12.240Z"
   },
   {
    "duration": 747,
    "start_time": "2022-03-20T12:04:12.957Z"
   },
   {
    "duration": 551,
    "start_time": "2022-03-20T12:04:13.707Z"
   },
   {
    "duration": 36,
    "start_time": "2022-03-20T12:04:14.261Z"
   },
   {
    "duration": 7,
    "start_time": "2022-03-20T12:04:14.301Z"
   },
   {
    "duration": 21,
    "start_time": "2022-03-20T12:04:14.310Z"
   },
   {
    "duration": 59,
    "start_time": "2022-03-20T12:04:14.333Z"
   },
   {
    "duration": 7,
    "start_time": "2022-03-20T12:04:14.394Z"
   },
   {
    "duration": 8,
    "start_time": "2022-03-20T12:04:14.404Z"
   },
   {
    "duration": 25,
    "start_time": "2022-03-20T12:04:14.414Z"
   },
   {
    "duration": 10,
    "start_time": "2022-03-20T12:04:14.473Z"
   },
   {
    "duration": 490,
    "start_time": "2022-03-20T12:04:14.486Z"
   },
   {
    "duration": 26,
    "start_time": "2022-03-20T12:04:14.979Z"
   },
   {
    "duration": 24,
    "start_time": "2022-03-20T12:04:15.008Z"
   },
   {
    "duration": 15,
    "start_time": "2022-03-20T12:05:09.710Z"
   },
   {
    "duration": 22,
    "start_time": "2022-03-20T12:06:42.180Z"
   },
   {
    "duration": 13,
    "start_time": "2022-03-20T12:08:42.883Z"
   },
   {
    "duration": 12,
    "start_time": "2022-03-20T12:09:29.636Z"
   },
   {
    "duration": 31,
    "start_time": "2022-03-20T12:09:45.294Z"
   },
   {
    "duration": 26,
    "start_time": "2022-03-20T12:09:55.981Z"
   },
   {
    "duration": 50,
    "start_time": "2022-03-20T12:12:31.838Z"
   },
   {
    "duration": 12,
    "start_time": "2022-03-20T12:16:59.899Z"
   },
   {
    "duration": 15,
    "start_time": "2022-03-20T12:17:52.827Z"
   },
   {
    "duration": 10,
    "start_time": "2022-03-20T12:25:36.107Z"
   },
   {
    "duration": 116,
    "start_time": "2022-03-20T19:02:58.730Z"
   },
   {
    "duration": 10,
    "start_time": "2022-03-20T19:03:06.676Z"
   },
   {
    "duration": 652,
    "start_time": "2022-03-20T19:03:36.942Z"
   },
   {
    "duration": 42,
    "start_time": "2022-03-20T19:03:37.598Z"
   },
   {
    "duration": 50,
    "start_time": "2022-03-20T19:03:37.643Z"
   },
   {
    "duration": 52,
    "start_time": "2022-03-20T19:03:37.696Z"
   },
   {
    "duration": 19,
    "start_time": "2022-03-20T19:03:37.775Z"
   },
   {
    "duration": 1962,
    "start_time": "2022-03-20T19:03:37.796Z"
   },
   {
    "duration": 1015,
    "start_time": "2022-03-20T19:03:39.761Z"
   },
   {
    "duration": 563,
    "start_time": "2022-03-20T19:03:40.778Z"
   },
   {
    "duration": 44,
    "start_time": "2022-03-20T19:03:41.344Z"
   },
   {
    "duration": 8,
    "start_time": "2022-03-20T19:03:41.391Z"
   },
   {
    "duration": 20,
    "start_time": "2022-03-20T19:03:41.401Z"
   },
   {
    "duration": 57,
    "start_time": "2022-03-20T19:03:41.423Z"
   },
   {
    "duration": 7,
    "start_time": "2022-03-20T19:03:41.482Z"
   },
   {
    "duration": 9,
    "start_time": "2022-03-20T19:03:41.491Z"
   },
   {
    "duration": 21,
    "start_time": "2022-03-20T19:03:41.502Z"
   },
   {
    "duration": 50,
    "start_time": "2022-03-20T19:03:41.525Z"
   },
   {
    "duration": 11,
    "start_time": "2022-03-20T19:03:41.578Z"
   },
   {
    "duration": 498,
    "start_time": "2022-03-20T19:03:41.591Z"
   },
   {
    "duration": 21,
    "start_time": "2022-03-20T19:03:42.091Z"
   },
   {
    "duration": 22,
    "start_time": "2022-03-20T19:03:42.113Z"
   },
   {
    "duration": 56,
    "start_time": "2022-03-20T19:03:42.137Z"
   },
   {
    "duration": 29,
    "start_time": "2022-03-20T19:03:42.195Z"
   },
   {
    "duration": 81,
    "start_time": "2022-03-20T19:03:42.226Z"
   },
   {
    "duration": 9,
    "start_time": "2022-03-20T19:03:42.310Z"
   },
   {
    "duration": 18,
    "start_time": "2022-03-20T19:03:42.322Z"
   },
   {
    "duration": 17,
    "start_time": "2022-03-20T19:05:13.352Z"
   },
   {
    "duration": 91,
    "start_time": "2022-03-20T19:28:37.529Z"
   },
   {
    "duration": 330,
    "start_time": "2022-03-20T19:28:48.689Z"
   },
   {
    "duration": 246,
    "start_time": "2022-03-20T19:28:57.408Z"
   },
   {
    "duration": 7,
    "start_time": "2022-03-20T19:30:19.839Z"
   },
   {
    "duration": 1693,
    "start_time": "2022-03-20T19:32:10.854Z"
   },
   {
    "duration": 111,
    "start_time": "2022-03-20T19:32:49.516Z"
   },
   {
    "duration": 48,
    "start_time": "2022-03-20T19:32:49.629Z"
   },
   {
    "duration": 24,
    "start_time": "2022-03-20T19:32:49.679Z"
   },
   {
    "duration": 37,
    "start_time": "2022-03-20T19:32:49.706Z"
   },
   {
    "duration": 45,
    "start_time": "2022-03-20T19:32:49.745Z"
   },
   {
    "duration": 700,
    "start_time": "2022-03-20T19:32:49.792Z"
   },
   {
    "duration": 1100,
    "start_time": "2022-03-20T19:32:50.495Z"
   },
   {
    "duration": 862,
    "start_time": "2022-03-20T19:32:51.597Z"
   },
   {
    "duration": 46,
    "start_time": "2022-03-20T19:32:52.462Z"
   },
   {
    "duration": 10,
    "start_time": "2022-03-20T19:32:52.513Z"
   },
   {
    "duration": 57,
    "start_time": "2022-03-20T19:32:52.525Z"
   },
   {
    "duration": 33,
    "start_time": "2022-03-20T19:32:52.584Z"
   },
   {
    "duration": 9,
    "start_time": "2022-03-20T19:32:52.619Z"
   },
   {
    "duration": 15,
    "start_time": "2022-03-20T19:32:52.631Z"
   },
   {
    "duration": 37,
    "start_time": "2022-03-20T19:32:52.648Z"
   },
   {
    "duration": 13,
    "start_time": "2022-03-20T19:32:52.687Z"
   },
   {
    "duration": 13,
    "start_time": "2022-03-20T19:32:52.703Z"
   },
   {
    "duration": 524,
    "start_time": "2022-03-20T19:32:52.718Z"
   },
   {
    "duration": 30,
    "start_time": "2022-03-20T19:32:53.245Z"
   },
   {
    "duration": 22,
    "start_time": "2022-03-20T19:32:53.277Z"
   },
   {
    "duration": 22,
    "start_time": "2022-03-20T19:32:53.301Z"
   },
   {
    "duration": 63,
    "start_time": "2022-03-20T19:32:53.326Z"
   },
   {
    "duration": 51,
    "start_time": "2022-03-20T19:32:53.391Z"
   },
   {
    "duration": 36,
    "start_time": "2022-03-20T19:32:53.445Z"
   },
   {
    "duration": 344,
    "start_time": "2022-03-20T19:32:53.484Z"
   },
   {
    "duration": 20,
    "start_time": "2022-03-20T19:32:53.831Z"
   },
   {
    "duration": 25,
    "start_time": "2022-03-20T19:32:53.853Z"
   },
   {
    "duration": 22,
    "start_time": "2022-03-20T19:32:53.883Z"
   },
   {
    "duration": 19,
    "start_time": "2022-03-20T19:33:25.973Z"
   },
   {
    "duration": 1522,
    "start_time": "2022-03-20T19:34:44.056Z"
   },
   {
    "duration": 124,
    "start_time": "2022-03-20T19:34:50.027Z"
   },
   {
    "duration": 38,
    "start_time": "2022-03-20T19:34:50.173Z"
   },
   {
    "duration": 27,
    "start_time": "2022-03-20T19:34:50.214Z"
   },
   {
    "duration": 55,
    "start_time": "2022-03-20T19:34:50.244Z"
   },
   {
    "duration": 16,
    "start_time": "2022-03-20T19:34:50.301Z"
   },
   {
    "duration": 734,
    "start_time": "2022-03-20T19:34:50.320Z"
   },
   {
    "duration": 747,
    "start_time": "2022-03-20T19:34:51.057Z"
   },
   {
    "duration": 862,
    "start_time": "2022-03-20T19:34:51.806Z"
   },
   {
    "duration": 42,
    "start_time": "2022-03-20T19:34:52.673Z"
   },
   {
    "duration": 7,
    "start_time": "2022-03-20T19:34:52.719Z"
   },
   {
    "duration": 52,
    "start_time": "2022-03-20T19:34:52.729Z"
   },
   {
    "duration": 25,
    "start_time": "2022-03-20T19:34:52.783Z"
   },
   {
    "duration": 9,
    "start_time": "2022-03-20T19:34:52.810Z"
   },
   {
    "duration": 12,
    "start_time": "2022-03-20T19:34:52.822Z"
   },
   {
    "duration": 47,
    "start_time": "2022-03-20T19:34:52.836Z"
   },
   {
    "duration": 13,
    "start_time": "2022-03-20T19:34:52.885Z"
   },
   {
    "duration": 10,
    "start_time": "2022-03-20T19:34:52.899Z"
   },
   {
    "duration": 517,
    "start_time": "2022-03-20T19:34:52.911Z"
   },
   {
    "duration": 23,
    "start_time": "2022-03-20T19:34:53.430Z"
   },
   {
    "duration": 47,
    "start_time": "2022-03-20T19:34:53.455Z"
   },
   {
    "duration": 72,
    "start_time": "2022-03-20T19:34:53.504Z"
   },
   {
    "duration": 41,
    "start_time": "2022-03-20T19:34:53.578Z"
   },
   {
    "duration": 79,
    "start_time": "2022-03-20T19:34:53.622Z"
   },
   {
    "duration": 15,
    "start_time": "2022-03-20T19:34:53.703Z"
   },
   {
    "duration": 329,
    "start_time": "2022-03-20T19:34:53.720Z"
   },
   {
    "duration": 36,
    "start_time": "2022-03-20T19:34:54.051Z"
   },
   {
    "duration": 25,
    "start_time": "2022-03-20T19:34:54.090Z"
   },
   {
    "duration": 77,
    "start_time": "2022-03-20T19:34:54.119Z"
   },
   {
    "duration": 17,
    "start_time": "2022-03-20T19:34:54.198Z"
   },
   {
    "duration": 140,
    "start_time": "2022-03-20T19:37:41.955Z"
   },
   {
    "duration": 38,
    "start_time": "2022-03-20T19:37:42.099Z"
   },
   {
    "duration": 51,
    "start_time": "2022-03-20T19:37:42.139Z"
   },
   {
    "duration": 36,
    "start_time": "2022-03-20T19:37:42.193Z"
   },
   {
    "duration": 43,
    "start_time": "2022-03-20T19:37:42.232Z"
   },
   {
    "duration": 775,
    "start_time": "2022-03-20T19:37:42.278Z"
   },
   {
    "duration": 734,
    "start_time": "2022-03-20T19:37:43.056Z"
   },
   {
    "duration": 682,
    "start_time": "2022-03-20T19:37:43.793Z"
   },
   {
    "duration": 31,
    "start_time": "2022-03-20T19:37:44.479Z"
   },
   {
    "duration": 7,
    "start_time": "2022-03-20T19:37:44.516Z"
   },
   {
    "duration": 67,
    "start_time": "2022-03-20T19:37:44.526Z"
   },
   {
    "duration": 40,
    "start_time": "2022-03-20T19:37:44.595Z"
   },
   {
    "duration": 10,
    "start_time": "2022-03-20T19:37:44.638Z"
   },
   {
    "duration": 7,
    "start_time": "2022-03-20T19:37:44.673Z"
   },
   {
    "duration": 15,
    "start_time": "2022-03-20T19:37:44.683Z"
   },
   {
    "duration": 14,
    "start_time": "2022-03-20T19:37:44.701Z"
   },
   {
    "duration": 11,
    "start_time": "2022-03-20T19:37:44.717Z"
   },
   {
    "duration": 805,
    "start_time": "2022-03-20T19:37:44.730Z"
   },
   {
    "duration": 44,
    "start_time": "2022-03-20T19:37:45.538Z"
   },
   {
    "duration": 23,
    "start_time": "2022-03-20T19:37:45.584Z"
   },
   {
    "duration": 25,
    "start_time": "2022-03-20T19:37:45.609Z"
   },
   {
    "duration": 60,
    "start_time": "2022-03-20T19:37:45.637Z"
   },
   {
    "duration": 74,
    "start_time": "2022-03-20T19:37:45.700Z"
   },
   {
    "duration": 12,
    "start_time": "2022-03-20T19:37:45.776Z"
   },
   {
    "duration": 266,
    "start_time": "2022-03-20T19:37:45.790Z"
   },
   {
    "duration": 27,
    "start_time": "2022-03-20T19:37:46.059Z"
   },
   {
    "duration": 18,
    "start_time": "2022-03-20T19:37:46.088Z"
   },
   {
    "duration": 24,
    "start_time": "2022-03-20T19:37:46.113Z"
   },
   {
    "duration": 48,
    "start_time": "2022-03-20T19:37:46.139Z"
   },
   {
    "duration": 23,
    "start_time": "2022-03-20T19:45:52.869Z"
   },
   {
    "duration": 22,
    "start_time": "2022-03-20T19:46:06.395Z"
   },
   {
    "duration": 108,
    "start_time": "2022-03-20T19:49:13.527Z"
   },
   {
    "duration": 50,
    "start_time": "2022-03-20T19:49:13.637Z"
   },
   {
    "duration": 40,
    "start_time": "2022-03-20T19:49:13.690Z"
   },
   {
    "duration": 53,
    "start_time": "2022-03-20T19:49:13.732Z"
   },
   {
    "duration": 17,
    "start_time": "2022-03-20T19:49:13.787Z"
   },
   {
    "duration": 761,
    "start_time": "2022-03-20T19:49:13.807Z"
   },
   {
    "duration": 707,
    "start_time": "2022-03-20T19:49:14.573Z"
   },
   {
    "duration": 559,
    "start_time": "2022-03-20T19:49:15.282Z"
   },
   {
    "duration": 40,
    "start_time": "2022-03-20T19:49:15.843Z"
   },
   {
    "duration": 7,
    "start_time": "2022-03-20T19:49:15.887Z"
   },
   {
    "duration": 25,
    "start_time": "2022-03-20T19:49:15.896Z"
   },
   {
    "duration": 27,
    "start_time": "2022-03-20T19:49:15.923Z"
   },
   {
    "duration": 27,
    "start_time": "2022-03-20T19:49:15.952Z"
   },
   {
    "duration": 7,
    "start_time": "2022-03-20T19:49:15.981Z"
   },
   {
    "duration": 18,
    "start_time": "2022-03-20T19:49:15.991Z"
   },
   {
    "duration": 15,
    "start_time": "2022-03-20T19:49:16.012Z"
   },
   {
    "duration": 48,
    "start_time": "2022-03-20T19:49:16.030Z"
   },
   {
    "duration": 485,
    "start_time": "2022-03-20T19:49:16.080Z"
   },
   {
    "duration": 26,
    "start_time": "2022-03-20T19:49:16.567Z"
   },
   {
    "duration": 21,
    "start_time": "2022-03-20T19:49:16.595Z"
   },
   {
    "duration": 21,
    "start_time": "2022-03-20T19:49:16.618Z"
   },
   {
    "duration": 59,
    "start_time": "2022-03-20T19:49:16.641Z"
   },
   {
    "duration": 74,
    "start_time": "2022-03-20T19:49:16.702Z"
   },
   {
    "duration": 9,
    "start_time": "2022-03-20T19:49:16.778Z"
   },
   {
    "duration": 20,
    "start_time": "2022-03-20T19:49:16.789Z"
   },
   {
    "duration": 18,
    "start_time": "2022-03-20T19:49:16.811Z"
   },
   {
    "duration": 59,
    "start_time": "2022-03-20T19:49:16.832Z"
   },
   {
    "duration": 13,
    "start_time": "2022-03-20T19:49:16.895Z"
   },
   {
    "duration": 36,
    "start_time": "2022-03-20T19:49:16.910Z"
   },
   {
    "duration": 1677,
    "start_time": "2022-03-20T19:49:16.948Z"
   },
   {
    "duration": 134,
    "start_time": "2022-03-20T19:50:09.088Z"
   },
   {
    "duration": 51,
    "start_time": "2022-03-20T19:50:09.226Z"
   },
   {
    "duration": 24,
    "start_time": "2022-03-20T19:50:09.279Z"
   },
   {
    "duration": 34,
    "start_time": "2022-03-20T19:50:09.306Z"
   },
   {
    "duration": 45,
    "start_time": "2022-03-20T19:50:09.343Z"
   },
   {
    "duration": 741,
    "start_time": "2022-03-20T19:50:09.391Z"
   },
   {
    "duration": 742,
    "start_time": "2022-03-20T19:50:10.134Z"
   },
   {
    "duration": 574,
    "start_time": "2022-03-20T19:50:10.879Z"
   },
   {
    "duration": 43,
    "start_time": "2022-03-20T19:50:11.455Z"
   },
   {
    "duration": 9,
    "start_time": "2022-03-20T19:50:11.502Z"
   },
   {
    "duration": 25,
    "start_time": "2022-03-20T19:50:11.513Z"
   },
   {
    "duration": 50,
    "start_time": "2022-03-20T19:50:11.541Z"
   },
   {
    "duration": 8,
    "start_time": "2022-03-20T19:50:11.593Z"
   },
   {
    "duration": 31,
    "start_time": "2022-03-20T19:50:11.603Z"
   },
   {
    "duration": 34,
    "start_time": "2022-03-20T19:50:11.639Z"
   },
   {
    "duration": 15,
    "start_time": "2022-03-20T19:50:11.675Z"
   },
   {
    "duration": 11,
    "start_time": "2022-03-20T19:50:11.693Z"
   },
   {
    "duration": 773,
    "start_time": "2022-03-20T19:50:11.706Z"
   },
   {
    "duration": 24,
    "start_time": "2022-03-20T19:50:12.482Z"
   },
   {
    "duration": 24,
    "start_time": "2022-03-20T19:50:12.509Z"
   },
   {
    "duration": 59,
    "start_time": "2022-03-20T19:50:12.536Z"
   },
   {
    "duration": 28,
    "start_time": "2022-03-20T19:50:12.598Z"
   },
   {
    "duration": 83,
    "start_time": "2022-03-20T19:50:12.628Z"
   },
   {
    "duration": 10,
    "start_time": "2022-03-20T19:50:12.713Z"
   },
   {
    "duration": 48,
    "start_time": "2022-03-20T19:50:12.726Z"
   },
   {
    "duration": 19,
    "start_time": "2022-03-20T19:50:12.776Z"
   },
   {
    "duration": 22,
    "start_time": "2022-03-20T19:50:12.797Z"
   },
   {
    "duration": 16,
    "start_time": "2022-03-20T19:50:12.823Z"
   },
   {
    "duration": 62,
    "start_time": "2022-03-20T19:50:12.842Z"
   },
   {
    "duration": 418,
    "start_time": "2022-03-20T19:50:12.907Z"
   },
   {
    "duration": 24,
    "start_time": "2022-03-20T19:50:13.328Z"
   },
   {
    "duration": 726,
    "start_time": "2022-03-20T19:57:15.641Z"
   },
   {
    "duration": 85,
    "start_time": "2022-03-20T19:58:54.843Z"
   },
   {
    "duration": 820,
    "start_time": "2022-03-20T20:01:48.320Z"
   },
   {
    "duration": 797,
    "start_time": "2022-03-20T20:04:12.823Z"
   },
   {
    "duration": 14,
    "start_time": "2022-03-20T20:13:26.343Z"
   },
   {
    "duration": 25,
    "start_time": "2022-03-20T20:24:36.051Z"
   },
   {
    "duration": 28,
    "start_time": "2022-03-20T20:24:50.883Z"
   },
   {
    "duration": 110,
    "start_time": "2022-03-20T20:25:00.906Z"
   },
   {
    "duration": 38,
    "start_time": "2022-03-20T20:25:01.018Z"
   },
   {
    "duration": 23,
    "start_time": "2022-03-20T20:25:01.074Z"
   },
   {
    "duration": 34,
    "start_time": "2022-03-20T20:25:01.101Z"
   },
   {
    "duration": 48,
    "start_time": "2022-03-20T20:25:01.138Z"
   },
   {
    "duration": 813,
    "start_time": "2022-03-20T20:25:01.188Z"
   },
   {
    "duration": 703,
    "start_time": "2022-03-20T20:25:02.003Z"
   },
   {
    "duration": 550,
    "start_time": "2022-03-20T20:25:02.709Z"
   },
   {
    "duration": 33,
    "start_time": "2022-03-20T20:25:03.262Z"
   },
   {
    "duration": 7,
    "start_time": "2022-03-20T20:25:03.299Z"
   },
   {
    "duration": 21,
    "start_time": "2022-03-20T20:25:03.308Z"
   },
   {
    "duration": 54,
    "start_time": "2022-03-20T20:25:03.331Z"
   },
   {
    "duration": 8,
    "start_time": "2022-03-20T20:25:03.387Z"
   },
   {
    "duration": 7,
    "start_time": "2022-03-20T20:25:03.397Z"
   },
   {
    "duration": 14,
    "start_time": "2022-03-20T20:25:03.406Z"
   },
   {
    "duration": 53,
    "start_time": "2022-03-20T20:25:03.422Z"
   },
   {
    "duration": 9,
    "start_time": "2022-03-20T20:25:03.477Z"
   },
   {
    "duration": 490,
    "start_time": "2022-03-20T20:25:03.488Z"
   },
   {
    "duration": 22,
    "start_time": "2022-03-20T20:25:03.980Z"
   },
   {
    "duration": 23,
    "start_time": "2022-03-20T20:25:04.004Z"
   },
   {
    "duration": 53,
    "start_time": "2022-03-20T20:25:04.030Z"
   },
   {
    "duration": 29,
    "start_time": "2022-03-20T20:25:04.085Z"
   },
   {
    "duration": 69,
    "start_time": "2022-03-20T20:25:04.116Z"
   },
   {
    "duration": 9,
    "start_time": "2022-03-20T20:25:04.188Z"
   },
   {
    "duration": 19,
    "start_time": "2022-03-20T20:25:04.199Z"
   },
   {
    "duration": 16,
    "start_time": "2022-03-20T20:25:04.220Z"
   },
   {
    "duration": 53,
    "start_time": "2022-03-20T20:25:04.238Z"
   },
   {
    "duration": 14,
    "start_time": "2022-03-20T20:25:04.296Z"
   },
   {
    "duration": 23,
    "start_time": "2022-03-20T20:25:04.312Z"
   },
   {
    "duration": 295,
    "start_time": "2022-03-20T20:25:04.337Z"
   },
   {
    "duration": 17,
    "start_time": "2022-03-20T20:25:04.635Z"
   },
   {
    "duration": 41,
    "start_time": "2022-03-20T20:25:04.654Z"
   },
   {
    "duration": 0,
    "start_time": "2022-03-20T20:25:04.697Z"
   },
   {
    "duration": 1445,
    "start_time": "2022-03-20T20:26:14.455Z"
   },
   {
    "duration": 1619,
    "start_time": "2022-03-20T20:27:05.827Z"
   },
   {
    "duration": 30,
    "start_time": "2022-03-20T20:27:29.180Z"
   },
   {
    "duration": 30,
    "start_time": "2022-03-20T20:28:42.432Z"
   },
   {
    "duration": 28,
    "start_time": "2022-03-20T20:33:43.016Z"
   },
   {
    "duration": 1548,
    "start_time": "2022-03-20T20:33:54.881Z"
   },
   {
    "duration": 1537,
    "start_time": "2022-03-20T20:34:12.464Z"
   },
   {
    "duration": 32,
    "start_time": "2022-03-20T20:34:47.194Z"
   },
   {
    "duration": 29,
    "start_time": "2022-03-20T20:35:27.201Z"
   },
   {
    "duration": 26,
    "start_time": "2022-03-20T20:37:08.623Z"
   },
   {
    "duration": 24,
    "start_time": "2022-03-20T20:41:42.510Z"
   },
   {
    "duration": 1126,
    "start_time": "2022-03-20T20:42:32.567Z"
   },
   {
    "duration": 24,
    "start_time": "2022-03-20T20:43:07.446Z"
   },
   {
    "duration": 29,
    "start_time": "2022-03-20T20:44:10.005Z"
   },
   {
    "duration": 1664,
    "start_time": "2022-03-20T20:44:36.712Z"
   },
   {
    "duration": 1622,
    "start_time": "2022-03-20T20:45:09.456Z"
   },
   {
    "duration": 24,
    "start_time": "2022-03-20T20:45:25.457Z"
   },
   {
    "duration": 27,
    "start_time": "2022-03-20T20:48:35.181Z"
   },
   {
    "duration": 1166,
    "start_time": "2022-03-20T20:52:45.574Z"
   },
   {
    "duration": 31,
    "start_time": "2022-03-20T20:52:55.349Z"
   },
   {
    "duration": 31,
    "start_time": "2022-03-20T20:53:06.373Z"
   },
   {
    "duration": 27,
    "start_time": "2022-03-20T20:53:13.820Z"
   },
   {
    "duration": 29,
    "start_time": "2022-03-20T20:53:59.717Z"
   },
   {
    "duration": 27,
    "start_time": "2022-03-20T20:54:22.053Z"
   },
   {
    "duration": 29,
    "start_time": "2022-03-20T20:55:25.931Z"
   },
   {
    "duration": 29,
    "start_time": "2022-03-20T20:56:20.371Z"
   },
   {
    "duration": 29,
    "start_time": "2022-03-20T20:58:41.938Z"
   },
   {
    "duration": 44,
    "start_time": "2022-03-20T20:59:47.770Z"
   },
   {
    "duration": 28,
    "start_time": "2022-03-20T21:00:16.859Z"
   },
   {
    "duration": 28,
    "start_time": "2022-03-20T21:01:56.387Z"
   },
   {
    "duration": 1684,
    "start_time": "2022-03-20T21:03:57.169Z"
   },
   {
    "duration": 131,
    "start_time": "2022-03-20T21:04:14.145Z"
   },
   {
    "duration": 39,
    "start_time": "2022-03-20T21:04:14.280Z"
   },
   {
    "duration": 60,
    "start_time": "2022-03-20T21:04:14.321Z"
   },
   {
    "duration": 39,
    "start_time": "2022-03-20T21:04:14.383Z"
   },
   {
    "duration": 15,
    "start_time": "2022-03-20T21:04:14.425Z"
   },
   {
    "duration": 681,
    "start_time": "2022-03-20T21:04:14.474Z"
   },
   {
    "duration": 700,
    "start_time": "2022-03-20T21:04:15.158Z"
   },
   {
    "duration": 551,
    "start_time": "2022-03-20T21:04:15.861Z"
   },
   {
    "duration": 30,
    "start_time": "2022-03-20T21:04:16.415Z"
   },
   {
    "duration": 26,
    "start_time": "2022-03-20T21:04:16.449Z"
   },
   {
    "duration": 22,
    "start_time": "2022-03-20T21:04:16.478Z"
   },
   {
    "duration": 26,
    "start_time": "2022-03-20T21:04:16.502Z"
   },
   {
    "duration": 7,
    "start_time": "2022-03-20T21:04:16.531Z"
   },
   {
    "duration": 36,
    "start_time": "2022-03-20T21:04:16.541Z"
   },
   {
    "duration": 17,
    "start_time": "2022-03-20T21:04:16.580Z"
   },
   {
    "duration": 12,
    "start_time": "2022-03-20T21:04:16.599Z"
   },
   {
    "duration": 10,
    "start_time": "2022-03-20T21:04:16.613Z"
   },
   {
    "duration": 485,
    "start_time": "2022-03-20T21:04:16.673Z"
   },
   {
    "duration": 30,
    "start_time": "2022-03-20T21:04:17.160Z"
   },
   {
    "duration": 22,
    "start_time": "2022-03-20T21:04:17.192Z"
   },
   {
    "duration": 23,
    "start_time": "2022-03-20T21:04:17.216Z"
   },
   {
    "duration": 58,
    "start_time": "2022-03-20T21:04:17.241Z"
   },
   {
    "duration": 49,
    "start_time": "2022-03-20T21:04:17.301Z"
   },
   {
    "duration": 27,
    "start_time": "2022-03-20T21:04:17.352Z"
   },
   {
    "duration": 19,
    "start_time": "2022-03-20T21:04:17.381Z"
   },
   {
    "duration": 17,
    "start_time": "2022-03-20T21:04:17.402Z"
   },
   {
    "duration": 57,
    "start_time": "2022-03-20T21:04:17.421Z"
   },
   {
    "duration": 16,
    "start_time": "2022-03-20T21:04:17.483Z"
   },
   {
    "duration": 23,
    "start_time": "2022-03-20T21:04:17.501Z"
   },
   {
    "duration": 282,
    "start_time": "2022-03-20T21:04:17.527Z"
   },
   {
    "duration": 24,
    "start_time": "2022-03-20T21:04:17.811Z"
   },
   {
    "duration": 55,
    "start_time": "2022-03-20T21:04:17.839Z"
   },
   {
    "duration": 1494,
    "start_time": "2022-03-20T21:04:17.896Z"
   },
   {
    "duration": 11,
    "start_time": "2022-03-20T21:04:49.002Z"
   },
   {
    "duration": 265,
    "start_time": "2022-03-20T21:04:57.744Z"
   },
   {
    "duration": 256,
    "start_time": "2022-03-20T21:05:29.898Z"
   },
   {
    "duration": 20,
    "start_time": "2022-03-20T21:06:22.928Z"
   },
   {
    "duration": 1588,
    "start_time": "2022-03-20T21:06:44.834Z"
   },
   {
    "duration": 1574,
    "start_time": "2022-03-20T21:07:11.890Z"
   },
   {
    "duration": 1552,
    "start_time": "2022-03-20T21:07:25.426Z"
   },
   {
    "duration": 169,
    "start_time": "2022-03-20T21:07:41.825Z"
   },
   {
    "duration": 31,
    "start_time": "2022-03-20T21:08:51.362Z"
   },
   {
    "duration": 30,
    "start_time": "2022-03-20T21:09:05.152Z"
   },
   {
    "duration": 40,
    "start_time": "2022-03-20T21:11:14.521Z"
   },
   {
    "duration": 33,
    "start_time": "2022-03-20T21:13:38.496Z"
   },
   {
    "duration": 214,
    "start_time": "2022-03-20T21:14:13.568Z"
   },
   {
    "duration": 202,
    "start_time": "2022-03-20T21:14:34.336Z"
   },
   {
    "duration": 664,
    "start_time": "2022-03-25T08:05:00.591Z"
   },
   {
    "duration": 68,
    "start_time": "2022-03-25T08:05:01.258Z"
   },
   {
    "duration": 57,
    "start_time": "2022-03-25T08:05:01.328Z"
   },
   {
    "duration": 49,
    "start_time": "2022-03-25T08:05:01.389Z"
   },
   {
    "duration": 47,
    "start_time": "2022-03-25T08:05:01.441Z"
   },
   {
    "duration": 2211,
    "start_time": "2022-03-25T08:05:01.491Z"
   },
   {
    "duration": 621,
    "start_time": "2022-03-25T08:05:03.704Z"
   },
   {
    "duration": 549,
    "start_time": "2022-03-25T08:05:04.328Z"
   },
   {
    "duration": 31,
    "start_time": "2022-03-25T08:05:04.879Z"
   },
   {
    "duration": 8,
    "start_time": "2022-03-25T08:05:04.914Z"
   },
   {
    "duration": 65,
    "start_time": "2022-03-25T08:05:04.924Z"
   },
   {
    "duration": 26,
    "start_time": "2022-03-25T08:05:04.992Z"
   },
   {
    "duration": 8,
    "start_time": "2022-03-25T08:05:05.020Z"
   },
   {
    "duration": 48,
    "start_time": "2022-03-25T08:05:05.030Z"
   },
   {
    "duration": 34,
    "start_time": "2022-03-25T08:05:05.081Z"
   },
   {
    "duration": 17,
    "start_time": "2022-03-25T08:05:05.118Z"
   },
   {
    "duration": 38,
    "start_time": "2022-03-25T08:05:05.137Z"
   },
   {
    "duration": 439,
    "start_time": "2022-03-25T08:05:05.177Z"
   },
   {
    "duration": 24,
    "start_time": "2022-03-25T08:05:05.619Z"
   },
   {
    "duration": 49,
    "start_time": "2022-03-25T08:05:05.645Z"
   },
   {
    "duration": 25,
    "start_time": "2022-03-25T08:05:05.697Z"
   },
   {
    "duration": 72,
    "start_time": "2022-03-25T08:05:05.726Z"
   },
   {
    "duration": 83,
    "start_time": "2022-03-25T08:05:05.801Z"
   },
   {
    "duration": 13,
    "start_time": "2022-03-25T08:05:05.887Z"
   },
   {
    "duration": 39,
    "start_time": "2022-03-25T08:05:05.902Z"
   },
   {
    "duration": 42,
    "start_time": "2022-03-25T08:05:05.944Z"
   },
   {
    "duration": 21,
    "start_time": "2022-03-25T08:05:05.988Z"
   },
   {
    "duration": 21,
    "start_time": "2022-03-25T08:05:06.013Z"
   },
   {
    "duration": 59,
    "start_time": "2022-03-25T08:05:06.036Z"
   },
   {
    "duration": 401,
    "start_time": "2022-03-25T08:05:06.098Z"
   },
   {
    "duration": 23,
    "start_time": "2022-03-25T08:05:06.501Z"
   },
   {
    "duration": 60,
    "start_time": "2022-03-25T08:05:06.527Z"
   },
   {
    "duration": 283,
    "start_time": "2022-03-25T08:05:06.590Z"
   },
   {
    "duration": 1777,
    "start_time": "2022-03-25T08:05:06.876Z"
   },
   {
    "duration": 67,
    "start_time": "2022-03-25T08:05:40.260Z"
   },
   {
    "duration": 65,
    "start_time": "2022-03-25T08:06:03.777Z"
   },
   {
    "duration": 39,
    "start_time": "2022-03-25T08:12:53.488Z"
   },
   {
    "duration": 32,
    "start_time": "2022-03-25T08:13:56.094Z"
   },
   {
    "duration": 215,
    "start_time": "2022-03-25T08:14:03.381Z"
   },
   {
    "duration": 36,
    "start_time": "2022-03-25T08:14:57.904Z"
   },
   {
    "duration": 38,
    "start_time": "2022-03-25T08:15:53.223Z"
   },
   {
    "duration": 38,
    "start_time": "2022-03-25T08:21:03.948Z"
   },
   {
    "duration": 222,
    "start_time": "2022-03-25T08:21:38.452Z"
   },
   {
    "duration": 228,
    "start_time": "2022-03-25T08:22:21.435Z"
   },
   {
    "duration": 1462,
    "start_time": "2022-03-25T08:23:05.652Z"
   },
   {
    "duration": 48,
    "start_time": "2022-03-25T08:24:07.819Z"
   },
   {
    "duration": 103,
    "start_time": "2022-03-25T08:24:50.241Z"
   },
   {
    "duration": 55,
    "start_time": "2022-03-25T08:24:50.347Z"
   },
   {
    "duration": 25,
    "start_time": "2022-03-25T08:24:50.404Z"
   },
   {
    "duration": 63,
    "start_time": "2022-03-25T08:24:50.432Z"
   },
   {
    "duration": 16,
    "start_time": "2022-03-25T08:24:50.497Z"
   },
   {
    "duration": 583,
    "start_time": "2022-03-25T08:24:50.516Z"
   },
   {
    "duration": 598,
    "start_time": "2022-03-25T08:24:51.101Z"
   },
   {
    "duration": 604,
    "start_time": "2022-03-25T08:24:51.701Z"
   },
   {
    "duration": 29,
    "start_time": "2022-03-25T08:24:52.308Z"
   },
   {
    "duration": 7,
    "start_time": "2022-03-25T08:24:52.341Z"
   },
   {
    "duration": 20,
    "start_time": "2022-03-25T08:24:52.374Z"
   },
   {
    "duration": 22,
    "start_time": "2022-03-25T08:24:52.397Z"
   },
   {
    "duration": 7,
    "start_time": "2022-03-25T08:24:52.422Z"
   },
   {
    "duration": 6,
    "start_time": "2022-03-25T08:24:52.474Z"
   },
   {
    "duration": 16,
    "start_time": "2022-03-25T08:24:52.483Z"
   },
   {
    "duration": 13,
    "start_time": "2022-03-25T08:24:52.501Z"
   },
   {
    "duration": 9,
    "start_time": "2022-03-25T08:24:52.516Z"
   },
   {
    "duration": 418,
    "start_time": "2022-03-25T08:24:52.574Z"
   },
   {
    "duration": 23,
    "start_time": "2022-03-25T08:24:52.994Z"
   },
   {
    "duration": 54,
    "start_time": "2022-03-25T08:24:53.020Z"
   },
   {
    "duration": 21,
    "start_time": "2022-03-25T08:24:53.076Z"
   },
   {
    "duration": 30,
    "start_time": "2022-03-25T08:24:53.099Z"
   },
   {
    "duration": 87,
    "start_time": "2022-03-25T08:24:53.131Z"
   },
   {
    "duration": 10,
    "start_time": "2022-03-25T08:24:53.221Z"
   },
   {
    "duration": 44,
    "start_time": "2022-03-25T08:24:53.232Z"
   },
   {
    "duration": 19,
    "start_time": "2022-03-25T08:24:53.278Z"
   },
   {
    "duration": 20,
    "start_time": "2022-03-25T08:24:53.299Z"
   },
   {
    "duration": 53,
    "start_time": "2022-03-25T08:24:53.323Z"
   },
   {
    "duration": 26,
    "start_time": "2022-03-25T08:24:53.378Z"
   },
   {
    "duration": 270,
    "start_time": "2022-03-25T08:24:53.406Z"
   },
   {
    "duration": 18,
    "start_time": "2022-03-25T08:24:53.679Z"
   },
   {
    "duration": 267,
    "start_time": "2022-03-25T08:24:53.698Z"
   },
   {
    "duration": 54,
    "start_time": "2022-03-25T08:24:53.968Z"
   },
   {
    "duration": 61,
    "start_time": "2022-03-25T08:24:54.024Z"
   },
   {
    "duration": 1867,
    "start_time": "2022-03-25T08:24:59.730Z"
   },
   {
    "duration": 1544,
    "start_time": "2022-03-25T08:26:20.603Z"
   },
   {
    "duration": 259,
    "start_time": "2022-03-25T08:28:53.222Z"
   },
   {
    "duration": 97,
    "start_time": "2022-03-25T08:29:29.259Z"
   },
   {
    "duration": 1666,
    "start_time": "2022-03-25T08:30:02.826Z"
   },
   {
    "duration": 1981,
    "start_time": "2022-03-25T08:33:07.348Z"
   },
   {
    "duration": 49,
    "start_time": "2022-03-25T08:33:19.080Z"
   },
   {
    "duration": 235,
    "start_time": "2022-03-25T08:33:27.304Z"
   },
   {
    "duration": 224,
    "start_time": "2022-03-25T08:33:59.817Z"
   },
   {
    "duration": 215,
    "start_time": "2022-03-25T08:35:13.752Z"
   },
   {
    "duration": 220,
    "start_time": "2022-03-25T08:36:04.339Z"
   },
   {
    "duration": 193,
    "start_time": "2022-03-25T08:37:48.478Z"
   },
   {
    "duration": 196,
    "start_time": "2022-03-25T08:38:15.559Z"
   },
   {
    "duration": 108,
    "start_time": "2022-03-25T08:38:32.508Z"
   },
   {
    "duration": 37,
    "start_time": "2022-03-25T08:38:32.618Z"
   },
   {
    "duration": 24,
    "start_time": "2022-03-25T08:38:32.673Z"
   },
   {
    "duration": 35,
    "start_time": "2022-03-25T08:38:32.700Z"
   },
   {
    "duration": 49,
    "start_time": "2022-03-25T08:38:32.738Z"
   },
   {
    "duration": 574,
    "start_time": "2022-03-25T08:38:32.789Z"
   },
   {
    "duration": 576,
    "start_time": "2022-03-25T08:38:33.365Z"
   },
   {
    "duration": 641,
    "start_time": "2022-03-25T08:38:33.943Z"
   },
   {
    "duration": 32,
    "start_time": "2022-03-25T08:38:34.586Z"
   },
   {
    "duration": 8,
    "start_time": "2022-03-25T08:38:34.624Z"
   },
   {
    "duration": 56,
    "start_time": "2022-03-25T08:38:34.634Z"
   },
   {
    "duration": 23,
    "start_time": "2022-03-25T08:38:34.692Z"
   },
   {
    "duration": 7,
    "start_time": "2022-03-25T08:38:34.718Z"
   },
   {
    "duration": 6,
    "start_time": "2022-03-25T08:38:34.727Z"
   },
   {
    "duration": 14,
    "start_time": "2022-03-25T08:38:34.774Z"
   },
   {
    "duration": 13,
    "start_time": "2022-03-25T08:38:34.790Z"
   },
   {
    "duration": 12,
    "start_time": "2022-03-25T08:38:34.805Z"
   },
   {
    "duration": 570,
    "start_time": "2022-03-25T08:38:34.819Z"
   },
   {
    "duration": 23,
    "start_time": "2022-03-25T08:38:35.391Z"
   },
   {
    "duration": 22,
    "start_time": "2022-03-25T08:38:35.416Z"
   },
   {
    "duration": 46,
    "start_time": "2022-03-25T08:38:35.441Z"
   },
   {
    "duration": 28,
    "start_time": "2022-03-25T08:38:35.490Z"
   },
   {
    "duration": 89,
    "start_time": "2022-03-25T08:38:35.520Z"
   },
   {
    "duration": 10,
    "start_time": "2022-03-25T08:38:35.611Z"
   },
   {
    "duration": 19,
    "start_time": "2022-03-25T08:38:35.624Z"
   },
   {
    "duration": 18,
    "start_time": "2022-03-25T08:38:35.674Z"
   },
   {
    "duration": 20,
    "start_time": "2022-03-25T08:38:35.695Z"
   },
   {
    "duration": 15,
    "start_time": "2022-03-25T08:38:35.720Z"
   },
   {
    "duration": 22,
    "start_time": "2022-03-25T08:38:35.775Z"
   },
   {
    "duration": 267,
    "start_time": "2022-03-25T08:38:35.799Z"
   },
   {
    "duration": 17,
    "start_time": "2022-03-25T08:38:36.068Z"
   },
   {
    "duration": 252,
    "start_time": "2022-03-25T08:38:36.087Z"
   },
   {
    "duration": 252,
    "start_time": "2022-03-25T08:38:36.341Z"
   },
   {
    "duration": 243,
    "start_time": "2022-03-25T08:38:36.595Z"
   },
   {
    "duration": 202,
    "start_time": "2022-03-25T08:38:36.840Z"
   },
   {
    "duration": 22,
    "start_time": "2022-03-25T08:40:33.623Z"
   },
   {
    "duration": 224,
    "start_time": "2022-03-25T08:41:25.391Z"
   },
   {
    "duration": 7,
    "start_time": "2022-03-25T09:12:25.920Z"
   },
   {
    "duration": 997,
    "start_time": "2022-03-25T09:14:42.383Z"
   },
   {
    "duration": 866,
    "start_time": "2022-03-25T09:15:07.849Z"
   },
   {
    "duration": 119,
    "start_time": "2022-03-25T10:33:13.287Z"
   },
   {
    "duration": 5,
    "start_time": "2022-03-25T10:33:31.933Z"
   },
   {
    "duration": 118,
    "start_time": "2022-03-25T10:49:06.378Z"
   },
   {
    "duration": 7,
    "start_time": "2022-03-25T10:49:27.114Z"
   },
   {
    "duration": 6,
    "start_time": "2022-03-25T10:49:50.857Z"
   },
   {
    "duration": 6,
    "start_time": "2022-03-25T10:49:59.161Z"
   },
   {
    "duration": 7,
    "start_time": "2022-03-25T10:50:06.593Z"
   },
   {
    "duration": 107,
    "start_time": "2022-03-25T10:51:14.882Z"
   },
   {
    "duration": 1598,
    "start_time": "2022-03-25T10:51:25.024Z"
   },
   {
    "duration": 137,
    "start_time": "2022-03-25T10:52:17.454Z"
   },
   {
    "duration": 40,
    "start_time": "2022-03-25T10:52:17.594Z"
   },
   {
    "duration": 57,
    "start_time": "2022-03-25T10:52:17.636Z"
   },
   {
    "duration": 45,
    "start_time": "2022-03-25T10:52:17.696Z"
   },
   {
    "duration": 39,
    "start_time": "2022-03-25T10:52:17.743Z"
   },
   {
    "duration": 692,
    "start_time": "2022-03-25T10:52:17.784Z"
   },
   {
    "duration": 615,
    "start_time": "2022-03-25T10:52:18.479Z"
   },
   {
    "duration": 36,
    "start_time": "2022-03-25T10:52:19.096Z"
   },
   {
    "duration": 0,
    "start_time": "2022-03-25T10:52:19.136Z"
   },
   {
    "duration": 0,
    "start_time": "2022-03-25T10:52:19.137Z"
   },
   {
    "duration": 0,
    "start_time": "2022-03-25T10:52:19.138Z"
   },
   {
    "duration": 0,
    "start_time": "2022-03-25T10:52:19.140Z"
   },
   {
    "duration": 0,
    "start_time": "2022-03-25T10:52:19.141Z"
   },
   {
    "duration": 0,
    "start_time": "2022-03-25T10:52:19.174Z"
   },
   {
    "duration": 0,
    "start_time": "2022-03-25T10:52:19.176Z"
   },
   {
    "duration": 0,
    "start_time": "2022-03-25T10:52:19.177Z"
   },
   {
    "duration": 0,
    "start_time": "2022-03-25T10:52:19.178Z"
   },
   {
    "duration": 0,
    "start_time": "2022-03-25T10:52:19.180Z"
   },
   {
    "duration": 0,
    "start_time": "2022-03-25T10:52:19.182Z"
   },
   {
    "duration": 0,
    "start_time": "2022-03-25T10:52:19.183Z"
   },
   {
    "duration": 0,
    "start_time": "2022-03-25T10:52:19.185Z"
   },
   {
    "duration": 0,
    "start_time": "2022-03-25T10:52:19.187Z"
   },
   {
    "duration": 0,
    "start_time": "2022-03-25T10:52:19.188Z"
   },
   {
    "duration": 0,
    "start_time": "2022-03-25T10:52:19.190Z"
   },
   {
    "duration": 0,
    "start_time": "2022-03-25T10:52:19.191Z"
   },
   {
    "duration": 0,
    "start_time": "2022-03-25T10:52:19.192Z"
   },
   {
    "duration": 0,
    "start_time": "2022-03-25T10:52:19.194Z"
   },
   {
    "duration": 0,
    "start_time": "2022-03-25T10:52:19.195Z"
   },
   {
    "duration": 0,
    "start_time": "2022-03-25T10:52:19.197Z"
   },
   {
    "duration": 0,
    "start_time": "2022-03-25T10:52:19.198Z"
   },
   {
    "duration": 0,
    "start_time": "2022-03-25T10:52:19.201Z"
   },
   {
    "duration": 0,
    "start_time": "2022-03-25T10:52:19.202Z"
   },
   {
    "duration": 1,
    "start_time": "2022-03-25T10:52:19.204Z"
   },
   {
    "duration": 0,
    "start_time": "2022-03-25T10:52:19.206Z"
   },
   {
    "duration": 0,
    "start_time": "2022-03-25T10:52:19.208Z"
   },
   {
    "duration": 0,
    "start_time": "2022-03-25T10:52:19.210Z"
   },
   {
    "duration": 38,
    "start_time": "2022-03-25T11:16:15.908Z"
   },
   {
    "duration": 13,
    "start_time": "2022-03-25T11:16:23.261Z"
   },
   {
    "duration": 19,
    "start_time": "2022-03-25T11:16:45.805Z"
   },
   {
    "duration": 16,
    "start_time": "2022-03-25T11:29:03.418Z"
   },
   {
    "duration": 16,
    "start_time": "2022-03-25T11:29:40.763Z"
   },
   {
    "duration": 1114,
    "start_time": "2022-03-25T11:41:04.927Z"
   },
   {
    "duration": 25,
    "start_time": "2022-03-25T11:42:16.713Z"
   },
   {
    "duration": 16,
    "start_time": "2022-03-25T11:42:47.038Z"
   },
   {
    "duration": 12,
    "start_time": "2022-03-25T11:42:59.213Z"
   },
   {
    "duration": 13,
    "start_time": "2022-03-25T11:43:49.351Z"
   },
   {
    "duration": 15,
    "start_time": "2022-03-25T11:44:12.671Z"
   },
   {
    "duration": 116,
    "start_time": "2022-03-25T11:45:46.204Z"
   },
   {
    "duration": 779,
    "start_time": "2022-03-25T11:47:18.700Z"
   },
   {
    "duration": 20,
    "start_time": "2022-03-25T11:48:29.774Z"
   },
   {
    "duration": 30,
    "start_time": "2022-03-25T11:49:05.165Z"
   },
   {
    "duration": 27,
    "start_time": "2022-03-25T11:49:34.851Z"
   },
   {
    "duration": 822,
    "start_time": "2022-03-25T11:49:43.187Z"
   },
   {
    "duration": 236,
    "start_time": "2022-03-25T12:03:54.513Z"
   },
   {
    "duration": 28,
    "start_time": "2022-03-25T12:04:27.336Z"
   },
   {
    "duration": 35,
    "start_time": "2022-03-25T12:04:44.208Z"
   },
   {
    "duration": 33,
    "start_time": "2022-03-25T12:05:49.818Z"
   },
   {
    "duration": 38,
    "start_time": "2022-03-25T12:06:56.217Z"
   },
   {
    "duration": 34,
    "start_time": "2022-03-25T12:07:10.408Z"
   },
   {
    "duration": 36,
    "start_time": "2022-03-25T12:07:40.247Z"
   },
   {
    "duration": 299,
    "start_time": "2022-03-25T12:08:57.655Z"
   },
   {
    "duration": 134,
    "start_time": "2022-03-25T12:09:35.557Z"
   },
   {
    "duration": 37,
    "start_time": "2022-03-25T12:09:35.693Z"
   },
   {
    "duration": 53,
    "start_time": "2022-03-25T12:09:35.732Z"
   },
   {
    "duration": 34,
    "start_time": "2022-03-25T12:09:35.788Z"
   },
   {
    "duration": 51,
    "start_time": "2022-03-25T12:09:35.824Z"
   },
   {
    "duration": 584,
    "start_time": "2022-03-25T12:09:35.878Z"
   },
   {
    "duration": 652,
    "start_time": "2022-03-25T12:09:36.464Z"
   },
   {
    "duration": 522,
    "start_time": "2022-03-25T12:09:37.118Z"
   },
   {
    "duration": 43,
    "start_time": "2022-03-25T12:09:37.642Z"
   },
   {
    "duration": 7,
    "start_time": "2022-03-25T12:09:37.689Z"
   },
   {
    "duration": 19,
    "start_time": "2022-03-25T12:09:37.698Z"
   },
   {
    "duration": 61,
    "start_time": "2022-03-25T12:09:37.719Z"
   },
   {
    "duration": 8,
    "start_time": "2022-03-25T12:09:37.782Z"
   },
   {
    "duration": 6,
    "start_time": "2022-03-25T12:09:37.792Z"
   },
   {
    "duration": 13,
    "start_time": "2022-03-25T12:09:37.801Z"
   },
   {
    "duration": 66,
    "start_time": "2022-03-25T12:09:37.816Z"
   },
   {
    "duration": 14,
    "start_time": "2022-03-25T12:09:37.885Z"
   },
   {
    "duration": 309,
    "start_time": "2022-03-25T12:09:37.901Z"
   },
   {
    "duration": 23,
    "start_time": "2022-03-25T12:09:38.213Z"
   },
   {
    "duration": 47,
    "start_time": "2022-03-25T12:09:38.238Z"
   },
   {
    "duration": 0,
    "start_time": "2022-03-25T12:09:38.288Z"
   },
   {
    "duration": 0,
    "start_time": "2022-03-25T12:09:38.290Z"
   },
   {
    "duration": 0,
    "start_time": "2022-03-25T12:09:38.291Z"
   },
   {
    "duration": 0,
    "start_time": "2022-03-25T12:09:38.292Z"
   },
   {
    "duration": 0,
    "start_time": "2022-03-25T12:09:38.294Z"
   },
   {
    "duration": 0,
    "start_time": "2022-03-25T12:09:38.295Z"
   },
   {
    "duration": 0,
    "start_time": "2022-03-25T12:09:38.297Z"
   },
   {
    "duration": 0,
    "start_time": "2022-03-25T12:09:38.298Z"
   },
   {
    "duration": 0,
    "start_time": "2022-03-25T12:09:38.299Z"
   },
   {
    "duration": 0,
    "start_time": "2022-03-25T12:09:38.301Z"
   },
   {
    "duration": 0,
    "start_time": "2022-03-25T12:09:38.302Z"
   },
   {
    "duration": 0,
    "start_time": "2022-03-25T12:09:38.303Z"
   },
   {
    "duration": 1,
    "start_time": "2022-03-25T12:09:38.306Z"
   },
   {
    "duration": 0,
    "start_time": "2022-03-25T12:09:38.309Z"
   },
   {
    "duration": 0,
    "start_time": "2022-03-25T12:09:38.312Z"
   },
   {
    "duration": 0,
    "start_time": "2022-03-25T12:09:38.314Z"
   },
   {
    "duration": 411,
    "start_time": "2022-03-25T12:11:38.917Z"
   },
   {
    "duration": 101,
    "start_time": "2022-03-25T12:13:47.157Z"
   },
   {
    "duration": 466,
    "start_time": "2022-03-25T12:14:00.653Z"
   },
   {
    "duration": 457,
    "start_time": "2022-03-25T12:15:22.087Z"
   },
   {
    "duration": 94,
    "start_time": "2022-03-25T12:16:41.261Z"
   },
   {
    "duration": 23,
    "start_time": "2022-03-25T12:16:59.869Z"
   },
   {
    "duration": 347,
    "start_time": "2022-03-25T12:19:02.109Z"
   },
   {
    "duration": 259,
    "start_time": "2022-03-25T12:19:47.989Z"
   },
   {
    "duration": 242,
    "start_time": "2022-03-25T12:20:13.828Z"
   },
   {
    "duration": 154,
    "start_time": "2022-03-25T12:20:52.074Z"
   },
   {
    "duration": 54,
    "start_time": "2022-03-25T12:20:52.231Z"
   },
   {
    "duration": 28,
    "start_time": "2022-03-25T12:20:52.287Z"
   },
   {
    "duration": 73,
    "start_time": "2022-03-25T12:20:52.319Z"
   },
   {
    "duration": 24,
    "start_time": "2022-03-25T12:20:52.395Z"
   },
   {
    "duration": 656,
    "start_time": "2022-03-25T12:20:52.422Z"
   },
   {
    "duration": 783,
    "start_time": "2022-03-25T12:20:53.081Z"
   },
   {
    "duration": 288,
    "start_time": "2022-03-25T12:20:53.874Z"
   },
   {
    "duration": 43,
    "start_time": "2022-03-25T12:20:54.164Z"
   },
   {
    "duration": 8,
    "start_time": "2022-03-25T12:20:54.212Z"
   },
   {
    "duration": 63,
    "start_time": "2022-03-25T12:20:54.223Z"
   },
   {
    "duration": 25,
    "start_time": "2022-03-25T12:20:54.288Z"
   },
   {
    "duration": 11,
    "start_time": "2022-03-25T12:20:54.316Z"
   },
   {
    "duration": 47,
    "start_time": "2022-03-25T12:20:54.331Z"
   },
   {
    "duration": 19,
    "start_time": "2022-03-25T12:20:54.380Z"
   },
   {
    "duration": 14,
    "start_time": "2022-03-25T12:20:54.402Z"
   },
   {
    "duration": 56,
    "start_time": "2022-03-25T12:20:54.419Z"
   },
   {
    "duration": 342,
    "start_time": "2022-03-25T12:20:54.478Z"
   },
   {
    "duration": 24,
    "start_time": "2022-03-25T12:20:54.822Z"
   },
   {
    "duration": 46,
    "start_time": "2022-03-25T12:20:54.848Z"
   },
   {
    "duration": 0,
    "start_time": "2022-03-25T12:20:54.898Z"
   },
   {
    "duration": 0,
    "start_time": "2022-03-25T12:20:54.900Z"
   },
   {
    "duration": 0,
    "start_time": "2022-03-25T12:20:54.902Z"
   },
   {
    "duration": 0,
    "start_time": "2022-03-25T12:20:54.904Z"
   },
   {
    "duration": 0,
    "start_time": "2022-03-25T12:20:54.906Z"
   },
   {
    "duration": 0,
    "start_time": "2022-03-25T12:20:54.908Z"
   },
   {
    "duration": 0,
    "start_time": "2022-03-25T12:20:54.910Z"
   },
   {
    "duration": 0,
    "start_time": "2022-03-25T12:20:54.912Z"
   },
   {
    "duration": 0,
    "start_time": "2022-03-25T12:20:54.917Z"
   },
   {
    "duration": 0,
    "start_time": "2022-03-25T12:20:54.918Z"
   },
   {
    "duration": 0,
    "start_time": "2022-03-25T12:20:54.920Z"
   },
   {
    "duration": 0,
    "start_time": "2022-03-25T12:20:54.974Z"
   },
   {
    "duration": 0,
    "start_time": "2022-03-25T12:20:54.977Z"
   },
   {
    "duration": 0,
    "start_time": "2022-03-25T12:20:54.979Z"
   },
   {
    "duration": 0,
    "start_time": "2022-03-25T12:20:54.980Z"
   },
   {
    "duration": 0,
    "start_time": "2022-03-25T12:20:54.982Z"
   },
   {
    "duration": 257,
    "start_time": "2022-03-25T12:22:11.531Z"
   },
   {
    "duration": 159,
    "start_time": "2022-03-25T12:22:27.789Z"
   },
   {
    "duration": 147,
    "start_time": "2022-03-25T12:22:39.061Z"
   },
   {
    "duration": 189,
    "start_time": "2022-03-25T12:22:47.596Z"
   },
   {
    "duration": 109,
    "start_time": "2022-03-25T12:24:01.140Z"
   },
   {
    "duration": 31,
    "start_time": "2022-03-25T12:29:09.963Z"
   },
   {
    "duration": 130,
    "start_time": "2022-03-25T12:31:03.938Z"
   },
   {
    "duration": 107,
    "start_time": "2022-03-25T12:31:38.302Z"
   },
   {
    "duration": 37,
    "start_time": "2022-03-25T12:31:38.412Z"
   },
   {
    "duration": 46,
    "start_time": "2022-03-25T12:31:38.452Z"
   },
   {
    "duration": 37,
    "start_time": "2022-03-25T12:31:38.502Z"
   },
   {
    "duration": 46,
    "start_time": "2022-03-25T12:31:38.541Z"
   },
   {
    "duration": 593,
    "start_time": "2022-03-25T12:31:38.590Z"
   },
   {
    "duration": 603,
    "start_time": "2022-03-25T12:31:39.186Z"
   },
   {
    "duration": 157,
    "start_time": "2022-03-25T12:31:39.792Z"
   },
   {
    "duration": 41,
    "start_time": "2022-03-25T12:31:39.952Z"
   },
   {
    "duration": 8,
    "start_time": "2022-03-25T12:31:39.999Z"
   },
   {
    "duration": 32,
    "start_time": "2022-03-25T12:31:40.010Z"
   },
   {
    "duration": 26,
    "start_time": "2022-03-25T12:31:40.073Z"
   },
   {
    "duration": 9,
    "start_time": "2022-03-25T12:31:40.103Z"
   },
   {
    "duration": 16,
    "start_time": "2022-03-25T12:31:40.115Z"
   },
   {
    "duration": 16,
    "start_time": "2022-03-25T12:31:40.174Z"
   },
   {
    "duration": 15,
    "start_time": "2022-03-25T12:31:40.192Z"
   },
   {
    "duration": 11,
    "start_time": "2022-03-25T12:31:40.209Z"
   },
   {
    "duration": 344,
    "start_time": "2022-03-25T12:31:40.223Z"
   },
   {
    "duration": 22,
    "start_time": "2022-03-25T12:31:40.569Z"
   },
   {
    "duration": 23,
    "start_time": "2022-03-25T12:31:40.593Z"
   },
   {
    "duration": 0,
    "start_time": "2022-03-25T12:31:40.619Z"
   },
   {
    "duration": 1,
    "start_time": "2022-03-25T12:31:40.620Z"
   },
   {
    "duration": 0,
    "start_time": "2022-03-25T12:31:40.622Z"
   },
   {
    "duration": 0,
    "start_time": "2022-03-25T12:31:40.623Z"
   },
   {
    "duration": 0,
    "start_time": "2022-03-25T12:31:40.625Z"
   },
   {
    "duration": 0,
    "start_time": "2022-03-25T12:31:40.674Z"
   },
   {
    "duration": 0,
    "start_time": "2022-03-25T12:31:40.676Z"
   },
   {
    "duration": 0,
    "start_time": "2022-03-25T12:31:40.677Z"
   },
   {
    "duration": 0,
    "start_time": "2022-03-25T12:31:40.679Z"
   },
   {
    "duration": 1,
    "start_time": "2022-03-25T12:31:40.680Z"
   },
   {
    "duration": 0,
    "start_time": "2022-03-25T12:31:40.682Z"
   },
   {
    "duration": 0,
    "start_time": "2022-03-25T12:31:40.684Z"
   },
   {
    "duration": 1,
    "start_time": "2022-03-25T12:31:40.685Z"
   },
   {
    "duration": 0,
    "start_time": "2022-03-25T12:31:40.688Z"
   },
   {
    "duration": 0,
    "start_time": "2022-03-25T12:31:40.690Z"
   },
   {
    "duration": 0,
    "start_time": "2022-03-25T12:31:40.691Z"
   },
   {
    "duration": 1939,
    "start_time": "2022-03-25T12:32:26.866Z"
   },
   {
    "duration": 128,
    "start_time": "2022-03-25T12:32:57.505Z"
   },
   {
    "duration": 32,
    "start_time": "2022-03-25T12:36:49.008Z"
   },
   {
    "duration": 219,
    "start_time": "2022-03-25T12:37:10.328Z"
   },
   {
    "duration": 145,
    "start_time": "2022-03-25T12:39:25.768Z"
   },
   {
    "duration": 104,
    "start_time": "2022-03-25T12:39:32.498Z"
   },
   {
    "duration": 27,
    "start_time": "2022-03-25T12:39:44.608Z"
   },
   {
    "duration": 30,
    "start_time": "2022-03-25T12:41:14.712Z"
   },
   {
    "duration": 26,
    "start_time": "2022-03-25T12:41:48.415Z"
   },
   {
    "duration": 27,
    "start_time": "2022-03-25T12:42:39.783Z"
   },
   {
    "duration": 36,
    "start_time": "2022-03-25T12:43:59.320Z"
   },
   {
    "duration": 113,
    "start_time": "2022-03-25T12:44:31.708Z"
   },
   {
    "duration": 64,
    "start_time": "2022-03-25T12:44:31.824Z"
   },
   {
    "duration": 24,
    "start_time": "2022-03-25T12:44:31.891Z"
   },
   {
    "duration": 88,
    "start_time": "2022-03-25T12:44:31.919Z"
   },
   {
    "duration": 17,
    "start_time": "2022-03-25T12:44:32.009Z"
   },
   {
    "duration": 700,
    "start_time": "2022-03-25T12:44:32.028Z"
   },
   {
    "duration": 842,
    "start_time": "2022-03-25T12:44:32.731Z"
   },
   {
    "duration": 54,
    "start_time": "2022-03-25T12:44:33.575Z"
   },
   {
    "duration": 0,
    "start_time": "2022-03-25T12:44:33.633Z"
   },
   {
    "duration": 0,
    "start_time": "2022-03-25T12:44:33.635Z"
   },
   {
    "duration": 0,
    "start_time": "2022-03-25T12:44:33.637Z"
   },
   {
    "duration": 0,
    "start_time": "2022-03-25T12:44:33.639Z"
   },
   {
    "duration": 0,
    "start_time": "2022-03-25T12:44:33.674Z"
   },
   {
    "duration": 0,
    "start_time": "2022-03-25T12:44:33.677Z"
   },
   {
    "duration": 1,
    "start_time": "2022-03-25T12:44:33.678Z"
   },
   {
    "duration": 0,
    "start_time": "2022-03-25T12:44:33.681Z"
   },
   {
    "duration": 0,
    "start_time": "2022-03-25T12:44:33.682Z"
   },
   {
    "duration": 0,
    "start_time": "2022-03-25T12:44:33.684Z"
   },
   {
    "duration": 0,
    "start_time": "2022-03-25T12:44:33.687Z"
   },
   {
    "duration": 0,
    "start_time": "2022-03-25T12:44:33.688Z"
   },
   {
    "duration": 0,
    "start_time": "2022-03-25T12:44:33.690Z"
   },
   {
    "duration": 0,
    "start_time": "2022-03-25T12:44:33.692Z"
   },
   {
    "duration": 0,
    "start_time": "2022-03-25T12:44:33.694Z"
   },
   {
    "duration": 0,
    "start_time": "2022-03-25T12:44:33.697Z"
   },
   {
    "duration": 0,
    "start_time": "2022-03-25T12:44:33.698Z"
   },
   {
    "duration": 0,
    "start_time": "2022-03-25T12:44:33.701Z"
   },
   {
    "duration": 0,
    "start_time": "2022-03-25T12:44:33.703Z"
   },
   {
    "duration": 0,
    "start_time": "2022-03-25T12:44:33.705Z"
   },
   {
    "duration": 0,
    "start_time": "2022-03-25T12:44:33.706Z"
   },
   {
    "duration": 0,
    "start_time": "2022-03-25T12:44:33.709Z"
   },
   {
    "duration": 0,
    "start_time": "2022-03-25T12:44:33.711Z"
   },
   {
    "duration": 0,
    "start_time": "2022-03-25T12:44:33.713Z"
   },
   {
    "duration": 0,
    "start_time": "2022-03-25T12:44:33.774Z"
   },
   {
    "duration": 0,
    "start_time": "2022-03-25T12:44:33.777Z"
   },
   {
    "duration": 0,
    "start_time": "2022-03-25T12:44:33.779Z"
   },
   {
    "duration": 0,
    "start_time": "2022-03-25T12:44:33.781Z"
   },
   {
    "duration": 80,
    "start_time": "2022-03-25T12:46:29.009Z"
   },
   {
    "duration": 44,
    "start_time": "2022-03-25T12:50:34.398Z"
   },
   {
    "duration": 63,
    "start_time": "2022-03-25T12:51:53.037Z"
   },
   {
    "duration": 117,
    "start_time": "2022-03-25T12:52:21.721Z"
   },
   {
    "duration": 71,
    "start_time": "2022-03-25T12:52:21.841Z"
   },
   {
    "duration": 26,
    "start_time": "2022-03-25T12:52:21.914Z"
   },
   {
    "duration": 49,
    "start_time": "2022-03-25T12:52:21.973Z"
   },
   {
    "duration": 57,
    "start_time": "2022-03-25T12:52:22.025Z"
   },
   {
    "duration": 1172,
    "start_time": "2022-03-25T12:52:22.085Z"
   },
   {
    "duration": 654,
    "start_time": "2022-03-25T12:52:23.260Z"
   },
   {
    "duration": 78,
    "start_time": "2022-03-25T12:52:23.917Z"
   },
   {
    "duration": 0,
    "start_time": "2022-03-25T12:52:23.998Z"
   },
   {
    "duration": 0,
    "start_time": "2022-03-25T12:52:24.000Z"
   },
   {
    "duration": 0,
    "start_time": "2022-03-25T12:52:24.002Z"
   },
   {
    "duration": 1,
    "start_time": "2022-03-25T12:52:24.003Z"
   },
   {
    "duration": 0,
    "start_time": "2022-03-25T12:52:24.005Z"
   },
   {
    "duration": 0,
    "start_time": "2022-03-25T12:52:24.006Z"
   },
   {
    "duration": 0,
    "start_time": "2022-03-25T12:52:24.007Z"
   },
   {
    "duration": 0,
    "start_time": "2022-03-25T12:52:24.008Z"
   },
   {
    "duration": 0,
    "start_time": "2022-03-25T12:52:24.009Z"
   },
   {
    "duration": 0,
    "start_time": "2022-03-25T12:52:24.011Z"
   },
   {
    "duration": 0,
    "start_time": "2022-03-25T12:52:24.013Z"
   },
   {
    "duration": 0,
    "start_time": "2022-03-25T12:52:24.015Z"
   },
   {
    "duration": 1,
    "start_time": "2022-03-25T12:52:24.016Z"
   },
   {
    "duration": 0,
    "start_time": "2022-03-25T12:52:24.018Z"
   },
   {
    "duration": 0,
    "start_time": "2022-03-25T12:52:24.020Z"
   },
   {
    "duration": 0,
    "start_time": "2022-03-25T12:52:24.021Z"
   },
   {
    "duration": 0,
    "start_time": "2022-03-25T12:52:24.023Z"
   },
   {
    "duration": 0,
    "start_time": "2022-03-25T12:52:24.024Z"
   },
   {
    "duration": 0,
    "start_time": "2022-03-25T12:52:24.026Z"
   },
   {
    "duration": 0,
    "start_time": "2022-03-25T12:52:24.027Z"
   },
   {
    "duration": 0,
    "start_time": "2022-03-25T12:52:24.028Z"
   },
   {
    "duration": 0,
    "start_time": "2022-03-25T12:52:24.029Z"
   },
   {
    "duration": 0,
    "start_time": "2022-03-25T12:52:24.074Z"
   },
   {
    "duration": 0,
    "start_time": "2022-03-25T12:52:24.076Z"
   },
   {
    "duration": 0,
    "start_time": "2022-03-25T12:52:24.079Z"
   },
   {
    "duration": 0,
    "start_time": "2022-03-25T12:52:24.082Z"
   },
   {
    "duration": 0,
    "start_time": "2022-03-25T12:52:24.084Z"
   },
   {
    "duration": 0,
    "start_time": "2022-03-25T12:52:24.086Z"
   },
   {
    "duration": 47,
    "start_time": "2022-03-25T12:53:02.044Z"
   },
   {
    "duration": 183,
    "start_time": "2022-03-25T12:53:06.713Z"
   },
   {
    "duration": 88,
    "start_time": "2022-03-25T12:53:06.900Z"
   },
   {
    "duration": 45,
    "start_time": "2022-03-25T12:53:06.994Z"
   },
   {
    "duration": 80,
    "start_time": "2022-03-25T12:53:07.044Z"
   },
   {
    "duration": 17,
    "start_time": "2022-03-25T12:53:07.127Z"
   },
   {
    "duration": 684,
    "start_time": "2022-03-25T12:53:07.174Z"
   },
   {
    "duration": 688,
    "start_time": "2022-03-25T12:53:07.861Z"
   },
   {
    "duration": 64,
    "start_time": "2022-03-25T12:53:08.551Z"
   },
   {
    "duration": 0,
    "start_time": "2022-03-25T12:53:08.621Z"
   },
   {
    "duration": 0,
    "start_time": "2022-03-25T12:53:08.622Z"
   },
   {
    "duration": 0,
    "start_time": "2022-03-25T12:53:08.624Z"
   },
   {
    "duration": 0,
    "start_time": "2022-03-25T12:53:08.626Z"
   },
   {
    "duration": 0,
    "start_time": "2022-03-25T12:53:08.627Z"
   },
   {
    "duration": 0,
    "start_time": "2022-03-25T12:53:08.630Z"
   },
   {
    "duration": 0,
    "start_time": "2022-03-25T12:53:08.631Z"
   },
   {
    "duration": 0,
    "start_time": "2022-03-25T12:53:08.633Z"
   },
   {
    "duration": 0,
    "start_time": "2022-03-25T12:53:08.634Z"
   },
   {
    "duration": 0,
    "start_time": "2022-03-25T12:53:08.636Z"
   },
   {
    "duration": 0,
    "start_time": "2022-03-25T12:53:08.637Z"
   },
   {
    "duration": 0,
    "start_time": "2022-03-25T12:53:08.639Z"
   },
   {
    "duration": 0,
    "start_time": "2022-03-25T12:53:08.641Z"
   },
   {
    "duration": 0,
    "start_time": "2022-03-25T12:53:08.681Z"
   },
   {
    "duration": 0,
    "start_time": "2022-03-25T12:53:08.682Z"
   },
   {
    "duration": 0,
    "start_time": "2022-03-25T12:53:08.683Z"
   },
   {
    "duration": 0,
    "start_time": "2022-03-25T12:53:08.684Z"
   },
   {
    "duration": 0,
    "start_time": "2022-03-25T12:53:08.685Z"
   },
   {
    "duration": 0,
    "start_time": "2022-03-25T12:53:08.688Z"
   },
   {
    "duration": 0,
    "start_time": "2022-03-25T12:53:08.689Z"
   },
   {
    "duration": 0,
    "start_time": "2022-03-25T12:53:08.690Z"
   },
   {
    "duration": 0,
    "start_time": "2022-03-25T12:53:08.691Z"
   },
   {
    "duration": 0,
    "start_time": "2022-03-25T12:53:08.692Z"
   },
   {
    "duration": 0,
    "start_time": "2022-03-25T12:53:08.694Z"
   },
   {
    "duration": 0,
    "start_time": "2022-03-25T12:53:08.696Z"
   },
   {
    "duration": 1,
    "start_time": "2022-03-25T12:53:08.697Z"
   },
   {
    "duration": 0,
    "start_time": "2022-03-25T12:53:08.699Z"
   },
   {
    "duration": 0,
    "start_time": "2022-03-25T12:53:08.701Z"
   },
   {
    "duration": 324,
    "start_time": "2022-03-25T12:53:40.068Z"
   },
   {
    "duration": 299,
    "start_time": "2022-03-25T12:54:59.267Z"
   },
   {
    "duration": 246,
    "start_time": "2022-03-25T12:55:42.420Z"
   },
   {
    "duration": 259,
    "start_time": "2022-03-25T12:56:17.828Z"
   },
   {
    "duration": 261,
    "start_time": "2022-03-25T12:57:38.561Z"
   },
   {
    "duration": 114,
    "start_time": "2022-03-25T12:57:43.798Z"
   },
   {
    "duration": 37,
    "start_time": "2022-03-25T12:57:43.915Z"
   },
   {
    "duration": 44,
    "start_time": "2022-03-25T12:57:43.975Z"
   },
   {
    "duration": 36,
    "start_time": "2022-03-25T12:57:44.024Z"
   },
   {
    "duration": 19,
    "start_time": "2022-03-25T12:57:44.081Z"
   },
   {
    "duration": 676,
    "start_time": "2022-03-25T12:57:44.102Z"
   },
   {
    "duration": 1013,
    "start_time": "2022-03-25T12:57:44.781Z"
   },
   {
    "duration": 486,
    "start_time": "2022-03-25T12:57:45.797Z"
   },
   {
    "duration": 30,
    "start_time": "2022-03-25T12:57:46.286Z"
   },
   {
    "duration": 8,
    "start_time": "2022-03-25T12:57:46.320Z"
   },
   {
    "duration": 61,
    "start_time": "2022-03-25T12:57:46.330Z"
   },
   {
    "duration": 20,
    "start_time": "2022-03-25T12:57:46.394Z"
   },
   {
    "duration": 6,
    "start_time": "2022-03-25T12:57:46.417Z"
   },
   {
    "duration": 8,
    "start_time": "2022-03-25T12:57:46.426Z"
   },
   {
    "duration": 23,
    "start_time": "2022-03-25T12:57:46.473Z"
   },
   {
    "duration": 12,
    "start_time": "2022-03-25T12:57:46.498Z"
   },
   {
    "duration": 8,
    "start_time": "2022-03-25T12:57:46.512Z"
   },
   {
    "duration": 343,
    "start_time": "2022-03-25T12:57:46.522Z"
   },
   {
    "duration": 26,
    "start_time": "2022-03-25T12:57:46.867Z"
   },
   {
    "duration": 22,
    "start_time": "2022-03-25T12:57:46.895Z"
   },
   {
    "duration": 0,
    "start_time": "2022-03-25T12:57:46.920Z"
   },
   {
    "duration": 0,
    "start_time": "2022-03-25T12:57:46.921Z"
   },
   {
    "duration": 0,
    "start_time": "2022-03-25T12:57:46.923Z"
   },
   {
    "duration": 0,
    "start_time": "2022-03-25T12:57:46.925Z"
   },
   {
    "duration": 0,
    "start_time": "2022-03-25T12:57:46.926Z"
   },
   {
    "duration": 0,
    "start_time": "2022-03-25T12:57:46.928Z"
   },
   {
    "duration": 0,
    "start_time": "2022-03-25T12:57:46.929Z"
   },
   {
    "duration": 0,
    "start_time": "2022-03-25T12:57:46.976Z"
   },
   {
    "duration": 0,
    "start_time": "2022-03-25T12:57:46.978Z"
   },
   {
    "duration": 0,
    "start_time": "2022-03-25T12:57:46.984Z"
   },
   {
    "duration": 0,
    "start_time": "2022-03-25T12:57:46.985Z"
   },
   {
    "duration": 0,
    "start_time": "2022-03-25T12:57:46.987Z"
   },
   {
    "duration": 0,
    "start_time": "2022-03-25T12:57:46.988Z"
   },
   {
    "duration": 0,
    "start_time": "2022-03-25T12:57:46.991Z"
   },
   {
    "duration": 0,
    "start_time": "2022-03-25T12:57:46.993Z"
   },
   {
    "duration": 1,
    "start_time": "2022-03-25T12:57:46.994Z"
   },
   {
    "duration": 41,
    "start_time": "2022-03-25T12:59:07.170Z"
   },
   {
    "duration": 35,
    "start_time": "2022-03-25T12:59:18.404Z"
   },
   {
    "duration": 226,
    "start_time": "2022-03-25T12:59:39.171Z"
   },
   {
    "duration": 36,
    "start_time": "2022-03-25T13:00:25.108Z"
   },
   {
    "duration": 34,
    "start_time": "2022-03-25T13:00:47.098Z"
   },
   {
    "duration": 118,
    "start_time": "2022-03-25T13:00:53.014Z"
   },
   {
    "duration": 59,
    "start_time": "2022-03-25T13:00:53.135Z"
   },
   {
    "duration": 37,
    "start_time": "2022-03-25T13:00:53.198Z"
   },
   {
    "duration": 71,
    "start_time": "2022-03-25T13:00:53.240Z"
   },
   {
    "duration": 16,
    "start_time": "2022-03-25T13:00:53.313Z"
   },
   {
    "duration": 794,
    "start_time": "2022-03-25T13:00:53.331Z"
   },
   {
    "duration": 613,
    "start_time": "2022-03-25T13:00:54.128Z"
   },
   {
    "duration": 473,
    "start_time": "2022-03-25T13:00:54.744Z"
   },
   {
    "duration": 29,
    "start_time": "2022-03-25T13:00:55.220Z"
   },
   {
    "duration": 29,
    "start_time": "2022-03-25T13:00:55.253Z"
   },
   {
    "duration": 24,
    "start_time": "2022-03-25T13:00:55.285Z"
   },
   {
    "duration": 23,
    "start_time": "2022-03-25T13:00:55.311Z"
   },
   {
    "duration": 9,
    "start_time": "2022-03-25T13:00:55.373Z"
   },
   {
    "duration": 9,
    "start_time": "2022-03-25T13:00:55.385Z"
   },
   {
    "duration": 24,
    "start_time": "2022-03-25T13:00:55.397Z"
   },
   {
    "duration": 54,
    "start_time": "2022-03-25T13:00:55.423Z"
   },
   {
    "duration": 12,
    "start_time": "2022-03-25T13:00:55.480Z"
   },
   {
    "duration": 305,
    "start_time": "2022-03-25T13:00:55.495Z"
   },
   {
    "duration": 24,
    "start_time": "2022-03-25T13:00:55.803Z"
   },
   {
    "duration": 59,
    "start_time": "2022-03-25T13:00:55.830Z"
   },
   {
    "duration": 27,
    "start_time": "2022-03-25T13:00:55.892Z"
   },
   {
    "duration": 62,
    "start_time": "2022-03-25T13:00:55.921Z"
   },
   {
    "duration": 54,
    "start_time": "2022-03-25T13:00:55.986Z"
   },
   {
    "duration": 9,
    "start_time": "2022-03-25T13:00:56.042Z"
   },
   {
    "duration": 18,
    "start_time": "2022-03-25T13:00:56.076Z"
   },
   {
    "duration": 20,
    "start_time": "2022-03-25T13:00:56.097Z"
   },
   {
    "duration": 70,
    "start_time": "2022-03-25T13:00:56.119Z"
   },
   {
    "duration": 18,
    "start_time": "2022-03-25T13:00:56.195Z"
   },
   {
    "duration": 30,
    "start_time": "2022-03-25T13:00:56.216Z"
   },
   {
    "duration": 297,
    "start_time": "2022-03-25T13:00:56.248Z"
   },
   {
    "duration": 34,
    "start_time": "2022-03-25T13:00:56.548Z"
   },
   {
    "duration": 251,
    "start_time": "2022-03-25T13:00:56.585Z"
   },
   {
    "duration": 265,
    "start_time": "2022-03-25T13:00:56.839Z"
   },
   {
    "duration": 242,
    "start_time": "2022-03-25T13:00:57.106Z"
   },
   {
    "duration": 249,
    "start_time": "2022-03-25T13:00:57.351Z"
   },
   {
    "duration": 864,
    "start_time": "2022-03-25T13:00:57.603Z"
   },
   {
    "duration": 1882,
    "start_time": "2022-03-25T13:01:59.738Z"
   },
   {
    "duration": 123,
    "start_time": "2022-03-25T13:02:14.910Z"
   },
   {
    "duration": 59,
    "start_time": "2022-03-25T13:02:15.035Z"
   },
   {
    "duration": 32,
    "start_time": "2022-03-25T13:02:15.096Z"
   },
   {
    "duration": 60,
    "start_time": "2022-03-25T13:02:15.131Z"
   },
   {
    "duration": 15,
    "start_time": "2022-03-25T13:02:15.194Z"
   },
   {
    "duration": 603,
    "start_time": "2022-03-25T13:02:15.211Z"
   },
   {
    "duration": 613,
    "start_time": "2022-03-25T13:02:15.817Z"
   },
   {
    "duration": 454,
    "start_time": "2022-03-25T13:02:16.433Z"
   },
   {
    "duration": 31,
    "start_time": "2022-03-25T13:02:16.892Z"
   },
   {
    "duration": 45,
    "start_time": "2022-03-25T13:02:16.929Z"
   },
   {
    "duration": 27,
    "start_time": "2022-03-25T13:02:16.976Z"
   },
   {
    "duration": 47,
    "start_time": "2022-03-25T13:02:17.005Z"
   },
   {
    "duration": 29,
    "start_time": "2022-03-25T13:02:17.054Z"
   },
   {
    "duration": 17,
    "start_time": "2022-03-25T13:02:17.089Z"
   },
   {
    "duration": 35,
    "start_time": "2022-03-25T13:02:17.108Z"
   },
   {
    "duration": 29,
    "start_time": "2022-03-25T13:02:17.146Z"
   },
   {
    "duration": 16,
    "start_time": "2022-03-25T13:02:17.184Z"
   },
   {
    "duration": 406,
    "start_time": "2022-03-25T13:02:17.203Z"
   },
   {
    "duration": 24,
    "start_time": "2022-03-25T13:02:17.611Z"
   },
   {
    "duration": 56,
    "start_time": "2022-03-25T13:02:17.637Z"
   },
   {
    "duration": 20,
    "start_time": "2022-03-25T13:02:17.696Z"
   },
   {
    "duration": 64,
    "start_time": "2022-03-25T13:02:17.718Z"
   },
   {
    "duration": 53,
    "start_time": "2022-03-25T13:02:17.784Z"
   },
   {
    "duration": 10,
    "start_time": "2022-03-25T13:02:17.839Z"
   },
   {
    "duration": 31,
    "start_time": "2022-03-25T13:02:17.875Z"
   },
   {
    "duration": 24,
    "start_time": "2022-03-25T13:02:17.909Z"
   },
   {
    "duration": 62,
    "start_time": "2022-03-25T13:02:17.936Z"
   },
   {
    "duration": 16,
    "start_time": "2022-03-25T13:02:18.003Z"
   },
   {
    "duration": 65,
    "start_time": "2022-03-25T13:02:18.022Z"
   },
   {
    "duration": 261,
    "start_time": "2022-03-25T13:02:18.089Z"
   },
   {
    "duration": 28,
    "start_time": "2022-03-25T13:02:18.352Z"
   },
   {
    "duration": 249,
    "start_time": "2022-03-25T13:02:18.382Z"
   },
   {
    "duration": 269,
    "start_time": "2022-03-25T13:02:18.633Z"
   },
   {
    "duration": 244,
    "start_time": "2022-03-25T13:02:18.904Z"
   },
   {
    "duration": 244,
    "start_time": "2022-03-25T13:02:19.150Z"
   },
   {
    "duration": 877,
    "start_time": "2022-03-25T13:02:19.397Z"
   },
   {
    "duration": 1815,
    "start_time": "2022-03-25T13:11:06.250Z"
   },
   {
    "duration": 115,
    "start_time": "2022-03-25T13:11:14.528Z"
   },
   {
    "duration": 60,
    "start_time": "2022-03-25T13:11:14.646Z"
   },
   {
    "duration": 65,
    "start_time": "2022-03-25T13:11:14.709Z"
   },
   {
    "duration": 36,
    "start_time": "2022-03-25T13:11:14.777Z"
   },
   {
    "duration": 22,
    "start_time": "2022-03-25T13:11:14.816Z"
   },
   {
    "duration": 702,
    "start_time": "2022-03-25T13:11:14.875Z"
   },
   {
    "duration": 759,
    "start_time": "2022-03-25T13:11:15.579Z"
   },
   {
    "duration": 449,
    "start_time": "2022-03-25T13:11:16.341Z"
   },
   {
    "duration": 32,
    "start_time": "2022-03-25T13:11:16.792Z"
   },
   {
    "duration": 9,
    "start_time": "2022-03-25T13:11:16.830Z"
   },
   {
    "duration": 67,
    "start_time": "2022-03-25T13:11:16.841Z"
   },
   {
    "duration": 39,
    "start_time": "2022-03-25T13:11:16.910Z"
   },
   {
    "duration": 10,
    "start_time": "2022-03-25T13:11:16.951Z"
   },
   {
    "duration": 9,
    "start_time": "2022-03-25T13:11:16.974Z"
   },
   {
    "duration": 39,
    "start_time": "2022-03-25T13:11:16.986Z"
   },
   {
    "duration": 27,
    "start_time": "2022-03-25T13:11:17.027Z"
   },
   {
    "duration": 28,
    "start_time": "2022-03-25T13:11:17.056Z"
   },
   {
    "duration": 313,
    "start_time": "2022-03-25T13:11:17.086Z"
   },
   {
    "duration": 27,
    "start_time": "2022-03-25T13:11:17.401Z"
   },
   {
    "duration": 61,
    "start_time": "2022-03-25T13:11:17.431Z"
   },
   {
    "duration": 32,
    "start_time": "2022-03-25T13:11:17.494Z"
   },
   {
    "duration": 62,
    "start_time": "2022-03-25T13:11:17.528Z"
   },
   {
    "duration": 54,
    "start_time": "2022-03-25T13:11:17.592Z"
   },
   {
    "duration": 32,
    "start_time": "2022-03-25T13:11:17.648Z"
   },
   {
    "duration": 62,
    "start_time": "2022-03-25T13:11:17.682Z"
   },
   {
    "duration": 49,
    "start_time": "2022-03-25T13:11:17.746Z"
   },
   {
    "duration": 41,
    "start_time": "2022-03-25T13:11:17.797Z"
   },
   {
    "duration": 23,
    "start_time": "2022-03-25T13:11:17.843Z"
   },
   {
    "duration": 62,
    "start_time": "2022-03-25T13:11:17.869Z"
   },
   {
    "duration": 286,
    "start_time": "2022-03-25T13:11:17.933Z"
   },
   {
    "duration": 17,
    "start_time": "2022-03-25T13:11:18.222Z"
   },
   {
    "duration": 257,
    "start_time": "2022-03-25T13:11:18.241Z"
   },
   {
    "duration": 265,
    "start_time": "2022-03-25T13:11:18.501Z"
   },
   {
    "duration": 250,
    "start_time": "2022-03-25T13:11:18.769Z"
   },
   {
    "duration": 240,
    "start_time": "2022-03-25T13:11:19.022Z"
   },
   {
    "duration": 1029,
    "start_time": "2022-03-25T13:11:19.264Z"
   },
   {
    "duration": 10,
    "start_time": "2022-03-25T13:16:38.824Z"
   },
   {
    "duration": 1728,
    "start_time": "2022-03-25T13:36:57.785Z"
   },
   {
    "duration": 9,
    "start_time": "2022-03-25T13:37:06.369Z"
   },
   {
    "duration": 17,
    "start_time": "2022-03-25T13:37:19.336Z"
   },
   {
    "duration": 11,
    "start_time": "2022-03-25T13:37:59.666Z"
   },
   {
    "duration": 17,
    "start_time": "2022-03-25T13:38:07.001Z"
   },
   {
    "duration": 14,
    "start_time": "2022-03-25T13:38:22.969Z"
   },
   {
    "duration": 12,
    "start_time": "2022-03-25T13:38:40.548Z"
   },
   {
    "duration": 18,
    "start_time": "2022-03-25T13:39:30.235Z"
   },
   {
    "duration": 26,
    "start_time": "2022-03-25T13:40:15.570Z"
   },
   {
    "duration": 18,
    "start_time": "2022-03-25T13:40:26.752Z"
   },
   {
    "duration": 20,
    "start_time": "2022-03-25T13:40:43.024Z"
   },
   {
    "duration": 12,
    "start_time": "2022-03-25T13:40:50.450Z"
   },
   {
    "duration": 5,
    "start_time": "2022-03-25T13:41:07.240Z"
   },
   {
    "duration": 7,
    "start_time": "2022-03-25T13:41:11.552Z"
   },
   {
    "duration": 10,
    "start_time": "2022-03-25T13:43:38.784Z"
   },
   {
    "duration": 10,
    "start_time": "2022-03-25T13:44:43.703Z"
   },
   {
    "duration": 20,
    "start_time": "2022-03-25T13:45:19.688Z"
   },
   {
    "duration": 10,
    "start_time": "2022-03-25T13:46:00.863Z"
   },
   {
    "duration": 36,
    "start_time": "2022-03-25T13:46:46.872Z"
   },
   {
    "duration": 24,
    "start_time": "2022-03-25T13:47:09.143Z"
   },
   {
    "duration": 35,
    "start_time": "2022-03-25T13:47:45.487Z"
   },
   {
    "duration": 35,
    "start_time": "2022-03-25T13:48:04.110Z"
   },
   {
    "duration": 15,
    "start_time": "2022-03-25T13:48:44.935Z"
   },
   {
    "duration": 5,
    "start_time": "2022-03-25T13:49:51.688Z"
   },
   {
    "duration": 5,
    "start_time": "2022-03-25T13:50:26.671Z"
   },
   {
    "duration": 41,
    "start_time": "2022-03-25T13:51:03.927Z"
   },
   {
    "duration": 42,
    "start_time": "2022-03-25T13:51:22.902Z"
   },
   {
    "duration": 30,
    "start_time": "2022-03-25T13:51:34.350Z"
   },
   {
    "duration": 86,
    "start_time": "2022-03-25T13:54:28.500Z"
   },
   {
    "duration": 120,
    "start_time": "2022-03-25T14:05:06.187Z"
   },
   {
    "duration": 38,
    "start_time": "2022-03-25T14:05:06.309Z"
   },
   {
    "duration": 51,
    "start_time": "2022-03-25T14:05:06.349Z"
   },
   {
    "duration": 58,
    "start_time": "2022-03-25T14:05:06.403Z"
   },
   {
    "duration": 23,
    "start_time": "2022-03-25T14:05:06.463Z"
   },
   {
    "duration": 690,
    "start_time": "2022-03-25T14:05:06.488Z"
   },
   {
    "duration": 604,
    "start_time": "2022-03-25T14:05:07.181Z"
   },
   {
    "duration": 425,
    "start_time": "2022-03-25T14:05:07.788Z"
   },
   {
    "duration": 29,
    "start_time": "2022-03-25T14:05:08.215Z"
   },
   {
    "duration": 30,
    "start_time": "2022-03-25T14:05:08.248Z"
   },
   {
    "duration": 21,
    "start_time": "2022-03-25T14:05:08.280Z"
   },
   {
    "duration": 26,
    "start_time": "2022-03-25T14:05:08.303Z"
   },
   {
    "duration": 44,
    "start_time": "2022-03-25T14:05:08.332Z"
   },
   {
    "duration": 11,
    "start_time": "2022-03-25T14:05:08.378Z"
   },
   {
    "duration": 18,
    "start_time": "2022-03-25T14:05:08.391Z"
   },
   {
    "duration": 12,
    "start_time": "2022-03-25T14:05:08.410Z"
   },
   {
    "duration": 55,
    "start_time": "2022-03-25T14:05:08.425Z"
   },
   {
    "duration": 316,
    "start_time": "2022-03-25T14:05:08.482Z"
   },
   {
    "duration": 22,
    "start_time": "2022-03-25T14:05:08.800Z"
   },
   {
    "duration": 50,
    "start_time": "2022-03-25T14:05:08.825Z"
   },
   {
    "duration": 23,
    "start_time": "2022-03-25T14:05:08.877Z"
   },
   {
    "duration": 30,
    "start_time": "2022-03-25T14:05:08.902Z"
   },
   {
    "duration": 85,
    "start_time": "2022-03-25T14:05:08.934Z"
   },
   {
    "duration": 10,
    "start_time": "2022-03-25T14:05:09.021Z"
   },
   {
    "duration": 45,
    "start_time": "2022-03-25T14:05:09.033Z"
   },
   {
    "duration": 18,
    "start_time": "2022-03-25T14:05:09.080Z"
   },
   {
    "duration": 20,
    "start_time": "2022-03-25T14:05:09.100Z"
   },
   {
    "duration": 50,
    "start_time": "2022-03-25T14:05:09.124Z"
   },
   {
    "duration": 23,
    "start_time": "2022-03-25T14:05:09.176Z"
   },
   {
    "duration": 281,
    "start_time": "2022-03-25T14:05:09.201Z"
   },
   {
    "duration": 18,
    "start_time": "2022-03-25T14:05:09.485Z"
   },
   {
    "duration": 255,
    "start_time": "2022-03-25T14:05:09.505Z"
   },
   {
    "duration": 273,
    "start_time": "2022-03-25T14:05:09.762Z"
   },
   {
    "duration": 239,
    "start_time": "2022-03-25T14:05:10.037Z"
   },
   {
    "duration": 246,
    "start_time": "2022-03-25T14:05:10.278Z"
   },
   {
    "duration": 1880,
    "start_time": "2022-03-25T14:07:14.876Z"
   },
   {
    "duration": 132,
    "start_time": "2022-03-25T14:07:26.292Z"
   },
   {
    "duration": 55,
    "start_time": "2022-03-25T14:07:26.427Z"
   },
   {
    "duration": 29,
    "start_time": "2022-03-25T14:07:26.485Z"
   },
   {
    "duration": 64,
    "start_time": "2022-03-25T14:07:26.517Z"
   },
   {
    "duration": 25,
    "start_time": "2022-03-25T14:07:26.584Z"
   },
   {
    "duration": 697,
    "start_time": "2022-03-25T14:07:26.612Z"
   },
   {
    "duration": 667,
    "start_time": "2022-03-25T14:07:27.312Z"
   },
   {
    "duration": 603,
    "start_time": "2022-03-25T14:07:27.983Z"
   },
   {
    "duration": 46,
    "start_time": "2022-03-25T14:07:28.590Z"
   },
   {
    "duration": 45,
    "start_time": "2022-03-25T14:07:28.641Z"
   },
   {
    "duration": 48,
    "start_time": "2022-03-25T14:07:28.689Z"
   },
   {
    "duration": 44,
    "start_time": "2022-03-25T14:07:28.740Z"
   },
   {
    "duration": 44,
    "start_time": "2022-03-25T14:07:28.787Z"
   },
   {
    "duration": 29,
    "start_time": "2022-03-25T14:07:28.834Z"
   },
   {
    "duration": 56,
    "start_time": "2022-03-25T14:07:28.866Z"
   },
   {
    "duration": 18,
    "start_time": "2022-03-25T14:07:28.925Z"
   },
   {
    "duration": 13,
    "start_time": "2022-03-25T14:07:28.946Z"
   },
   {
    "duration": 353,
    "start_time": "2022-03-25T14:07:28.962Z"
   },
   {
    "duration": 34,
    "start_time": "2022-03-25T14:07:29.318Z"
   },
   {
    "duration": 36,
    "start_time": "2022-03-25T14:07:29.378Z"
   },
   {
    "duration": 29,
    "start_time": "2022-03-25T14:07:29.417Z"
   },
   {
    "duration": 66,
    "start_time": "2022-03-25T14:07:29.473Z"
   },
   {
    "duration": 71,
    "start_time": "2022-03-25T14:07:29.541Z"
   },
   {
    "duration": 14,
    "start_time": "2022-03-25T14:07:29.615Z"
   },
   {
    "duration": 56,
    "start_time": "2022-03-25T14:07:29.632Z"
   },
   {
    "duration": 25,
    "start_time": "2022-03-25T14:07:29.691Z"
   },
   {
    "duration": 63,
    "start_time": "2022-03-25T14:07:29.719Z"
   },
   {
    "duration": 17,
    "start_time": "2022-03-25T14:07:29.788Z"
   },
   {
    "duration": 30,
    "start_time": "2022-03-25T14:07:29.808Z"
   },
   {
    "duration": 455,
    "start_time": "2022-03-25T14:07:29.873Z"
   },
   {
    "duration": 27,
    "start_time": "2022-03-25T14:07:30.330Z"
   },
   {
    "duration": 338,
    "start_time": "2022-03-25T14:07:30.375Z"
   },
   {
    "duration": 314,
    "start_time": "2022-03-25T14:07:30.716Z"
   },
   {
    "duration": 258,
    "start_time": "2022-03-25T14:07:31.032Z"
   },
   {
    "duration": 490,
    "start_time": "2022-03-25T14:07:31.294Z"
   },
   {
    "duration": 456,
    "start_time": "2022-04-05T10:54:27.695Z"
   },
   {
    "duration": 20,
    "start_time": "2022-04-05T10:54:28.153Z"
   },
   {
    "duration": 24,
    "start_time": "2022-04-05T10:54:28.174Z"
   },
   {
    "duration": 22,
    "start_time": "2022-04-05T10:54:28.200Z"
   },
   {
    "duration": 14,
    "start_time": "2022-04-05T10:54:28.237Z"
   },
   {
    "duration": 1285,
    "start_time": "2022-04-05T10:54:28.252Z"
   },
   {
    "duration": 328,
    "start_time": "2022-04-05T10:54:29.539Z"
   },
   {
    "duration": 290,
    "start_time": "2022-04-05T10:54:29.868Z"
   },
   {
    "duration": 20,
    "start_time": "2022-04-05T10:54:30.160Z"
   },
   {
    "duration": 6,
    "start_time": "2022-04-05T10:54:30.182Z"
   },
   {
    "duration": 21,
    "start_time": "2022-04-05T10:54:30.190Z"
   },
   {
    "duration": 32,
    "start_time": "2022-04-05T10:54:30.213Z"
   },
   {
    "duration": 5,
    "start_time": "2022-04-05T10:54:30.247Z"
   },
   {
    "duration": 13,
    "start_time": "2022-04-05T10:54:30.255Z"
   },
   {
    "duration": 20,
    "start_time": "2022-04-05T10:54:30.270Z"
   },
   {
    "duration": 16,
    "start_time": "2022-04-05T10:54:30.292Z"
   },
   {
    "duration": 23,
    "start_time": "2022-04-05T10:54:30.310Z"
   },
   {
    "duration": 165,
    "start_time": "2022-04-05T10:54:30.334Z"
   },
   {
    "duration": 15,
    "start_time": "2022-04-05T10:54:30.502Z"
   },
   {
    "duration": 28,
    "start_time": "2022-04-05T10:54:30.520Z"
   },
   {
    "duration": 14,
    "start_time": "2022-04-05T10:54:30.550Z"
   },
   {
    "duration": 27,
    "start_time": "2022-04-05T10:54:30.565Z"
   },
   {
    "duration": 50,
    "start_time": "2022-04-05T10:54:30.593Z"
   },
   {
    "duration": 7,
    "start_time": "2022-04-05T10:54:30.645Z"
   },
   {
    "duration": 23,
    "start_time": "2022-04-05T10:54:30.653Z"
   },
   {
    "duration": 14,
    "start_time": "2022-04-05T10:54:30.677Z"
   },
   {
    "duration": 21,
    "start_time": "2022-04-05T10:54:30.693Z"
   },
   {
    "duration": 22,
    "start_time": "2022-04-05T10:54:30.716Z"
   },
   {
    "duration": 19,
    "start_time": "2022-04-05T10:54:30.740Z"
   },
   {
    "duration": 138,
    "start_time": "2022-04-05T10:54:30.760Z"
   },
   {
    "duration": 10,
    "start_time": "2022-04-05T10:54:30.900Z"
   },
   {
    "duration": 159,
    "start_time": "2022-04-05T10:54:30.912Z"
   },
   {
    "duration": 158,
    "start_time": "2022-04-05T10:54:31.072Z"
   },
   {
    "duration": 147,
    "start_time": "2022-04-05T10:54:31.231Z"
   },
   {
    "duration": 145,
    "start_time": "2022-04-05T10:54:31.380Z"
   },
   {
    "duration": 504,
    "start_time": "2022-04-05T11:03:57.738Z"
   },
   {
    "duration": 21,
    "start_time": "2022-04-05T11:03:58.245Z"
   },
   {
    "duration": 22,
    "start_time": "2022-04-05T11:03:58.268Z"
   },
   {
    "duration": 24,
    "start_time": "2022-04-05T11:03:58.292Z"
   },
   {
    "duration": 14,
    "start_time": "2022-04-05T11:03:58.339Z"
   },
   {
    "duration": 21,
    "start_time": "2022-04-05T11:05:27.446Z"
   },
   {
    "duration": 12,
    "start_time": "2022-04-05T11:05:40.095Z"
   },
   {
    "duration": 8,
    "start_time": "2022-04-05T11:06:00.005Z"
   },
   {
    "duration": 8,
    "start_time": "2022-04-05T11:06:43.753Z"
   },
   {
    "duration": 15,
    "start_time": "2022-04-05T11:07:01.506Z"
   },
   {
    "duration": 1105,
    "start_time": "2022-04-05T11:09:40.470Z"
   },
   {
    "duration": 131,
    "start_time": "2022-04-05T11:11:14.237Z"
   },
   {
    "duration": 127,
    "start_time": "2022-04-05T11:11:40.538Z"
   },
   {
    "duration": 150,
    "start_time": "2022-04-05T11:12:08.685Z"
   },
   {
    "duration": 323,
    "start_time": "2022-04-05T11:13:48.361Z"
   },
   {
    "duration": 309,
    "start_time": "2022-04-05T11:21:10.865Z"
   },
   {
    "duration": 31,
    "start_time": "2022-04-05T11:22:20.222Z"
   },
   {
    "duration": 8,
    "start_time": "2022-04-05T11:22:31.095Z"
   },
   {
    "duration": 14,
    "start_time": "2022-04-05T11:23:18.053Z"
   },
   {
    "duration": 16,
    "start_time": "2022-04-05T11:23:19.901Z"
   },
   {
    "duration": 7,
    "start_time": "2022-04-05T11:23:44.478Z"
   },
   {
    "duration": 7,
    "start_time": "2022-04-05T11:23:48.718Z"
   },
   {
    "duration": 11,
    "start_time": "2022-04-05T11:23:57.092Z"
   },
   {
    "duration": 10,
    "start_time": "2022-04-05T11:24:00.697Z"
   },
   {
    "duration": 8,
    "start_time": "2022-04-05T11:24:08.224Z"
   },
   {
    "duration": 171,
    "start_time": "2022-04-05T11:24:19.510Z"
   },
   {
    "duration": 16,
    "start_time": "2022-04-05T11:24:53.025Z"
   },
   {
    "duration": 16,
    "start_time": "2022-04-05T11:25:36.486Z"
   },
   {
    "duration": 23,
    "start_time": "2022-04-05T11:25:38.830Z"
   },
   {
    "duration": 22,
    "start_time": "2022-04-05T11:27:02.978Z"
   },
   {
    "duration": 36,
    "start_time": "2022-04-05T11:27:07.537Z"
   },
   {
    "duration": 8,
    "start_time": "2022-04-05T11:27:18.208Z"
   },
   {
    "duration": 18,
    "start_time": "2022-04-05T11:27:52.846Z"
   },
   {
    "duration": 20,
    "start_time": "2022-04-05T11:27:53.139Z"
   },
   {
    "duration": 23,
    "start_time": "2022-04-05T11:27:58.685Z"
   },
   {
    "duration": 15,
    "start_time": "2022-04-05T11:28:02.034Z"
   },
   {
    "duration": 17,
    "start_time": "2022-04-05T11:28:38.845Z"
   },
   {
    "duration": 146,
    "start_time": "2022-04-05T11:29:08.181Z"
   },
   {
    "duration": 14,
    "start_time": "2022-04-05T11:29:12.981Z"
   },
   {
    "duration": 151,
    "start_time": "2022-04-05T11:32:00.879Z"
   },
   {
    "duration": 174,
    "start_time": "2022-04-05T11:35:18.979Z"
   },
   {
    "duration": 167,
    "start_time": "2022-04-05T11:35:56.629Z"
   },
   {
    "duration": 231,
    "start_time": "2022-04-05T11:36:44.102Z"
   },
   {
    "duration": 5,
    "start_time": "2022-04-05T11:42:51.526Z"
   },
   {
    "duration": 534,
    "start_time": "2022-04-05T11:44:03.132Z"
   },
   {
    "duration": 23,
    "start_time": "2022-04-05T11:44:03.668Z"
   },
   {
    "duration": 31,
    "start_time": "2022-04-05T11:44:03.693Z"
   },
   {
    "duration": 32,
    "start_time": "2022-04-05T11:44:03.727Z"
   },
   {
    "duration": 15,
    "start_time": "2022-04-05T11:44:03.761Z"
   },
   {
    "duration": 1270,
    "start_time": "2022-04-05T11:44:03.778Z"
   },
   {
    "duration": 360,
    "start_time": "2022-04-05T11:44:05.050Z"
   },
   {
    "duration": 310,
    "start_time": "2022-04-05T11:44:05.413Z"
   },
   {
    "duration": 26,
    "start_time": "2022-04-05T11:44:05.725Z"
   },
   {
    "duration": 8,
    "start_time": "2022-04-05T11:44:05.754Z"
   },
   {
    "duration": 18,
    "start_time": "2022-04-05T11:44:05.763Z"
   },
   {
    "duration": 20,
    "start_time": "2022-04-05T11:44:05.783Z"
   },
   {
    "duration": 6,
    "start_time": "2022-04-05T11:44:05.804Z"
   },
   {
    "duration": 5,
    "start_time": "2022-04-05T11:44:05.839Z"
   },
   {
    "duration": 19,
    "start_time": "2022-04-05T11:44:05.846Z"
   },
   {
    "duration": 11,
    "start_time": "2022-04-05T11:44:05.867Z"
   },
   {
    "duration": 10,
    "start_time": "2022-04-05T11:44:05.880Z"
   },
   {
    "duration": 202,
    "start_time": "2022-04-05T11:44:05.892Z"
   },
   {
    "duration": 15,
    "start_time": "2022-04-05T11:44:06.096Z"
   },
   {
    "duration": 29,
    "start_time": "2022-04-05T11:44:06.113Z"
   },
   {
    "duration": 18,
    "start_time": "2022-04-05T11:44:06.144Z"
   },
   {
    "duration": 21,
    "start_time": "2022-04-05T11:44:06.164Z"
   },
   {
    "duration": 65,
    "start_time": "2022-04-05T11:44:06.187Z"
   },
   {
    "duration": 8,
    "start_time": "2022-04-05T11:44:06.254Z"
   },
   {
    "duration": 15,
    "start_time": "2022-04-05T11:44:06.264Z"
   },
   {
    "duration": 15,
    "start_time": "2022-04-05T11:44:06.280Z"
   },
   {
    "duration": 42,
    "start_time": "2022-04-05T11:44:06.297Z"
   },
   {
    "duration": 12,
    "start_time": "2022-04-05T11:44:06.343Z"
   },
   {
    "duration": 17,
    "start_time": "2022-04-05T11:44:06.357Z"
   },
   {
    "duration": 163,
    "start_time": "2022-04-05T11:44:06.376Z"
   },
   {
    "duration": 13,
    "start_time": "2022-04-05T11:44:06.540Z"
   },
   {
    "duration": 169,
    "start_time": "2022-04-05T11:44:06.555Z"
   },
   {
    "duration": 177,
    "start_time": "2022-04-05T11:44:06.727Z"
   },
   {
    "duration": 163,
    "start_time": "2022-04-05T11:44:06.906Z"
   },
   {
    "duration": 157,
    "start_time": "2022-04-05T11:44:07.071Z"
   },
   {
    "duration": 48,
    "start_time": "2022-04-08T13:56:36.290Z"
   },
   {
    "duration": 7,
    "start_time": "2022-04-08T13:56:56.990Z"
   },
   {
    "duration": 454,
    "start_time": "2022-04-08T13:57:11.331Z"
   },
   {
    "duration": 21,
    "start_time": "2022-04-08T13:57:11.787Z"
   },
   {
    "duration": 19,
    "start_time": "2022-04-08T13:57:11.810Z"
   },
   {
    "duration": 23,
    "start_time": "2022-04-08T13:57:11.831Z"
   },
   {
    "duration": 32,
    "start_time": "2022-04-08T13:57:11.856Z"
   },
   {
    "duration": 1182,
    "start_time": "2022-04-08T13:57:11.890Z"
   },
   {
    "duration": 325,
    "start_time": "2022-04-08T13:57:13.078Z"
   },
   {
    "duration": 280,
    "start_time": "2022-04-08T13:57:13.405Z"
   },
   {
    "duration": 19,
    "start_time": "2022-04-08T13:57:13.687Z"
   },
   {
    "duration": 7,
    "start_time": "2022-04-08T13:57:13.708Z"
   },
   {
    "duration": 13,
    "start_time": "2022-04-08T13:57:13.717Z"
   },
   {
    "duration": 20,
    "start_time": "2022-04-08T13:57:13.731Z"
   },
   {
    "duration": 27,
    "start_time": "2022-04-08T13:57:13.753Z"
   },
   {
    "duration": 12,
    "start_time": "2022-04-08T13:57:13.781Z"
   },
   {
    "duration": 13,
    "start_time": "2022-04-08T13:57:13.795Z"
   },
   {
    "duration": 9,
    "start_time": "2022-04-08T13:57:13.810Z"
   },
   {
    "duration": 6,
    "start_time": "2022-04-08T13:57:13.820Z"
   },
   {
    "duration": 185,
    "start_time": "2022-04-08T13:57:13.828Z"
   },
   {
    "duration": 14,
    "start_time": "2022-04-08T13:57:14.015Z"
   },
   {
    "duration": 17,
    "start_time": "2022-04-08T13:57:14.030Z"
   },
   {
    "duration": 35,
    "start_time": "2022-04-08T13:57:14.049Z"
   },
   {
    "duration": 21,
    "start_time": "2022-04-08T13:57:14.086Z"
   },
   {
    "duration": 32,
    "start_time": "2022-04-08T13:57:14.108Z"
   },
   {
    "duration": 7,
    "start_time": "2022-04-08T13:57:14.142Z"
   },
   {
    "duration": 36,
    "start_time": "2022-04-08T13:57:14.151Z"
   },
   {
    "duration": 11,
    "start_time": "2022-04-08T13:57:14.189Z"
   },
   {
    "duration": 15,
    "start_time": "2022-04-08T13:57:14.202Z"
   },
   {
    "duration": 9,
    "start_time": "2022-04-08T13:57:14.221Z"
   },
   {
    "duration": 48,
    "start_time": "2022-04-08T13:57:14.232Z"
   },
   {
    "duration": 143,
    "start_time": "2022-04-08T13:57:14.282Z"
   },
   {
    "duration": 12,
    "start_time": "2022-04-08T13:57:14.426Z"
   },
   {
    "duration": 147,
    "start_time": "2022-04-08T13:57:14.439Z"
   },
   {
    "duration": 161,
    "start_time": "2022-04-08T13:57:14.588Z"
   },
   {
    "duration": 151,
    "start_time": "2022-04-08T13:57:14.751Z"
   },
   {
    "duration": 139,
    "start_time": "2022-04-08T13:57:14.904Z"
   },
   {
    "duration": 105,
    "start_time": "2022-04-08T13:58:57.088Z"
   },
   {
    "duration": 179,
    "start_time": "2022-04-10T19:01:33.696Z"
   },
   {
    "duration": 517,
    "start_time": "2022-04-10T19:22:58.144Z"
   },
   {
    "duration": 22,
    "start_time": "2022-04-10T19:22:58.663Z"
   },
   {
    "duration": 20,
    "start_time": "2022-04-10T19:22:58.687Z"
   },
   {
    "duration": 46,
    "start_time": "2022-04-10T19:22:58.709Z"
   },
   {
    "duration": 13,
    "start_time": "2022-04-10T19:22:58.756Z"
   },
   {
    "duration": 1429,
    "start_time": "2022-04-10T19:22:58.771Z"
   },
   {
    "duration": 387,
    "start_time": "2022-04-10T19:23:00.202Z"
   },
   {
    "duration": 317,
    "start_time": "2022-04-10T19:23:00.591Z"
   },
   {
    "duration": 31,
    "start_time": "2022-04-10T19:23:00.910Z"
   },
   {
    "duration": 7,
    "start_time": "2022-04-10T19:23:00.943Z"
   },
   {
    "duration": 16,
    "start_time": "2022-04-10T19:23:00.952Z"
   },
   {
    "duration": 26,
    "start_time": "2022-04-10T19:23:00.969Z"
   },
   {
    "duration": 5,
    "start_time": "2022-04-10T19:23:00.997Z"
   },
   {
    "duration": 5,
    "start_time": "2022-04-10T19:23:01.032Z"
   },
   {
    "duration": 16,
    "start_time": "2022-04-10T19:23:01.039Z"
   },
   {
    "duration": 9,
    "start_time": "2022-04-10T19:23:01.057Z"
   },
   {
    "duration": 7,
    "start_time": "2022-04-10T19:23:01.068Z"
   },
   {
    "duration": 233,
    "start_time": "2022-04-10T19:23:01.076Z"
   },
   {
    "duration": 26,
    "start_time": "2022-04-10T19:23:01.311Z"
   },
   {
    "duration": 17,
    "start_time": "2022-04-10T19:23:01.339Z"
   },
   {
    "duration": 16,
    "start_time": "2022-04-10T19:23:01.358Z"
   },
   {
    "duration": 57,
    "start_time": "2022-04-10T19:23:01.376Z"
   },
   {
    "duration": 36,
    "start_time": "2022-04-10T19:23:01.434Z"
   },
   {
    "duration": 8,
    "start_time": "2022-04-10T19:23:01.472Z"
   },
   {
    "duration": 50,
    "start_time": "2022-04-10T19:23:01.482Z"
   },
   {
    "duration": 13,
    "start_time": "2022-04-10T19:23:01.534Z"
   },
   {
    "duration": 15,
    "start_time": "2022-04-10T19:23:01.549Z"
   },
   {
    "duration": 11,
    "start_time": "2022-04-10T19:23:01.567Z"
   },
   {
    "duration": 65,
    "start_time": "2022-04-10T19:23:01.579Z"
   },
   {
    "duration": 162,
    "start_time": "2022-04-10T19:23:01.646Z"
   },
   {
    "duration": 23,
    "start_time": "2022-04-10T19:23:01.810Z"
   },
   {
    "duration": 136,
    "start_time": "2022-04-10T19:23:01.835Z"
   },
   {
    "duration": 0,
    "start_time": "2022-04-10T19:23:01.973Z"
   },
   {
    "duration": 0,
    "start_time": "2022-04-10T19:23:01.974Z"
   },
   {
    "duration": 0,
    "start_time": "2022-04-10T19:23:01.975Z"
   },
   {
    "duration": 183,
    "start_time": "2022-04-10T19:24:19.080Z"
   },
   {
    "duration": 176,
    "start_time": "2022-04-10T19:28:53.424Z"
   },
   {
    "duration": 152,
    "start_time": "2022-04-10T19:30:07.583Z"
   },
   {
    "duration": 4,
    "start_time": "2022-04-10T19:37:29.959Z"
   },
   {
    "duration": 180,
    "start_time": "2022-04-10T19:38:11.502Z"
   },
   {
    "duration": 19,
    "start_time": "2022-04-10T19:41:31.963Z"
   },
   {
    "duration": 17,
    "start_time": "2022-04-10T19:44:06.058Z"
   },
   {
    "duration": 17,
    "start_time": "2022-04-10T19:44:09.378Z"
   },
   {
    "duration": 16,
    "start_time": "2022-04-10T19:44:22.483Z"
   },
   {
    "duration": 162,
    "start_time": "2022-04-10T19:44:33.516Z"
   },
   {
    "duration": 25,
    "start_time": "2022-04-10T19:44:33.681Z"
   },
   {
    "duration": 16,
    "start_time": "2022-04-10T19:44:33.732Z"
   },
   {
    "duration": 26,
    "start_time": "2022-04-10T19:44:33.751Z"
   },
   {
    "duration": 12,
    "start_time": "2022-04-10T19:44:33.779Z"
   },
   {
    "duration": 370,
    "start_time": "2022-04-10T19:44:33.792Z"
   },
   {
    "duration": 364,
    "start_time": "2022-04-10T19:44:34.163Z"
   },
   {
    "duration": 305,
    "start_time": "2022-04-10T19:44:34.531Z"
   },
   {
    "duration": 20,
    "start_time": "2022-04-10T19:44:34.837Z"
   },
   {
    "duration": 8,
    "start_time": "2022-04-10T19:44:34.860Z"
   },
   {
    "duration": 19,
    "start_time": "2022-04-10T19:44:34.869Z"
   },
   {
    "duration": 21,
    "start_time": "2022-04-10T19:44:34.890Z"
   },
   {
    "duration": 6,
    "start_time": "2022-04-10T19:44:34.932Z"
   },
   {
    "duration": 10,
    "start_time": "2022-04-10T19:44:34.939Z"
   },
   {
    "duration": 18,
    "start_time": "2022-04-10T19:44:34.952Z"
   },
   {
    "duration": 12,
    "start_time": "2022-04-10T19:44:34.972Z"
   },
   {
    "duration": 7,
    "start_time": "2022-04-10T19:44:34.986Z"
   },
   {
    "duration": 220,
    "start_time": "2022-04-10T19:44:34.995Z"
   },
   {
    "duration": 22,
    "start_time": "2022-04-10T19:44:35.217Z"
   },
   {
    "duration": 18,
    "start_time": "2022-04-10T19:44:35.240Z"
   },
   {
    "duration": 20,
    "start_time": "2022-04-10T19:44:35.259Z"
   },
   {
    "duration": 52,
    "start_time": "2022-04-10T19:44:35.281Z"
   },
   {
    "duration": 34,
    "start_time": "2022-04-10T19:44:35.334Z"
   },
   {
    "duration": 7,
    "start_time": "2022-04-10T19:44:35.370Z"
   },
   {
    "duration": 17,
    "start_time": "2022-04-10T19:44:35.379Z"
   },
   {
    "duration": 35,
    "start_time": "2022-04-10T19:44:35.398Z"
   },
   {
    "duration": 16,
    "start_time": "2022-04-10T19:44:35.434Z"
   },
   {
    "duration": 10,
    "start_time": "2022-04-10T19:44:35.453Z"
   },
   {
    "duration": 18,
    "start_time": "2022-04-10T19:44:35.465Z"
   },
   {
    "duration": 178,
    "start_time": "2022-04-10T19:44:35.485Z"
   },
   {
    "duration": 14,
    "start_time": "2022-04-10T19:44:35.664Z"
   },
   {
    "duration": 173,
    "start_time": "2022-04-10T19:44:35.680Z"
   },
   {
    "duration": 179,
    "start_time": "2022-04-10T19:44:35.855Z"
   },
   {
    "duration": 259,
    "start_time": "2022-04-10T19:44:36.036Z"
   },
   {
    "duration": 167,
    "start_time": "2022-04-10T19:44:36.297Z"
   },
   {
    "duration": 2833,
    "start_time": "2022-04-10T19:52:02.832Z"
   },
   {
    "duration": 2774,
    "start_time": "2022-04-10T19:52:35.895Z"
   },
   {
    "duration": 2714,
    "start_time": "2022-04-10T19:52:54.224Z"
   },
   {
    "duration": 27,
    "start_time": "2022-04-10T19:53:18.824Z"
   },
   {
    "duration": 2701,
    "start_time": "2022-04-10T19:57:04.544Z"
   },
   {
    "duration": 26,
    "start_time": "2022-04-10T19:59:07.557Z"
   },
   {
    "duration": 27,
    "start_time": "2022-04-10T19:59:31.799Z"
   },
   {
    "duration": 173,
    "start_time": "2022-04-10T20:03:52.924Z"
   },
   {
    "duration": 2692,
    "start_time": "2022-04-10T20:07:12.822Z"
   },
   {
    "duration": 16,
    "start_time": "2022-04-10T20:07:55.019Z"
   },
   {
    "duration": 19,
    "start_time": "2022-04-10T20:08:33.132Z"
   },
   {
    "duration": 2704,
    "start_time": "2022-04-10T20:08:52.267Z"
   },
   {
    "duration": 16,
    "start_time": "2022-04-10T20:09:16.285Z"
   },
   {
    "duration": 164,
    "start_time": "2022-04-10T20:09:44.235Z"
   },
   {
    "duration": 2762,
    "start_time": "2022-04-10T20:11:19.558Z"
   },
   {
    "duration": 2857,
    "start_time": "2022-04-10T20:12:03.274Z"
   },
   {
    "duration": 159,
    "start_time": "2022-04-10T20:12:54.226Z"
   },
   {
    "duration": 2692,
    "start_time": "2022-04-10T20:14:10.324Z"
   },
   {
    "duration": 2696,
    "start_time": "2022-04-10T20:14:25.155Z"
   },
   {
    "duration": 149,
    "start_time": "2022-04-10T20:14:34.849Z"
   },
   {
    "duration": 206,
    "start_time": "2022-04-10T20:15:49.242Z"
   },
   {
    "duration": 166,
    "start_time": "2022-04-10T20:16:13.753Z"
   },
   {
    "duration": 166,
    "start_time": "2022-04-10T20:16:29.386Z"
   },
   {
    "duration": 159,
    "start_time": "2022-04-10T20:16:37.969Z"
   },
   {
    "duration": 170,
    "start_time": "2022-04-10T20:16:50.338Z"
   },
   {
    "duration": 160,
    "start_time": "2022-04-10T20:17:57.433Z"
   },
   {
    "duration": 654,
    "start_time": "2022-04-11T16:07:09.897Z"
   },
   {
    "duration": 23,
    "start_time": "2022-04-11T16:07:10.553Z"
   },
   {
    "duration": 34,
    "start_time": "2022-04-11T16:07:10.578Z"
   },
   {
    "duration": 30,
    "start_time": "2022-04-11T16:07:10.615Z"
   },
   {
    "duration": 14,
    "start_time": "2022-04-11T16:07:10.647Z"
   },
   {
    "duration": 1838,
    "start_time": "2022-04-11T16:07:10.663Z"
   },
   {
    "duration": 588,
    "start_time": "2022-04-11T16:07:12.503Z"
   },
   {
    "duration": 409,
    "start_time": "2022-04-11T16:07:13.101Z"
   },
   {
    "duration": 25,
    "start_time": "2022-04-11T16:07:13.512Z"
   },
   {
    "duration": 11,
    "start_time": "2022-04-11T16:07:13.541Z"
   },
   {
    "duration": 16,
    "start_time": "2022-04-11T16:07:13.553Z"
   },
   {
    "duration": 52,
    "start_time": "2022-04-11T16:07:13.571Z"
   },
   {
    "duration": 7,
    "start_time": "2022-04-11T16:07:13.626Z"
   },
   {
    "duration": 6,
    "start_time": "2022-04-11T16:07:13.634Z"
   },
   {
    "duration": 19,
    "start_time": "2022-04-11T16:07:13.642Z"
   },
   {
    "duration": 10,
    "start_time": "2022-04-11T16:07:13.663Z"
   },
   {
    "duration": 10,
    "start_time": "2022-04-11T16:07:13.701Z"
   },
   {
    "duration": 196,
    "start_time": "2022-04-11T16:07:13.715Z"
   },
   {
    "duration": 20,
    "start_time": "2022-04-11T16:07:13.913Z"
   },
   {
    "duration": 16,
    "start_time": "2022-04-11T16:07:13.935Z"
   },
   {
    "duration": 16,
    "start_time": "2022-04-11T16:07:13.953Z"
   },
   {
    "duration": 33,
    "start_time": "2022-04-11T16:07:14.010Z"
   },
   {
    "duration": 61,
    "start_time": "2022-04-11T16:07:14.045Z"
   },
   {
    "duration": 14,
    "start_time": "2022-04-11T16:07:14.108Z"
   },
   {
    "duration": 18,
    "start_time": "2022-04-11T16:07:14.124Z"
   },
   {
    "duration": 15,
    "start_time": "2022-04-11T16:07:14.144Z"
   },
   {
    "duration": 55,
    "start_time": "2022-04-11T16:07:14.161Z"
   },
   {
    "duration": 15,
    "start_time": "2022-04-11T16:07:14.221Z"
   },
   {
    "duration": 17,
    "start_time": "2022-04-11T16:07:14.238Z"
   },
   {
    "duration": 215,
    "start_time": "2022-04-11T16:07:14.257Z"
   },
   {
    "duration": 17,
    "start_time": "2022-04-11T16:07:14.474Z"
   },
   {
    "duration": 239,
    "start_time": "2022-04-11T16:07:14.501Z"
   },
   {
    "duration": 251,
    "start_time": "2022-04-11T16:07:14.743Z"
   },
   {
    "duration": 175,
    "start_time": "2022-04-11T16:07:15.001Z"
   },
   {
    "duration": 226,
    "start_time": "2022-04-11T16:07:15.178Z"
   },
   {
    "duration": 5,
    "start_time": "2022-04-11T16:09:07.480Z"
   },
   {
    "duration": 219,
    "start_time": "2022-04-11T16:19:08.894Z"
   },
   {
    "duration": 145,
    "start_time": "2022-04-11T16:23:05.973Z"
   },
   {
    "duration": 4,
    "start_time": "2022-04-11T16:37:18.559Z"
   },
   {
    "duration": 6,
    "start_time": "2022-04-11T16:48:47.836Z"
   },
   {
    "duration": 113,
    "start_time": "2022-04-11T16:49:06.125Z"
   },
   {
    "duration": 29,
    "start_time": "2022-04-11T16:50:24.759Z"
   },
   {
    "duration": 114,
    "start_time": "2022-04-11T16:50:35.722Z"
   },
   {
    "duration": 27,
    "start_time": "2022-04-11T16:50:49.308Z"
   },
   {
    "duration": 28,
    "start_time": "2022-04-11T16:50:54.205Z"
   },
   {
    "duration": 23,
    "start_time": "2022-04-11T16:54:40.399Z"
   },
   {
    "duration": 46,
    "start_time": "2022-04-11T16:55:33.136Z"
   },
   {
    "duration": 641,
    "start_time": "2022-04-11T16:59:23.760Z"
   },
   {
    "duration": 19,
    "start_time": "2022-04-11T16:59:24.404Z"
   },
   {
    "duration": 18,
    "start_time": "2022-04-11T16:59:24.425Z"
   },
   {
    "duration": 24,
    "start_time": "2022-04-11T16:59:24.445Z"
   },
   {
    "duration": 33,
    "start_time": "2022-04-11T16:59:24.471Z"
   },
   {
    "duration": 1143,
    "start_time": "2022-04-11T16:59:24.505Z"
   },
   {
    "duration": 334,
    "start_time": "2022-04-11T16:59:25.650Z"
   },
   {
    "duration": 284,
    "start_time": "2022-04-11T16:59:25.986Z"
   },
   {
    "duration": 30,
    "start_time": "2022-04-11T16:59:26.272Z"
   },
   {
    "duration": 7,
    "start_time": "2022-04-11T16:59:26.305Z"
   },
   {
    "duration": 14,
    "start_time": "2022-04-11T16:59:26.313Z"
   },
   {
    "duration": 15,
    "start_time": "2022-04-11T16:59:26.329Z"
   },
   {
    "duration": 5,
    "start_time": "2022-04-11T16:59:26.346Z"
   },
   {
    "duration": 4,
    "start_time": "2022-04-11T16:59:26.353Z"
   },
   {
    "duration": 45,
    "start_time": "2022-04-11T16:59:26.359Z"
   },
   {
    "duration": 9,
    "start_time": "2022-04-11T16:59:26.406Z"
   },
   {
    "duration": 7,
    "start_time": "2022-04-11T16:59:26.417Z"
   },
   {
    "duration": 178,
    "start_time": "2022-04-11T16:59:26.425Z"
   },
   {
    "duration": 14,
    "start_time": "2022-04-11T16:59:26.605Z"
   },
   {
    "duration": 13,
    "start_time": "2022-04-11T16:59:26.620Z"
   },
   {
    "duration": 15,
    "start_time": "2022-04-11T16:59:26.634Z"
   },
   {
    "duration": 53,
    "start_time": "2022-04-11T16:59:26.651Z"
   },
   {
    "duration": 32,
    "start_time": "2022-04-11T16:59:26.706Z"
   },
   {
    "duration": 8,
    "start_time": "2022-04-11T16:59:26.739Z"
   },
   {
    "duration": 12,
    "start_time": "2022-04-11T16:59:26.749Z"
   },
   {
    "duration": 42,
    "start_time": "2022-04-11T16:59:26.763Z"
   },
   {
    "duration": 15,
    "start_time": "2022-04-11T16:59:26.807Z"
   },
   {
    "duration": 9,
    "start_time": "2022-04-11T16:59:26.826Z"
   },
   {
    "duration": 15,
    "start_time": "2022-04-11T16:59:26.837Z"
   },
   {
    "duration": 171,
    "start_time": "2022-04-11T16:59:26.854Z"
   },
   {
    "duration": 11,
    "start_time": "2022-04-11T16:59:27.027Z"
   },
   {
    "duration": 144,
    "start_time": "2022-04-11T16:59:27.040Z"
   },
   {
    "duration": 149,
    "start_time": "2022-04-11T16:59:27.186Z"
   },
   {
    "duration": 133,
    "start_time": "2022-04-11T16:59:27.337Z"
   },
   {
    "duration": 133,
    "start_time": "2022-04-11T16:59:27.472Z"
   },
   {
    "duration": 79,
    "start_time": "2022-04-11T16:59:27.607Z"
   },
   {
    "duration": 45,
    "start_time": "2022-04-14T12:41:40.735Z"
   },
   {
    "duration": 6,
    "start_time": "2022-04-14T12:41:45.049Z"
   },
   {
    "duration": 537,
    "start_time": "2022-04-14T12:41:50.123Z"
   },
   {
    "duration": 13,
    "start_time": "2022-04-14T12:41:50.662Z"
   },
   {
    "duration": 12,
    "start_time": "2022-04-14T12:41:50.677Z"
   },
   {
    "duration": 1144,
    "start_time": "2022-04-14T12:41:50.691Z"
   },
   {
    "duration": 313,
    "start_time": "2022-04-14T12:41:51.836Z"
   },
   {
    "duration": 543,
    "start_time": "2022-04-14T12:41:52.150Z"
   },
   {
    "duration": 17,
    "start_time": "2022-04-14T12:41:52.695Z"
   },
   {
    "duration": 7,
    "start_time": "2022-04-14T12:41:52.713Z"
   },
   {
    "duration": 34,
    "start_time": "2022-04-14T12:41:52.721Z"
   },
   {
    "duration": 15,
    "start_time": "2022-04-14T12:41:52.758Z"
   },
   {
    "duration": 17,
    "start_time": "2022-04-14T12:41:52.774Z"
   },
   {
    "duration": 18,
    "start_time": "2022-04-14T12:41:52.792Z"
   },
   {
    "duration": 8,
    "start_time": "2022-04-14T12:41:52.811Z"
   },
   {
    "duration": 29,
    "start_time": "2022-04-14T12:41:52.820Z"
   },
   {
    "duration": 12,
    "start_time": "2022-04-14T12:41:52.850Z"
   },
   {
    "duration": 8,
    "start_time": "2022-04-14T12:41:52.863Z"
   },
   {
    "duration": 5,
    "start_time": "2022-04-14T12:41:52.873Z"
   },
   {
    "duration": 170,
    "start_time": "2022-04-14T12:41:52.880Z"
   },
   {
    "duration": 13,
    "start_time": "2022-04-14T12:41:53.051Z"
   },
   {
    "duration": 12,
    "start_time": "2022-04-14T12:41:53.066Z"
   },
   {
    "duration": 4,
    "start_time": "2022-04-14T12:41:53.079Z"
   },
   {
    "duration": 15,
    "start_time": "2022-04-14T12:41:53.084Z"
   },
   {
    "duration": 49,
    "start_time": "2022-04-14T12:41:53.100Z"
   },
   {
    "duration": 31,
    "start_time": "2022-04-14T12:41:53.150Z"
   },
   {
    "duration": 8,
    "start_time": "2022-04-14T12:41:53.182Z"
   },
   {
    "duration": 11,
    "start_time": "2022-04-14T12:41:53.192Z"
   },
   {
    "duration": 11,
    "start_time": "2022-04-14T12:41:53.205Z"
   },
   {
    "duration": 13,
    "start_time": "2022-04-14T12:41:53.250Z"
   },
   {
    "duration": 9,
    "start_time": "2022-04-14T12:41:53.264Z"
   },
   {
    "duration": 18,
    "start_time": "2022-04-14T12:41:53.274Z"
   },
   {
    "duration": 144,
    "start_time": "2022-04-14T12:41:53.293Z"
   },
   {
    "duration": 16,
    "start_time": "2022-04-14T12:41:53.439Z"
   },
   {
    "duration": 129,
    "start_time": "2022-04-14T12:41:53.456Z"
   },
   {
    "duration": 146,
    "start_time": "2022-04-14T12:41:53.587Z"
   },
   {
    "duration": 135,
    "start_time": "2022-04-14T12:41:53.735Z"
   },
   {
    "duration": 129,
    "start_time": "2022-04-14T12:41:53.872Z"
   },
   {
    "duration": 87,
    "start_time": "2022-04-14T12:41:54.003Z"
   },
   {
    "duration": 135,
    "start_time": "2022-04-14T12:46:15.419Z"
   },
   {
    "duration": 132,
    "start_time": "2022-04-14T12:46:36.150Z"
   },
   {
    "duration": 14,
    "start_time": "2022-04-14T12:46:36.284Z"
   },
   {
    "duration": 11,
    "start_time": "2022-04-14T12:46:36.300Z"
   },
   {
    "duration": 391,
    "start_time": "2022-04-14T12:46:36.314Z"
   },
   {
    "duration": 311,
    "start_time": "2022-04-14T12:46:36.707Z"
   },
   {
    "duration": 550,
    "start_time": "2022-04-14T12:46:37.020Z"
   },
   {
    "duration": 17,
    "start_time": "2022-04-14T12:46:37.572Z"
   },
   {
    "duration": 7,
    "start_time": "2022-04-14T12:46:37.590Z"
   },
   {
    "duration": 13,
    "start_time": "2022-04-14T12:46:37.598Z"
   },
   {
    "duration": 37,
    "start_time": "2022-04-14T12:46:37.614Z"
   },
   {
    "duration": 17,
    "start_time": "2022-04-14T12:46:37.653Z"
   },
   {
    "duration": 23,
    "start_time": "2022-04-14T12:46:37.672Z"
   },
   {
    "duration": 5,
    "start_time": "2022-04-14T12:46:37.697Z"
   },
   {
    "duration": 4,
    "start_time": "2022-04-14T12:46:37.704Z"
   },
   {
    "duration": 10,
    "start_time": "2022-04-14T12:46:37.710Z"
   },
   {
    "duration": 9,
    "start_time": "2022-04-14T12:46:37.748Z"
   },
   {
    "duration": 7,
    "start_time": "2022-04-14T12:46:37.758Z"
   },
   {
    "duration": 169,
    "start_time": "2022-04-14T12:46:37.766Z"
   },
   {
    "duration": 22,
    "start_time": "2022-04-14T12:46:37.937Z"
   },
   {
    "duration": 12,
    "start_time": "2022-04-14T12:46:37.961Z"
   },
   {
    "duration": 4,
    "start_time": "2022-04-14T12:46:37.974Z"
   },
   {
    "duration": 16,
    "start_time": "2022-04-14T12:46:37.980Z"
   },
   {
    "duration": 18,
    "start_time": "2022-04-14T12:46:37.998Z"
   },
   {
    "duration": 59,
    "start_time": "2022-04-14T12:46:38.018Z"
   },
   {
    "duration": 6,
    "start_time": "2022-04-14T12:46:38.079Z"
   },
   {
    "duration": 17,
    "start_time": "2022-04-14T12:46:38.087Z"
   },
   {
    "duration": 11,
    "start_time": "2022-04-14T12:46:38.106Z"
   },
   {
    "duration": 34,
    "start_time": "2022-04-14T12:46:38.120Z"
   },
   {
    "duration": 8,
    "start_time": "2022-04-14T12:46:38.156Z"
   },
   {
    "duration": 16,
    "start_time": "2022-04-14T12:46:38.165Z"
   },
   {
    "duration": 149,
    "start_time": "2022-04-14T12:46:38.182Z"
   },
   {
    "duration": 17,
    "start_time": "2022-04-14T12:46:38.333Z"
   },
   {
    "duration": 130,
    "start_time": "2022-04-14T12:46:38.352Z"
   },
   {
    "duration": 141,
    "start_time": "2022-04-14T12:46:38.484Z"
   },
   {
    "duration": 131,
    "start_time": "2022-04-14T12:46:38.628Z"
   },
   {
    "duration": 136,
    "start_time": "2022-04-14T12:46:38.760Z"
   },
   {
    "duration": 51,
    "start_time": "2022-04-14T12:46:38.897Z"
   },
   {
    "duration": 1720,
    "start_time": "2022-04-14T12:48:00.874Z"
   },
   {
    "duration": 1759,
    "start_time": "2022-04-14T12:48:43.242Z"
   },
   {
    "duration": 131,
    "start_time": "2022-04-14T12:50:15.426Z"
   },
   {
    "duration": 35,
    "start_time": "2022-04-14T12:51:10.721Z"
   },
   {
    "duration": 32,
    "start_time": "2022-04-14T12:51:31.360Z"
   },
   {
    "duration": 6,
    "start_time": "2022-04-14T12:54:02.292Z"
   },
   {
    "duration": 1614,
    "start_time": "2022-04-14T12:54:12.754Z"
   },
   {
    "duration": 41,
    "start_time": "2022-04-14T12:54:47.507Z"
   },
   {
    "duration": 43,
    "start_time": "2022-04-14T12:54:57.969Z"
   },
   {
    "duration": 147,
    "start_time": "2022-04-14T12:55:07.328Z"
   },
   {
    "duration": 132,
    "start_time": "2022-04-14T12:55:23.288Z"
   },
   {
    "duration": 136,
    "start_time": "2022-04-14T12:55:26.983Z"
   },
   {
    "duration": 216,
    "start_time": "2022-04-14T12:55:41.519Z"
   },
   {
    "duration": 129,
    "start_time": "2022-04-14T12:56:03.112Z"
   },
   {
    "duration": 1900,
    "start_time": "2022-04-14T13:34:10.963Z"
   },
   {
    "duration": 150,
    "start_time": "2022-04-14T13:34:18.706Z"
   },
   {
    "duration": 19,
    "start_time": "2022-04-14T13:34:18.858Z"
   },
   {
    "duration": 15,
    "start_time": "2022-04-14T13:34:18.879Z"
   },
   {
    "duration": 325,
    "start_time": "2022-04-14T13:34:18.896Z"
   },
   {
    "duration": 312,
    "start_time": "2022-04-14T13:34:19.222Z"
   },
   {
    "duration": 730,
    "start_time": "2022-04-14T13:34:19.548Z"
   },
   {
    "duration": 0,
    "start_time": "2022-04-14T13:34:20.281Z"
   },
   {
    "duration": 0,
    "start_time": "2022-04-14T13:34:20.283Z"
   },
   {
    "duration": 0,
    "start_time": "2022-04-14T13:34:20.284Z"
   },
   {
    "duration": 0,
    "start_time": "2022-04-14T13:34:20.285Z"
   },
   {
    "duration": 0,
    "start_time": "2022-04-14T13:34:20.287Z"
   },
   {
    "duration": 0,
    "start_time": "2022-04-14T13:34:20.288Z"
   },
   {
    "duration": 0,
    "start_time": "2022-04-14T13:34:20.290Z"
   },
   {
    "duration": 0,
    "start_time": "2022-04-14T13:34:20.292Z"
   },
   {
    "duration": 0,
    "start_time": "2022-04-14T13:34:20.293Z"
   },
   {
    "duration": 0,
    "start_time": "2022-04-14T13:34:20.294Z"
   },
   {
    "duration": 0,
    "start_time": "2022-04-14T13:34:20.295Z"
   },
   {
    "duration": 0,
    "start_time": "2022-04-14T13:34:20.297Z"
   },
   {
    "duration": 0,
    "start_time": "2022-04-14T13:34:20.298Z"
   },
   {
    "duration": 0,
    "start_time": "2022-04-14T13:34:20.300Z"
   },
   {
    "duration": 0,
    "start_time": "2022-04-14T13:34:20.301Z"
   },
   {
    "duration": 0,
    "start_time": "2022-04-14T13:34:20.302Z"
   },
   {
    "duration": 0,
    "start_time": "2022-04-14T13:34:20.304Z"
   },
   {
    "duration": 0,
    "start_time": "2022-04-14T13:34:20.305Z"
   },
   {
    "duration": 0,
    "start_time": "2022-04-14T13:34:20.306Z"
   },
   {
    "duration": 0,
    "start_time": "2022-04-14T13:34:20.307Z"
   },
   {
    "duration": 0,
    "start_time": "2022-04-14T13:34:20.309Z"
   },
   {
    "duration": 0,
    "start_time": "2022-04-14T13:34:20.311Z"
   },
   {
    "duration": 0,
    "start_time": "2022-04-14T13:34:20.312Z"
   },
   {
    "duration": 0,
    "start_time": "2022-04-14T13:34:20.313Z"
   },
   {
    "duration": 0,
    "start_time": "2022-04-14T13:34:20.315Z"
   },
   {
    "duration": 0,
    "start_time": "2022-04-14T13:34:20.316Z"
   },
   {
    "duration": 0,
    "start_time": "2022-04-14T13:34:20.317Z"
   },
   {
    "duration": 0,
    "start_time": "2022-04-14T13:34:20.319Z"
   },
   {
    "duration": 0,
    "start_time": "2022-04-14T13:34:20.347Z"
   },
   {
    "duration": 0,
    "start_time": "2022-04-14T13:34:20.349Z"
   },
   {
    "duration": 0,
    "start_time": "2022-04-14T13:34:20.350Z"
   },
   {
    "duration": 296,
    "start_time": "2022-04-14T13:39:06.494Z"
   },
   {
    "duration": 25,
    "start_time": "2022-04-14T13:45:30.508Z"
   },
   {
    "duration": 117,
    "start_time": "2022-04-14T13:45:43.068Z"
   },
   {
    "duration": 16,
    "start_time": "2022-04-14T13:45:43.187Z"
   },
   {
    "duration": 12,
    "start_time": "2022-04-14T13:45:43.205Z"
   },
   {
    "duration": 338,
    "start_time": "2022-04-14T13:45:43.218Z"
   },
   {
    "duration": 323,
    "start_time": "2022-04-14T13:45:43.558Z"
   },
   {
    "duration": 573,
    "start_time": "2022-04-14T13:45:43.883Z"
   },
   {
    "duration": 18,
    "start_time": "2022-04-14T13:45:44.458Z"
   },
   {
    "duration": 7,
    "start_time": "2022-04-14T13:45:44.478Z"
   },
   {
    "duration": 12,
    "start_time": "2022-04-14T13:45:44.487Z"
   },
   {
    "duration": 15,
    "start_time": "2022-04-14T13:45:44.501Z"
   },
   {
    "duration": 18,
    "start_time": "2022-04-14T13:45:44.547Z"
   },
   {
    "duration": 19,
    "start_time": "2022-04-14T13:45:44.567Z"
   },
   {
    "duration": 9,
    "start_time": "2022-04-14T13:45:44.588Z"
   },
   {
    "duration": 4,
    "start_time": "2022-04-14T13:45:44.600Z"
   },
   {
    "duration": 45,
    "start_time": "2022-04-14T13:45:44.605Z"
   },
   {
    "duration": 11,
    "start_time": "2022-04-14T13:45:44.651Z"
   },
   {
    "duration": 7,
    "start_time": "2022-04-14T13:45:44.664Z"
   },
   {
    "duration": 251,
    "start_time": "2022-04-14T13:45:44.673Z"
   },
   {
    "duration": 30,
    "start_time": "2022-04-14T13:45:44.925Z"
   },
   {
    "duration": 16,
    "start_time": "2022-04-14T13:45:44.957Z"
   },
   {
    "duration": 5,
    "start_time": "2022-04-14T13:45:44.975Z"
   },
   {
    "duration": 22,
    "start_time": "2022-04-14T13:45:44.982Z"
   },
   {
    "duration": 45,
    "start_time": "2022-04-14T13:45:45.006Z"
   },
   {
    "duration": 30,
    "start_time": "2022-04-14T13:45:45.053Z"
   },
   {
    "duration": 7,
    "start_time": "2022-04-14T13:45:45.085Z"
   },
   {
    "duration": 16,
    "start_time": "2022-04-14T13:45:45.093Z"
   },
   {
    "duration": 42,
    "start_time": "2022-04-14T13:45:45.111Z"
   },
   {
    "duration": 14,
    "start_time": "2022-04-14T13:45:45.155Z"
   },
   {
    "duration": 9,
    "start_time": "2022-04-14T13:45:45.170Z"
   },
   {
    "duration": 16,
    "start_time": "2022-04-14T13:45:45.181Z"
   },
   {
    "duration": 156,
    "start_time": "2022-04-14T13:45:45.199Z"
   },
   {
    "duration": 11,
    "start_time": "2022-04-14T13:45:45.357Z"
   },
   {
    "duration": 195,
    "start_time": "2022-04-14T13:45:45.371Z"
   },
   {
    "duration": 204,
    "start_time": "2022-04-14T13:45:45.568Z"
   },
   {
    "duration": 185,
    "start_time": "2022-04-14T13:45:45.774Z"
   },
   {
    "duration": 204,
    "start_time": "2022-04-14T13:45:45.960Z"
   },
   {
    "duration": 83,
    "start_time": "2022-04-14T13:45:46.166Z"
   },
   {
    "duration": 328,
    "start_time": "2022-04-14T13:47:07.460Z"
   },
   {
    "duration": 33,
    "start_time": "2022-04-14T13:47:31.197Z"
   },
   {
    "duration": 35,
    "start_time": "2022-04-14T13:47:39.973Z"
   },
   {
    "duration": 140,
    "start_time": "2022-04-14T13:48:00.275Z"
   },
   {
    "duration": 120,
    "start_time": "2022-04-14T13:48:33.764Z"
   },
   {
    "duration": 131,
    "start_time": "2022-04-14T13:49:06.739Z"
   },
   {
    "duration": 130,
    "start_time": "2022-04-14T13:51:48.374Z"
   },
   {
    "duration": 42,
    "start_time": "2022-04-14T13:51:48.506Z"
   },
   {
    "duration": 10,
    "start_time": "2022-04-14T13:51:48.550Z"
   },
   {
    "duration": 481,
    "start_time": "2022-04-14T13:51:48.563Z"
   },
   {
    "duration": 325,
    "start_time": "2022-04-14T13:51:49.048Z"
   },
   {
    "duration": 573,
    "start_time": "2022-04-14T13:51:49.375Z"
   },
   {
    "duration": 18,
    "start_time": "2022-04-14T13:51:49.950Z"
   },
   {
    "duration": 9,
    "start_time": "2022-04-14T13:51:49.970Z"
   },
   {
    "duration": 13,
    "start_time": "2022-04-14T13:51:49.981Z"
   },
   {
    "duration": 16,
    "start_time": "2022-04-14T13:51:49.998Z"
   },
   {
    "duration": 19,
    "start_time": "2022-04-14T13:51:50.047Z"
   },
   {
    "duration": 20,
    "start_time": "2022-04-14T13:51:50.068Z"
   },
   {
    "duration": 9,
    "start_time": "2022-04-14T13:51:50.089Z"
   },
   {
    "duration": 8,
    "start_time": "2022-04-14T13:51:50.100Z"
   },
   {
    "duration": 39,
    "start_time": "2022-04-14T13:51:50.110Z"
   },
   {
    "duration": 10,
    "start_time": "2022-04-14T13:51:50.150Z"
   },
   {
    "duration": 6,
    "start_time": "2022-04-14T13:51:50.162Z"
   },
   {
    "duration": 244,
    "start_time": "2022-04-14T13:51:50.169Z"
   },
   {
    "duration": 17,
    "start_time": "2022-04-14T13:51:50.414Z"
   },
   {
    "duration": 27,
    "start_time": "2022-04-14T13:51:50.433Z"
   },
   {
    "duration": 4,
    "start_time": "2022-04-14T13:51:50.462Z"
   },
   {
    "duration": 20,
    "start_time": "2022-04-14T13:51:50.467Z"
   },
   {
    "duration": 29,
    "start_time": "2022-04-14T13:51:50.489Z"
   },
   {
    "duration": 71,
    "start_time": "2022-04-14T13:51:50.520Z"
   },
   {
    "duration": 10,
    "start_time": "2022-04-14T13:51:50.592Z"
   },
   {
    "duration": 14,
    "start_time": "2022-04-14T13:51:50.603Z"
   },
   {
    "duration": 30,
    "start_time": "2022-04-14T13:51:50.618Z"
   },
   {
    "duration": 14,
    "start_time": "2022-04-14T13:51:50.653Z"
   },
   {
    "duration": 9,
    "start_time": "2022-04-14T13:51:50.668Z"
   },
   {
    "duration": 16,
    "start_time": "2022-04-14T13:51:50.679Z"
   },
   {
    "duration": 158,
    "start_time": "2022-04-14T13:51:50.697Z"
   },
   {
    "duration": 16,
    "start_time": "2022-04-14T13:51:50.857Z"
   },
   {
    "duration": 160,
    "start_time": "2022-04-14T13:51:50.875Z"
   },
   {
    "duration": 169,
    "start_time": "2022-04-14T13:51:51.037Z"
   },
   {
    "duration": 133,
    "start_time": "2022-04-14T13:51:51.208Z"
   },
   {
    "duration": 143,
    "start_time": "2022-04-14T13:51:51.348Z"
   },
   {
    "duration": 57,
    "start_time": "2022-04-14T13:51:51.492Z"
   },
   {
    "duration": 514,
    "start_time": "2022-04-14T14:19:16.418Z"
   },
   {
    "duration": 18,
    "start_time": "2022-04-14T14:19:16.934Z"
   },
   {
    "duration": 24,
    "start_time": "2022-04-14T14:19:16.954Z"
   },
   {
    "duration": 1209,
    "start_time": "2022-04-14T14:19:16.980Z"
   },
   {
    "duration": 341,
    "start_time": "2022-04-14T14:19:18.191Z"
   },
   {
    "duration": 602,
    "start_time": "2022-04-14T14:19:18.534Z"
   },
   {
    "duration": 26,
    "start_time": "2022-04-14T14:19:19.138Z"
   },
   {
    "duration": 8,
    "start_time": "2022-04-14T14:19:19.166Z"
   },
   {
    "duration": 12,
    "start_time": "2022-04-14T14:19:19.175Z"
   },
   {
    "duration": 13,
    "start_time": "2022-04-14T14:19:19.189Z"
   },
   {
    "duration": 46,
    "start_time": "2022-04-14T14:19:19.203Z"
   },
   {
    "duration": 28,
    "start_time": "2022-04-14T14:19:19.251Z"
   },
   {
    "duration": 5,
    "start_time": "2022-04-14T14:19:19.281Z"
   },
   {
    "duration": 6,
    "start_time": "2022-04-14T14:19:19.288Z"
   },
   {
    "duration": 11,
    "start_time": "2022-04-14T14:19:19.296Z"
   },
   {
    "duration": 40,
    "start_time": "2022-04-14T14:19:19.309Z"
   },
   {
    "duration": 7,
    "start_time": "2022-04-14T14:19:19.357Z"
   },
   {
    "duration": 155,
    "start_time": "2022-04-14T14:19:19.366Z"
   },
   {
    "duration": 26,
    "start_time": "2022-04-14T14:19:19.523Z"
   },
   {
    "duration": 16,
    "start_time": "2022-04-14T14:19:19.550Z"
   },
   {
    "duration": 4,
    "start_time": "2022-04-14T14:19:19.568Z"
   },
   {
    "duration": 16,
    "start_time": "2022-04-14T14:19:19.573Z"
   },
   {
    "duration": 18,
    "start_time": "2022-04-14T14:19:19.591Z"
   },
   {
    "duration": 59,
    "start_time": "2022-04-14T14:19:19.610Z"
   },
   {
    "duration": 7,
    "start_time": "2022-04-14T14:19:19.671Z"
   },
   {
    "duration": 12,
    "start_time": "2022-04-14T14:19:19.680Z"
   },
   {
    "duration": 13,
    "start_time": "2022-04-14T14:19:19.693Z"
   },
   {
    "duration": 46,
    "start_time": "2022-04-14T14:19:19.710Z"
   },
   {
    "duration": 10,
    "start_time": "2022-04-14T14:19:19.758Z"
   },
   {
    "duration": 15,
    "start_time": "2022-04-14T14:19:19.769Z"
   },
   {
    "duration": 148,
    "start_time": "2022-04-14T14:19:19.785Z"
   },
   {
    "duration": 22,
    "start_time": "2022-04-14T14:19:19.934Z"
   },
   {
    "duration": 169,
    "start_time": "2022-04-14T14:19:19.957Z"
   },
   {
    "duration": 164,
    "start_time": "2022-04-14T14:19:20.128Z"
   },
   {
    "duration": 132,
    "start_time": "2022-04-14T14:19:20.293Z"
   },
   {
    "duration": 143,
    "start_time": "2022-04-14T14:19:20.427Z"
   },
   {
    "duration": 43,
    "start_time": "2022-04-14T14:19:20.572Z"
   }
  ],
  "kernelspec": {
   "display_name": "Python 3 (ipykernel)",
   "language": "python",
   "name": "python3"
  },
  "language_info": {
   "codemirror_mode": {
    "name": "ipython",
    "version": 3
   },
   "file_extension": ".py",
   "mimetype": "text/x-python",
   "name": "python",
   "nbconvert_exporter": "python",
   "pygments_lexer": "ipython3",
   "version": "3.9.7"
  },
  "toc": {
   "base_numbering": 1,
   "nav_menu": {},
   "number_sections": true,
   "sideBar": true,
   "skip_h1_title": true,
   "title_cell": "Table of Contents",
   "title_sidebar": "Contents",
   "toc_cell": false,
   "toc_position": {},
   "toc_section_display": true,
   "toc_window_display": false
  }
 },
 "nbformat": 4,
 "nbformat_minor": 5
}
