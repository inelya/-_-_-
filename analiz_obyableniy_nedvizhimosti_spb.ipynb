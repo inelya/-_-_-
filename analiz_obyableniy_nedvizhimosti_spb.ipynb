{
 "cells": [
  {
   "cell_type": "markdown",
   "metadata": {},
   "source": [
    "# Исследование объявлений о продаже квартир\n",
    "\n",
    "В нашем распоряжении данные сервиса Яндекc Недвижимость — архив объявлений о продаже квартир в Санкт-Петербурге и соседних населённых пунктах за несколько лет. Задача — установить параметры. Это позволит построить автоматизированную систему: она отследит аномалии и мошенническую деятельность. \n",
    "\n",
    "По каждой квартире на продажу доступны два вида данных. Первые вписаны пользователем, вторые получены автоматически на основе картографических данных. Например, расстояние до центра, аэропорта, ближайшего парка и водоёма. "
   ]
  },
  {
   "cell_type": "markdown",
   "metadata": {},
   "source": [
    "## Изучение данных из файла"
   ]
  },
  {
   "cell_type": "code",
   "execution_count": 214,
   "metadata": {},
   "outputs": [
    {
     "name": "stdout",
     "output_type": "stream",
     "text": [
      "<class 'pandas.core.frame.DataFrame'>\n",
      "RangeIndex: 23699 entries, 0 to 23698\n",
      "Data columns (total 22 columns):\n",
      " #   Column                Non-Null Count  Dtype  \n",
      "---  ------                --------------  -----  \n",
      " 0   total_images          23699 non-null  int64  \n",
      " 1   last_price            23699 non-null  float64\n",
      " 2   total_area            23699 non-null  float64\n",
      " 3   first_day_exposition  23699 non-null  object \n",
      " 4   rooms                 23699 non-null  int64  \n",
      " 5   ceiling_height        14504 non-null  float64\n",
      " 6   floors_total          23613 non-null  float64\n",
      " 7   living_area           21796 non-null  float64\n",
      " 8   floor                 23699 non-null  int64  \n",
      " 9   is_apartment          2775 non-null   object \n",
      " 10  studio                23699 non-null  bool   \n",
      " 11  open_plan             23699 non-null  bool   \n",
      " 12  kitchen_area          21421 non-null  float64\n",
      " 13  balcony               12180 non-null  float64\n",
      " 14  locality_name         23650 non-null  object \n",
      " 15  airports_nearest      18157 non-null  float64\n",
      " 16  cityCenters_nearest   18180 non-null  float64\n",
      " 17  parks_around3000      18181 non-null  float64\n",
      " 18  parks_nearest         8079 non-null   float64\n",
      " 19  ponds_around3000      18181 non-null  float64\n",
      " 20  ponds_nearest         9110 non-null   float64\n",
      " 21  days_exposition       20518 non-null  float64\n",
      "dtypes: bool(2), float64(14), int64(3), object(3)\n",
      "memory usage: 3.7+ MB\n"
     ]
    },
    {
     "data": {
      "text/html": [
       "<div>\n",
       "<style scoped>\n",
       "    .dataframe tbody tr th:only-of-type {\n",
       "        vertical-align: middle;\n",
       "    }\n",
       "\n",
       "    .dataframe tbody tr th {\n",
       "        vertical-align: top;\n",
       "    }\n",
       "\n",
       "    .dataframe thead th {\n",
       "        text-align: right;\n",
       "    }\n",
       "</style>\n",
       "<table border=\"1\" class=\"dataframe\">\n",
       "  <thead>\n",
       "    <tr style=\"text-align: right;\">\n",
       "      <th></th>\n",
       "      <th>total_images</th>\n",
       "      <th>last_price</th>\n",
       "      <th>total_area</th>\n",
       "      <th>first_day_exposition</th>\n",
       "      <th>rooms</th>\n",
       "      <th>ceiling_height</th>\n",
       "      <th>floors_total</th>\n",
       "      <th>living_area</th>\n",
       "      <th>floor</th>\n",
       "      <th>is_apartment</th>\n",
       "      <th>...</th>\n",
       "      <th>kitchen_area</th>\n",
       "      <th>balcony</th>\n",
       "      <th>locality_name</th>\n",
       "      <th>airports_nearest</th>\n",
       "      <th>cityCenters_nearest</th>\n",
       "      <th>parks_around3000</th>\n",
       "      <th>parks_nearest</th>\n",
       "      <th>ponds_around3000</th>\n",
       "      <th>ponds_nearest</th>\n",
       "      <th>days_exposition</th>\n",
       "    </tr>\n",
       "  </thead>\n",
       "  <tbody>\n",
       "    <tr>\n",
       "      <th>0</th>\n",
       "      <td>20</td>\n",
       "      <td>13000000.00</td>\n",
       "      <td>108.00</td>\n",
       "      <td>2019-03-07T00:00:00</td>\n",
       "      <td>3</td>\n",
       "      <td>2.70</td>\n",
       "      <td>16.00</td>\n",
       "      <td>51.00</td>\n",
       "      <td>8</td>\n",
       "      <td>NaN</td>\n",
       "      <td>...</td>\n",
       "      <td>25.00</td>\n",
       "      <td>NaN</td>\n",
       "      <td>Санкт-Петербург</td>\n",
       "      <td>18863.00</td>\n",
       "      <td>16028.00</td>\n",
       "      <td>1.00</td>\n",
       "      <td>482.00</td>\n",
       "      <td>2.00</td>\n",
       "      <td>755.00</td>\n",
       "      <td>NaN</td>\n",
       "    </tr>\n",
       "    <tr>\n",
       "      <th>1</th>\n",
       "      <td>7</td>\n",
       "      <td>3350000.00</td>\n",
       "      <td>40.40</td>\n",
       "      <td>2018-12-04T00:00:00</td>\n",
       "      <td>1</td>\n",
       "      <td>NaN</td>\n",
       "      <td>11.00</td>\n",
       "      <td>18.60</td>\n",
       "      <td>1</td>\n",
       "      <td>NaN</td>\n",
       "      <td>...</td>\n",
       "      <td>11.00</td>\n",
       "      <td>2.00</td>\n",
       "      <td>посёлок Шушары</td>\n",
       "      <td>12817.00</td>\n",
       "      <td>18603.00</td>\n",
       "      <td>0.00</td>\n",
       "      <td>NaN</td>\n",
       "      <td>0.00</td>\n",
       "      <td>NaN</td>\n",
       "      <td>81.00</td>\n",
       "    </tr>\n",
       "    <tr>\n",
       "      <th>2</th>\n",
       "      <td>10</td>\n",
       "      <td>5196000.00</td>\n",
       "      <td>56.00</td>\n",
       "      <td>2015-08-20T00:00:00</td>\n",
       "      <td>2</td>\n",
       "      <td>NaN</td>\n",
       "      <td>5.00</td>\n",
       "      <td>34.30</td>\n",
       "      <td>4</td>\n",
       "      <td>NaN</td>\n",
       "      <td>...</td>\n",
       "      <td>8.30</td>\n",
       "      <td>0.00</td>\n",
       "      <td>Санкт-Петербург</td>\n",
       "      <td>21741.00</td>\n",
       "      <td>13933.00</td>\n",
       "      <td>1.00</td>\n",
       "      <td>90.00</td>\n",
       "      <td>2.00</td>\n",
       "      <td>574.00</td>\n",
       "      <td>558.00</td>\n",
       "    </tr>\n",
       "    <tr>\n",
       "      <th>3</th>\n",
       "      <td>0</td>\n",
       "      <td>64900000.00</td>\n",
       "      <td>159.00</td>\n",
       "      <td>2015-07-24T00:00:00</td>\n",
       "      <td>3</td>\n",
       "      <td>NaN</td>\n",
       "      <td>14.00</td>\n",
       "      <td>NaN</td>\n",
       "      <td>9</td>\n",
       "      <td>NaN</td>\n",
       "      <td>...</td>\n",
       "      <td>NaN</td>\n",
       "      <td>0.00</td>\n",
       "      <td>Санкт-Петербург</td>\n",
       "      <td>28098.00</td>\n",
       "      <td>6800.00</td>\n",
       "      <td>2.00</td>\n",
       "      <td>84.00</td>\n",
       "      <td>3.00</td>\n",
       "      <td>234.00</td>\n",
       "      <td>424.00</td>\n",
       "    </tr>\n",
       "    <tr>\n",
       "      <th>4</th>\n",
       "      <td>2</td>\n",
       "      <td>10000000.00</td>\n",
       "      <td>100.00</td>\n",
       "      <td>2018-06-19T00:00:00</td>\n",
       "      <td>2</td>\n",
       "      <td>3.03</td>\n",
       "      <td>14.00</td>\n",
       "      <td>32.00</td>\n",
       "      <td>13</td>\n",
       "      <td>NaN</td>\n",
       "      <td>...</td>\n",
       "      <td>41.00</td>\n",
       "      <td>NaN</td>\n",
       "      <td>Санкт-Петербург</td>\n",
       "      <td>31856.00</td>\n",
       "      <td>8098.00</td>\n",
       "      <td>2.00</td>\n",
       "      <td>112.00</td>\n",
       "      <td>1.00</td>\n",
       "      <td>48.00</td>\n",
       "      <td>121.00</td>\n",
       "    </tr>\n",
       "  </tbody>\n",
       "</table>\n",
       "<p>5 rows × 22 columns</p>\n",
       "</div>"
      ],
      "text/plain": [
       "   total_images  last_price  total_area first_day_exposition  rooms  \\\n",
       "0            20 13000000.00      108.00  2019-03-07T00:00:00      3   \n",
       "1             7  3350000.00       40.40  2018-12-04T00:00:00      1   \n",
       "2            10  5196000.00       56.00  2015-08-20T00:00:00      2   \n",
       "3             0 64900000.00      159.00  2015-07-24T00:00:00      3   \n",
       "4             2 10000000.00      100.00  2018-06-19T00:00:00      2   \n",
       "\n",
       "   ceiling_height  floors_total  living_area  floor is_apartment  ...  \\\n",
       "0            2.70         16.00        51.00      8          NaN  ...   \n",
       "1             NaN         11.00        18.60      1          NaN  ...   \n",
       "2             NaN          5.00        34.30      4          NaN  ...   \n",
       "3             NaN         14.00          NaN      9          NaN  ...   \n",
       "4            3.03         14.00        32.00     13          NaN  ...   \n",
       "\n",
       "   kitchen_area  balcony    locality_name  airports_nearest  \\\n",
       "0         25.00      NaN  Санкт-Петербург          18863.00   \n",
       "1         11.00     2.00   посёлок Шушары          12817.00   \n",
       "2          8.30     0.00  Санкт-Петербург          21741.00   \n",
       "3           NaN     0.00  Санкт-Петербург          28098.00   \n",
       "4         41.00      NaN  Санкт-Петербург          31856.00   \n",
       "\n",
       "  cityCenters_nearest  parks_around3000  parks_nearest  ponds_around3000  \\\n",
       "0            16028.00              1.00         482.00              2.00   \n",
       "1            18603.00              0.00            NaN              0.00   \n",
       "2            13933.00              1.00          90.00              2.00   \n",
       "3             6800.00              2.00          84.00              3.00   \n",
       "4             8098.00              2.00         112.00              1.00   \n",
       "\n",
       "   ponds_nearest  days_exposition  \n",
       "0         755.00              NaN  \n",
       "1            NaN            81.00  \n",
       "2         574.00           558.00  \n",
       "3         234.00           424.00  \n",
       "4          48.00           121.00  \n",
       "\n",
       "[5 rows x 22 columns]"
      ]
     },
     "execution_count": 214,
     "metadata": {},
     "output_type": "execute_result"
    }
   ],
   "source": [
    "# Импорт библиотек\n",
    "\n",
    "import pandas as pd\n",
    "import os.path, time\n",
    "import datetime\n",
    "from datetime import timedelta, datetime # для работы с датами\n",
    "import numpy as np # для удобства вычислений\n",
    "import matplotlib.pyplot as plt # импортируем библиотеку, стандартно используется имя plt\n",
    "\n",
    "import seaborn as sns\n",
    "\n",
    "try:\n",
    "    df = pd.read_csv('C:/Users/datasets/real_estate_data.csv', sep='\\t')\n",
    "except:\n",
    "    df = pd.read_csv('/datasets/real_estate_data.csv', sep='\\t')  # Серверный путь\n",
    "df.info()\n",
    "df.head()\n"
   ]
  },
  {
   "cell_type": "markdown",
   "metadata": {},
   "source": [
    "### Вывод"
   ]
  },
  {
   "cell_type": "markdown",
   "metadata": {},
   "source": [
    "Всего в датафрейме 23699 строк, видно, что в некоторых столбцах значения пропущены. Изначально все данные были склеены в одну строку, разделение было через \"\\t\", что мы и указали в в качестве разделителя при чтении файла.\n",
    "Также заметила, что в некоторых столбцах требуется корректировка типа данных: например, значение в столбце аппартаменты лучше выбрать логический тип данных(да/нет), first_day_exposition (дата публикации) - тип date, days_exposition(время размещения в днях) - целый тип integer, parks_around3000(парки поблизости) -  тоже лучше выбрать целый тип данных и пр.\n"
   ]
  },
  {
   "cell_type": "markdown",
   "metadata": {},
   "source": [
    "Очень много пропусков, нужно разобраться в связи с чем такое количество.\n"
   ]
  },
  {
   "cell_type": "markdown",
   "metadata": {},
   "source": [
    "## Предобработка данных"
   ]
  },
  {
   "cell_type": "markdown",
   "metadata": {},
   "source": [
    "Для начала определим пропущенные значения."
   ]
  },
  {
   "cell_type": "code",
   "execution_count": 215,
   "metadata": {
    "scrolled": true
   },
   "outputs": [
    {
     "data": {
      "text/plain": [
       "total_images                0\n",
       "last_price                  0\n",
       "total_area                  0\n",
       "first_day_exposition        0\n",
       "rooms                       0\n",
       "ceiling_height           9195\n",
       "floors_total               86\n",
       "living_area              1903\n",
       "floor                       0\n",
       "is_apartment            20924\n",
       "studio                      0\n",
       "open_plan                   0\n",
       "kitchen_area             2278\n",
       "balcony                 11519\n",
       "locality_name              49\n",
       "airports_nearest         5542\n",
       "cityCenters_nearest      5519\n",
       "parks_around3000         5518\n",
       "parks_nearest           15620\n",
       "ponds_around3000         5518\n",
       "ponds_nearest           14589\n",
       "days_exposition          3181\n",
       "dtype: int64"
      ]
     },
     "execution_count": 215,
     "metadata": {},
     "output_type": "execute_result"
    }
   ],
   "source": [
    "df.isnull().sum()\n"
   ]
  },
  {
   "cell_type": "markdown",
   "metadata": {},
   "source": [
    "<p><span style=\"color:#2F4F4F\"><em>ceiling_height &nbsp; &nbsp; &nbsp; &nbsp; &nbsp; 9195 - высота потолков скорее всего не указана из-за отсутствия точных данных у владельца<br />\n",
    "living_area &nbsp; &nbsp; &nbsp; &nbsp; &nbsp; &nbsp; &nbsp;1903 - отсутствие данных&nbsp;<br />\n",
    "floors_total &nbsp; &nbsp; &nbsp; &nbsp; &nbsp; &nbsp; &nbsp; 86&nbsp;<br />\n",
    "is_apartment &nbsp; &nbsp; &nbsp; &nbsp; &nbsp; &nbsp;20924<br />\n",
    "kitchen_area &nbsp; &nbsp; &nbsp; &nbsp; &nbsp; &nbsp; 2278 - либо кухни нет, если это студия, либо нет точных данных<br />\n",
    "balcony &nbsp; &nbsp; &nbsp; &nbsp; &nbsp; &nbsp; &nbsp; &nbsp; 11519 - часто люди путают значение лоджия и балкон, например, поэтому просто могли пропустить этот пункт, либо балконов просто нет<br />\n",
    "locality_name &nbsp; &nbsp; &nbsp; &nbsp; &nbsp; &nbsp; &nbsp;49<br />\n",
    "airports_nearest &nbsp; &nbsp; &nbsp; &nbsp; 5542<br />\n",
    "cityCenters_nearest &nbsp; &nbsp; &nbsp;5519<br />\n",
    "parks_around3000 &nbsp; &nbsp; &nbsp; &nbsp; 5518<br />\n",
    "parks_nearest &nbsp; &nbsp; &nbsp; &nbsp; &nbsp; 15620 - скорее всего не указана из-за отсутствия точных данных у владельца или отсутствия парков<br />\n",
    "ponds_around3000 &nbsp; &nbsp; &nbsp; &nbsp; 5518<br />\n",
    "ponds_nearest &nbsp; &nbsp; &nbsp; &nbsp; &nbsp; 14589<br />\n",
    "days_exposition &nbsp; &nbsp; &nbsp; &nbsp; &nbsp;3181 - вот это странные пропуски, т.к. в данных first_day_exposition - пропусков нет, непонятно откуда могли взять пропусти в столбце с количеством дней публикации</em></span></p>\n"
   ]
  },
  {
   "cell_type": "code",
   "execution_count": 216,
   "metadata": {},
   "outputs": [],
   "source": [
    "# сначала перименуем столбец, чтобы было в едином регистре\n",
    "df.rename(columns = {'cityCenters_nearest':'citycenters_nearest'}, inplace=True)\n",
    "\n",
    "# меньше всего пропусков во floors_total и locality_name - можно их удалить, они не повлиют на статистику\n",
    "df.dropna(subset=['locality_name', 'floors_total'], inplace=True)"
   ]
  },
  {
   "cell_type": "code",
   "execution_count": 217,
   "metadata": {},
   "outputs": [
    {
     "data": {
      "text/plain": [
       "False    2710\n",
       "True       50\n",
       "Name: is_apartment, dtype: int64"
      ]
     },
     "execution_count": 217,
     "metadata": {},
     "output_type": "execute_result"
    }
   ],
   "source": [
    "# очень много пропусков в столбце is_apartment, \n",
    "# вероятно из-за того, что пользователи отмечали этот пункт  только в случае, если это аппартаменты\n",
    "df['is_apartment'].value_counts() "
   ]
  },
  {
   "cell_type": "code",
   "execution_count": 218,
   "metadata": {},
   "outputs": [],
   "source": [
    "# заменим пропуски на False\n",
    "df['is_apartment'] = df['is_apartment'].fillna(value=False)"
   ]
  },
  {
   "cell_type": "code",
   "execution_count": 219,
   "metadata": {},
   "outputs": [],
   "source": [
    "# Если это студия, то пропуски в записях с площадью кухни заменим на 0\n",
    "df.loc[(df['studio'] == True) & (df['kitchen_area'] == None), 'kitchen_area'] == 0\n",
    "df['kitchen_area'] = df['kitchen_area'].fillna(value=0).astype(float)\n"
   ]
  },
  {
   "cell_type": "code",
   "execution_count": 220,
   "metadata": {
    "scrolled": false
   },
   "outputs": [
    {
     "data": {
      "text/html": [
       "<div>\n",
       "<style scoped>\n",
       "    .dataframe tbody tr th:only-of-type {\n",
       "        vertical-align: middle;\n",
       "    }\n",
       "\n",
       "    .dataframe tbody tr th {\n",
       "        vertical-align: top;\n",
       "    }\n",
       "\n",
       "    .dataframe thead th {\n",
       "        text-align: right;\n",
       "    }\n",
       "</style>\n",
       "<table border=\"1\" class=\"dataframe\">\n",
       "  <thead>\n",
       "    <tr style=\"text-align: right;\">\n",
       "      <th></th>\n",
       "      <th>locality_name</th>\n",
       "    </tr>\n",
       "  </thead>\n",
       "  <tbody>\n",
       "    <tr>\n",
       "      <th>Санкт-Петербург</th>\n",
       "      <td>15651</td>\n",
       "    </tr>\n",
       "    <tr>\n",
       "      <th>посёлок Мурино</th>\n",
       "      <td>520</td>\n",
       "    </tr>\n",
       "    <tr>\n",
       "      <th>посёлок Шушары</th>\n",
       "      <td>439</td>\n",
       "    </tr>\n",
       "    <tr>\n",
       "      <th>Всеволожск</th>\n",
       "      <td>398</td>\n",
       "    </tr>\n",
       "    <tr>\n",
       "      <th>Пушкин</th>\n",
       "      <td>369</td>\n",
       "    </tr>\n",
       "    <tr>\n",
       "      <th>Колпино</th>\n",
       "      <td>338</td>\n",
       "    </tr>\n",
       "    <tr>\n",
       "      <th>посёлок Парголово</th>\n",
       "      <td>327</td>\n",
       "    </tr>\n",
       "    <tr>\n",
       "      <th>Гатчина</th>\n",
       "      <td>307</td>\n",
       "    </tr>\n",
       "    <tr>\n",
       "      <th>деревня Кудрово</th>\n",
       "      <td>299</td>\n",
       "    </tr>\n",
       "    <tr>\n",
       "      <th>Выборг</th>\n",
       "      <td>237</td>\n",
       "    </tr>\n",
       "    <tr>\n",
       "      <th>Петергоф</th>\n",
       "      <td>201</td>\n",
       "    </tr>\n",
       "    <tr>\n",
       "      <th>Сестрорецк</th>\n",
       "      <td>183</td>\n",
       "    </tr>\n",
       "    <tr>\n",
       "      <th>Красное Село</th>\n",
       "      <td>176</td>\n",
       "    </tr>\n",
       "    <tr>\n",
       "      <th>Кудрово</th>\n",
       "      <td>171</td>\n",
       "    </tr>\n",
       "    <tr>\n",
       "      <th>деревня Новое Девяткино</th>\n",
       "      <td>143</td>\n",
       "    </tr>\n",
       "    <tr>\n",
       "      <th>Сертолово</th>\n",
       "      <td>142</td>\n",
       "    </tr>\n",
       "    <tr>\n",
       "      <th>Ломоносов</th>\n",
       "      <td>133</td>\n",
       "    </tr>\n",
       "    <tr>\n",
       "      <th>Кириши</th>\n",
       "      <td>125</td>\n",
       "    </tr>\n",
       "    <tr>\n",
       "      <th>Сланцы</th>\n",
       "      <td>112</td>\n",
       "    </tr>\n",
       "    <tr>\n",
       "      <th>Волхов</th>\n",
       "      <td>111</td>\n",
       "    </tr>\n",
       "    <tr>\n",
       "      <th>Тосно</th>\n",
       "      <td>104</td>\n",
       "    </tr>\n",
       "    <tr>\n",
       "      <th>Кингисепп</th>\n",
       "      <td>104</td>\n",
       "    </tr>\n",
       "    <tr>\n",
       "      <th>Кронштадт</th>\n",
       "      <td>96</td>\n",
       "    </tr>\n",
       "    <tr>\n",
       "      <th>Никольское</th>\n",
       "      <td>93</td>\n",
       "    </tr>\n",
       "    <tr>\n",
       "      <th>Коммунар</th>\n",
       "      <td>89</td>\n",
       "    </tr>\n",
       "    <tr>\n",
       "      <th>Сосновый Бор</th>\n",
       "      <td>87</td>\n",
       "    </tr>\n",
       "    <tr>\n",
       "      <th>Кировск</th>\n",
       "      <td>84</td>\n",
       "    </tr>\n",
       "    <tr>\n",
       "      <th>Отрадное</th>\n",
       "      <td>80</td>\n",
       "    </tr>\n",
       "    <tr>\n",
       "      <th>посёлок Бугры</th>\n",
       "      <td>68</td>\n",
       "    </tr>\n",
       "    <tr>\n",
       "      <th>посёлок Металлострой</th>\n",
       "      <td>66</td>\n",
       "    </tr>\n",
       "    <tr>\n",
       "      <th>Приозерск</th>\n",
       "      <td>66</td>\n",
       "    </tr>\n",
       "    <tr>\n",
       "      <th>деревня Старая</th>\n",
       "      <td>64</td>\n",
       "    </tr>\n",
       "    <tr>\n",
       "      <th>городской посёлок Янино-1</th>\n",
       "      <td>61</td>\n",
       "    </tr>\n",
       "    <tr>\n",
       "      <th>Шлиссельбург</th>\n",
       "      <td>57</td>\n",
       "    </tr>\n",
       "    <tr>\n",
       "      <th>Луга</th>\n",
       "      <td>56</td>\n",
       "    </tr>\n",
       "    <tr>\n",
       "      <th>Тихвин</th>\n",
       "      <td>49</td>\n",
       "    </tr>\n",
       "    <tr>\n",
       "      <th>поселок Бугры</th>\n",
       "      <td>45</td>\n",
       "    </tr>\n",
       "    <tr>\n",
       "      <th>посёлок Стрельна</th>\n",
       "      <td>43</td>\n",
       "    </tr>\n",
       "    <tr>\n",
       "      <th>посёлок Тельмана</th>\n",
       "      <td>39</td>\n",
       "    </tr>\n",
       "    <tr>\n",
       "      <th>Павловск</th>\n",
       "      <td>38</td>\n",
       "    </tr>\n",
       "    <tr>\n",
       "      <th>Волосово</th>\n",
       "      <td>36</td>\n",
       "    </tr>\n",
       "    <tr>\n",
       "      <th>поселок Романовка</th>\n",
       "      <td>36</td>\n",
       "    </tr>\n",
       "    <tr>\n",
       "      <th>Мурино</th>\n",
       "      <td>34</td>\n",
       "    </tr>\n",
       "    <tr>\n",
       "      <th>поселок Мурино</th>\n",
       "      <td>32</td>\n",
       "    </tr>\n",
       "    <tr>\n",
       "      <th>посёлок городского типа Сиверский</th>\n",
       "      <td>29</td>\n",
       "    </tr>\n",
       "    <tr>\n",
       "      <th>Ивангород</th>\n",
       "      <td>28</td>\n",
       "    </tr>\n",
       "    <tr>\n",
       "      <th>городской посёлок Новоселье</th>\n",
       "      <td>27</td>\n",
       "    </tr>\n",
       "    <tr>\n",
       "      <th>городской посёлок Мга</th>\n",
       "      <td>27</td>\n",
       "    </tr>\n",
       "    <tr>\n",
       "      <th>поселок городского типа имени Свердлова</th>\n",
       "      <td>25</td>\n",
       "    </tr>\n",
       "    <tr>\n",
       "      <th>Зеленогорск</th>\n",
       "      <td>24</td>\n",
       "    </tr>\n",
       "  </tbody>\n",
       "</table>\n",
       "</div>"
      ],
      "text/plain": [
       "                                         locality_name\n",
       "Санкт-Петербург                                  15651\n",
       "посёлок Мурино                                     520\n",
       "посёлок Шушары                                     439\n",
       "Всеволожск                                         398\n",
       "Пушкин                                             369\n",
       "Колпино                                            338\n",
       "посёлок Парголово                                  327\n",
       "Гатчина                                            307\n",
       "деревня Кудрово                                    299\n",
       "Выборг                                             237\n",
       "Петергоф                                           201\n",
       "Сестрорецк                                         183\n",
       "Красное Село                                       176\n",
       "Кудрово                                            171\n",
       "деревня Новое Девяткино                            143\n",
       "Сертолово                                          142\n",
       "Ломоносов                                          133\n",
       "Кириши                                             125\n",
       "Сланцы                                             112\n",
       "Волхов                                             111\n",
       "Тосно                                              104\n",
       "Кингисепп                                          104\n",
       "Кронштадт                                           96\n",
       "Никольское                                          93\n",
       "Коммунар                                            89\n",
       "Сосновый Бор                                        87\n",
       "Кировск                                             84\n",
       "Отрадное                                            80\n",
       "посёлок Бугры                                       68\n",
       "посёлок Металлострой                                66\n",
       "Приозерск                                           66\n",
       "деревня Старая                                      64\n",
       "городской посёлок Янино-1                           61\n",
       "Шлиссельбург                                        57\n",
       "Луга                                                56\n",
       "Тихвин                                              49\n",
       "поселок Бугры                                       45\n",
       "посёлок Стрельна                                    43\n",
       "посёлок Тельмана                                    39\n",
       "Павловск                                            38\n",
       "Волосово                                            36\n",
       "поселок Романовка                                   36\n",
       "Мурино                                              34\n",
       "поселок Мурино                                      32\n",
       "посёлок городского типа Сиверский                   29\n",
       "Ивангород                                           28\n",
       "городской посёлок Новоселье                         27\n",
       "городской посёлок Мга                               27\n",
       "поселок городского типа имени Свердлова             25\n",
       "Зеленогорск                                         24"
      ]
     },
     "execution_count": 220,
     "metadata": {},
     "output_type": "execute_result"
    }
   ],
   "source": [
    "# проверим какие значения есть в названии населенных пунктов, выведем первые 50 строк сверху\n",
    "df['locality_name'].value_counts().to_frame().head(50)"
   ]
  },
  {
   "cell_type": "markdown",
   "metadata": {},
   "source": [
    "(!) Как можно заметить на первый взгляд - достаточно много дублирующих значений. Устраним их."
   ]
  },
  {
   "cell_type": "code",
   "execution_count": 221,
   "metadata": {},
   "outputs": [
    {
     "data": {
      "text/html": [
       "<div>\n",
       "<style scoped>\n",
       "    .dataframe tbody tr th:only-of-type {\n",
       "        vertical-align: middle;\n",
       "    }\n",
       "\n",
       "    .dataframe tbody tr th {\n",
       "        vertical-align: top;\n",
       "    }\n",
       "\n",
       "    .dataframe thead th {\n",
       "        text-align: right;\n",
       "    }\n",
       "</style>\n",
       "<table border=\"1\" class=\"dataframe\">\n",
       "  <thead>\n",
       "    <tr style=\"text-align: right;\">\n",
       "      <th></th>\n",
       "      <th>locality_name</th>\n",
       "    </tr>\n",
       "  </thead>\n",
       "  <tbody>\n",
       "    <tr>\n",
       "      <th>Санкт-Петербург</th>\n",
       "      <td>15651</td>\n",
       "    </tr>\n",
       "    <tr>\n",
       "      <th>Мурино</th>\n",
       "      <td>586</td>\n",
       "    </tr>\n",
       "    <tr>\n",
       "      <th>Кудрово</th>\n",
       "      <td>470</td>\n",
       "    </tr>\n",
       "    <tr>\n",
       "      <th>поселок Шушары</th>\n",
       "      <td>439</td>\n",
       "    </tr>\n",
       "    <tr>\n",
       "      <th>Всеволожск</th>\n",
       "      <td>398</td>\n",
       "    </tr>\n",
       "    <tr>\n",
       "      <th>Пушкин</th>\n",
       "      <td>369</td>\n",
       "    </tr>\n",
       "    <tr>\n",
       "      <th>Колпино</th>\n",
       "      <td>338</td>\n",
       "    </tr>\n",
       "    <tr>\n",
       "      <th>поселок Парголово</th>\n",
       "      <td>327</td>\n",
       "    </tr>\n",
       "    <tr>\n",
       "      <th>Гатчина</th>\n",
       "      <td>307</td>\n",
       "    </tr>\n",
       "    <tr>\n",
       "      <th>Выборг</th>\n",
       "      <td>237</td>\n",
       "    </tr>\n",
       "    <tr>\n",
       "      <th>Петергоф</th>\n",
       "      <td>201</td>\n",
       "    </tr>\n",
       "    <tr>\n",
       "      <th>Сестрорецк</th>\n",
       "      <td>183</td>\n",
       "    </tr>\n",
       "    <tr>\n",
       "      <th>Красное Село</th>\n",
       "      <td>176</td>\n",
       "    </tr>\n",
       "    <tr>\n",
       "      <th>деревня Новое Девяткино</th>\n",
       "      <td>143</td>\n",
       "    </tr>\n",
       "    <tr>\n",
       "      <th>Сертолово</th>\n",
       "      <td>142</td>\n",
       "    </tr>\n",
       "    <tr>\n",
       "      <th>Ломоносов</th>\n",
       "      <td>133</td>\n",
       "    </tr>\n",
       "    <tr>\n",
       "      <th>Кириши</th>\n",
       "      <td>125</td>\n",
       "    </tr>\n",
       "    <tr>\n",
       "      <th>поселок Бугры</th>\n",
       "      <td>113</td>\n",
       "    </tr>\n",
       "    <tr>\n",
       "      <th>Сланцы</th>\n",
       "      <td>112</td>\n",
       "    </tr>\n",
       "    <tr>\n",
       "      <th>Волхов</th>\n",
       "      <td>111</td>\n",
       "    </tr>\n",
       "    <tr>\n",
       "      <th>Кингисепп</th>\n",
       "      <td>104</td>\n",
       "    </tr>\n",
       "    <tr>\n",
       "      <th>Тосно</th>\n",
       "      <td>104</td>\n",
       "    </tr>\n",
       "    <tr>\n",
       "      <th>Кронштадт</th>\n",
       "      <td>96</td>\n",
       "    </tr>\n",
       "    <tr>\n",
       "      <th>Никольское</th>\n",
       "      <td>93</td>\n",
       "    </tr>\n",
       "    <tr>\n",
       "      <th>Коммунар</th>\n",
       "      <td>89</td>\n",
       "    </tr>\n",
       "    <tr>\n",
       "      <th>Сосновый Бор</th>\n",
       "      <td>87</td>\n",
       "    </tr>\n",
       "    <tr>\n",
       "      <th>Кировск</th>\n",
       "      <td>84</td>\n",
       "    </tr>\n",
       "    <tr>\n",
       "      <th>Отрадное</th>\n",
       "      <td>80</td>\n",
       "    </tr>\n",
       "    <tr>\n",
       "      <th>городской поселок Янино-1</th>\n",
       "      <td>68</td>\n",
       "    </tr>\n",
       "    <tr>\n",
       "      <th>Приозерск</th>\n",
       "      <td>66</td>\n",
       "    </tr>\n",
       "  </tbody>\n",
       "</table>\n",
       "</div>"
      ],
      "text/plain": [
       "                           locality_name\n",
       "Санкт-Петербург                    15651\n",
       "Мурино                               586\n",
       "Кудрово                              470\n",
       "поселок Шушары                       439\n",
       "Всеволожск                           398\n",
       "Пушкин                               369\n",
       "Колпино                              338\n",
       "поселок Парголово                    327\n",
       "Гатчина                              307\n",
       "Выборг                               237\n",
       "Петергоф                             201\n",
       "Сестрорецк                           183\n",
       "Красное Село                         176\n",
       "деревня Новое Девяткино              143\n",
       "Сертолово                            142\n",
       "Ломоносов                            133\n",
       "Кириши                               125\n",
       "поселок Бугры                        113\n",
       "Сланцы                               112\n",
       "Волхов                               111\n",
       "Кингисепп                            104\n",
       "Тосно                                104\n",
       "Кронштадт                             96\n",
       "Никольское                            93\n",
       "Коммунар                              89\n",
       "Сосновый Бор                          87\n",
       "Кировск                               84\n",
       "Отрадное                              80\n",
       "городской поселок Янино-1             68\n",
       "Приозерск                             66"
      ]
     },
     "execution_count": 221,
     "metadata": {},
     "output_type": "execute_result"
    }
   ],
   "source": [
    "# заменим поселок на посёлок, чтобы убрать дубликаты по этой причине\n",
    "df['locality_name'] = df['locality_name'].str.replace(\"посёлок\", \"поселок\") \n",
    "# создаем функцию для исключения дубликатов в населенных пунктах\n",
    "def replace_wrong_name(correct_name): # на вход функции подаются список неправильных значений и строка с правильным значением\n",
    "    name = correct_name['locality_name']\n",
    "    if 'удрово' in name:\n",
    "        return 'Кудрово'\n",
    "    elif 'урино' in name:\n",
    "        return 'Мурино'\n",
    "    elif 'Янино-1' in name:\n",
    "        return 'городской поселок Янино-1'\n",
    "    elif 'Старая Деревня' in name:\n",
    "        return 'деревня Старая'\n",
    "    return name\n",
    "df['locality_name'] = df.apply(replace_wrong_name, axis = 1)\n",
    "df['locality_name'].value_counts().to_frame().head(30)"
   ]
  },
  {
   "cell_type": "markdown",
   "metadata": {},
   "source": [
    "Теперь изменим тип данных, где это требуется"
   ]
  },
  {
   "cell_type": "code",
   "execution_count": 222,
   "metadata": {},
   "outputs": [],
   "source": [
    "\n",
    "\n",
    "# поменяем формат даты\n",
    "df['first_day_exposition'] = pd.to_datetime(df['first_day_exposition'], format='%Y-%m-%d')\n",
    "\n",
    "# изменим на целый тип данных, и в столбцах с пропусками заменим значения на 0\n",
    "df['last_price'] = df['last_price'].astype(int)\n",
    "df['balcony'] = df['balcony'].fillna(value=0).astype(int)\n",
    "df['parks_around3000'] = df['parks_around3000'].fillna(value=0).astype(int)\n",
    "df['ponds_around3000'] = df['ponds_around3000'].fillna(value=0).astype(int)\n",
    "# изменим на булевый тип данных\n",
    "df['is_apartment'] = df['is_apartment'].astype('bool')\n",
    "\n"
   ]
  },
  {
   "cell_type": "code",
   "execution_count": 223,
   "metadata": {},
   "outputs": [
    {
     "data": {
      "text/plain": [
       "1     8198\n",
       "2     7897\n",
       "3     5779\n",
       "4     1172\n",
       "5      325\n",
       "6      104\n",
       "7       59\n",
       "8       12\n",
       "9        8\n",
       "10       3\n",
       "11       2\n",
       "14       2\n",
       "16       1\n",
       "19       1\n",
       "12       1\n",
       "15       1\n",
       "Name: rooms, dtype: int64"
      ]
     },
     "execution_count": 223,
     "metadata": {},
     "output_type": "execute_result"
    }
   ],
   "source": [
    "# df['rooms'].value_counts()\n",
    "# проверили значения с количеством комнат\n",
    "# есть 194 записи с количеством комнат 0 - скорее всего это студии или случайные пропуски\n",
    "# логично будет заменить на инимальное количество комнат на 1\n",
    "\n",
    "df.loc[(df['rooms'] == 0)] = 1\n",
    "df['rooms'].value_counts()"
   ]
  },
  {
   "cell_type": "code",
   "execution_count": 224,
   "metadata": {},
   "outputs": [],
   "source": [
    "# заменим пропущенные значения высоты потолков на медианные\n",
    "df['ceiling_height'].fillna(df['ceiling_height'].median(), inplace=True)\n",
    "# df.isnull().sum()"
   ]
  },
  {
   "cell_type": "code",
   "execution_count": 225,
   "metadata": {},
   "outputs": [
    {
     "data": {
      "text/plain": [
       "total_images                0\n",
       "last_price                  0\n",
       "total_area                  0\n",
       "first_day_exposition        0\n",
       "rooms                       0\n",
       "ceiling_height              0\n",
       "floors_total                0\n",
       "living_area              1854\n",
       "floor                       0\n",
       "is_apartment                0\n",
       "studio                      0\n",
       "open_plan                   0\n",
       "kitchen_area                0\n",
       "balcony                     0\n",
       "locality_name               0\n",
       "airports_nearest         5447\n",
       "citycenters_nearest      5424\n",
       "parks_around3000            0\n",
       "parks_nearest           15368\n",
       "ponds_around3000            0\n",
       "ponds_nearest           14402\n",
       "days_exposition          3157\n",
       "dtype: int64"
      ]
     },
     "execution_count": 225,
     "metadata": {},
     "output_type": "execute_result"
    }
   ],
   "source": [
    "# Заполним пропуски до ближайших объектов(аэропорты, парки, водоемы) по средним значениям в зависимости от населенного пункта\n",
    "\n",
    "# сгруппируем по населенным пунктам:\n",
    "grouped_airpots_nearest = df.groupby('locality_name')['airports_nearest'].mean()\n",
    "grouped_citycentres_nearest = df.groupby('locality_name')['citycenters_nearest'].mean()\n",
    "grouped_parks_nearest = df.groupby('locality_name')['parks_nearest'].mean()\n",
    "grouped_ponds_nearest = df.groupby('locality_name')['ponds_nearest'].mean()\n",
    "df['airports_nearest'].fillna(grouped_airpots_nearest,inplace=True)\n",
    "df['citycenters_nearest'].fillna(grouped_citycentres_nearest,inplace=True)\n",
    "df['parks_nearest'].fillna(grouped_parks_nearest,inplace=True)\n",
    "df['ponds_nearest'].fillna(grouped_ponds_nearest,inplace=True)\n",
    "\n",
    "# Еще проверила версию - заменить расстояние на 0, если в значении водоемы(или парки) стоит 0. Но таких пропусков не было.\n",
    "# df.loc[(df['ponds_around3000'] == 0) & (df['ponds_nearest']== None), 'parks_nearest'] == 0\n",
    "\n",
    "# Оставшиеся пропуски связаны скорее всего с отсутствием объектов поблизости, \n",
    "# например, аэропорты обычно только в крупных населенных пунктах, а водоемы/парки наоборот чаще отсутствуют.\n",
    "# Думаю дальше оставшиеся пропуски нужно просто оставить, потому что логически правильных значений уже не подобрать.\n",
    "\n",
    "df.isnull().sum()"
   ]
  },
  {
   "cell_type": "markdown",
   "metadata": {},
   "source": [
    "(!)Теперь хотелось бы разобраться с пропусками в столбце с количетсвом дней публикации days_exposition.\n",
    "Для этого я нашла с помощью дату создания и последнего изменения файла. \n",
    "Потом вычту из нее дату первого размещения и получу количество дней публикации на время выгрузки датафрейма и заполню пропуски."
   ]
  },
  {
   "cell_type": "code",
   "execution_count": 226,
   "metadata": {},
   "outputs": [
    {
     "name": "stdout",
     "output_type": "stream",
     "text": [
      "last modified: Thu Mar 19 12:41:41 2020\n",
      "created: Thu Mar 19 12:41:41 2020\n"
     ]
    }
   ],
   "source": [
    "# import os.path, time  - импорт библиотек перенесла в начало работы для удобства\n",
    "print(\"last modified: %s\" % time.ctime(os.path.getmtime('/datasets/real_estate_data.csv')))\n",
    "print(\"created: %s\" % time.ctime(os.path.getctime('/datasets/real_estate_data.csv')))"
   ]
  },
  {
   "cell_type": "code",
   "execution_count": 227,
   "metadata": {},
   "outputs": [],
   "source": [
    "# import datetime - импорт библиотеки перенесла наверх для удобства\n",
    "import datetime \n",
    "from datetime import timedelta, datetime\n",
    "# df.query('first_day_exposition != 1')\n",
    "df = df[df.days_exposition != 1]\n",
    "df['first_day_exposition'] = pd.to_datetime(df['first_day_exposition'], format='%Y-%m-%d')\n",
    "                                        \n",
    "# date_file = datetime(2020, 3, 19)\n",
    "# df['days_exposition'] = df['days_exposition'].fillna((date_file - df['first_day_exposition']).dt.days)\n",
    "\n",
    "\n",
    "# создала датафрейм для исследования с пропусками в днях - сроке публикации\n",
    "df_day_nan = df[df['days_exposition'].isna()]\n",
    "# Оставила только даты первых публикаций из предыдущего фильтра\n",
    "\n",
    "df_day_nan = df_day_nan['first_day_exposition']\n",
    "\n",
    "# df_day_nan.value_counts().sort_values().tail(50)\n"
   ]
  },
  {
   "cell_type": "markdown",
   "metadata": {},
   "source": [
    "Пришлось отказаться от идеи заполнять пропуски, так как после анализа я увидела, что в основном большое количество пропусков было в 2019 и значительно меньше в 2018 - скорее всего это те объекты, которые еще не продались. \n",
    "Поэтому эти пропуски оставляем как есть, чтобы не мешать статистике."
   ]
  },
  {
   "cell_type": "code",
   "execution_count": 229,
   "metadata": {},
   "outputs": [
    {
     "data": {
      "text/plain": [
       "total_images                0\n",
       "last_price                  0\n",
       "total_area                  0\n",
       "first_day_exposition        0\n",
       "rooms                       0\n",
       "ceiling_height              0\n",
       "floors_total                0\n",
       "living_area                 0\n",
       "floor                       0\n",
       "is_apartment                0\n",
       "studio                      0\n",
       "open_plan                   0\n",
       "kitchen_area                0\n",
       "balcony                     0\n",
       "locality_name               0\n",
       "airports_nearest         5447\n",
       "citycenters_nearest      5424\n",
       "parks_around3000            0\n",
       "parks_nearest           15368\n",
       "ponds_around3000            0\n",
       "ponds_nearest           14402\n",
       "days_exposition          3157\n",
       "dtype: int64"
      ]
     },
     "execution_count": 229,
     "metadata": {},
     "output_type": "execute_result"
    }
   ],
   "source": [
    "# Заполним пропуски жилой площади, найдем среднее соотношение общей площади к жилой\n",
    "living_total =  df['living_area'].median() / df['total_area'].median()\n",
    "df['living_area'].fillna(living_total * df['total_area'], inplace=True)\n",
    "# df['living_area'] = pd.to_numeric(df['living_area'], downcast='float16')\n",
    "# df['living_area'] = np.array(df['living_area'],dtype='float16')\n",
    "\n",
    "df.isnull().sum()"
   ]
  },
  {
   "cell_type": "markdown",
   "metadata": {},
   "source": [
    "## Расчёты и добавление результатов в таблицу"
   ]
  },
  {
   "cell_type": "markdown",
   "metadata": {},
   "source": [
    "<p>Посчитаем и добавим в таблицу:</p>\n",
    "\n",
    "<ul>\n",
    "\t<li>\n",
    "\t<p>цену квадратного метра;</p>\n",
    "\t</li>\n",
    "\t<li>\n",
    "\t<p>день недели, месяц и год публикации объявления;</p>\n",
    "\t</li>\n",
    "\t<li>\n",
    "\t<p>этаж квартиры; варианты &mdash; первый, последний, другой;</p>\n",
    "\t</li>\n",
    "\t<li>\n",
    "\t<p>соотношение жилой и общей площади, а также отношение площади кухни к общей</p>\n",
    "\t</li>\n",
    "</ul>\n"
   ]
  },
  {
   "cell_type": "code",
   "execution_count": 230,
   "metadata": {},
   "outputs": [
    {
     "data": {
      "text/html": [
       "<div>\n",
       "<style scoped>\n",
       "    .dataframe tbody tr th:only-of-type {\n",
       "        vertical-align: middle;\n",
       "    }\n",
       "\n",
       "    .dataframe tbody tr th {\n",
       "        vertical-align: top;\n",
       "    }\n",
       "\n",
       "    .dataframe thead th {\n",
       "        text-align: right;\n",
       "    }\n",
       "</style>\n",
       "<table border=\"1\" class=\"dataframe\">\n",
       "  <thead>\n",
       "    <tr style=\"text-align: right;\">\n",
       "      <th></th>\n",
       "      <th>total_images</th>\n",
       "      <th>last_price</th>\n",
       "      <th>total_area</th>\n",
       "      <th>first_day_exposition</th>\n",
       "      <th>rooms</th>\n",
       "      <th>ceiling_height</th>\n",
       "      <th>floors_total</th>\n",
       "      <th>living_area</th>\n",
       "      <th>floor</th>\n",
       "      <th>is_apartment</th>\n",
       "      <th>...</th>\n",
       "      <th>ponds_around3000</th>\n",
       "      <th>ponds_nearest</th>\n",
       "      <th>days_exposition</th>\n",
       "      <th>m_price</th>\n",
       "      <th>weekday</th>\n",
       "      <th>month</th>\n",
       "      <th>year</th>\n",
       "      <th>floor_category</th>\n",
       "      <th>living_to_total</th>\n",
       "      <th>kitchen_to_total</th>\n",
       "    </tr>\n",
       "  </thead>\n",
       "  <tbody>\n",
       "    <tr>\n",
       "      <th>0</th>\n",
       "      <td>20</td>\n",
       "      <td>13000000</td>\n",
       "      <td>108.00</td>\n",
       "      <td>2019-03-07</td>\n",
       "      <td>3</td>\n",
       "      <td>2.70</td>\n",
       "      <td>16.00</td>\n",
       "      <td>51.00</td>\n",
       "      <td>8</td>\n",
       "      <td>False</td>\n",
       "      <td>...</td>\n",
       "      <td>2</td>\n",
       "      <td>755.00</td>\n",
       "      <td>NaN</td>\n",
       "      <td>120370</td>\n",
       "      <td>3</td>\n",
       "      <td>3</td>\n",
       "      <td>2019</td>\n",
       "      <td>Другой</td>\n",
       "      <td>0.47</td>\n",
       "      <td>0.23</td>\n",
       "    </tr>\n",
       "    <tr>\n",
       "      <th>1</th>\n",
       "      <td>7</td>\n",
       "      <td>3350000</td>\n",
       "      <td>40.40</td>\n",
       "      <td>2018-12-04</td>\n",
       "      <td>1</td>\n",
       "      <td>2.65</td>\n",
       "      <td>11.00</td>\n",
       "      <td>18.60</td>\n",
       "      <td>1</td>\n",
       "      <td>False</td>\n",
       "      <td>...</td>\n",
       "      <td>0</td>\n",
       "      <td>1.00</td>\n",
       "      <td>81.00</td>\n",
       "      <td>82920</td>\n",
       "      <td>1</td>\n",
       "      <td>12</td>\n",
       "      <td>2018</td>\n",
       "      <td>Первый</td>\n",
       "      <td>0.46</td>\n",
       "      <td>0.27</td>\n",
       "    </tr>\n",
       "    <tr>\n",
       "      <th>2</th>\n",
       "      <td>10</td>\n",
       "      <td>5196000</td>\n",
       "      <td>56.00</td>\n",
       "      <td>2015-08-20</td>\n",
       "      <td>2</td>\n",
       "      <td>2.65</td>\n",
       "      <td>5.00</td>\n",
       "      <td>34.30</td>\n",
       "      <td>4</td>\n",
       "      <td>False</td>\n",
       "      <td>...</td>\n",
       "      <td>2</td>\n",
       "      <td>574.00</td>\n",
       "      <td>558.00</td>\n",
       "      <td>92785</td>\n",
       "      <td>3</td>\n",
       "      <td>8</td>\n",
       "      <td>2015</td>\n",
       "      <td>Другой</td>\n",
       "      <td>0.61</td>\n",
       "      <td>0.15</td>\n",
       "    </tr>\n",
       "    <tr>\n",
       "      <th>3</th>\n",
       "      <td>0</td>\n",
       "      <td>64900000</td>\n",
       "      <td>159.00</td>\n",
       "      <td>2015-07-24</td>\n",
       "      <td>3</td>\n",
       "      <td>2.65</td>\n",
       "      <td>14.00</td>\n",
       "      <td>91.73</td>\n",
       "      <td>9</td>\n",
       "      <td>False</td>\n",
       "      <td>...</td>\n",
       "      <td>3</td>\n",
       "      <td>234.00</td>\n",
       "      <td>424.00</td>\n",
       "      <td>408176</td>\n",
       "      <td>4</td>\n",
       "      <td>7</td>\n",
       "      <td>2015</td>\n",
       "      <td>Другой</td>\n",
       "      <td>0.58</td>\n",
       "      <td>0.00</td>\n",
       "    </tr>\n",
       "    <tr>\n",
       "      <th>4</th>\n",
       "      <td>2</td>\n",
       "      <td>10000000</td>\n",
       "      <td>100.00</td>\n",
       "      <td>2018-06-19</td>\n",
       "      <td>2</td>\n",
       "      <td>3.03</td>\n",
       "      <td>14.00</td>\n",
       "      <td>32.00</td>\n",
       "      <td>13</td>\n",
       "      <td>False</td>\n",
       "      <td>...</td>\n",
       "      <td>1</td>\n",
       "      <td>48.00</td>\n",
       "      <td>121.00</td>\n",
       "      <td>100000</td>\n",
       "      <td>1</td>\n",
       "      <td>6</td>\n",
       "      <td>2018</td>\n",
       "      <td>Другой</td>\n",
       "      <td>0.32</td>\n",
       "      <td>0.41</td>\n",
       "    </tr>\n",
       "    <tr>\n",
       "      <th>...</th>\n",
       "      <td>...</td>\n",
       "      <td>...</td>\n",
       "      <td>...</td>\n",
       "      <td>...</td>\n",
       "      <td>...</td>\n",
       "      <td>...</td>\n",
       "      <td>...</td>\n",
       "      <td>...</td>\n",
       "      <td>...</td>\n",
       "      <td>...</td>\n",
       "      <td>...</td>\n",
       "      <td>...</td>\n",
       "      <td>...</td>\n",
       "      <td>...</td>\n",
       "      <td>...</td>\n",
       "      <td>...</td>\n",
       "      <td>...</td>\n",
       "      <td>...</td>\n",
       "      <td>...</td>\n",
       "      <td>...</td>\n",
       "      <td>...</td>\n",
       "    </tr>\n",
       "    <tr>\n",
       "      <th>23694</th>\n",
       "      <td>9</td>\n",
       "      <td>9700000</td>\n",
       "      <td>133.81</td>\n",
       "      <td>2017-03-21</td>\n",
       "      <td>3</td>\n",
       "      <td>3.70</td>\n",
       "      <td>5.00</td>\n",
       "      <td>73.30</td>\n",
       "      <td>3</td>\n",
       "      <td>False</td>\n",
       "      <td>...</td>\n",
       "      <td>3</td>\n",
       "      <td>381.00</td>\n",
       "      <td>NaN</td>\n",
       "      <td>72490</td>\n",
       "      <td>1</td>\n",
       "      <td>3</td>\n",
       "      <td>2017</td>\n",
       "      <td>Другой</td>\n",
       "      <td>0.55</td>\n",
       "      <td>0.10</td>\n",
       "    </tr>\n",
       "    <tr>\n",
       "      <th>23695</th>\n",
       "      <td>14</td>\n",
       "      <td>3100000</td>\n",
       "      <td>59.00</td>\n",
       "      <td>2018-01-15</td>\n",
       "      <td>3</td>\n",
       "      <td>2.65</td>\n",
       "      <td>5.00</td>\n",
       "      <td>38.00</td>\n",
       "      <td>4</td>\n",
       "      <td>False</td>\n",
       "      <td>...</td>\n",
       "      <td>0</td>\n",
       "      <td>NaN</td>\n",
       "      <td>45.00</td>\n",
       "      <td>52542</td>\n",
       "      <td>0</td>\n",
       "      <td>1</td>\n",
       "      <td>2018</td>\n",
       "      <td>Другой</td>\n",
       "      <td>0.64</td>\n",
       "      <td>0.14</td>\n",
       "    </tr>\n",
       "    <tr>\n",
       "      <th>23696</th>\n",
       "      <td>18</td>\n",
       "      <td>2500000</td>\n",
       "      <td>56.70</td>\n",
       "      <td>2018-02-11</td>\n",
       "      <td>2</td>\n",
       "      <td>2.65</td>\n",
       "      <td>3.00</td>\n",
       "      <td>29.70</td>\n",
       "      <td>1</td>\n",
       "      <td>False</td>\n",
       "      <td>...</td>\n",
       "      <td>0</td>\n",
       "      <td>NaN</td>\n",
       "      <td>NaN</td>\n",
       "      <td>44091</td>\n",
       "      <td>6</td>\n",
       "      <td>2</td>\n",
       "      <td>2018</td>\n",
       "      <td>Первый</td>\n",
       "      <td>0.52</td>\n",
       "      <td>0.00</td>\n",
       "    </tr>\n",
       "    <tr>\n",
       "      <th>23697</th>\n",
       "      <td>13</td>\n",
       "      <td>11475000</td>\n",
       "      <td>76.75</td>\n",
       "      <td>2017-03-28</td>\n",
       "      <td>2</td>\n",
       "      <td>3.00</td>\n",
       "      <td>17.00</td>\n",
       "      <td>44.28</td>\n",
       "      <td>12</td>\n",
       "      <td>False</td>\n",
       "      <td>...</td>\n",
       "      <td>3</td>\n",
       "      <td>196.00</td>\n",
       "      <td>602.00</td>\n",
       "      <td>149511</td>\n",
       "      <td>1</td>\n",
       "      <td>3</td>\n",
       "      <td>2017</td>\n",
       "      <td>Другой</td>\n",
       "      <td>0.58</td>\n",
       "      <td>0.30</td>\n",
       "    </tr>\n",
       "    <tr>\n",
       "      <th>23698</th>\n",
       "      <td>4</td>\n",
       "      <td>1350000</td>\n",
       "      <td>32.30</td>\n",
       "      <td>2017-07-21</td>\n",
       "      <td>1</td>\n",
       "      <td>2.50</td>\n",
       "      <td>5.00</td>\n",
       "      <td>12.30</td>\n",
       "      <td>1</td>\n",
       "      <td>False</td>\n",
       "      <td>...</td>\n",
       "      <td>0</td>\n",
       "      <td>NaN</td>\n",
       "      <td>NaN</td>\n",
       "      <td>41795</td>\n",
       "      <td>4</td>\n",
       "      <td>7</td>\n",
       "      <td>2017</td>\n",
       "      <td>Первый</td>\n",
       "      <td>0.38</td>\n",
       "      <td>0.28</td>\n",
       "    </tr>\n",
       "  </tbody>\n",
       "</table>\n",
       "<p>23370 rows × 29 columns</p>\n",
       "</div>"
      ],
      "text/plain": [
       "       total_images  last_price  total_area first_day_exposition  rooms  \\\n",
       "0                20    13000000      108.00           2019-03-07      3   \n",
       "1                 7     3350000       40.40           2018-12-04      1   \n",
       "2                10     5196000       56.00           2015-08-20      2   \n",
       "3                 0    64900000      159.00           2015-07-24      3   \n",
       "4                 2    10000000      100.00           2018-06-19      2   \n",
       "...             ...         ...         ...                  ...    ...   \n",
       "23694             9     9700000      133.81           2017-03-21      3   \n",
       "23695            14     3100000       59.00           2018-01-15      3   \n",
       "23696            18     2500000       56.70           2018-02-11      2   \n",
       "23697            13    11475000       76.75           2017-03-28      2   \n",
       "23698             4     1350000       32.30           2017-07-21      1   \n",
       "\n",
       "       ceiling_height  floors_total  living_area  floor is_apartment  ...  \\\n",
       "0                2.70         16.00        51.00      8        False  ...   \n",
       "1                2.65         11.00        18.60      1        False  ...   \n",
       "2                2.65          5.00        34.30      4        False  ...   \n",
       "3                2.65         14.00        91.73      9        False  ...   \n",
       "4                3.03         14.00        32.00     13        False  ...   \n",
       "...               ...           ...          ...    ...          ...  ...   \n",
       "23694            3.70          5.00        73.30      3        False  ...   \n",
       "23695            2.65          5.00        38.00      4        False  ...   \n",
       "23696            2.65          3.00        29.70      1        False  ...   \n",
       "23697            3.00         17.00        44.28     12        False  ...   \n",
       "23698            2.50          5.00        12.30      1        False  ...   \n",
       "\n",
       "      ponds_around3000 ponds_nearest  days_exposition  m_price weekday  month  \\\n",
       "0                    2        755.00              NaN   120370       3      3   \n",
       "1                    0          1.00            81.00    82920       1     12   \n",
       "2                    2        574.00           558.00    92785       3      8   \n",
       "3                    3        234.00           424.00   408176       4      7   \n",
       "4                    1         48.00           121.00   100000       1      6   \n",
       "...                ...           ...              ...      ...     ...    ...   \n",
       "23694                3        381.00              NaN    72490       1      3   \n",
       "23695                0           NaN            45.00    52542       0      1   \n",
       "23696                0           NaN              NaN    44091       6      2   \n",
       "23697                3        196.00           602.00   149511       1      3   \n",
       "23698                0           NaN              NaN    41795       4      7   \n",
       "\n",
       "       year  floor_category  living_to_total  kitchen_to_total  \n",
       "0      2019          Другой             0.47              0.23  \n",
       "1      2018          Первый             0.46              0.27  \n",
       "2      2015          Другой             0.61              0.15  \n",
       "3      2015          Другой             0.58              0.00  \n",
       "4      2018          Другой             0.32              0.41  \n",
       "...     ...             ...              ...               ...  \n",
       "23694  2017          Другой             0.55              0.10  \n",
       "23695  2018          Другой             0.64              0.14  \n",
       "23696  2018          Первый             0.52              0.00  \n",
       "23697  2017          Другой             0.58              0.30  \n",
       "23698  2017          Первый             0.38              0.28  \n",
       "\n",
       "[23370 rows x 29 columns]"
      ]
     },
     "execution_count": 230,
     "metadata": {},
     "output_type": "execute_result"
    }
   ],
   "source": [
    "# Добавляем столбец с ценой квадратного метра и приводим его в целочисленный тип\n",
    "df['m_price'] = df['last_price'] / df['total_area']\n",
    "df['m_price'] = df['m_price'].astype(int)\n",
    "\n",
    "# Добавляем столбцы дня недели, месяца и год публикации\n",
    "df['weekday'] = df['first_day_exposition'].dt.weekday\n",
    "df['month'] = df['first_day_exposition'].dt.month\n",
    "df['year'] = df['first_day_exposition'].dt.year\n",
    "\n",
    "# Функция для категорииэтажей\n",
    "def floor_category(row):\n",
    "    floor=row['floor']\n",
    "    total_floor=row['floors_total']\n",
    "    if floor==1:\n",
    "        return 'Первый'\n",
    "    if floor==total_floor:\n",
    "        return 'Последний'\n",
    "    return 'Другой'\n",
    "\n",
    "# Добавляем столбец с вариантами этажей с использованием функции выше\n",
    "df['floor_category'] = df.apply(floor_category,axis=1) \n",
    "\n",
    "# Добавляем столбец с отношением жилой площади к общей\n",
    "df['living_to_total'] = df['living_area'] / df['total_area']\n",
    "df['living_to_total'] = df['living_to_total'].fillna(value=0)\n",
    "# pd.to_numeric(df['living_to_total'], downcast='float16')\n",
    "\n",
    "# Добавляем столбец с отношением площади кухни к общей\n",
    "df['kitchen_to_total'] = df['kitchen_area'] / df['total_area']\n",
    "df['kitchen_to_total'] = df['kitchen_to_total'].fillna(value=0)\n",
    "\n",
    "df"
   ]
  },
  {
   "cell_type": "markdown",
   "metadata": {},
   "source": [
    "## Исследовательский анализ данных"
   ]
  },
  {
   "cell_type": "markdown",
   "metadata": {},
   "source": [
    "<p><em>Изучим&nbsp;следующие параметры: площадь, цена, число комнат, высота потолков. Построим&nbsp;гистограммы для каждого параметра. Проверим, сколько обычно занимает продажа. Когда можно считать, что продажи прошли очень быстро, а когда необычно долго? Найдем какие факторы больше всего влияют на стоимость квартиры</em></p>"
   ]
  },
  {
   "cell_type": "code",
   "execution_count": 231,
   "metadata": {},
   "outputs": [
    {
     "data": {
      "text/html": [
       "<div>\n",
       "<style scoped>\n",
       "    .dataframe tbody tr th:only-of-type {\n",
       "        vertical-align: middle;\n",
       "    }\n",
       "\n",
       "    .dataframe tbody tr th {\n",
       "        vertical-align: top;\n",
       "    }\n",
       "\n",
       "    .dataframe thead th {\n",
       "        text-align: right;\n",
       "    }\n",
       "</style>\n",
       "<table border=\"1\" class=\"dataframe\">\n",
       "  <thead>\n",
       "    <tr style=\"text-align: right;\">\n",
       "      <th></th>\n",
       "      <th>total_area</th>\n",
       "      <th>last_price</th>\n",
       "      <th>rooms</th>\n",
       "      <th>ceiling_height</th>\n",
       "    </tr>\n",
       "  </thead>\n",
       "  <tbody>\n",
       "    <tr>\n",
       "      <th>count</th>\n",
       "      <td>23370.00</td>\n",
       "      <td>23370.00</td>\n",
       "      <td>23370.00</td>\n",
       "      <td>23370.00</td>\n",
       "    </tr>\n",
       "    <tr>\n",
       "      <th>mean</th>\n",
       "      <td>60.58</td>\n",
       "      <td>6566694.11</td>\n",
       "      <td>2.09</td>\n",
       "      <td>2.72</td>\n",
       "    </tr>\n",
       "    <tr>\n",
       "      <th>std</th>\n",
       "      <td>35.61</td>\n",
       "      <td>10942697.31</td>\n",
       "      <td>1.07</td>\n",
       "      <td>0.98</td>\n",
       "    </tr>\n",
       "    <tr>\n",
       "      <th>min</th>\n",
       "      <td>12.00</td>\n",
       "      <td>12190.00</td>\n",
       "      <td>1.00</td>\n",
       "      <td>1.00</td>\n",
       "    </tr>\n",
       "    <tr>\n",
       "      <th>25%</th>\n",
       "      <td>40.20</td>\n",
       "      <td>3450000.00</td>\n",
       "      <td>1.00</td>\n",
       "      <td>2.60</td>\n",
       "    </tr>\n",
       "    <tr>\n",
       "      <th>50%</th>\n",
       "      <td>52.00</td>\n",
       "      <td>4650000.00</td>\n",
       "      <td>2.00</td>\n",
       "      <td>2.65</td>\n",
       "    </tr>\n",
       "    <tr>\n",
       "      <th>75%</th>\n",
       "      <td>70.00</td>\n",
       "      <td>6800000.00</td>\n",
       "      <td>3.00</td>\n",
       "      <td>2.70</td>\n",
       "    </tr>\n",
       "    <tr>\n",
       "      <th>max</th>\n",
       "      <td>900.00</td>\n",
       "      <td>763000000.00</td>\n",
       "      <td>19.00</td>\n",
       "      <td>100.00</td>\n",
       "    </tr>\n",
       "  </tbody>\n",
       "</table>\n",
       "</div>"
      ],
      "text/plain": [
       "       total_area   last_price    rooms  ceiling_height\n",
       "count    23370.00     23370.00 23370.00        23370.00\n",
       "mean        60.58   6566694.11     2.09            2.72\n",
       "std         35.61  10942697.31     1.07            0.98\n",
       "min         12.00     12190.00     1.00            1.00\n",
       "25%         40.20   3450000.00     1.00            2.60\n",
       "50%         52.00   4650000.00     2.00            2.65\n",
       "75%         70.00   6800000.00     3.00            2.70\n",
       "max        900.00 763000000.00    19.00          100.00"
      ]
     },
     "execution_count": 231,
     "metadata": {},
     "output_type": "execute_result"
    }
   ],
   "source": [
    "# получим список характерных значений\n",
    "\n",
    "df[['total_area', 'last_price', 'rooms', 'ceiling_height']].describe()"
   ]
  },
  {
   "cell_type": "markdown",
   "metadata": {},
   "source": [
    "Уже можно заметить аномально большие стандартные отклонения в общей площади,+ максимальная площадь 900 кв м, поэтому необходимо это исправить, исключив выбросы. Также настораживает максимальная высота потолков и максимальное количество комнат."
   ]
  },
  {
   "cell_type": "code",
   "execution_count": 232,
   "metadata": {},
   "outputs": [
    {
     "data": {
      "image/png": "[encoded data removed]",
      "text/plain": [
       "<Figure size 1152x576 with 1 Axes>"
      ]
     },
     "metadata": {
      "needs_background": "light"
     },
     "output_type": "display_data"
    }
   ],
   "source": [
    "# построим гистограмму для общей площади\n",
    "df['total_area'].hist(bins=100, range = (0, 400), figsize=(16,8))\n",
    "plt.show()"
   ]
  },
  {
   "cell_type": "code",
   "execution_count": 233,
   "metadata": {
    "scrolled": true
   },
   "outputs": [
    {
     "data": {
      "image/png": "[encoded data removed]",
      "text/plain": [
       "<Figure size 432x288 with 1 Axes>"
      ]
     },
     "metadata": {
      "needs_background": "light"
     },
     "output_type": "display_data"
    }
   ],
   "source": [
    "# построим диаграмму размаха для общей площади, чтобы увидеть выбросы (ящик с усами)\n",
    "\n",
    "df.boxplot(column='total_area')\n",
    "plt.ylim(0, 900)\n",
    "plt.show()"
   ]
  },
  {
   "cell_type": "code",
   "execution_count": 234,
   "metadata": {},
   "outputs": [
    {
     "name": "stdout",
     "output_type": "stream",
     "text": [
      "<class 'pandas.core.frame.DataFrame'>\n",
      "Int64Index: 23344 entries, 0 to 23698\n",
      "Data columns (total 29 columns):\n",
      " #   Column                Non-Null Count  Dtype         \n",
      "---  ------                --------------  -----         \n",
      " 0   total_images          23344 non-null  int64         \n",
      " 1   last_price            23344 non-null  int64         \n",
      " 2   total_area            23344 non-null  float64       \n",
      " 3   first_day_exposition  23344 non-null  datetime64[ns]\n",
      " 4   rooms                 23344 non-null  int64         \n",
      " 5   ceiling_height        23344 non-null  float64       \n",
      " 6   floors_total          23344 non-null  float64       \n",
      " 7   living_area           23344 non-null  float64       \n",
      " 8   floor                 23344 non-null  int64         \n",
      " 9   is_apartment          23344 non-null  object        \n",
      " 10  studio                23344 non-null  object        \n",
      " 11  open_plan             23344 non-null  object        \n",
      " 12  kitchen_area          23344 non-null  float64       \n",
      " 13  balcony               23344 non-null  int64         \n",
      " 14  locality_name         23344 non-null  object        \n",
      " 15  airports_nearest      17900 non-null  float64       \n",
      " 16  citycenters_nearest   17921 non-null  float64       \n",
      " 17  parks_around3000      23344 non-null  int64         \n",
      " 18  parks_nearest         7986 non-null   float64       \n",
      " 19  ponds_around3000      23344 non-null  int64         \n",
      " 20  ponds_nearest         8953 non-null   float64       \n",
      " 21  days_exposition       20194 non-null  float64       \n",
      " 22  m_price               23344 non-null  int64         \n",
      " 23  weekday               23344 non-null  int64         \n",
      " 24  month                 23344 non-null  int64         \n",
      " 25  year                  23344 non-null  int64         \n",
      " 26  floor_category        23344 non-null  object        \n",
      " 27  living_to_total       23344 non-null  float64       \n",
      " 28  kitchen_to_total      23344 non-null  float64       \n",
      "dtypes: datetime64[ns](1), float64(12), int64(11), object(5)\n",
      "memory usage: 5.3+ MB\n"
     ]
    }
   ],
   "source": [
    "# Оставим данные, где площадь меньше 400\n",
    "\n",
    "df = df[df['total_area'] < 400]\n",
    "df.info()"
   ]
  },
  {
   "cell_type": "code",
   "execution_count": 235,
   "metadata": {},
   "outputs": [
    {
     "data": {
      "text/plain": [
       "<AxesSubplot:>"
      ]
     },
     "execution_count": 235,
     "metadata": {},
     "output_type": "execute_result"
    },
    {
     "data": {
      "image/png": "[encoded data removed]",
      "text/plain": [
       "<Figure size 1152x576 with 1 Axes>"
      ]
     },
     "metadata": {
      "needs_background": "light"
     },
     "output_type": "display_data"
    }
   ],
   "source": [
    "# построим гистограмму для стоимости квартир\n",
    "\n",
    "df['last_price'].hist(bins=200, range = (0, 80000000), figsize=(16,8))"
   ]
  },
  {
   "cell_type": "code",
   "execution_count": 236,
   "metadata": {},
   "outputs": [
    {
     "data": {
      "image/png": "[encoded data removed]",
      "text/plain": [
       "<Figure size 432x288 with 1 Axes>"
      ]
     },
     "metadata": {
      "needs_background": "light"
     },
     "output_type": "display_data"
    }
   ],
   "source": [
    "# диаграмма размаха для стоимости\n",
    "df.boxplot(column='last_price')\n",
    "plt.ylim(0, 800000000)\n",
    "plt.show()"
   ]
  },
  {
   "cell_type": "code",
   "execution_count": 237,
   "metadata": {},
   "outputs": [
    {
     "name": "stdout",
     "output_type": "stream",
     "text": [
      "<class 'pandas.core.frame.DataFrame'>\n",
      "Int64Index: 22753 entries, 0 to 23698\n",
      "Data columns (total 29 columns):\n",
      " #   Column                Non-Null Count  Dtype         \n",
      "---  ------                --------------  -----         \n",
      " 0   total_images          22753 non-null  int64         \n",
      " 1   last_price            22753 non-null  int64         \n",
      " 2   total_area            22753 non-null  float64       \n",
      " 3   first_day_exposition  22753 non-null  datetime64[ns]\n",
      " 4   rooms                 22753 non-null  int64         \n",
      " 5   ceiling_height        22753 non-null  float64       \n",
      " 6   floors_total          22753 non-null  float64       \n",
      " 7   living_area           22753 non-null  float64       \n",
      " 8   floor                 22753 non-null  int64         \n",
      " 9   is_apartment          22753 non-null  object        \n",
      " 10  studio                22753 non-null  object        \n",
      " 11  open_plan             22753 non-null  object        \n",
      " 12  kitchen_area          22753 non-null  float64       \n",
      " 13  balcony               22753 non-null  int64         \n",
      " 14  locality_name         22753 non-null  object        \n",
      " 15  airports_nearest      17326 non-null  float64       \n",
      " 16  citycenters_nearest   17344 non-null  float64       \n",
      " 17  parks_around3000      22753 non-null  int64         \n",
      " 18  parks_nearest         7559 non-null   float64       \n",
      " 19  ponds_around3000      22753 non-null  int64         \n",
      " 20  ponds_nearest         8513 non-null   float64       \n",
      " 21  days_exposition       19762 non-null  float64       \n",
      " 22  m_price               22753 non-null  int64         \n",
      " 23  weekday               22753 non-null  int64         \n",
      " 24  month                 22753 non-null  int64         \n",
      " 25  year                  22753 non-null  int64         \n",
      " 26  floor_category        22753 non-null  object        \n",
      " 27  living_to_total       22753 non-null  float64       \n",
      " 28  kitchen_to_total      22753 non-null  float64       \n",
      "dtypes: datetime64[ns](1), float64(12), int64(11), object(5)\n",
      "memory usage: 5.2+ MB\n"
     ]
    }
   ],
   "source": [
    "# Оставим данные, где стоимость квартиры меньше 22000 000\n",
    "\n",
    "df = df[df['last_price'] < 22000000]\n",
    "df.info()"
   ]
  },
  {
   "cell_type": "code",
   "execution_count": 238,
   "metadata": {},
   "outputs": [
    {
     "data": {
      "image/png": "[encoded data removed]",
      "text/plain": [
       "<Figure size 1152x576 with 1 Axes>"
      ]
     },
     "metadata": {
      "needs_background": "light"
     },
     "output_type": "display_data"
    }
   ],
   "source": [
    "df['rooms'].hist(bins=10, range = (0, 10), figsize=(16,8))\n",
    "plt.show()"
   ]
  },
  {
   "cell_type": "code",
   "execution_count": 239,
   "metadata": {},
   "outputs": [
    {
     "data": {
      "image/png": "[encoded data removed]",
      "text/plain": [
       "<Figure size 432x288 with 1 Axes>"
      ]
     },
     "metadata": {
      "needs_background": "light"
     },
     "output_type": "display_data"
    }
   ],
   "source": [
    "# ящик с усами для количества комнат\n",
    "df.boxplot(column='rooms')\n",
    "plt.show()"
   ]
  },
  {
   "cell_type": "code",
   "execution_count": 240,
   "metadata": {},
   "outputs": [
    {
     "data": {
      "text/plain": [
       "<AxesSubplot:>"
      ]
     },
     "execution_count": 240,
     "metadata": {},
     "output_type": "execute_result"
    },
    {
     "data": {
      "image/png": "[encoded data removed]",
      "text/plain": [
       "<Figure size 1152x576 with 1 Axes>"
      ]
     },
     "metadata": {
      "needs_background": "light"
     },
     "output_type": "display_data"
    }
   ],
   "source": [
    "# строим гистограмму для высоты потолков\n",
    "\n",
    "df['ceiling_height'].hist(bins=100, range=(1.5, 4.5), figsize=(16,8))"
   ]
  },
  {
   "cell_type": "code",
   "execution_count": 241,
   "metadata": {},
   "outputs": [
    {
     "data": {
      "image/png": "[encoded data removed]",
      "text/plain": [
       "<Figure size 432x288 with 1 Axes>"
      ]
     },
     "metadata": {
      "needs_background": "light"
     },
     "output_type": "display_data"
    }
   ],
   "source": [
    "# диаграмма размаха для высоты потолков\n",
    "\n",
    "df.boxplot(column='ceiling_height')\n",
    "plt.ylim(0,9)\n",
    "plt.show()\n"
   ]
  },
  {
   "cell_type": "code",
   "execution_count": 242,
   "metadata": {},
   "outputs": [
    {
     "name": "stdout",
     "output_type": "stream",
     "text": [
      "<class 'pandas.core.frame.DataFrame'>\n",
      "Int64Index: 19117 entries, 0 to 23697\n",
      "Data columns (total 29 columns):\n",
      " #   Column                Non-Null Count  Dtype         \n",
      "---  ------                --------------  -----         \n",
      " 0   total_images          19117 non-null  int64         \n",
      " 1   last_price            19117 non-null  int64         \n",
      " 2   total_area            19117 non-null  float64       \n",
      " 3   first_day_exposition  19117 non-null  datetime64[ns]\n",
      " 4   rooms                 19117 non-null  int64         \n",
      " 5   ceiling_height        19117 non-null  float64       \n",
      " 6   floors_total          19117 non-null  float64       \n",
      " 7   living_area           19117 non-null  float64       \n",
      " 8   floor                 19117 non-null  int64         \n",
      " 9   is_apartment          19117 non-null  object        \n",
      " 10  studio                19117 non-null  object        \n",
      " 11  open_plan             19117 non-null  object        \n",
      " 12  kitchen_area          19117 non-null  float64       \n",
      " 13  balcony               19117 non-null  int64         \n",
      " 14  locality_name         19117 non-null  object        \n",
      " 15  airports_nearest      14708 non-null  float64       \n",
      " 16  citycenters_nearest   14725 non-null  float64       \n",
      " 17  parks_around3000      19117 non-null  int64         \n",
      " 18  parks_nearest         6452 non-null   float64       \n",
      " 19  ponds_around3000      19117 non-null  int64         \n",
      " 20  ponds_nearest         7453 non-null   float64       \n",
      " 21  days_exposition       16772 non-null  float64       \n",
      " 22  m_price               19117 non-null  int64         \n",
      " 23  weekday               19117 non-null  int64         \n",
      " 24  month                 19117 non-null  int64         \n",
      " 25  year                  19117 non-null  int64         \n",
      " 26  floor_category        19117 non-null  object        \n",
      " 27  living_to_total       19117 non-null  float64       \n",
      " 28  kitchen_to_total      19117 non-null  float64       \n",
      "dtypes: datetime64[ns](1), float64(12), int64(11), object(5)\n",
      "memory usage: 4.4+ MB\n"
     ]
    }
   ],
   "source": [
    "# оставим объявления с продажей квартир высотой потолков в промежутке с 2.5 до 4м\n",
    "df = df[df['ceiling_height'] > 2.5]\n",
    "df = df[df['ceiling_height'] <= 4]\n",
    "\n",
    "# итоговый датафрейм после очистки\n",
    "df.info()"
   ]
  },
  {
   "cell_type": "markdown",
   "metadata": {},
   "source": [
    "Изучим время продажи квартир\n"
   ]
  },
  {
   "cell_type": "markdown",
   "metadata": {},
   "source": []
  },
  {
   "cell_type": "code",
   "execution_count": 243,
   "metadata": {},
   "outputs": [
    {
     "data": {
      "text/plain": [
       "<AxesSubplot:>"
      ]
     },
     "execution_count": 243,
     "metadata": {},
     "output_type": "execute_result"
    },
    {
     "data": {
      "image/png": "[encoded data removed]",
      "text/plain": [
       "<Figure size 1152x576 with 1 Axes>"
      ]
     },
     "metadata": {
      "needs_background": "light"
     },
     "output_type": "display_data"
    }
   ],
   "source": [
    "df['days_exposition'].hist(bins=200, range=(0, 1800), figsize=(16,8))"
   ]
  },
  {
   "cell_type": "code",
   "execution_count": 244,
   "metadata": {},
   "outputs": [
    {
     "data": {
      "image/png": "[encoded data removed]",
      "text/plain": [
       "<Figure size 432x288 with 1 Axes>"
      ]
     },
     "metadata": {
      "needs_background": "light"
     },
     "output_type": "display_data"
    }
   ],
   "source": [
    "# диаграмма размаха для количества дней размещения\n",
    "\n",
    "df.boxplot(column='days_exposition')\n",
    "plt.ylim(0,2000)\n",
    "plt.show()"
   ]
  },
  {
   "cell_type": "code",
   "execution_count": 245,
   "metadata": {},
   "outputs": [
    {
     "name": "stdout",
     "output_type": "stream",
     "text": [
      "<class 'pandas.core.frame.DataFrame'>\n",
      "Int64Index: 15789 entries, 1 to 23695\n",
      "Data columns (total 29 columns):\n",
      " #   Column                Non-Null Count  Dtype         \n",
      "---  ------                --------------  -----         \n",
      " 0   total_images          15789 non-null  int64         \n",
      " 1   last_price            15789 non-null  int64         \n",
      " 2   total_area            15789 non-null  float64       \n",
      " 3   first_day_exposition  15789 non-null  datetime64[ns]\n",
      " 4   rooms                 15789 non-null  int64         \n",
      " 5   ceiling_height        15789 non-null  float64       \n",
      " 6   floors_total          15789 non-null  float64       \n",
      " 7   living_area           15789 non-null  float64       \n",
      " 8   floor                 15789 non-null  int64         \n",
      " 9   is_apartment          15789 non-null  object        \n",
      " 10  studio                15789 non-null  object        \n",
      " 11  open_plan             15789 non-null  object        \n",
      " 12  kitchen_area          15789 non-null  float64       \n",
      " 13  balcony               15789 non-null  int64         \n",
      " 14  locality_name         15789 non-null  object        \n",
      " 15  airports_nearest      12189 non-null  float64       \n",
      " 16  citycenters_nearest   12206 non-null  float64       \n",
      " 17  parks_around3000      15789 non-null  int64         \n",
      " 18  parks_nearest         5218 non-null   float64       \n",
      " 19  ponds_around3000      15789 non-null  int64         \n",
      " 20  ponds_nearest         6098 non-null   float64       \n",
      " 21  days_exposition       15789 non-null  float64       \n",
      " 22  m_price               15789 non-null  int64         \n",
      " 23  weekday               15789 non-null  int64         \n",
      " 24  month                 15789 non-null  int64         \n",
      " 25  year                  15789 non-null  int64         \n",
      " 26  floor_category        15789 non-null  object        \n",
      " 27  living_to_total       15789 non-null  float64       \n",
      " 28  kitchen_to_total      15789 non-null  float64       \n",
      "dtypes: datetime64[ns](1), float64(12), int64(11), object(5)\n",
      "memory usage: 3.6+ MB\n"
     ]
    }
   ],
   "source": [
    "df = df[df['days_exposition'] < 600]\n",
    "\n",
    "# итоговый датафрейм после очистки\n",
    "df.info()"
   ]
  },
  {
   "cell_type": "code",
   "execution_count": 246,
   "metadata": {},
   "outputs": [
    {
     "data": {
      "text/plain": [
       "count   15789.00\n",
       "mean      139.16\n",
       "std       136.32\n",
       "min         2.00\n",
       "25%        43.00\n",
       "50%        89.00\n",
       "75%       195.00\n",
       "max       599.00\n",
       "Name: days_exposition, dtype: float64"
      ]
     },
     "execution_count": 246,
     "metadata": {},
     "output_type": "execute_result"
    }
   ],
   "source": [
    "df['days_exposition'].describe() \n"
   ]
  },
  {
   "cell_type": "markdown",
   "metadata": {},
   "source": [
    "<p>Здесь мы видим после очистки данных:</p>\n",
    "\n",
    "<pre>\n",
    "Среднее время продажи квартиры mean       139 дней\n",
    "Медиана         89 дней </pre>\n",
    "\n",
    "<p>Значит верным будет предположение, что в среднем квартиры продаются за 3-4 мес. с начала публикации. Также есть достаточное количество \"долгих\" продаж от 1,5 лет, возможно это связано с рядом особенностей квартиры или завышенной стоимости. Самая быстрая продажа состоялась за 2 дня, также немало квартир удачно и быстро продались за месяц и менее, что можно заметить по графику.</p>"
   ]
  },
  {
   "cell_type": "markdown",
   "metadata": {},
   "source": [
    "<p><em>Какие факторы больше всего влияют на стоимость квартиры?</em></p>\n",
    "\n",
    "<p><em>Изучим зависимость&nbsp;цены&nbsp;от:</em></p>\n",
    "\n",
    "<ol>\n",
    "\t<li><em>квадратного метра,</em></li>\n",
    "\t<li><em>числа комнат,</em></li>\n",
    "\t<li><em>этажа (первого или последнего),</em></li>\n",
    "\t<li><em>удалённости от центра.</em></li>\n",
    "\t<li><em>от даты размещения: дня недели, месяца и года.</em></li>\n"
   ]
  },
  {
   "cell_type": "code",
   "execution_count": 247,
   "metadata": {},
   "outputs": [
    {
     "data": {
      "text/plain": [
       "0.7741752809663789"
      ]
     },
     "execution_count": 247,
     "metadata": {},
     "output_type": "execute_result"
    }
   ],
   "source": [
    "# Сначала посчитаем для всех параметров корелляцию, начнем со стоимости по отношению к общей площади\n",
    "\n",
    "df['last_price'].corr(df['total_area'])"
   ]
  },
  {
   "cell_type": "markdown",
   "metadata": {},
   "source": [
    "Здесь значение близко к 1 по корреляции Пирсона означает высокую зависимость цены от размеров площади, что логично."
   ]
  },
  {
   "cell_type": "code",
   "execution_count": 248,
   "metadata": {},
   "outputs": [
    {
     "data": {
      "text/plain": [
       "0.5328141818044058"
      ]
     },
     "execution_count": 248,
     "metadata": {},
     "output_type": "execute_result"
    }
   ],
   "source": [
    "# По количеству комнат немного меньше\n",
    "\n",
    "df['last_price'].corr(df['rooms'])"
   ]
  },
  {
   "cell_type": "code",
   "execution_count": 249,
   "metadata": {},
   "outputs": [
    {
     "data": {
      "text/plain": [
       "0.3983916413323352"
      ]
     },
     "execution_count": 249,
     "metadata": {},
     "output_type": "execute_result"
    }
   ],
   "source": [
    "# Так как в столбце расстояния до центра есть пропуски, то при проверке корреляции их нужно исключить,  метод notnull\n",
    "\n",
    "df['last_price'].corr(df['citycenters_nearest'].notnull())"
   ]
  },
  {
   "cell_type": "code",
   "execution_count": 250,
   "metadata": {},
   "outputs": [
    {
     "data": {
      "text/plain": [
       "<AxesSubplot:xlabel='floor_category'>"
      ]
     },
     "execution_count": 250,
     "metadata": {},
     "output_type": "execute_result"
    },
    {
     "data": {
      "image/png": "[encoded data removed]",
      "text/plain": [
       "<Figure size 432x288 with 1 Axes>"
      ]
     },
     "metadata": {
      "needs_background": "light"
     },
     "output_type": "display_data"
    }
   ],
   "source": [
    "# Проверим зависимость от этажа\n",
    "\n",
    "(df.groupby('floor_category')['last_price'].median()\n",
    "    .plot(x='floor_category',y='last_price',kind='bar')\n",
    ")"
   ]
  },
  {
   "cell_type": "markdown",
   "metadata": {},
   "source": [
    "Квартиры на первом этаже обычно продаются дешевле остальных."
   ]
  },
  {
   "cell_type": "code",
   "execution_count": 251,
   "metadata": {},
   "outputs": [
    {
     "data": {
      "text/plain": [
       "<AxesSubplot:xlabel='citycenters_nearest'>"
      ]
     },
     "execution_count": 251,
     "metadata": {},
     "output_type": "execute_result"
    },
    {
     "data": {
      "image/png": "[encoded data removed]",
      "text/plain": [
       "<Figure size 432x288 with 1 Axes>"
      ]
     },
     "metadata": {
      "needs_background": "light"
     },
     "output_type": "display_data"
    }
   ],
   "source": [
    "# Проверим зависимость на удаленность от центра\n",
    "\n",
    "(df.sort_values(by='citycenters_nearest',ascending=True)\n",
    " .plot(x='citycenters_nearest',y='last_price',style='o',alpha=0.3)\n",
    ")"
   ]
  },
  {
   "cell_type": "markdown",
   "metadata": {},
   "source": [
    "Как следовало и ожидать, квартиры ближе к центру стоят дороже."
   ]
  },
  {
   "cell_type": "code",
   "execution_count": 252,
   "metadata": {},
   "outputs": [
    {
     "data": {
      "text/plain": [
       "<AxesSubplot:xlabel='weekday'>"
      ]
     },
     "execution_count": 252,
     "metadata": {},
     "output_type": "execute_result"
    },
    {
     "data": {
      "image/png": "[encoded data removed]",
      "text/plain": [
       "<Figure size 432x288 with 1 Axes>"
      ]
     },
     "metadata": {
      "needs_background": "light"
     },
     "output_type": "display_data"
    }
   ],
   "source": [
    "(df.groupby('weekday')['last_price'].count()\n",
    "     .plot(x='weekday',y='last_price',kind='bar')\n",
    ")"
   ]
  },
  {
   "cell_type": "markdown",
   "metadata": {},
   "source": [
    "Меньше всего публикаций в выходные дни.\n"
   ]
  },
  {
   "cell_type": "code",
   "execution_count": 253,
   "metadata": {},
   "outputs": [
    {
     "data": {
      "text/plain": [
       "<AxesSubplot:xlabel='month'>"
      ]
     },
     "execution_count": 253,
     "metadata": {},
     "output_type": "execute_result"
    },
    {
     "data": {
      "image/png": "[encoded data removed]",
      "text/plain": [
       "<Figure size 432x288 with 1 Axes>"
      ]
     },
     "metadata": {
      "needs_background": "light"
     },
     "output_type": "display_data"
    }
   ],
   "source": [
    "(df.groupby('month')['last_price'].count()\n",
    "     .plot(x='month',y='last_price',kind='bar')\n",
    ")"
   ]
  },
  {
   "cell_type": "markdown",
   "metadata": {},
   "source": [
    "Здесь мы видим, что самые \"непопулярные месяцы\" для публикаций это праздничные и предпраздничные, январь, май и декабрь."
   ]
  },
  {
   "cell_type": "code",
   "execution_count": 254,
   "metadata": {},
   "outputs": [
    {
     "data": {
      "text/plain": [
       "<AxesSubplot:xlabel='year'>"
      ]
     },
     "execution_count": 254,
     "metadata": {},
     "output_type": "execute_result"
    },
    {
     "data": {
      "image/png": "[encoded data removed]",
      "text/plain": [
       "<Figure size 432x288 with 1 Axes>"
      ]
     },
     "metadata": {
      "needs_background": "light"
     },
     "output_type": "display_data"
    }
   ],
   "source": [
    "(df.groupby('year')['last_price'].count()\n",
    "     .plot(x='year',y='last_price',kind='bar')\n",
    ")"
   ]
  },
  {
   "cell_type": "markdown",
   "metadata": {},
   "source": [
    "Значительно больше объявлений было в 2017 и 2018 годах, ранее 2016 скорее всего площадка для размещения только набирала популярность, поэтому их очень мало на тот момент."
   ]
  },
  {
   "cell_type": "markdown",
   "metadata": {},
   "source": [
    "<p><em>Выберем&nbsp;10 населённых пунктов с наибольшим числом объявлений. Посчитаем среднюю цену квадратного метра в этих населённых пунктах. Выделим&nbsp;населённые пункты с самой высокой и низкой стоимостью жилья. Эти данные можно найти по имени в столбце&nbsp;<code>locality_name</code></em></span></p>\n",
    "\n",
    "\n"
   ]
  },
  {
   "cell_type": "code",
   "execution_count": 255,
   "metadata": {},
   "outputs": [
    {
     "data": {
      "text/html": [
       "<div>\n",
       "<style scoped>\n",
       "    .dataframe tbody tr th:only-of-type {\n",
       "        vertical-align: middle;\n",
       "    }\n",
       "\n",
       "    .dataframe tbody tr th {\n",
       "        vertical-align: top;\n",
       "    }\n",
       "\n",
       "    .dataframe thead th {\n",
       "        text-align: right;\n",
       "    }\n",
       "</style>\n",
       "<table border=\"1\" class=\"dataframe\">\n",
       "  <thead>\n",
       "    <tr style=\"text-align: right;\">\n",
       "      <th></th>\n",
       "      <th>count</th>\n",
       "      <th>median</th>\n",
       "    </tr>\n",
       "    <tr>\n",
       "      <th>locality_name</th>\n",
       "      <th></th>\n",
       "      <th></th>\n",
       "    </tr>\n",
       "  </thead>\n",
       "  <tbody>\n",
       "    <tr>\n",
       "      <th>Санкт-Петербург</th>\n",
       "      <td>10514.00</td>\n",
       "      <td>103201.50</td>\n",
       "    </tr>\n",
       "    <tr>\n",
       "      <th>Мурино</th>\n",
       "      <td>493.00</td>\n",
       "      <td>84876.00</td>\n",
       "    </tr>\n",
       "    <tr>\n",
       "      <th>Кудрово</th>\n",
       "      <td>393.00</td>\n",
       "      <td>94507.00</td>\n",
       "    </tr>\n",
       "    <tr>\n",
       "      <th>поселок Шушары</th>\n",
       "      <td>364.00</td>\n",
       "      <td>75933.00</td>\n",
       "    </tr>\n",
       "    <tr>\n",
       "      <th>Всеволожск</th>\n",
       "      <td>288.00</td>\n",
       "      <td>65789.00</td>\n",
       "    </tr>\n",
       "    <tr>\n",
       "      <th>поселок Парголово</th>\n",
       "      <td>277.00</td>\n",
       "      <td>91516.00</td>\n",
       "    </tr>\n",
       "    <tr>\n",
       "      <th>Пушкин</th>\n",
       "      <td>217.00</td>\n",
       "      <td>99650.00</td>\n",
       "    </tr>\n",
       "    <tr>\n",
       "      <th>Колпино</th>\n",
       "      <td>209.00</td>\n",
       "      <td>74137.00</td>\n",
       "    </tr>\n",
       "    <tr>\n",
       "      <th>Гатчина</th>\n",
       "      <td>196.00</td>\n",
       "      <td>67721.50</td>\n",
       "    </tr>\n",
       "    <tr>\n",
       "      <th>Выборг</th>\n",
       "      <td>160.00</td>\n",
       "      <td>56881.00</td>\n",
       "    </tr>\n",
       "  </tbody>\n",
       "</table>\n",
       "</div>"
      ],
      "text/plain": [
       "                     count    median\n",
       "locality_name                       \n",
       "Санкт-Петербург   10514.00 103201.50\n",
       "Мурино              493.00  84876.00\n",
       "Кудрово             393.00  94507.00\n",
       "поселок Шушары      364.00  75933.00\n",
       "Всеволожск          288.00  65789.00\n",
       "поселок Парголово   277.00  91516.00\n",
       "Пушкин              217.00  99650.00\n",
       "Колпино             209.00  74137.00\n",
       "Гатчина             196.00  67721.50\n",
       "Выборг              160.00  56881.00"
      ]
     },
     "execution_count": 255,
     "metadata": {},
     "output_type": "execute_result"
    }
   ],
   "source": [
    "# Создадм новую таблицу для 10 населенных пунктов с наибольшим числом объявлений\n",
    "\n",
    "df_10 = df.pivot_table(index='locality_name',values='m_price',aggfunc=('count','median'))\n",
    "df_10.sort_values(by='count',ascending=False).head(10)\n",
    "\n",
    "# df_10 = df.pivot_table(index=['locality_name'], values=['last_price'], aggfunc='count')\n",
    "# df_10.columns = ['count']\n",
    "# df_10 = df_10.sort_values(by='count', ascending=False).head(10)\n",
    "\n",
    "# df_10"
   ]
  },
  {
   "cell_type": "markdown",
   "metadata": {},
   "source": [
    "Больше всего объявлений в Санкт-Петербурге, а вот по стоимости за квадратный метр от Петербурга почти не отстают - Пушкин и Кудрово, около 100 тыс. за кв.м. В Выборге самая низкая стоимость - 58 тыс. за кв.м и меньше всего предложений."
   ]
  },
  {
   "cell_type": "markdown",
   "metadata": {},
   "source": [
    "<p><em>Изучим&nbsp; квартиры в Санкт-Петербурге (`locality_name`).</em></p>\n",
    "\n",
    "<p><em>Выясним, какая область входит в центр. Создадим столбец с расстоянием до центра в километрах. После этого посчитаем среднюю цену для каждого километра.</em></p>\n",
    "\n",
    "<p><em>Сделаем график: он должен показывать, как цена зависит от удалённости от центра. Определим&nbsp;границу, где график сильно меняется &mdash; это и будет центральная зона.</em></p>\n",
    "\n"
   ]
  },
  {
   "cell_type": "code",
   "execution_count": 256,
   "metadata": {},
   "outputs": [
    {
     "data": {
      "text/html": [
       "<div>\n",
       "<style scoped>\n",
       "    .dataframe tbody tr th:only-of-type {\n",
       "        vertical-align: middle;\n",
       "    }\n",
       "\n",
       "    .dataframe tbody tr th {\n",
       "        vertical-align: top;\n",
       "    }\n",
       "\n",
       "    .dataframe thead th {\n",
       "        text-align: right;\n",
       "    }\n",
       "</style>\n",
       "<table border=\"1\" class=\"dataframe\">\n",
       "  <thead>\n",
       "    <tr style=\"text-align: right;\">\n",
       "      <th></th>\n",
       "      <th>index</th>\n",
       "      <th>total_images</th>\n",
       "      <th>last_price</th>\n",
       "      <th>total_area</th>\n",
       "      <th>first_day_exposition</th>\n",
       "      <th>rooms</th>\n",
       "      <th>ceiling_height</th>\n",
       "      <th>floors_total</th>\n",
       "      <th>living_area</th>\n",
       "      <th>floor</th>\n",
       "      <th>...</th>\n",
       "      <th>days_exposition</th>\n",
       "      <th>m_price</th>\n",
       "      <th>weekday</th>\n",
       "      <th>month</th>\n",
       "      <th>year</th>\n",
       "      <th>floor_category</th>\n",
       "      <th>living_to_total</th>\n",
       "      <th>kitchen_to_total</th>\n",
       "      <th>centre_distance</th>\n",
       "      <th>km_centre_price</th>\n",
       "    </tr>\n",
       "  </thead>\n",
       "  <tbody>\n",
       "    <tr>\n",
       "      <th>0</th>\n",
       "      <td>2</td>\n",
       "      <td>10</td>\n",
       "      <td>5196000</td>\n",
       "      <td>56.00</td>\n",
       "      <td>2015-08-20</td>\n",
       "      <td>2</td>\n",
       "      <td>2.65</td>\n",
       "      <td>5.00</td>\n",
       "      <td>34.30</td>\n",
       "      <td>4</td>\n",
       "      <td>...</td>\n",
       "      <td>558.00</td>\n",
       "      <td>92785</td>\n",
       "      <td>3</td>\n",
       "      <td>8</td>\n",
       "      <td>2015</td>\n",
       "      <td>Другой</td>\n",
       "      <td>0.61</td>\n",
       "      <td>0.15</td>\n",
       "      <td>13</td>\n",
       "      <td>399692.31</td>\n",
       "    </tr>\n",
       "    <tr>\n",
       "      <th>1</th>\n",
       "      <td>4</td>\n",
       "      <td>2</td>\n",
       "      <td>10000000</td>\n",
       "      <td>100.00</td>\n",
       "      <td>2018-06-19</td>\n",
       "      <td>2</td>\n",
       "      <td>3.03</td>\n",
       "      <td>14.00</td>\n",
       "      <td>32.00</td>\n",
       "      <td>13</td>\n",
       "      <td>...</td>\n",
       "      <td>121.00</td>\n",
       "      <td>100000</td>\n",
       "      <td>1</td>\n",
       "      <td>6</td>\n",
       "      <td>2018</td>\n",
       "      <td>Другой</td>\n",
       "      <td>0.32</td>\n",
       "      <td>0.41</td>\n",
       "      <td>8</td>\n",
       "      <td>1250000.00</td>\n",
       "    </tr>\n",
       "    <tr>\n",
       "      <th>2</th>\n",
       "      <td>10</td>\n",
       "      <td>5</td>\n",
       "      <td>5050000</td>\n",
       "      <td>39.60</td>\n",
       "      <td>2017-11-16</td>\n",
       "      <td>1</td>\n",
       "      <td>2.67</td>\n",
       "      <td>12.00</td>\n",
       "      <td>20.30</td>\n",
       "      <td>3</td>\n",
       "      <td>...</td>\n",
       "      <td>137.00</td>\n",
       "      <td>127525</td>\n",
       "      <td>3</td>\n",
       "      <td>11</td>\n",
       "      <td>2017</td>\n",
       "      <td>Другой</td>\n",
       "      <td>0.51</td>\n",
       "      <td>0.21</td>\n",
       "      <td>13</td>\n",
       "      <td>388461.54</td>\n",
       "    </tr>\n",
       "    <tr>\n",
       "      <th>3</th>\n",
       "      <td>15</td>\n",
       "      <td>16</td>\n",
       "      <td>4650000</td>\n",
       "      <td>39.00</td>\n",
       "      <td>2017-11-18</td>\n",
       "      <td>1</td>\n",
       "      <td>2.65</td>\n",
       "      <td>14.00</td>\n",
       "      <td>20.50</td>\n",
       "      <td>5</td>\n",
       "      <td>...</td>\n",
       "      <td>19.00</td>\n",
       "      <td>119230</td>\n",
       "      <td>5</td>\n",
       "      <td>11</td>\n",
       "      <td>2017</td>\n",
       "      <td>Другой</td>\n",
       "      <td>0.53</td>\n",
       "      <td>0.19</td>\n",
       "      <td>14</td>\n",
       "      <td>332142.86</td>\n",
       "    </tr>\n",
       "    <tr>\n",
       "      <th>4</th>\n",
       "      <td>16</td>\n",
       "      <td>11</td>\n",
       "      <td>6700000</td>\n",
       "      <td>82.00</td>\n",
       "      <td>2017-11-23</td>\n",
       "      <td>3</td>\n",
       "      <td>3.05</td>\n",
       "      <td>5.00</td>\n",
       "      <td>55.60</td>\n",
       "      <td>1</td>\n",
       "      <td>...</td>\n",
       "      <td>397.00</td>\n",
       "      <td>81707</td>\n",
       "      <td>3</td>\n",
       "      <td>11</td>\n",
       "      <td>2017</td>\n",
       "      <td>Первый</td>\n",
       "      <td>0.68</td>\n",
       "      <td>0.11</td>\n",
       "      <td>10</td>\n",
       "      <td>670000.00</td>\n",
       "    </tr>\n",
       "    <tr>\n",
       "      <th>...</th>\n",
       "      <td>...</td>\n",
       "      <td>...</td>\n",
       "      <td>...</td>\n",
       "      <td>...</td>\n",
       "      <td>...</td>\n",
       "      <td>...</td>\n",
       "      <td>...</td>\n",
       "      <td>...</td>\n",
       "      <td>...</td>\n",
       "      <td>...</td>\n",
       "      <td>...</td>\n",
       "      <td>...</td>\n",
       "      <td>...</td>\n",
       "      <td>...</td>\n",
       "      <td>...</td>\n",
       "      <td>...</td>\n",
       "      <td>...</td>\n",
       "      <td>...</td>\n",
       "      <td>...</td>\n",
       "      <td>...</td>\n",
       "      <td>...</td>\n",
       "    </tr>\n",
       "    <tr>\n",
       "      <th>10492</th>\n",
       "      <td>23687</td>\n",
       "      <td>6</td>\n",
       "      <td>3200000</td>\n",
       "      <td>39.00</td>\n",
       "      <td>2017-12-16</td>\n",
       "      <td>1</td>\n",
       "      <td>2.65</td>\n",
       "      <td>9.00</td>\n",
       "      <td>20.00</td>\n",
       "      <td>6</td>\n",
       "      <td>...</td>\n",
       "      <td>38.00</td>\n",
       "      <td>82051</td>\n",
       "      <td>5</td>\n",
       "      <td>12</td>\n",
       "      <td>2017</td>\n",
       "      <td>Другой</td>\n",
       "      <td>0.51</td>\n",
       "      <td>0.28</td>\n",
       "      <td>16</td>\n",
       "      <td>200000.00</td>\n",
       "    </tr>\n",
       "    <tr>\n",
       "      <th>10493</th>\n",
       "      <td>23688</td>\n",
       "      <td>19</td>\n",
       "      <td>9200000</td>\n",
       "      <td>101.00</td>\n",
       "      <td>2019-04-01</td>\n",
       "      <td>3</td>\n",
       "      <td>3.05</td>\n",
       "      <td>15.00</td>\n",
       "      <td>63.00</td>\n",
       "      <td>12</td>\n",
       "      <td>...</td>\n",
       "      <td>23.00</td>\n",
       "      <td>91089</td>\n",
       "      <td>0</td>\n",
       "      <td>4</td>\n",
       "      <td>2019</td>\n",
       "      <td>Другой</td>\n",
       "      <td>0.62</td>\n",
       "      <td>0.15</td>\n",
       "      <td>14</td>\n",
       "      <td>657142.86</td>\n",
       "    </tr>\n",
       "    <tr>\n",
       "      <th>10494</th>\n",
       "      <td>23689</td>\n",
       "      <td>13</td>\n",
       "      <td>3550000</td>\n",
       "      <td>35.30</td>\n",
       "      <td>2018-02-28</td>\n",
       "      <td>1</td>\n",
       "      <td>2.86</td>\n",
       "      <td>15.00</td>\n",
       "      <td>16.30</td>\n",
       "      <td>4</td>\n",
       "      <td>...</td>\n",
       "      <td>29.00</td>\n",
       "      <td>100566</td>\n",
       "      <td>2</td>\n",
       "      <td>2</td>\n",
       "      <td>2018</td>\n",
       "      <td>Другой</td>\n",
       "      <td>0.46</td>\n",
       "      <td>0.26</td>\n",
       "      <td>16</td>\n",
       "      <td>221875.00</td>\n",
       "    </tr>\n",
       "    <tr>\n",
       "      <th>10495</th>\n",
       "      <td>23690</td>\n",
       "      <td>3</td>\n",
       "      <td>5500000</td>\n",
       "      <td>52.00</td>\n",
       "      <td>2018-07-19</td>\n",
       "      <td>2</td>\n",
       "      <td>2.65</td>\n",
       "      <td>5.00</td>\n",
       "      <td>31.00</td>\n",
       "      <td>2</td>\n",
       "      <td>...</td>\n",
       "      <td>15.00</td>\n",
       "      <td>105769</td>\n",
       "      <td>3</td>\n",
       "      <td>7</td>\n",
       "      <td>2018</td>\n",
       "      <td>Другой</td>\n",
       "      <td>0.60</td>\n",
       "      <td>0.12</td>\n",
       "      <td>6</td>\n",
       "      <td>916666.67</td>\n",
       "    </tr>\n",
       "    <tr>\n",
       "      <th>10496</th>\n",
       "      <td>23691</td>\n",
       "      <td>11</td>\n",
       "      <td>9470000</td>\n",
       "      <td>72.90</td>\n",
       "      <td>2016-10-13</td>\n",
       "      <td>2</td>\n",
       "      <td>2.75</td>\n",
       "      <td>25.00</td>\n",
       "      <td>40.30</td>\n",
       "      <td>7</td>\n",
       "      <td>...</td>\n",
       "      <td>519.00</td>\n",
       "      <td>129903</td>\n",
       "      <td>3</td>\n",
       "      <td>10</td>\n",
       "      <td>2016</td>\n",
       "      <td>Другой</td>\n",
       "      <td>0.55</td>\n",
       "      <td>0.15</td>\n",
       "      <td>4</td>\n",
       "      <td>2367500.00</td>\n",
       "    </tr>\n",
       "  </tbody>\n",
       "</table>\n",
       "<p>10497 rows × 32 columns</p>\n",
       "</div>"
      ],
      "text/plain": [
       "       index  total_images  last_price  total_area first_day_exposition  \\\n",
       "0          2            10     5196000       56.00           2015-08-20   \n",
       "1          4             2    10000000      100.00           2018-06-19   \n",
       "2         10             5     5050000       39.60           2017-11-16   \n",
       "3         15            16     4650000       39.00           2017-11-18   \n",
       "4         16            11     6700000       82.00           2017-11-23   \n",
       "...      ...           ...         ...         ...                  ...   \n",
       "10492  23687             6     3200000       39.00           2017-12-16   \n",
       "10493  23688            19     9200000      101.00           2019-04-01   \n",
       "10494  23689            13     3550000       35.30           2018-02-28   \n",
       "10495  23690             3     5500000       52.00           2018-07-19   \n",
       "10496  23691            11     9470000       72.90           2016-10-13   \n",
       "\n",
       "       rooms  ceiling_height  floors_total  living_area  floor  ...  \\\n",
       "0          2            2.65          5.00        34.30      4  ...   \n",
       "1          2            3.03         14.00        32.00     13  ...   \n",
       "2          1            2.67         12.00        20.30      3  ...   \n",
       "3          1            2.65         14.00        20.50      5  ...   \n",
       "4          3            3.05          5.00        55.60      1  ...   \n",
       "...      ...             ...           ...          ...    ...  ...   \n",
       "10492      1            2.65          9.00        20.00      6  ...   \n",
       "10493      3            3.05         15.00        63.00     12  ...   \n",
       "10494      1            2.86         15.00        16.30      4  ...   \n",
       "10495      2            2.65          5.00        31.00      2  ...   \n",
       "10496      2            2.75         25.00        40.30      7  ...   \n",
       "\n",
       "      days_exposition m_price weekday  month  year floor_category  \\\n",
       "0              558.00   92785       3      8  2015         Другой   \n",
       "1              121.00  100000       1      6  2018         Другой   \n",
       "2              137.00  127525       3     11  2017         Другой   \n",
       "3               19.00  119230       5     11  2017         Другой   \n",
       "4              397.00   81707       3     11  2017         Первый   \n",
       "...               ...     ...     ...    ...   ...            ...   \n",
       "10492           38.00   82051       5     12  2017         Другой   \n",
       "10493           23.00   91089       0      4  2019         Другой   \n",
       "10494           29.00  100566       2      2  2018         Другой   \n",
       "10495           15.00  105769       3      7  2018         Другой   \n",
       "10496          519.00  129903       3     10  2016         Другой   \n",
       "\n",
       "       living_to_total  kitchen_to_total  centre_distance  km_centre_price  \n",
       "0                 0.61              0.15               13        399692.31  \n",
       "1                 0.32              0.41                8       1250000.00  \n",
       "2                 0.51              0.21               13        388461.54  \n",
       "3                 0.53              0.19               14        332142.86  \n",
       "4                 0.68              0.11               10        670000.00  \n",
       "...                ...               ...              ...              ...  \n",
       "10492             0.51              0.28               16        200000.00  \n",
       "10493             0.62              0.15               14        657142.86  \n",
       "10494             0.46              0.26               16        221875.00  \n",
       "10495             0.60              0.12                6        916666.67  \n",
       "10496             0.55              0.15                4       2367500.00  \n",
       "\n",
       "[10497 rows x 32 columns]"
      ]
     },
     "execution_count": 256,
     "metadata": {},
     "output_type": "execute_result"
    }
   ],
   "source": [
    "# Удалим строки с пропусками в столбце citycenters_nearest\n",
    "\n",
    "df.dropna(subset = ['citycenters_nearest'], how='all', inplace=True)\n",
    "\n",
    "# Создадим столбец с расстоянием до центра в километрах и столбец с ценой за км удаленности от центра\n",
    "  \n",
    "df['centre_distance'] = (df['citycenters_nearest'] / 1000).astype(int)\n",
    "df['km_centre_price'] = (df['last_price']/df['centre_distance']).astype(float)\n",
    "\n",
    "# Заменяем записи с inf и -inf на пропуски, а потом удаляем записи с пропусками по столбцу цены  за км\n",
    "df['km_centre_price']  = df['km_centre_price'] .replace([np.inf, -np.inf], np.nan).dropna()\n",
    "\n",
    "# Создадим отдельный датафрейм для Санкт-Петербурга\n",
    "\n",
    "df_spb = df[df['locality_name'] == 'Санкт-Петербург']\n",
    "df_spb.reset_index(inplace=True)\n",
    "\n",
    "# Формат данных с округлением данных float до 2 знаков после запятой\n",
    "pd.options.display.float_format = '{:.2f}'.format\n",
    "\n",
    "df_spb\n",
    "\n"
   ]
  },
  {
   "cell_type": "code",
   "execution_count": 257,
   "metadata": {},
   "outputs": [
    {
     "data": {
      "text/plain": [
       "count      10447.00\n",
       "mean      956043.88\n",
       "std      1538884.52\n",
       "min         1354.44\n",
       "25%       318181.82\n",
       "50%       459000.00\n",
       "75%       908333.33\n",
       "max     21000000.00\n",
       "Name: km_centre_price, dtype: float64"
      ]
     },
     "execution_count": 257,
     "metadata": {},
     "output_type": "execute_result"
    }
   ],
   "source": [
    "df_spb['km_centre_price'].describe()"
   ]
  },
  {
   "cell_type": "code",
   "execution_count": 258,
   "metadata": {
    "scrolled": true
   },
   "outputs": [
    {
     "data": {
      "image/png": "[encoded data removed]",
      "text/plain": [
       "<Figure size 432x288 with 1 Axes>"
      ]
     },
     "metadata": {
      "needs_background": "light"
     },
     "output_type": "display_data"
    }
   ],
   "source": [
    "# диаграмма размаха для цены за км\n",
    "\n",
    "df_spb.boxplot(column='km_centre_price')\n",
    "plt.ylim(0,21000000)\n",
    "plt.show()"
   ]
  },
  {
   "cell_type": "code",
   "execution_count": 259,
   "metadata": {},
   "outputs": [],
   "source": [
    "# как мы заметили на прошлой диаграмме - очень много выбросов, поэтому срежем данные для точности, \n",
    "# оставим квартиры до 3 млн. руб. за кв м\n",
    "\n",
    "df_spb = df_spb[df_spb['km_centre_price'] < 3000000]"
   ]
  },
  {
   "cell_type": "code",
   "execution_count": 260,
   "metadata": {},
   "outputs": [
    {
     "data": {
      "text/plain": [
       "<AxesSubplot:xlabel='centre_distance'>"
      ]
     },
     "execution_count": 260,
     "metadata": {},
     "output_type": "execute_result"
    },
    {
     "data": {
      "image/png": "[encoded data removed]",
      "text/plain": [
       "<Figure size 432x288 with 1 Axes>"
      ]
     },
     "metadata": {
      "needs_background": "light"
     },
     "output_type": "display_data"
    }
   ],
   "source": [
    "# посмотрим как распределяются теперь цены в зависимости от удаленности от центра\n",
    "\n",
    "(df_spb.sort_values(by='centre_distance',ascending=True)\n",
    " .plot(x='centre_distance',y='km_centre_price',style='o',alpha=0.3)\n",
    ")"
   ]
  },
  {
   "cell_type": "markdown",
   "metadata": {},
   "source": [
    "\n",
    "Как видно по графику самая высокая цена за кв.м у квартир, которые находятся в удаленности до 3 км от центра Санкт-Петербурга, достигает 3 млн. руб., будем считать её \"центральной зоной\"(\"золотой треугольник\" Петербурга).\n",
    "В промежутке с 7 до 25 км от центра города цена практически не меняется, колеблется в раойне 500 тыс. руб за кв.м.\n"
   ]
  },
  {
   "cell_type": "markdown",
   "metadata": {},
   "source": [
    "<p><em>Выделим&nbsp;сегмент квартир в центре.</em></p>\n",
    "\n",
    "<p><em>Проанализируем&nbsp;эту территорию и изучим&nbsp;следующие параметры:</em></p>\n",
    "\n",
    "<ul>\n",
    "\t<li><em>площадь,</em></li>\n",
    "\t<li><em>цена,</em></li>\n",
    "\t<li><em>число комнат,</em></li>\n",
    "\t<li><em>высота потолков.</em></li>\n",
    "</ul>"
   ]
  },
  {
   "cell_type": "code",
   "execution_count": 261,
   "metadata": {},
   "outputs": [],
   "source": [
    "# Оставим только те объявления, квартиры в которых находятся в радиусе 3 км от центра города\n",
    "\n",
    "df_spb = df_spb[df_spb['centre_distance'] < 3]\n",
    "\n",
    "# Получим список характерных значений для необходимых столбцов\n",
    "\n",
    "data_df_spb = df_spb[['total_area', 'last_price', 'rooms', 'ceiling_height']].describe()"
   ]
  },
  {
   "cell_type": "code",
   "execution_count": 262,
   "metadata": {},
   "outputs": [],
   "source": [
    "data_df = df[['total_area', 'last_price', 'rooms', 'ceiling_height']].describe()"
   ]
  },
  {
   "cell_type": "code",
   "execution_count": 263,
   "metadata": {},
   "outputs": [
    {
     "data": {
      "text/html": [
       "<div>\n",
       "<style scoped>\n",
       "    .dataframe tbody tr th:only-of-type {\n",
       "        vertical-align: middle;\n",
       "    }\n",
       "\n",
       "    .dataframe tbody tr th {\n",
       "        vertical-align: top;\n",
       "    }\n",
       "\n",
       "    .dataframe thead th {\n",
       "        text-align: right;\n",
       "    }\n",
       "</style>\n",
       "<table border=\"1\" class=\"dataframe\">\n",
       "  <thead>\n",
       "    <tr style=\"text-align: right;\">\n",
       "      <th></th>\n",
       "      <th>total_area</th>\n",
       "      <th>total_area_spb</th>\n",
       "      <th>last_price</th>\n",
       "      <th>last_price_spb</th>\n",
       "      <th>rooms</th>\n",
       "      <th>rooms_spb</th>\n",
       "      <th>ceiling_height</th>\n",
       "      <th>ceiling_height_spb</th>\n",
       "    </tr>\n",
       "  </thead>\n",
       "  <tbody>\n",
       "    <tr>\n",
       "      <th>count</th>\n",
       "      <td>38.00</td>\n",
       "      <td>12206.00</td>\n",
       "      <td>38.00</td>\n",
       "      <td>12206.00</td>\n",
       "      <td>38.00</td>\n",
       "      <td>12206.00</td>\n",
       "      <td>38.00</td>\n",
       "      <td>12206.00</td>\n",
       "    </tr>\n",
       "    <tr>\n",
       "      <th>mean</th>\n",
       "      <td>47.60</td>\n",
       "      <td>59.18</td>\n",
       "      <td>4772839.47</td>\n",
       "      <td>6199075.67</td>\n",
       "      <td>1.76</td>\n",
       "      <td>2.03</td>\n",
       "      <td>2.92</td>\n",
       "      <td>2.72</td>\n",
       "    </tr>\n",
       "    <tr>\n",
       "      <th>std</th>\n",
       "      <td>20.77</td>\n",
       "      <td>26.20</td>\n",
       "      <td>858785.49</td>\n",
       "      <td>3269858.72</td>\n",
       "      <td>0.97</td>\n",
       "      <td>0.99</td>\n",
       "      <td>0.35</td>\n",
       "      <td>0.19</td>\n",
       "    </tr>\n",
       "    <tr>\n",
       "      <th>min</th>\n",
       "      <td>20.00</td>\n",
       "      <td>12.00</td>\n",
       "      <td>2385000.00</td>\n",
       "      <td>12190.00</td>\n",
       "      <td>1.00</td>\n",
       "      <td>1.00</td>\n",
       "      <td>2.60</td>\n",
       "      <td>2.51</td>\n",
       "    </tr>\n",
       "    <tr>\n",
       "      <th>25%</th>\n",
       "      <td>38.00</td>\n",
       "      <td>41.00</td>\n",
       "      <td>4390000.00</td>\n",
       "      <td>4000000.00</td>\n",
       "      <td>1.00</td>\n",
       "      <td>1.00</td>\n",
       "      <td>2.65</td>\n",
       "      <td>2.65</td>\n",
       "    </tr>\n",
       "    <tr>\n",
       "      <th>50%</th>\n",
       "      <td>44.50</td>\n",
       "      <td>53.00</td>\n",
       "      <td>4974500.00</td>\n",
       "      <td>5200000.00</td>\n",
       "      <td>2.00</td>\n",
       "      <td>2.00</td>\n",
       "      <td>2.80</td>\n",
       "      <td>2.65</td>\n",
       "    </tr>\n",
       "    <tr>\n",
       "      <th>75%</th>\n",
       "      <td>55.38</td>\n",
       "      <td>70.80</td>\n",
       "      <td>5387500.00</td>\n",
       "      <td>7300000.00</td>\n",
       "      <td>2.00</td>\n",
       "      <td>3.00</td>\n",
       "      <td>3.08</td>\n",
       "      <td>2.71</td>\n",
       "    </tr>\n",
       "    <tr>\n",
       "      <th>max</th>\n",
       "      <td>151.80</td>\n",
       "      <td>320.00</td>\n",
       "      <td>5850000.00</td>\n",
       "      <td>21900000.00</td>\n",
       "      <td>6.00</td>\n",
       "      <td>10.00</td>\n",
       "      <td>4.00</td>\n",
       "      <td>4.00</td>\n",
       "    </tr>\n",
       "  </tbody>\n",
       "</table>\n",
       "</div>"
      ],
      "text/plain": [
       "       total_area  total_area_spb  last_price  last_price_spb  rooms  \\\n",
       "count       38.00        12206.00       38.00        12206.00  38.00   \n",
       "mean        47.60           59.18  4772839.47      6199075.67   1.76   \n",
       "std         20.77           26.20   858785.49      3269858.72   0.97   \n",
       "min         20.00           12.00  2385000.00        12190.00   1.00   \n",
       "25%         38.00           41.00  4390000.00      4000000.00   1.00   \n",
       "50%         44.50           53.00  4974500.00      5200000.00   2.00   \n",
       "75%         55.38           70.80  5387500.00      7300000.00   2.00   \n",
       "max        151.80          320.00  5850000.00     21900000.00   6.00   \n",
       "\n",
       "       rooms_spb  ceiling_height  ceiling_height_spb  \n",
       "count   12206.00           38.00            12206.00  \n",
       "mean        2.03            2.92                2.72  \n",
       "std         0.99            0.35                0.19  \n",
       "min         1.00            2.60                2.51  \n",
       "25%         1.00            2.65                2.65  \n",
       "50%         2.00            2.80                2.65  \n",
       "75%         3.00            3.08                2.71  \n",
       "max        10.00            4.00                4.00  "
      ]
     },
     "execution_count": 263,
     "metadata": {},
     "output_type": "execute_result"
    }
   ],
   "source": [
    "# Объединим данные по таблицам, в добавленные справа столбцы от data_df_spb присоединим суффикс спб, чтобы видеть разницу\n",
    "\n",
    "df_df = data_df_spb.join(data_df, rsuffix='_spb')\n",
    "\n",
    "# Поменяем местами столбцы для удобства\n",
    "\n",
    "df_df = pd.DataFrame(df_df, columns=['total_area', 'total_area_spb', 'last_price', 'last_price_spb', 'rooms', 'rooms_spb', 'ceiling_height', 'ceiling_height_spb'])\n",
    "df_df"
   ]
  },
  {
   "cell_type": "markdown",
   "metadata": {},
   "source": [
    "<p><em><strong>Какие выводы можно сделать:</strong></em></p>\n",
    "\n",
    "<p>&nbsp;</p>\n",
    "\n",
    "<ul>\n",
    "\t<li>средняя площадь квартир в центре СПб немного меньше, чем площадь по общей таблице;</li>\n",
    "\t<li>что касается стоимости, то средняя стоимость квартир в центре СПб ниже, чем по всем данных в среднем. Скорее всего это связано как раз с тем, что по площади в центре СПб квартиры меньше, чем в другой области города и пригородах;</li>\n",
    "\t<li>по количеству комнат практически нет отличий, в основном это 2 комнатные, максимально 9 и 10 комнат, соответсвенно;</li>\n",
    "\t<li>высота потолков в центре СПб чуть ниже, чем по другим территориям. Хотя странно, ведь казалось, в центральной части много домов с потолками порядка 4 м.</li>\n",
    "</ul>\n"
   ]
  },
  {
   "cell_type": "markdown",
   "metadata": {},
   "source": [
    "## Общий вывод"
   ]
  },
  {
   "cell_type": "markdown",
   "metadata": {},
   "source": [
    "<p><strong>Изучив данные из таблицы можно сделать следующие выводы:</strong></p>\n",
    "\n",
    "<p><em>по стоимости:</em></p>\n",
    "\n",
    "<ul>\n",
    "\t<li>стоимость квартир практически напрямую зависит от общей площади квартиры</li>\n",
    "\t<li>самые высокие цены за 1 кв м у квартир в Санкт-Петербурге, Кудрово и Пушкине - около 100 тыс. за кв.м.</li>\n",
    "\t<li>самые дорогие квартиры в Петербурге в радиусе удаления от центра города до 3 км</li>\n",
    "\t<li>квартиры на первых этажах обычно дешевле</li>\n",
    "</ul>\n",
    "\n",
    "<p><em>по особенностям:</em></p>\n",
    "\n",
    "<ul>\n",
    "\t<li>реже всего люди публикуют объявления в выходные дни и праздничные и предпраздничные месяцы (январь, май, декабрь)</li>\n",
    "\t<li>значительно больше объявлений было в 2017 и 2018 годах, ранее 2016 скорее всего площадка для размещения только набирала популярность, поэтому их очень мало на тот момент</li>\n",
    "\t<li>если требуется квартира с большой площадью, то больше вариантов окажется за пределами &quot;центральной зоны&quot; Петербурга, т.к. при сравнении мы выяснили, что в среднем плоащадь в центре меньше, чем в остальных районах</li>\n",
    "\t<li>высота потолков в объявлениях в среднем не отличается от стандартной, хотя встречают и высокие потолки до 4 м как в центре города, так и по остальной области</li>\n",
    "</ul>\n",
    "\n"
   ]
  },
  {
   "cell_type": "markdown",
   "metadata": {},
   "source": [
    "<p><strong>ВЫВОД:</strong></p>\n",
    "\n",
    "<p><span style=\"color:#000000\"><strong>Чтобы автоматизировать получение рыночной стоимости, следует учитывать следующие параметры:</strong></span></p>\n",
    "\n",
    "<ul>\n",
    "\t<li><span style=\"color:#006699\">расположение квартиры на первом этаже - снижает стоимость, можно вычислить коэффициент соотношения&nbsp;</span></li>\n",
    "\t<li><span style=\"color:#006699\">квартиры в радиусе удаленности от центра города до 10 км как правило на 40-50% дороже&nbsp;</span></li>\n",
    "\t<li><span style=\"color:#006699\">общая площадь квартиры анпрямую влияет на стоимость жилья, положительная корреляция в пределах 0.77</span></li>\n",
    "\t<li><span style=\"color:#006699\">количество комнат тоже прибавляет значение к стоимости</span></li>\n",
    "\t<li><span style=\"color:#006699\">также следует обратить внимание, что в Санкт-Петербурге, Пушкине и в Кудрово стоимость квартир на 10-20% выше</span></li>\n",
    "\t<li><span style=\"color:#006699\">по графику мы заметили что обычно квартиры продают в большинстве случаев в среднем за 3-4 мес.,такие записи лучше брать за ориентиры, т.к. в них скорее всего параметры квартиры и ее стоимость соответствуют действительности, а не завышены или занижены в целях мошенничества или для привлечения внимания, например</span></li>\n",
    "</ul>\n"
   ]
  },
  {
   "cell_type": "code",
   "execution_count": null,
   "metadata": {},
   "outputs": [],
   "source": []
  },
  {
   "cell_type": "markdown",
   "metadata": {},
   "source": [
    "<p><strong>Рекомендации:</strong></p>\n",
    "\n",
    "<ul>\n",
    "\t<li>чтобы исключить дубликаты данных:</li>\n",
    "\t<li>для самых популярных населенных пунктов сделать поле с возможностью выбора названия, если среди списка нет, тогда поле для ввода</li>\n",
    "\t<li>в поле is_apartment сделать булевый тип данных - и по умолчанию задать значение False, чтобы исключить большое количество пропусков</li>\n",
    "\t<li>добавить поля с указанием стоимости за кв метр</li>\n",
    "</ul>\n"
   ]
  }
 ],
 "metadata": {
  "ExecuteTimeLog": [
   {
    "duration": 537,
    "start_time": "2022-04-16T14:10:49.972Z"
   },
   {
    "duration": 138,
    "start_time": "2022-04-16T14:11:25.009Z"
   },
   {
    "duration": 140,
    "start_time": "2022-04-16T14:11:54.006Z"
   },
   {
    "duration": 150,
    "start_time": "2022-04-16T14:12:16.304Z"
   },
   {
    "duration": 127,
    "start_time": "2022-04-16T14:12:22.831Z"
   },
   {
    "duration": 77,
    "start_time": "2022-04-16T14:13:02.103Z"
   },
   {
    "duration": 145,
    "start_time": "2022-04-16T14:13:26.287Z"
   },
   {
    "duration": 143,
    "start_time": "2022-04-16T14:13:36.679Z"
   },
   {
    "duration": 156,
    "start_time": "2022-04-16T14:14:25.287Z"
   },
   {
    "duration": 157,
    "start_time": "2022-04-16T14:15:39.824Z"
   },
   {
    "duration": 506,
    "start_time": "2022-04-18T13:12:39.270Z"
   },
   {
    "duration": 173,
    "start_time": "2022-04-18T13:12:53.569Z"
   },
   {
    "duration": 23,
    "start_time": "2022-04-18T13:35:03.961Z"
   },
   {
    "duration": 9,
    "start_time": "2022-04-18T13:38:11.948Z"
   },
   {
    "duration": 49,
    "start_time": "2022-04-20T12:10:08.922Z"
   },
   {
    "duration": 6,
    "start_time": "2022-04-20T12:10:18.615Z"
   },
   {
    "duration": 586,
    "start_time": "2022-04-20T12:10:24.969Z"
   },
   {
    "duration": 15,
    "start_time": "2022-04-20T12:10:25.558Z"
   },
   {
    "duration": 12,
    "start_time": "2022-04-20T12:10:25.575Z"
   },
   {
    "duration": 13,
    "start_time": "2022-04-20T12:10:33.774Z"
   },
   {
    "duration": 29,
    "start_time": "2022-04-20T12:15:36.534Z"
   },
   {
    "duration": 14,
    "start_time": "2022-04-20T12:15:41.989Z"
   },
   {
    "duration": 9,
    "start_time": "2022-04-20T12:22:25.244Z"
   },
   {
    "duration": 33,
    "start_time": "2022-04-20T12:23:35.103Z"
   },
   {
    "duration": 538,
    "start_time": "2022-04-21T09:17:12.793Z"
   },
   {
    "duration": 9,
    "start_time": "2022-04-21T09:17:13.333Z"
   },
   {
    "duration": 31,
    "start_time": "2022-04-21T09:17:13.343Z"
   },
   {
    "duration": 30,
    "start_time": "2022-04-21T09:17:13.376Z"
   },
   {
    "duration": 2521,
    "start_time": "2022-04-21T09:17:59.005Z"
   },
   {
    "duration": 5,
    "start_time": "2022-04-21T09:18:09.806Z"
   },
   {
    "duration": 4,
    "start_time": "2022-04-21T09:18:26.567Z"
   },
   {
    "duration": 7,
    "start_time": "2022-04-21T09:19:35.708Z"
   },
   {
    "duration": 4,
    "start_time": "2022-04-21T09:20:43.317Z"
   },
   {
    "duration": 57,
    "start_time": "2022-04-21T09:21:27.534Z"
   },
   {
    "duration": 20,
    "start_time": "2022-04-21T09:47:49.633Z"
   },
   {
    "duration": 19,
    "start_time": "2022-04-21T09:57:57.479Z"
   },
   {
    "duration": 6,
    "start_time": "2022-04-21T09:58:08.307Z"
   },
   {
    "duration": 20,
    "start_time": "2022-04-21T09:58:10.994Z"
   },
   {
    "duration": 164,
    "start_time": "2022-04-21T09:59:18.534Z"
   },
   {
    "duration": 9,
    "start_time": "2022-04-21T09:59:18.700Z"
   },
   {
    "duration": 11,
    "start_time": "2022-04-21T09:59:18.711Z"
   },
   {
    "duration": 7,
    "start_time": "2022-04-21T09:59:18.725Z"
   },
   {
    "duration": 7,
    "start_time": "2022-04-21T09:59:18.755Z"
   },
   {
    "duration": 12,
    "start_time": "2022-04-21T09:59:18.764Z"
   },
   {
    "duration": 21,
    "start_time": "2022-04-21T09:59:18.777Z"
   },
   {
    "duration": 6,
    "start_time": "2022-04-21T10:00:24.532Z"
   },
   {
    "duration": 20,
    "start_time": "2022-04-21T10:00:27.506Z"
   },
   {
    "duration": 6,
    "start_time": "2022-04-21T10:01:58.817Z"
   },
   {
    "duration": 7,
    "start_time": "2022-04-21T10:02:23.954Z"
   },
   {
    "duration": 13,
    "start_time": "2022-04-21T10:04:19.762Z"
   },
   {
    "duration": 8,
    "start_time": "2022-04-21T10:06:54.600Z"
   },
   {
    "duration": 10,
    "start_time": "2022-04-21T10:07:14.929Z"
   },
   {
    "duration": 8,
    "start_time": "2022-04-21T10:12:22.087Z"
   },
   {
    "duration": 6,
    "start_time": "2022-04-21T10:12:48.193Z"
   },
   {
    "duration": 21,
    "start_time": "2022-04-21T10:12:54.911Z"
   },
   {
    "duration": 6,
    "start_time": "2022-04-21T10:13:21.479Z"
   },
   {
    "duration": 6,
    "start_time": "2022-04-21T10:13:57.953Z"
   },
   {
    "duration": 19,
    "start_time": "2022-04-21T10:14:06.822Z"
   },
   {
    "duration": 6,
    "start_time": "2022-04-21T10:15:36.169Z"
   },
   {
    "duration": 19,
    "start_time": "2022-04-21T10:15:38.847Z"
   },
   {
    "duration": 9,
    "start_time": "2022-04-21T10:18:53.326Z"
   },
   {
    "duration": 4,
    "start_time": "2022-04-21T10:19:38.590Z"
   },
   {
    "duration": 12,
    "start_time": "2022-04-21T10:20:07.205Z"
   },
   {
    "duration": 8,
    "start_time": "2022-04-21T10:29:09.029Z"
   },
   {
    "duration": 8,
    "start_time": "2022-04-21T10:29:21.452Z"
   },
   {
    "duration": 8,
    "start_time": "2022-04-21T10:29:42.395Z"
   },
   {
    "duration": 8,
    "start_time": "2022-04-21T10:29:55.643Z"
   },
   {
    "duration": 9,
    "start_time": "2022-04-21T10:30:03.189Z"
   },
   {
    "duration": 8,
    "start_time": "2022-04-21T10:30:11.954Z"
   },
   {
    "duration": 11,
    "start_time": "2022-04-21T10:35:01.410Z"
   },
   {
    "duration": 8,
    "start_time": "2022-04-21T10:36:42.529Z"
   },
   {
    "duration": 10,
    "start_time": "2022-04-21T10:41:55.922Z"
   },
   {
    "duration": 11,
    "start_time": "2022-04-21T10:42:15.760Z"
   },
   {
    "duration": 12,
    "start_time": "2022-04-21T11:06:32.402Z"
   },
   {
    "duration": 11,
    "start_time": "2022-04-21T11:07:00.380Z"
   },
   {
    "duration": 9,
    "start_time": "2022-04-21T11:11:26.066Z"
   },
   {
    "duration": 281,
    "start_time": "2022-04-21T11:12:10.921Z"
   },
   {
    "duration": 78,
    "start_time": "2022-04-21T11:12:53.548Z"
   },
   {
    "duration": 80,
    "start_time": "2022-04-21T11:13:55.307Z"
   },
   {
    "duration": 153,
    "start_time": "2022-04-21T11:15:02.897Z"
   },
   {
    "duration": 133,
    "start_time": "2022-04-21T11:15:08.914Z"
   },
   {
    "duration": 145,
    "start_time": "2022-04-21T11:15:25.168Z"
   },
   {
    "duration": 134,
    "start_time": "2022-04-21T11:16:41.016Z"
   },
   {
    "duration": 82,
    "start_time": "2022-04-21T11:16:50.512Z"
   },
   {
    "duration": 133,
    "start_time": "2022-04-21T11:17:08.958Z"
   },
   {
    "duration": 76,
    "start_time": "2022-04-21T11:17:16.776Z"
   },
   {
    "duration": 174,
    "start_time": "2022-04-21T11:17:43.495Z"
   },
   {
    "duration": 8,
    "start_time": "2022-04-21T11:17:43.671Z"
   },
   {
    "duration": 10,
    "start_time": "2022-04-21T11:17:43.680Z"
   },
   {
    "duration": 7,
    "start_time": "2022-04-21T11:17:43.692Z"
   },
   {
    "duration": 9,
    "start_time": "2022-04-21T11:17:43.701Z"
   },
   {
    "duration": 15,
    "start_time": "2022-04-21T11:17:43.712Z"
   },
   {
    "duration": 184,
    "start_time": "2022-04-21T11:17:43.729Z"
   },
   {
    "duration": 6,
    "start_time": "2022-04-21T11:17:43.915Z"
   },
   {
    "duration": 35,
    "start_time": "2022-04-21T11:17:43.922Z"
   },
   {
    "duration": 83,
    "start_time": "2022-04-21T11:18:07.759Z"
   },
   {
    "duration": 151,
    "start_time": "2022-04-21T11:18:16.416Z"
   },
   {
    "duration": 125,
    "start_time": "2022-04-21T11:18:33.320Z"
   },
   {
    "duration": 214,
    "start_time": "2022-04-21T11:18:43.631Z"
   },
   {
    "duration": 13,
    "start_time": "2022-04-21T11:18:43.847Z"
   },
   {
    "duration": 15,
    "start_time": "2022-04-21T11:18:43.861Z"
   },
   {
    "duration": 9,
    "start_time": "2022-04-21T11:18:43.877Z"
   },
   {
    "duration": 12,
    "start_time": "2022-04-21T11:18:43.887Z"
   },
   {
    "duration": 12,
    "start_time": "2022-04-21T11:18:43.901Z"
   },
   {
    "duration": 569,
    "start_time": "2022-04-21T11:19:16.475Z"
   },
   {
    "duration": 9,
    "start_time": "2022-04-21T11:19:17.046Z"
   },
   {
    "duration": 11,
    "start_time": "2022-04-21T11:19:17.057Z"
   },
   {
    "duration": 6,
    "start_time": "2022-04-21T11:19:17.070Z"
   },
   {
    "duration": 10,
    "start_time": "2022-04-21T11:19:17.078Z"
   },
   {
    "duration": 16,
    "start_time": "2022-04-21T11:19:17.090Z"
   },
   {
    "duration": 49,
    "start_time": "2022-04-21T11:19:33.650Z"
   },
   {
    "duration": 590,
    "start_time": "2022-04-21T11:19:38.816Z"
   },
   {
    "duration": 10,
    "start_time": "2022-04-21T11:19:39.408Z"
   },
   {
    "duration": 14,
    "start_time": "2022-04-21T11:19:39.419Z"
   },
   {
    "duration": 11,
    "start_time": "2022-04-21T11:19:39.435Z"
   },
   {
    "duration": 15,
    "start_time": "2022-04-21T11:19:39.448Z"
   },
   {
    "duration": 23,
    "start_time": "2022-04-21T11:19:39.465Z"
   },
   {
    "duration": 49,
    "start_time": "2022-04-21T11:20:27.467Z"
   },
   {
    "duration": 616,
    "start_time": "2022-04-21T11:20:35.150Z"
   },
   {
    "duration": 9,
    "start_time": "2022-04-21T11:20:35.768Z"
   },
   {
    "duration": 15,
    "start_time": "2022-04-21T11:20:35.779Z"
   },
   {
    "duration": 7,
    "start_time": "2022-04-21T11:20:35.797Z"
   },
   {
    "duration": 9,
    "start_time": "2022-04-21T11:20:35.805Z"
   },
   {
    "duration": 16,
    "start_time": "2022-04-21T11:20:35.816Z"
   },
   {
    "duration": 180,
    "start_time": "2022-04-21T11:20:35.854Z"
   },
   {
    "duration": 5,
    "start_time": "2022-04-21T11:20:36.036Z"
   },
   {
    "duration": 32,
    "start_time": "2022-04-21T11:20:36.042Z"
   },
   {
    "duration": 254,
    "start_time": "2022-04-21T11:21:12.633Z"
   },
   {
    "duration": 214,
    "start_time": "2022-04-21T11:22:48.086Z"
   },
   {
    "duration": 235,
    "start_time": "2022-04-21T11:23:37.903Z"
   },
   {
    "duration": 11,
    "start_time": "2022-04-21T11:23:55.271Z"
   },
   {
    "duration": 12,
    "start_time": "2022-04-21T11:24:18.262Z"
   },
   {
    "duration": 167,
    "start_time": "2022-04-21T11:24:25.109Z"
   },
   {
    "duration": 9,
    "start_time": "2022-04-21T11:24:25.278Z"
   },
   {
    "duration": 23,
    "start_time": "2022-04-21T11:24:25.288Z"
   },
   {
    "duration": 15,
    "start_time": "2022-04-21T11:24:25.313Z"
   },
   {
    "duration": 10,
    "start_time": "2022-04-21T11:24:25.330Z"
   },
   {
    "duration": 22,
    "start_time": "2022-04-21T11:24:25.341Z"
   },
   {
    "duration": 195,
    "start_time": "2022-04-21T11:24:25.365Z"
   },
   {
    "duration": 5,
    "start_time": "2022-04-21T11:24:25.562Z"
   },
   {
    "duration": 25,
    "start_time": "2022-04-21T11:24:25.569Z"
   },
   {
    "duration": 225,
    "start_time": "2022-04-21T11:26:00.505Z"
   },
   {
    "duration": 261,
    "start_time": "2022-04-21T11:28:01.368Z"
   },
   {
    "duration": 226,
    "start_time": "2022-04-21T11:28:32.808Z"
   },
   {
    "duration": 220,
    "start_time": "2022-04-21T11:31:26.918Z"
   },
   {
    "duration": 224,
    "start_time": "2022-04-21T11:33:15.391Z"
   },
   {
    "duration": 256,
    "start_time": "2022-04-21T11:35:07.231Z"
   },
   {
    "duration": 232,
    "start_time": "2022-04-21T11:36:00.959Z"
   },
   {
    "duration": 226,
    "start_time": "2022-04-21T11:36:11.318Z"
   },
   {
    "duration": 227,
    "start_time": "2022-04-21T11:36:38.726Z"
   },
   {
    "duration": 255,
    "start_time": "2022-04-21T11:36:51.809Z"
   },
   {
    "duration": 225,
    "start_time": "2022-04-21T11:37:00.118Z"
   },
   {
    "duration": 218,
    "start_time": "2022-04-21T11:37:52.863Z"
   },
   {
    "duration": 225,
    "start_time": "2022-04-21T11:38:01.293Z"
   },
   {
    "duration": 241,
    "start_time": "2022-04-21T11:38:27.124Z"
   },
   {
    "duration": 216,
    "start_time": "2022-04-21T11:39:21.812Z"
   },
   {
    "duration": 236,
    "start_time": "2022-04-21T11:40:40.510Z"
   },
   {
    "duration": 227,
    "start_time": "2022-04-21T11:40:55.283Z"
   },
   {
    "duration": 261,
    "start_time": "2022-04-21T11:41:15.682Z"
   },
   {
    "duration": 176,
    "start_time": "2022-04-21T11:41:22.821Z"
   },
   {
    "duration": 10,
    "start_time": "2022-04-21T11:41:23.000Z"
   },
   {
    "duration": 33,
    "start_time": "2022-04-21T11:41:23.012Z"
   },
   {
    "duration": 15,
    "start_time": "2022-04-21T11:41:23.048Z"
   },
   {
    "duration": 9,
    "start_time": "2022-04-21T11:41:23.065Z"
   },
   {
    "duration": 18,
    "start_time": "2022-04-21T11:41:23.077Z"
   },
   {
    "duration": 212,
    "start_time": "2022-04-21T11:41:23.097Z"
   },
   {
    "duration": 5,
    "start_time": "2022-04-21T11:41:23.310Z"
   },
   {
    "duration": 19,
    "start_time": "2022-04-21T11:41:23.317Z"
   },
   {
    "duration": 219,
    "start_time": "2022-04-21T11:42:15.205Z"
   },
   {
    "duration": 172,
    "start_time": "2022-04-21T11:42:27.909Z"
   },
   {
    "duration": 9,
    "start_time": "2022-04-21T11:42:28.083Z"
   },
   {
    "duration": 25,
    "start_time": "2022-04-21T11:42:28.093Z"
   },
   {
    "duration": 20,
    "start_time": "2022-04-21T11:42:28.120Z"
   },
   {
    "duration": 27,
    "start_time": "2022-04-21T11:42:28.141Z"
   },
   {
    "duration": 29,
    "start_time": "2022-04-21T11:42:28.170Z"
   },
   {
    "duration": 193,
    "start_time": "2022-04-21T11:42:28.201Z"
   },
   {
    "duration": 6,
    "start_time": "2022-04-21T11:42:28.396Z"
   },
   {
    "duration": 51,
    "start_time": "2022-04-21T11:42:28.403Z"
   },
   {
    "duration": 220,
    "start_time": "2022-04-21T11:43:16.877Z"
   },
   {
    "duration": 237,
    "start_time": "2022-04-21T11:44:18.341Z"
   },
   {
    "duration": 256,
    "start_time": "2022-04-21T11:44:32.949Z"
   },
   {
    "duration": 222,
    "start_time": "2022-04-21T11:45:36.005Z"
   },
   {
    "duration": 181,
    "start_time": "2022-04-21T11:45:47.308Z"
   },
   {
    "duration": 9,
    "start_time": "2022-04-21T11:45:47.491Z"
   },
   {
    "duration": 29,
    "start_time": "2022-04-21T11:45:47.502Z"
   },
   {
    "duration": 26,
    "start_time": "2022-04-21T11:45:47.533Z"
   },
   {
    "duration": 22,
    "start_time": "2022-04-21T11:45:47.561Z"
   },
   {
    "duration": 47,
    "start_time": "2022-04-21T11:45:47.584Z"
   },
   {
    "duration": 246,
    "start_time": "2022-04-21T11:45:47.633Z"
   },
   {
    "duration": 6,
    "start_time": "2022-04-21T11:45:47.881Z"
   },
   {
    "duration": 59,
    "start_time": "2022-04-21T11:45:47.889Z"
   },
   {
    "duration": 226,
    "start_time": "2022-04-21T11:46:04.364Z"
   },
   {
    "duration": 161,
    "start_time": "2022-04-21T11:46:29.020Z"
   },
   {
    "duration": 9,
    "start_time": "2022-04-21T11:46:29.183Z"
   },
   {
    "duration": 10,
    "start_time": "2022-04-21T11:46:29.194Z"
   },
   {
    "duration": 8,
    "start_time": "2022-04-21T11:46:29.206Z"
   },
   {
    "duration": 8,
    "start_time": "2022-04-21T11:46:29.216Z"
   },
   {
    "duration": 13,
    "start_time": "2022-04-21T11:46:29.225Z"
   },
   {
    "duration": 190,
    "start_time": "2022-04-21T11:46:29.239Z"
   },
   {
    "duration": 4,
    "start_time": "2022-04-21T11:46:29.431Z"
   },
   {
    "duration": 30,
    "start_time": "2022-04-21T11:46:29.437Z"
   },
   {
    "duration": 4,
    "start_time": "2022-04-21T11:47:19.676Z"
   },
   {
    "duration": 218,
    "start_time": "2022-04-21T11:47:32.746Z"
   },
   {
    "duration": 199,
    "start_time": "2022-04-21T11:47:42.948Z"
   },
   {
    "duration": 9,
    "start_time": "2022-04-21T11:47:43.149Z"
   },
   {
    "duration": 17,
    "start_time": "2022-04-21T11:47:43.159Z"
   },
   {
    "duration": 15,
    "start_time": "2022-04-21T11:47:43.178Z"
   },
   {
    "duration": 14,
    "start_time": "2022-04-21T11:47:43.194Z"
   },
   {
    "duration": 14,
    "start_time": "2022-04-21T11:47:43.209Z"
   },
   {
    "duration": 193,
    "start_time": "2022-04-21T11:47:43.225Z"
   },
   {
    "duration": 5,
    "start_time": "2022-04-21T11:47:43.420Z"
   },
   {
    "duration": 33,
    "start_time": "2022-04-21T11:47:43.426Z"
   },
   {
    "duration": 194,
    "start_time": "2022-04-21T11:48:39.388Z"
   },
   {
    "duration": 10,
    "start_time": "2022-04-21T11:48:39.583Z"
   },
   {
    "duration": 30,
    "start_time": "2022-04-21T11:48:39.594Z"
   },
   {
    "duration": 8,
    "start_time": "2022-04-21T11:48:39.626Z"
   },
   {
    "duration": 8,
    "start_time": "2022-04-21T11:48:39.635Z"
   },
   {
    "duration": 11,
    "start_time": "2022-04-21T11:48:39.654Z"
   },
   {
    "duration": 188,
    "start_time": "2022-04-21T11:48:39.667Z"
   },
   {
    "duration": 6,
    "start_time": "2022-04-21T11:48:39.857Z"
   },
   {
    "duration": 30,
    "start_time": "2022-04-21T11:48:39.864Z"
   },
   {
    "duration": 209,
    "start_time": "2022-04-21T11:49:08.396Z"
   },
   {
    "duration": 12,
    "start_time": "2022-04-21T11:49:08.607Z"
   },
   {
    "duration": 14,
    "start_time": "2022-04-21T11:49:08.620Z"
   },
   {
    "duration": 19,
    "start_time": "2022-04-21T11:49:08.636Z"
   },
   {
    "duration": 7,
    "start_time": "2022-04-21T11:49:08.657Z"
   },
   {
    "duration": 14,
    "start_time": "2022-04-21T11:49:08.666Z"
   },
   {
    "duration": 186,
    "start_time": "2022-04-21T11:49:08.681Z"
   },
   {
    "duration": 5,
    "start_time": "2022-04-21T11:49:08.869Z"
   },
   {
    "duration": 19,
    "start_time": "2022-04-21T11:49:08.875Z"
   },
   {
    "duration": 264,
    "start_time": "2022-04-21T11:49:38.707Z"
   },
   {
    "duration": 304,
    "start_time": "2022-04-21T11:50:36.529Z"
   },
   {
    "duration": 228,
    "start_time": "2022-04-21T11:50:53.587Z"
   },
   {
    "duration": 14,
    "start_time": "2022-04-21T11:50:53.818Z"
   },
   {
    "duration": 29,
    "start_time": "2022-04-21T11:50:53.835Z"
   },
   {
    "duration": 14,
    "start_time": "2022-04-21T11:50:53.866Z"
   },
   {
    "duration": 23,
    "start_time": "2022-04-21T11:50:53.882Z"
   },
   {
    "duration": 24,
    "start_time": "2022-04-21T11:50:53.907Z"
   },
   {
    "duration": 244,
    "start_time": "2022-04-21T11:50:53.933Z"
   },
   {
    "duration": 8,
    "start_time": "2022-04-21T11:50:54.180Z"
   },
   {
    "duration": 32,
    "start_time": "2022-04-21T11:50:54.190Z"
   },
   {
    "duration": 221,
    "start_time": "2022-04-21T11:51:08.443Z"
   },
   {
    "duration": 9,
    "start_time": "2022-04-21T11:51:08.666Z"
   },
   {
    "duration": 9,
    "start_time": "2022-04-21T11:51:08.677Z"
   },
   {
    "duration": 8,
    "start_time": "2022-04-21T11:51:08.688Z"
   },
   {
    "duration": 8,
    "start_time": "2022-04-21T11:51:08.697Z"
   },
   {
    "duration": 14,
    "start_time": "2022-04-21T11:51:08.707Z"
   },
   {
    "duration": 256,
    "start_time": "2022-04-21T11:51:08.723Z"
   },
   {
    "duration": 5,
    "start_time": "2022-04-21T11:51:08.981Z"
   },
   {
    "duration": 27,
    "start_time": "2022-04-21T11:51:08.988Z"
   },
   {
    "duration": 15,
    "start_time": "2022-04-21T11:52:42.651Z"
   },
   {
    "duration": 215,
    "start_time": "2022-04-21T11:58:03.770Z"
   },
   {
    "duration": 10,
    "start_time": "2022-04-21T11:58:03.987Z"
   },
   {
    "duration": 18,
    "start_time": "2022-04-21T11:58:03.998Z"
   },
   {
    "duration": 19,
    "start_time": "2022-04-21T11:58:04.018Z"
   },
   {
    "duration": 14,
    "start_time": "2022-04-21T11:58:04.039Z"
   },
   {
    "duration": 15,
    "start_time": "2022-04-21T11:58:04.055Z"
   },
   {
    "duration": 21,
    "start_time": "2022-04-21T11:58:04.071Z"
   },
   {
    "duration": 192,
    "start_time": "2022-04-21T11:58:04.093Z"
   },
   {
    "duration": 19,
    "start_time": "2022-04-21T11:58:04.287Z"
   },
   {
    "duration": 165,
    "start_time": "2022-04-21T11:58:47.921Z"
   },
   {
    "duration": 9,
    "start_time": "2022-04-21T11:58:48.088Z"
   },
   {
    "duration": 9,
    "start_time": "2022-04-21T11:58:48.099Z"
   },
   {
    "duration": 17,
    "start_time": "2022-04-21T11:58:48.110Z"
   },
   {
    "duration": 11,
    "start_time": "2022-04-21T11:58:48.128Z"
   },
   {
    "duration": 8,
    "start_time": "2022-04-21T11:58:48.141Z"
   },
   {
    "duration": 13,
    "start_time": "2022-04-21T11:58:48.150Z"
   },
   {
    "duration": 184,
    "start_time": "2022-04-21T11:58:48.164Z"
   },
   {
    "duration": 20,
    "start_time": "2022-04-21T11:58:48.353Z"
   },
   {
    "duration": 6,
    "start_time": "2022-04-21T12:18:15.803Z"
   },
   {
    "duration": 11,
    "start_time": "2022-04-21T12:22:38.864Z"
   },
   {
    "duration": 9,
    "start_time": "2022-04-21T12:22:56.937Z"
   },
   {
    "duration": 8,
    "start_time": "2022-04-21T12:24:15.256Z"
   },
   {
    "duration": 143,
    "start_time": "2022-04-21T12:24:33.498Z"
   },
   {
    "duration": 11,
    "start_time": "2022-04-21T12:24:54.264Z"
   },
   {
    "duration": 112,
    "start_time": "2022-04-21T12:25:02.162Z"
   },
   {
    "duration": 7,
    "start_time": "2022-04-21T12:27:39.283Z"
   },
   {
    "duration": 7,
    "start_time": "2022-04-21T12:30:33.864Z"
   },
   {
    "duration": 6,
    "start_time": "2022-04-21T12:33:20.133Z"
   },
   {
    "duration": 12,
    "start_time": "2022-04-21T12:33:39.886Z"
   },
   {
    "duration": 5,
    "start_time": "2022-04-21T12:34:44.285Z"
   },
   {
    "duration": 11,
    "start_time": "2022-04-21T12:46:45.026Z"
   },
   {
    "duration": 14,
    "start_time": "2022-04-21T12:47:33.788Z"
   },
   {
    "duration": 139,
    "start_time": "2022-04-21T12:47:44.054Z"
   },
   {
    "duration": 20,
    "start_time": "2022-04-21T12:47:47.665Z"
   },
   {
    "duration": 1660,
    "start_time": "2022-04-21T12:49:14.683Z"
   },
   {
    "duration": 1754,
    "start_time": "2022-04-21T12:49:44.413Z"
   },
   {
    "duration": 181,
    "start_time": "2022-04-21T12:49:53.956Z"
   },
   {
    "duration": 16,
    "start_time": "2022-04-21T12:49:54.139Z"
   },
   {
    "duration": 11,
    "start_time": "2022-04-21T12:49:54.157Z"
   },
   {
    "duration": 7,
    "start_time": "2022-04-21T12:49:54.170Z"
   },
   {
    "duration": 8,
    "start_time": "2022-04-21T12:49:54.178Z"
   },
   {
    "duration": 6,
    "start_time": "2022-04-21T12:49:54.187Z"
   },
   {
    "duration": 13,
    "start_time": "2022-04-21T12:49:54.194Z"
   },
   {
    "duration": 200,
    "start_time": "2022-04-21T12:49:54.209Z"
   },
   {
    "duration": 15,
    "start_time": "2022-04-21T12:49:54.411Z"
   },
   {
    "duration": 126,
    "start_time": "2022-04-21T12:49:54.429Z"
   },
   {
    "duration": 4,
    "start_time": "2022-04-21T12:49:54.557Z"
   },
   {
    "duration": 1703,
    "start_time": "2022-04-21T12:49:54.562Z"
   },
   {
    "duration": 12,
    "start_time": "2022-04-21T12:51:00.018Z"
   },
   {
    "duration": 14,
    "start_time": "2022-04-21T12:51:16.196Z"
   },
   {
    "duration": 12,
    "start_time": "2022-04-21T12:52:19.921Z"
   },
   {
    "duration": 145,
    "start_time": "2022-04-21T12:56:32.817Z"
   },
   {
    "duration": 33,
    "start_time": "2022-04-21T12:57:41.739Z"
   },
   {
    "duration": 198,
    "start_time": "2022-04-21T12:58:31.638Z"
   },
   {
    "duration": 19,
    "start_time": "2022-04-21T12:58:31.838Z"
   },
   {
    "duration": 49,
    "start_time": "2022-04-21T12:58:31.859Z"
   },
   {
    "duration": 9,
    "start_time": "2022-04-21T12:58:31.910Z"
   },
   {
    "duration": 9,
    "start_time": "2022-04-21T12:58:31.921Z"
   },
   {
    "duration": 8,
    "start_time": "2022-04-21T12:58:31.932Z"
   },
   {
    "duration": 30,
    "start_time": "2022-04-21T12:58:31.941Z"
   },
   {
    "duration": 193,
    "start_time": "2022-04-21T12:58:31.973Z"
   },
   {
    "duration": 17,
    "start_time": "2022-04-21T12:58:32.168Z"
   },
   {
    "duration": 100,
    "start_time": "2022-04-21T12:58:32.187Z"
   },
   {
    "duration": 4,
    "start_time": "2022-04-21T12:58:32.289Z"
   },
   {
    "duration": 33,
    "start_time": "2022-04-21T12:58:32.294Z"
   },
   {
    "duration": 22,
    "start_time": "2022-04-21T13:04:27.464Z"
   },
   {
    "duration": 170,
    "start_time": "2022-04-21T13:05:19.722Z"
   },
   {
    "duration": 8,
    "start_time": "2022-04-21T13:05:19.894Z"
   },
   {
    "duration": 28,
    "start_time": "2022-04-21T13:05:19.903Z"
   },
   {
    "duration": 17,
    "start_time": "2022-04-21T13:05:19.933Z"
   },
   {
    "duration": 18,
    "start_time": "2022-04-21T13:05:19.952Z"
   },
   {
    "duration": 10,
    "start_time": "2022-04-21T13:05:19.972Z"
   },
   {
    "duration": 32,
    "start_time": "2022-04-21T13:05:19.983Z"
   },
   {
    "duration": 182,
    "start_time": "2022-04-21T13:05:20.017Z"
   },
   {
    "duration": 13,
    "start_time": "2022-04-21T13:05:20.200Z"
   },
   {
    "duration": 71,
    "start_time": "2022-04-21T13:05:20.215Z"
   },
   {
    "duration": 4,
    "start_time": "2022-04-21T13:05:20.287Z"
   },
   {
    "duration": 16,
    "start_time": "2022-04-21T13:05:20.292Z"
   },
   {
    "duration": 208,
    "start_time": "2022-04-21T13:05:43.034Z"
   },
   {
    "duration": 15,
    "start_time": "2022-04-21T13:05:43.244Z"
   },
   {
    "duration": 11,
    "start_time": "2022-04-21T13:05:43.260Z"
   },
   {
    "duration": 7,
    "start_time": "2022-04-21T13:05:43.273Z"
   },
   {
    "duration": 11,
    "start_time": "2022-04-21T13:05:43.281Z"
   },
   {
    "duration": 15,
    "start_time": "2022-04-21T13:05:43.293Z"
   },
   {
    "duration": 29,
    "start_time": "2022-04-21T13:05:43.309Z"
   },
   {
    "duration": 189,
    "start_time": "2022-04-21T13:05:43.339Z"
   },
   {
    "duration": 14,
    "start_time": "2022-04-21T13:05:43.530Z"
   },
   {
    "duration": 76,
    "start_time": "2022-04-21T13:05:43.546Z"
   },
   {
    "duration": 3,
    "start_time": "2022-04-21T13:05:43.624Z"
   },
   {
    "duration": 28,
    "start_time": "2022-04-21T13:05:43.629Z"
   },
   {
    "duration": 165,
    "start_time": "2022-04-21T13:06:25.709Z"
   },
   {
    "duration": 8,
    "start_time": "2022-04-21T13:06:25.876Z"
   },
   {
    "duration": 10,
    "start_time": "2022-04-21T13:06:25.886Z"
   },
   {
    "duration": 6,
    "start_time": "2022-04-21T13:06:25.898Z"
   },
   {
    "duration": 7,
    "start_time": "2022-04-21T13:06:25.905Z"
   },
   {
    "duration": 7,
    "start_time": "2022-04-21T13:06:25.913Z"
   },
   {
    "duration": 33,
    "start_time": "2022-04-21T13:06:25.921Z"
   },
   {
    "duration": 185,
    "start_time": "2022-04-21T13:06:25.956Z"
   },
   {
    "duration": 17,
    "start_time": "2022-04-21T13:06:26.142Z"
   },
   {
    "duration": 130,
    "start_time": "2022-04-21T13:06:26.162Z"
   },
   {
    "duration": 4,
    "start_time": "2022-04-21T13:06:26.293Z"
   },
   {
    "duration": 23,
    "start_time": "2022-04-21T13:06:26.299Z"
   },
   {
    "duration": 34,
    "start_time": "2022-04-21T13:09:02.855Z"
   },
   {
    "duration": 568,
    "start_time": "2022-04-21T19:21:24.986Z"
   },
   {
    "duration": 7,
    "start_time": "2022-04-21T19:21:25.555Z"
   },
   {
    "duration": 9,
    "start_time": "2022-04-21T19:21:25.564Z"
   },
   {
    "duration": 5,
    "start_time": "2022-04-21T19:21:25.575Z"
   },
   {
    "duration": 8,
    "start_time": "2022-04-21T19:21:25.581Z"
   },
   {
    "duration": 4,
    "start_time": "2022-04-21T19:21:25.591Z"
   },
   {
    "duration": 30,
    "start_time": "2022-04-21T19:21:25.597Z"
   },
   {
    "duration": 172,
    "start_time": "2022-04-21T19:21:25.629Z"
   },
   {
    "duration": 22,
    "start_time": "2022-04-21T19:21:25.803Z"
   },
   {
    "duration": 89,
    "start_time": "2022-04-21T19:21:25.827Z"
   },
   {
    "duration": 5,
    "start_time": "2022-04-21T19:21:25.923Z"
   },
   {
    "duration": 33,
    "start_time": "2022-04-21T19:21:25.929Z"
   },
   {
    "duration": 34,
    "start_time": "2022-04-21T19:31:12.096Z"
   },
   {
    "duration": 157,
    "start_time": "2022-04-21T19:31:22.453Z"
   },
   {
    "duration": 16,
    "start_time": "2022-04-21T19:31:22.612Z"
   },
   {
    "duration": 10,
    "start_time": "2022-04-21T19:31:22.629Z"
   },
   {
    "duration": 7,
    "start_time": "2022-04-21T19:31:22.641Z"
   },
   {
    "duration": 8,
    "start_time": "2022-04-21T19:31:22.649Z"
   },
   {
    "duration": 6,
    "start_time": "2022-04-21T19:31:22.659Z"
   },
   {
    "duration": 10,
    "start_time": "2022-04-21T19:31:22.667Z"
   },
   {
    "duration": 198,
    "start_time": "2022-04-21T19:31:22.679Z"
   },
   {
    "duration": 13,
    "start_time": "2022-04-21T19:31:22.879Z"
   },
   {
    "duration": 79,
    "start_time": "2022-04-21T19:31:22.895Z"
   },
   {
    "duration": 4,
    "start_time": "2022-04-21T19:31:22.976Z"
   },
   {
    "duration": 43,
    "start_time": "2022-04-21T19:31:22.981Z"
   },
   {
    "duration": 31,
    "start_time": "2022-04-21T19:32:32.317Z"
   },
   {
    "duration": 153,
    "start_time": "2022-04-21T19:32:39.557Z"
   },
   {
    "duration": 13,
    "start_time": "2022-04-21T19:32:39.712Z"
   },
   {
    "duration": 9,
    "start_time": "2022-04-21T19:32:39.727Z"
   },
   {
    "duration": 6,
    "start_time": "2022-04-21T19:32:39.738Z"
   },
   {
    "duration": 10,
    "start_time": "2022-04-21T19:32:39.746Z"
   },
   {
    "duration": 6,
    "start_time": "2022-04-21T19:32:39.757Z"
   },
   {
    "duration": 14,
    "start_time": "2022-04-21T19:32:39.764Z"
   },
   {
    "duration": 180,
    "start_time": "2022-04-21T19:32:39.779Z"
   },
   {
    "duration": 11,
    "start_time": "2022-04-21T19:32:39.961Z"
   },
   {
    "duration": 71,
    "start_time": "2022-04-21T19:32:39.975Z"
   },
   {
    "duration": 4,
    "start_time": "2022-04-21T19:32:40.048Z"
   },
   {
    "duration": 33,
    "start_time": "2022-04-21T19:32:40.054Z"
   },
   {
    "duration": 31,
    "start_time": "2022-04-21T19:35:56.772Z"
   },
   {
    "duration": 9,
    "start_time": "2022-04-21T19:54:24.537Z"
   },
   {
    "duration": 88,
    "start_time": "2022-04-21T20:03:33.558Z"
   },
   {
    "duration": 34,
    "start_time": "2022-04-21T20:03:42.382Z"
   },
   {
    "duration": 7,
    "start_time": "2022-04-21T20:09:41.165Z"
   },
   {
    "duration": 166,
    "start_time": "2022-04-21T20:09:46.543Z"
   },
   {
    "duration": 8,
    "start_time": "2022-04-21T20:09:46.711Z"
   },
   {
    "duration": 13,
    "start_time": "2022-04-21T20:09:46.728Z"
   },
   {
    "duration": 10,
    "start_time": "2022-04-21T20:09:46.743Z"
   },
   {
    "duration": 6,
    "start_time": "2022-04-21T20:09:46.755Z"
   },
   {
    "duration": 6,
    "start_time": "2022-04-21T20:09:46.763Z"
   },
   {
    "duration": 14,
    "start_time": "2022-04-21T20:09:46.770Z"
   },
   {
    "duration": 211,
    "start_time": "2022-04-21T20:09:46.785Z"
   },
   {
    "duration": 11,
    "start_time": "2022-04-21T20:09:46.998Z"
   },
   {
    "duration": 76,
    "start_time": "2022-04-21T20:09:47.010Z"
   },
   {
    "duration": 4,
    "start_time": "2022-04-21T20:09:47.087Z"
   },
   {
    "duration": 49,
    "start_time": "2022-04-21T20:09:47.092Z"
   },
   {
    "duration": 4,
    "start_time": "2022-04-21T20:09:47.144Z"
   },
   {
    "duration": 3,
    "start_time": "2022-04-21T20:09:47.151Z"
   },
   {
    "duration": 31,
    "start_time": "2022-04-21T20:13:23.737Z"
   },
   {
    "duration": 3,
    "start_time": "2022-04-21T20:13:53.652Z"
   },
   {
    "duration": 6,
    "start_time": "2022-04-21T20:14:11.653Z"
   },
   {
    "duration": 7,
    "start_time": "2022-04-21T20:14:20.404Z"
   },
   {
    "duration": 3,
    "start_time": "2022-04-21T20:14:37.747Z"
   },
   {
    "duration": 206,
    "start_time": "2022-04-21T20:19:51.866Z"
   },
   {
    "duration": 8,
    "start_time": "2022-04-21T20:19:52.075Z"
   },
   {
    "duration": 9,
    "start_time": "2022-04-21T20:19:52.084Z"
   },
   {
    "duration": 8,
    "start_time": "2022-04-21T20:19:52.095Z"
   },
   {
    "duration": 36,
    "start_time": "2022-04-21T20:19:52.104Z"
   },
   {
    "duration": 7,
    "start_time": "2022-04-21T20:19:52.143Z"
   },
   {
    "duration": 17,
    "start_time": "2022-04-21T20:19:52.152Z"
   },
   {
    "duration": 219,
    "start_time": "2022-04-21T20:19:52.171Z"
   },
   {
    "duration": 24,
    "start_time": "2022-04-21T20:19:52.391Z"
   },
   {
    "duration": 0,
    "start_time": "2022-04-21T20:19:52.428Z"
   },
   {
    "duration": 0,
    "start_time": "2022-04-21T20:19:52.430Z"
   },
   {
    "duration": 0,
    "start_time": "2022-04-21T20:19:52.432Z"
   },
   {
    "duration": 0,
    "start_time": "2022-04-21T20:19:52.433Z"
   },
   {
    "duration": 0,
    "start_time": "2022-04-21T20:19:52.434Z"
   },
   {
    "duration": 175,
    "start_time": "2022-04-21T20:23:26.908Z"
   },
   {
    "duration": 7,
    "start_time": "2022-04-21T20:24:21.795Z"
   },
   {
    "duration": 198,
    "start_time": "2022-04-21T20:24:37.096Z"
   },
   {
    "duration": 8,
    "start_time": "2022-04-21T20:24:37.295Z"
   },
   {
    "duration": 7,
    "start_time": "2022-04-21T20:24:37.305Z"
   },
   {
    "duration": 7,
    "start_time": "2022-04-21T20:24:37.314Z"
   },
   {
    "duration": 16,
    "start_time": "2022-04-21T20:24:37.332Z"
   },
   {
    "duration": 8,
    "start_time": "2022-04-21T20:24:37.350Z"
   },
   {
    "duration": 16,
    "start_time": "2022-04-21T20:24:37.360Z"
   },
   {
    "duration": 277,
    "start_time": "2022-04-21T20:24:37.378Z"
   },
   {
    "duration": 25,
    "start_time": "2022-04-21T20:24:37.657Z"
   },
   {
    "duration": 0,
    "start_time": "2022-04-21T20:24:37.685Z"
   },
   {
    "duration": 0,
    "start_time": "2022-04-21T20:24:37.686Z"
   },
   {
    "duration": 0,
    "start_time": "2022-04-21T20:24:37.688Z"
   },
   {
    "duration": 0,
    "start_time": "2022-04-21T20:24:37.689Z"
   },
   {
    "duration": 0,
    "start_time": "2022-04-21T20:24:37.690Z"
   },
   {
    "duration": 11,
    "start_time": "2022-04-21T20:24:49.228Z"
   },
   {
    "duration": 7,
    "start_time": "2022-04-21T20:25:57.028Z"
   },
   {
    "duration": 241,
    "start_time": "2022-04-21T20:26:03.592Z"
   },
   {
    "duration": 19,
    "start_time": "2022-04-21T20:26:03.836Z"
   },
   {
    "duration": 18,
    "start_time": "2022-04-21T20:26:03.857Z"
   },
   {
    "duration": 8,
    "start_time": "2022-04-21T20:26:03.881Z"
   },
   {
    "duration": 8,
    "start_time": "2022-04-21T20:26:03.891Z"
   },
   {
    "duration": 6,
    "start_time": "2022-04-21T20:26:03.901Z"
   },
   {
    "duration": 16,
    "start_time": "2022-04-21T20:26:03.931Z"
   },
   {
    "duration": 232,
    "start_time": "2022-04-21T20:26:03.950Z"
   },
   {
    "duration": 31,
    "start_time": "2022-04-21T20:26:04.184Z"
   },
   {
    "duration": 0,
    "start_time": "2022-04-21T20:26:04.217Z"
   },
   {
    "duration": 0,
    "start_time": "2022-04-21T20:26:04.218Z"
   },
   {
    "duration": 0,
    "start_time": "2022-04-21T20:26:04.227Z"
   },
   {
    "duration": 0,
    "start_time": "2022-04-21T20:26:04.229Z"
   },
   {
    "duration": 0,
    "start_time": "2022-04-21T20:26:04.231Z"
   },
   {
    "duration": 17,
    "start_time": "2022-04-21T20:26:24.016Z"
   },
   {
    "duration": 59,
    "start_time": "2022-04-21T20:26:31.816Z"
   },
   {
    "duration": 15,
    "start_time": "2022-04-21T20:27:37.950Z"
   },
   {
    "duration": 13,
    "start_time": "2022-04-21T20:27:52.348Z"
   },
   {
    "duration": 159,
    "start_time": "2022-04-21T20:28:30.464Z"
   },
   {
    "duration": 49,
    "start_time": "2022-04-21T20:28:45.457Z"
   },
   {
    "duration": 16,
    "start_time": "2022-04-21T20:30:01.112Z"
   },
   {
    "duration": 192,
    "start_time": "2022-04-21T20:30:03.791Z"
   },
   {
    "duration": 9,
    "start_time": "2022-04-21T20:30:03.985Z"
   },
   {
    "duration": 10,
    "start_time": "2022-04-21T20:30:03.996Z"
   },
   {
    "duration": 12,
    "start_time": "2022-04-21T20:30:04.008Z"
   },
   {
    "duration": 31,
    "start_time": "2022-04-21T20:30:04.021Z"
   },
   {
    "duration": 27,
    "start_time": "2022-04-21T20:30:04.055Z"
   },
   {
    "duration": 13,
    "start_time": "2022-04-21T20:30:04.084Z"
   },
   {
    "duration": 196,
    "start_time": "2022-04-21T20:30:04.100Z"
   },
   {
    "duration": 12,
    "start_time": "2022-04-21T20:30:04.298Z"
   },
   {
    "duration": 74,
    "start_time": "2022-04-21T20:30:04.323Z"
   },
   {
    "duration": 4,
    "start_time": "2022-04-21T20:30:04.399Z"
   },
   {
    "duration": 145,
    "start_time": "2022-04-21T20:30:04.404Z"
   },
   {
    "duration": 10,
    "start_time": "2022-04-21T20:30:04.550Z"
   },
   {
    "duration": 26,
    "start_time": "2022-04-21T20:30:04.562Z"
   },
   {
    "duration": 18,
    "start_time": "2022-04-21T20:30:48.675Z"
   },
   {
    "duration": 19,
    "start_time": "2022-04-21T20:32:13.583Z"
   },
   {
    "duration": 18,
    "start_time": "2022-04-21T20:33:55.304Z"
   },
   {
    "duration": 16,
    "start_time": "2022-04-21T20:35:05.881Z"
   },
   {
    "duration": 54,
    "start_time": "2022-04-21T20:45:05.351Z"
   },
   {
    "duration": 16,
    "start_time": "2022-04-21T20:45:26.452Z"
   },
   {
    "duration": 9,
    "start_time": "2022-04-21T20:46:52.548Z"
   },
   {
    "duration": 8,
    "start_time": "2022-04-21T20:51:18.706Z"
   },
   {
    "duration": 16,
    "start_time": "2022-04-21T20:51:26.002Z"
   },
   {
    "duration": 7,
    "start_time": "2022-04-21T20:51:43.205Z"
   },
   {
    "duration": 8,
    "start_time": "2022-04-21T20:53:00.052Z"
   },
   {
    "duration": 1798,
    "start_time": "2022-04-21T20:53:06.833Z"
   },
   {
    "duration": 32,
    "start_time": "2022-04-21T20:54:13.620Z"
   },
   {
    "duration": 13,
    "start_time": "2022-04-21T20:54:24.121Z"
   },
   {
    "duration": 8,
    "start_time": "2022-04-21T20:54:29.057Z"
   },
   {
    "duration": 10,
    "start_time": "2022-04-21T20:54:34.721Z"
   },
   {
    "duration": 11,
    "start_time": "2022-04-21T20:54:51.995Z"
   },
   {
    "duration": 16,
    "start_time": "2022-04-21T20:55:00.891Z"
   },
   {
    "duration": 12,
    "start_time": "2022-04-21T20:55:12.890Z"
   },
   {
    "duration": 131,
    "start_time": "2022-04-21T20:58:40.232Z"
   },
   {
    "duration": 139,
    "start_time": "2022-04-21T20:58:48.864Z"
   },
   {
    "duration": 143,
    "start_time": "2022-04-21T21:00:05.944Z"
   },
   {
    "duration": 3,
    "start_time": "2022-04-21T21:10:04.237Z"
   },
   {
    "duration": 16,
    "start_time": "2022-04-21T21:10:08.229Z"
   },
   {
    "duration": 24,
    "start_time": "2022-04-21T21:11:36.332Z"
   },
   {
    "duration": 147,
    "start_time": "2022-04-21T21:11:57.234Z"
   },
   {
    "duration": 9,
    "start_time": "2022-04-21T21:11:57.384Z"
   },
   {
    "duration": 10,
    "start_time": "2022-04-21T21:11:57.394Z"
   },
   {
    "duration": 22,
    "start_time": "2022-04-21T21:11:57.406Z"
   },
   {
    "duration": 6,
    "start_time": "2022-04-21T21:11:57.430Z"
   },
   {
    "duration": 6,
    "start_time": "2022-04-21T21:11:57.438Z"
   },
   {
    "duration": 13,
    "start_time": "2022-04-21T21:11:57.445Z"
   },
   {
    "duration": 181,
    "start_time": "2022-04-21T21:11:57.459Z"
   },
   {
    "duration": 13,
    "start_time": "2022-04-21T21:11:57.643Z"
   },
   {
    "duration": 76,
    "start_time": "2022-04-21T21:11:57.658Z"
   },
   {
    "duration": 4,
    "start_time": "2022-04-21T21:11:57.736Z"
   },
   {
    "duration": 31,
    "start_time": "2022-04-21T21:11:57.742Z"
   },
   {
    "duration": 4,
    "start_time": "2022-04-21T21:11:57.775Z"
   },
   {
    "duration": 44,
    "start_time": "2022-04-21T21:11:57.781Z"
   },
   {
    "duration": 14,
    "start_time": "2022-04-21T21:12:06.820Z"
   },
   {
    "duration": 18,
    "start_time": "2022-04-21T21:13:23.997Z"
   },
   {
    "duration": 23,
    "start_time": "2022-04-21T21:13:41.020Z"
   },
   {
    "duration": 577,
    "start_time": "2022-04-21T21:14:09.364Z"
   },
   {
    "duration": 21,
    "start_time": "2022-04-21T21:14:40.709Z"
   },
   {
    "duration": 16,
    "start_time": "2022-04-21T21:15:27.556Z"
   },
   {
    "duration": 21,
    "start_time": "2022-04-21T21:16:06.669Z"
   },
   {
    "duration": 16,
    "start_time": "2022-04-21T21:16:42.059Z"
   },
   {
    "duration": 18,
    "start_time": "2022-04-21T21:17:56.165Z"
   },
   {
    "duration": 18,
    "start_time": "2022-04-21T21:18:54.259Z"
   },
   {
    "duration": 15,
    "start_time": "2022-04-21T21:19:05.779Z"
   },
   {
    "duration": 17,
    "start_time": "2022-04-21T21:20:06.331Z"
   },
   {
    "duration": 23,
    "start_time": "2022-04-21T21:20:19.338Z"
   },
   {
    "duration": 88,
    "start_time": "2022-04-21T21:20:24.914Z"
   },
   {
    "duration": 135,
    "start_time": "2022-04-21T21:20:35.115Z"
   },
   {
    "duration": 24,
    "start_time": "2022-04-21T21:20:39.306Z"
   },
   {
    "duration": 29,
    "start_time": "2022-04-21T21:21:25.972Z"
   },
   {
    "duration": 152,
    "start_time": "2022-04-21T21:21:35.893Z"
   },
   {
    "duration": 8,
    "start_time": "2022-04-21T21:21:36.047Z"
   },
   {
    "duration": 9,
    "start_time": "2022-04-21T21:21:36.057Z"
   },
   {
    "duration": 7,
    "start_time": "2022-04-21T21:21:36.068Z"
   },
   {
    "duration": 6,
    "start_time": "2022-04-21T21:21:36.077Z"
   },
   {
    "duration": 8,
    "start_time": "2022-04-21T21:21:36.084Z"
   },
   {
    "duration": 37,
    "start_time": "2022-04-21T21:21:36.093Z"
   },
   {
    "duration": 175,
    "start_time": "2022-04-21T21:21:36.132Z"
   },
   {
    "duration": 20,
    "start_time": "2022-04-21T21:21:36.309Z"
   },
   {
    "duration": 60,
    "start_time": "2022-04-21T21:21:36.332Z"
   },
   {
    "duration": 3,
    "start_time": "2022-04-21T21:21:36.394Z"
   },
   {
    "duration": 46,
    "start_time": "2022-04-21T21:21:36.399Z"
   },
   {
    "duration": 3,
    "start_time": "2022-04-21T21:21:36.447Z"
   },
   {
    "duration": 29,
    "start_time": "2022-04-21T21:21:36.452Z"
   },
   {
    "duration": 23,
    "start_time": "2022-04-21T21:22:45.699Z"
   },
   {
    "duration": 16,
    "start_time": "2022-04-21T21:23:30.683Z"
   },
   {
    "duration": 18,
    "start_time": "2022-04-21T21:24:22.523Z"
   },
   {
    "duration": 45,
    "start_time": "2022-04-21T21:24:40.820Z"
   },
   {
    "duration": 49,
    "start_time": "2022-04-21T21:25:56.250Z"
   },
   {
    "duration": 166,
    "start_time": "2022-04-21T21:26:00.941Z"
   },
   {
    "duration": 17,
    "start_time": "2022-04-21T21:26:01.109Z"
   },
   {
    "duration": 10,
    "start_time": "2022-04-21T21:26:01.128Z"
   },
   {
    "duration": 25,
    "start_time": "2022-04-21T21:26:01.140Z"
   },
   {
    "duration": 17,
    "start_time": "2022-04-21T21:26:01.166Z"
   },
   {
    "duration": 17,
    "start_time": "2022-04-21T21:26:01.184Z"
   },
   {
    "duration": 17,
    "start_time": "2022-04-21T21:26:01.203Z"
   },
   {
    "duration": 172,
    "start_time": "2022-04-21T21:26:01.222Z"
   },
   {
    "duration": 13,
    "start_time": "2022-04-21T21:26:01.395Z"
   },
   {
    "duration": 75,
    "start_time": "2022-04-21T21:26:01.410Z"
   },
   {
    "duration": 4,
    "start_time": "2022-04-21T21:26:01.486Z"
   },
   {
    "duration": 46,
    "start_time": "2022-04-21T21:26:01.492Z"
   },
   {
    "duration": 4,
    "start_time": "2022-04-21T21:26:01.539Z"
   },
   {
    "duration": 48,
    "start_time": "2022-04-21T21:26:01.544Z"
   },
   {
    "duration": 50,
    "start_time": "2022-04-21T21:26:27.330Z"
   },
   {
    "duration": 40,
    "start_time": "2022-04-21T21:27:11.986Z"
   },
   {
    "duration": 42,
    "start_time": "2022-04-21T21:27:21.826Z"
   },
   {
    "duration": 50,
    "start_time": "2022-04-21T21:27:27.993Z"
   },
   {
    "duration": 48,
    "start_time": "2022-04-21T21:27:56.515Z"
   },
   {
    "duration": 154,
    "start_time": "2022-04-21T21:28:04.900Z"
   },
   {
    "duration": 8,
    "start_time": "2022-04-21T21:28:05.056Z"
   },
   {
    "duration": 8,
    "start_time": "2022-04-21T21:28:05.065Z"
   },
   {
    "duration": 8,
    "start_time": "2022-04-21T21:28:05.075Z"
   },
   {
    "duration": 6,
    "start_time": "2022-04-21T21:28:05.084Z"
   },
   {
    "duration": 9,
    "start_time": "2022-04-21T21:28:05.091Z"
   },
   {
    "duration": 26,
    "start_time": "2022-04-21T21:28:05.101Z"
   },
   {
    "duration": 172,
    "start_time": "2022-04-21T21:28:05.129Z"
   },
   {
    "duration": 12,
    "start_time": "2022-04-21T21:28:05.303Z"
   },
   {
    "duration": 102,
    "start_time": "2022-04-21T21:28:05.324Z"
   },
   {
    "duration": 3,
    "start_time": "2022-04-21T21:28:05.428Z"
   },
   {
    "duration": 34,
    "start_time": "2022-04-21T21:28:05.433Z"
   },
   {
    "duration": 3,
    "start_time": "2022-04-21T21:28:05.469Z"
   },
   {
    "duration": 67,
    "start_time": "2022-04-21T21:28:05.473Z"
   },
   {
    "duration": 117,
    "start_time": "2022-04-21T21:29:03.650Z"
   },
   {
    "duration": 123,
    "start_time": "2022-04-21T21:29:13.985Z"
   },
   {
    "duration": 128,
    "start_time": "2022-04-21T21:29:23.753Z"
   },
   {
    "duration": 22,
    "start_time": "2022-04-21T21:29:40.610Z"
   },
   {
    "duration": 21,
    "start_time": "2022-04-21T21:31:13.601Z"
   },
   {
    "duration": 119,
    "start_time": "2022-04-21T21:32:12.920Z"
   },
   {
    "duration": 29,
    "start_time": "2022-04-21T21:32:30.808Z"
   },
   {
    "duration": 31,
    "start_time": "2022-04-21T21:34:12.585Z"
   },
   {
    "duration": 29,
    "start_time": "2022-04-21T21:35:13.232Z"
   },
   {
    "duration": 24,
    "start_time": "2022-04-21T21:35:28.967Z"
   },
   {
    "duration": 26,
    "start_time": "2022-04-21T21:35:34.110Z"
   },
   {
    "duration": 47,
    "start_time": "2022-04-21T21:35:47.969Z"
   },
   {
    "duration": 130,
    "start_time": "2022-04-21T21:36:36.026Z"
   },
   {
    "duration": 57,
    "start_time": "2022-04-21T21:37:06.639Z"
   },
   {
    "duration": 16,
    "start_time": "2022-04-21T21:37:18.463Z"
   },
   {
    "duration": 47,
    "start_time": "2022-04-21T21:37:24.600Z"
   },
   {
    "duration": 50,
    "start_time": "2022-04-21T21:37:51.863Z"
   },
   {
    "duration": 54,
    "start_time": "2022-04-21T21:38:50.303Z"
   },
   {
    "duration": 48,
    "start_time": "2022-04-21T21:39:17.640Z"
   },
   {
    "duration": 159,
    "start_time": "2022-04-21T21:39:29.331Z"
   },
   {
    "duration": 8,
    "start_time": "2022-04-21T21:39:29.493Z"
   },
   {
    "duration": 28,
    "start_time": "2022-04-21T21:39:29.503Z"
   },
   {
    "duration": 6,
    "start_time": "2022-04-21T21:39:29.533Z"
   },
   {
    "duration": 6,
    "start_time": "2022-04-21T21:39:29.541Z"
   },
   {
    "duration": 6,
    "start_time": "2022-04-21T21:39:29.549Z"
   },
   {
    "duration": 10,
    "start_time": "2022-04-21T21:39:29.556Z"
   },
   {
    "duration": 196,
    "start_time": "2022-04-21T21:39:29.568Z"
   },
   {
    "duration": 13,
    "start_time": "2022-04-21T21:39:29.766Z"
   },
   {
    "duration": 76,
    "start_time": "2022-04-21T21:39:29.782Z"
   },
   {
    "duration": 4,
    "start_time": "2022-04-21T21:39:29.860Z"
   },
   {
    "duration": 32,
    "start_time": "2022-04-21T21:39:29.866Z"
   },
   {
    "duration": 4,
    "start_time": "2022-04-21T21:39:29.900Z"
   },
   {
    "duration": 84,
    "start_time": "2022-04-21T21:39:29.905Z"
   },
   {
    "duration": 564,
    "start_time": "2022-04-21T21:39:58.791Z"
   },
   {
    "duration": 28,
    "start_time": "2022-04-21T21:45:12.552Z"
   },
   {
    "duration": 21,
    "start_time": "2022-04-21T21:45:30.599Z"
   },
   {
    "duration": 27,
    "start_time": "2022-04-21T21:45:46.663Z"
   },
   {
    "duration": 28,
    "start_time": "2022-04-21T21:45:56.062Z"
   },
   {
    "duration": 546,
    "start_time": "2022-04-21T21:46:11.844Z"
   },
   {
    "duration": 54,
    "start_time": "2022-04-21T21:46:22.558Z"
   },
   {
    "duration": 21,
    "start_time": "2022-04-21T21:52:28.879Z"
   },
   {
    "duration": 21,
    "start_time": "2022-04-21T21:52:40.421Z"
   },
   {
    "duration": 20,
    "start_time": "2022-04-21T21:53:14.429Z"
   },
   {
    "duration": 64,
    "start_time": "2022-04-21T21:53:21.853Z"
   },
   {
    "duration": 26,
    "start_time": "2022-04-21T21:53:31.253Z"
   },
   {
    "duration": 55,
    "start_time": "2022-04-21T21:53:44.531Z"
   },
   {
    "duration": 28,
    "start_time": "2022-04-21T21:54:57.851Z"
   },
   {
    "duration": 26,
    "start_time": "2022-04-21T21:55:25.853Z"
   },
   {
    "duration": 27,
    "start_time": "2022-04-21T21:55:40.620Z"
   },
   {
    "duration": 56,
    "start_time": "2022-04-21T21:55:59.690Z"
   },
   {
    "duration": 1059,
    "start_time": "2022-04-21T21:56:40.684Z"
   },
   {
    "duration": 133,
    "start_time": "2022-04-21T21:59:04.884Z"
   },
   {
    "duration": 4,
    "start_time": "2022-04-21T21:59:25.267Z"
   },
   {
    "duration": 188,
    "start_time": "2022-04-21T22:00:03.489Z"
   },
   {
    "duration": 28,
    "start_time": "2022-04-21T22:00:17.731Z"
   },
   {
    "duration": 4,
    "start_time": "2022-04-21T22:00:43.659Z"
   },
   {
    "duration": 131,
    "start_time": "2022-04-21T22:00:52.864Z"
   },
   {
    "duration": 162,
    "start_time": "2022-04-21T22:01:00.913Z"
   },
   {
    "duration": 1626,
    "start_time": "2022-04-21T22:01:10.338Z"
   },
   {
    "duration": 29,
    "start_time": "2022-04-21T22:01:33.361Z"
   },
   {
    "duration": 32,
    "start_time": "2022-04-21T22:01:49.849Z"
   },
   {
    "duration": 1150,
    "start_time": "2022-04-21T22:02:18.506Z"
   },
   {
    "duration": 1059,
    "start_time": "2022-04-21T22:02:29.201Z"
   },
   {
    "duration": 56,
    "start_time": "2022-04-21T22:02:39.896Z"
   },
   {
    "duration": 28,
    "start_time": "2022-04-21T22:03:57.763Z"
   },
   {
    "duration": 28,
    "start_time": "2022-04-21T22:04:10.442Z"
   },
   {
    "duration": 62,
    "start_time": "2022-04-21T22:04:28.560Z"
   },
   {
    "duration": 56,
    "start_time": "2022-04-22T07:00:14.540Z"
   },
   {
    "duration": 7,
    "start_time": "2022-04-22T07:00:39.247Z"
   },
   {
    "duration": 605,
    "start_time": "2022-04-22T07:00:50.224Z"
   },
   {
    "duration": 10,
    "start_time": "2022-04-22T07:00:50.831Z"
   },
   {
    "duration": 15,
    "start_time": "2022-04-22T07:00:50.842Z"
   },
   {
    "duration": 25,
    "start_time": "2022-04-22T07:00:50.859Z"
   },
   {
    "duration": 14,
    "start_time": "2022-04-22T07:00:50.886Z"
   },
   {
    "duration": 12,
    "start_time": "2022-04-22T07:00:50.903Z"
   },
   {
    "duration": 17,
    "start_time": "2022-04-22T07:00:50.917Z"
   },
   {
    "duration": 201,
    "start_time": "2022-04-22T07:00:50.936Z"
   },
   {
    "duration": 15,
    "start_time": "2022-04-22T07:00:51.139Z"
   },
   {
    "duration": 122,
    "start_time": "2022-04-22T07:00:51.156Z"
   },
   {
    "duration": 6,
    "start_time": "2022-04-22T07:00:51.280Z"
   },
   {
    "duration": 46,
    "start_time": "2022-04-22T07:00:51.287Z"
   },
   {
    "duration": 3,
    "start_time": "2022-04-22T07:00:51.335Z"
   },
   {
    "duration": 64,
    "start_time": "2022-04-22T07:00:51.340Z"
   },
   {
    "duration": 149,
    "start_time": "2022-04-22T07:01:27.149Z"
   },
   {
    "duration": 138,
    "start_time": "2022-04-22T07:01:37.046Z"
   },
   {
    "duration": 24,
    "start_time": "2022-04-22T07:01:58.127Z"
   },
   {
    "duration": 23,
    "start_time": "2022-04-22T07:08:37.725Z"
   },
   {
    "duration": 63,
    "start_time": "2022-04-22T07:08:47.828Z"
   },
   {
    "duration": 14,
    "start_time": "2022-04-22T07:11:42.242Z"
   },
   {
    "duration": 20,
    "start_time": "2022-04-22T07:30:28.167Z"
   },
   {
    "duration": 19,
    "start_time": "2022-04-22T07:30:50.342Z"
   },
   {
    "duration": 53,
    "start_time": "2022-04-22T07:31:33.725Z"
   },
   {
    "duration": 48,
    "start_time": "2022-04-22T07:32:40.279Z"
   },
   {
    "duration": 31,
    "start_time": "2022-04-22T07:33:07.862Z"
   },
   {
    "duration": 52,
    "start_time": "2022-04-22T07:39:26.107Z"
   },
   {
    "duration": 22,
    "start_time": "2022-04-22T07:40:12.692Z"
   },
   {
    "duration": 20,
    "start_time": "2022-04-22T07:44:04.658Z"
   },
   {
    "duration": 174,
    "start_time": "2022-04-22T07:44:13.616Z"
   },
   {
    "duration": 9,
    "start_time": "2022-04-22T07:44:13.792Z"
   },
   {
    "duration": 10,
    "start_time": "2022-04-22T07:44:13.802Z"
   },
   {
    "duration": 9,
    "start_time": "2022-04-22T07:44:13.814Z"
   },
   {
    "duration": 8,
    "start_time": "2022-04-22T07:44:13.825Z"
   },
   {
    "duration": 9,
    "start_time": "2022-04-22T07:44:13.834Z"
   },
   {
    "duration": 29,
    "start_time": "2022-04-22T07:44:13.845Z"
   },
   {
    "duration": 179,
    "start_time": "2022-04-22T07:44:13.876Z"
   },
   {
    "duration": 28,
    "start_time": "2022-04-22T07:44:14.057Z"
   },
   {
    "duration": 0,
    "start_time": "2022-04-22T07:44:14.087Z"
   },
   {
    "duration": 0,
    "start_time": "2022-04-22T07:44:14.088Z"
   },
   {
    "duration": 0,
    "start_time": "2022-04-22T07:44:14.089Z"
   },
   {
    "duration": 0,
    "start_time": "2022-04-22T07:44:14.090Z"
   },
   {
    "duration": 0,
    "start_time": "2022-04-22T07:44:14.091Z"
   },
   {
    "duration": 0,
    "start_time": "2022-04-22T07:44:14.092Z"
   },
   {
    "duration": 0,
    "start_time": "2022-04-22T07:44:14.093Z"
   },
   {
    "duration": 17,
    "start_time": "2022-04-22T07:48:38.586Z"
   },
   {
    "duration": 61,
    "start_time": "2022-04-22T07:48:44.953Z"
   },
   {
    "duration": 211,
    "start_time": "2022-04-22T07:48:48.471Z"
   },
   {
    "duration": 11,
    "start_time": "2022-04-22T07:48:48.684Z"
   },
   {
    "duration": 15,
    "start_time": "2022-04-22T07:48:48.697Z"
   },
   {
    "duration": 9,
    "start_time": "2022-04-22T07:48:48.714Z"
   },
   {
    "duration": 8,
    "start_time": "2022-04-22T07:48:48.725Z"
   },
   {
    "duration": 7,
    "start_time": "2022-04-22T07:48:48.735Z"
   },
   {
    "duration": 39,
    "start_time": "2022-04-22T07:48:48.743Z"
   },
   {
    "duration": 183,
    "start_time": "2022-04-22T07:48:48.784Z"
   },
   {
    "duration": 20,
    "start_time": "2022-04-22T07:48:48.974Z"
   },
   {
    "duration": 122,
    "start_time": "2022-04-22T07:48:48.997Z"
   },
   {
    "duration": 4,
    "start_time": "2022-04-22T07:48:49.121Z"
   },
   {
    "duration": 51,
    "start_time": "2022-04-22T07:48:49.126Z"
   },
   {
    "duration": 10,
    "start_time": "2022-04-22T07:48:49.178Z"
   },
   {
    "duration": 58,
    "start_time": "2022-04-22T07:48:49.189Z"
   },
   {
    "duration": 146,
    "start_time": "2022-04-22T07:48:49.248Z"
   },
   {
    "duration": 0,
    "start_time": "2022-04-22T07:48:49.395Z"
   },
   {
    "duration": 55,
    "start_time": "2022-04-22T07:48:53.944Z"
   },
   {
    "duration": 133,
    "start_time": "2022-04-22T07:49:37.809Z"
   },
   {
    "duration": 160,
    "start_time": "2022-04-22T07:49:45.927Z"
   },
   {
    "duration": 9,
    "start_time": "2022-04-22T07:49:46.089Z"
   },
   {
    "duration": 11,
    "start_time": "2022-04-22T07:49:46.099Z"
   },
   {
    "duration": 8,
    "start_time": "2022-04-22T07:49:46.112Z"
   },
   {
    "duration": 7,
    "start_time": "2022-04-22T07:49:46.122Z"
   },
   {
    "duration": 6,
    "start_time": "2022-04-22T07:49:46.130Z"
   },
   {
    "duration": 11,
    "start_time": "2022-04-22T07:49:46.137Z"
   },
   {
    "duration": 232,
    "start_time": "2022-04-22T07:49:46.150Z"
   },
   {
    "duration": 12,
    "start_time": "2022-04-22T07:49:46.384Z"
   },
   {
    "duration": 75,
    "start_time": "2022-04-22T07:49:46.399Z"
   },
   {
    "duration": 5,
    "start_time": "2022-04-22T07:49:46.475Z"
   },
   {
    "duration": 34,
    "start_time": "2022-04-22T07:49:46.481Z"
   },
   {
    "duration": 3,
    "start_time": "2022-04-22T07:49:46.517Z"
   },
   {
    "duration": 69,
    "start_time": "2022-04-22T07:49:46.521Z"
   },
   {
    "duration": 13,
    "start_time": "2022-04-22T07:49:46.591Z"
   },
   {
    "duration": 48,
    "start_time": "2022-04-22T07:49:46.606Z"
   },
   {
    "duration": 50,
    "start_time": "2022-04-22T07:49:53.879Z"
   },
   {
    "duration": 149,
    "start_time": "2022-04-22T07:50:10.368Z"
   },
   {
    "duration": 134,
    "start_time": "2022-04-22T07:51:01.665Z"
   },
   {
    "duration": 146,
    "start_time": "2022-04-22T07:51:11.233Z"
   },
   {
    "duration": 264,
    "start_time": "2022-04-22T07:51:15.895Z"
   },
   {
    "duration": 23,
    "start_time": "2022-04-22T07:51:16.161Z"
   },
   {
    "duration": 10,
    "start_time": "2022-04-22T07:51:16.186Z"
   },
   {
    "duration": 7,
    "start_time": "2022-04-22T07:51:16.198Z"
   },
   {
    "duration": 12,
    "start_time": "2022-04-22T07:51:16.206Z"
   },
   {
    "duration": 7,
    "start_time": "2022-04-22T07:51:16.220Z"
   },
   {
    "duration": 13,
    "start_time": "2022-04-22T07:51:16.229Z"
   },
   {
    "duration": 201,
    "start_time": "2022-04-22T07:51:16.243Z"
   },
   {
    "duration": 14,
    "start_time": "2022-04-22T07:51:16.447Z"
   },
   {
    "duration": 66,
    "start_time": "2022-04-22T07:51:16.480Z"
   },
   {
    "duration": 4,
    "start_time": "2022-04-22T07:51:16.547Z"
   },
   {
    "duration": 50,
    "start_time": "2022-04-22T07:51:16.553Z"
   },
   {
    "duration": 3,
    "start_time": "2022-04-22T07:51:16.605Z"
   },
   {
    "duration": 72,
    "start_time": "2022-04-22T07:51:16.609Z"
   },
   {
    "duration": 16,
    "start_time": "2022-04-22T07:51:16.683Z"
   },
   {
    "duration": 0,
    "start_time": "2022-04-22T07:51:16.700Z"
   },
   {
    "duration": 170,
    "start_time": "2022-04-22T07:52:38.206Z"
   },
   {
    "duration": 8,
    "start_time": "2022-04-22T07:52:38.378Z"
   },
   {
    "duration": 12,
    "start_time": "2022-04-22T07:52:38.387Z"
   },
   {
    "duration": 12,
    "start_time": "2022-04-22T07:52:38.401Z"
   },
   {
    "duration": 13,
    "start_time": "2022-04-22T07:52:38.415Z"
   },
   {
    "duration": 6,
    "start_time": "2022-04-22T07:52:38.430Z"
   },
   {
    "duration": 14,
    "start_time": "2022-04-22T07:52:38.438Z"
   },
   {
    "duration": 191,
    "start_time": "2022-04-22T07:52:38.454Z"
   },
   {
    "duration": 26,
    "start_time": "2022-04-22T07:52:38.647Z"
   },
   {
    "duration": 64,
    "start_time": "2022-04-22T07:52:38.676Z"
   },
   {
    "duration": 4,
    "start_time": "2022-04-22T07:52:38.742Z"
   },
   {
    "duration": 55,
    "start_time": "2022-04-22T07:52:38.748Z"
   },
   {
    "duration": 4,
    "start_time": "2022-04-22T07:52:38.805Z"
   },
   {
    "duration": 62,
    "start_time": "2022-04-22T07:52:38.811Z"
   },
   {
    "duration": 11,
    "start_time": "2022-04-22T07:52:38.875Z"
   },
   {
    "duration": 0,
    "start_time": "2022-04-22T07:52:38.887Z"
   },
   {
    "duration": 13,
    "start_time": "2022-04-22T07:53:59.976Z"
   },
   {
    "duration": 10,
    "start_time": "2022-04-22T07:54:15.967Z"
   },
   {
    "duration": 10,
    "start_time": "2022-04-22T07:54:44.294Z"
   },
   {
    "duration": 10,
    "start_time": "2022-04-22T07:54:55.944Z"
   },
   {
    "duration": 160,
    "start_time": "2022-04-22T07:55:32.789Z"
   },
   {
    "duration": 9,
    "start_time": "2022-04-22T07:55:32.951Z"
   },
   {
    "duration": 15,
    "start_time": "2022-04-22T07:55:32.961Z"
   },
   {
    "duration": 17,
    "start_time": "2022-04-22T07:55:32.978Z"
   },
   {
    "duration": 11,
    "start_time": "2022-04-22T07:55:32.997Z"
   },
   {
    "duration": 14,
    "start_time": "2022-04-22T07:55:33.010Z"
   },
   {
    "duration": 19,
    "start_time": "2022-04-22T07:55:33.026Z"
   },
   {
    "duration": 175,
    "start_time": "2022-04-22T07:55:33.047Z"
   },
   {
    "duration": 13,
    "start_time": "2022-04-22T07:55:33.223Z"
   },
   {
    "duration": 111,
    "start_time": "2022-04-22T07:55:33.238Z"
   },
   {
    "duration": 5,
    "start_time": "2022-04-22T07:55:33.351Z"
   },
   {
    "duration": 46,
    "start_time": "2022-04-22T07:55:33.357Z"
   },
   {
    "duration": 4,
    "start_time": "2022-04-22T07:55:33.404Z"
   },
   {
    "duration": 68,
    "start_time": "2022-04-22T07:55:33.409Z"
   },
   {
    "duration": 10,
    "start_time": "2022-04-22T07:55:33.478Z"
   },
   {
    "duration": 0,
    "start_time": "2022-04-22T07:55:33.490Z"
   },
   {
    "duration": 10,
    "start_time": "2022-04-22T07:59:49.773Z"
   },
   {
    "duration": 22,
    "start_time": "2022-04-22T07:59:58.644Z"
   },
   {
    "duration": 156,
    "start_time": "2022-04-22T08:00:05.902Z"
   },
   {
    "duration": 136,
    "start_time": "2022-04-22T08:00:20.790Z"
   },
   {
    "duration": 153,
    "start_time": "2022-04-22T08:02:25.390Z"
   },
   {
    "duration": 140,
    "start_time": "2022-04-22T08:02:47.462Z"
   },
   {
    "duration": 130,
    "start_time": "2022-04-22T08:08:31.131Z"
   },
   {
    "duration": 179,
    "start_time": "2022-04-22T08:08:36.306Z"
   },
   {
    "duration": 9,
    "start_time": "2022-04-22T08:08:36.487Z"
   },
   {
    "duration": 9,
    "start_time": "2022-04-22T08:08:36.497Z"
   },
   {
    "duration": 15,
    "start_time": "2022-04-22T08:08:36.508Z"
   },
   {
    "duration": 12,
    "start_time": "2022-04-22T08:08:36.525Z"
   },
   {
    "duration": 9,
    "start_time": "2022-04-22T08:08:36.538Z"
   },
   {
    "duration": 25,
    "start_time": "2022-04-22T08:08:36.549Z"
   },
   {
    "duration": 186,
    "start_time": "2022-04-22T08:08:36.575Z"
   },
   {
    "duration": 19,
    "start_time": "2022-04-22T08:08:36.762Z"
   },
   {
    "duration": 69,
    "start_time": "2022-04-22T08:08:36.783Z"
   },
   {
    "duration": 4,
    "start_time": "2022-04-22T08:08:36.854Z"
   },
   {
    "duration": 36,
    "start_time": "2022-04-22T08:08:36.873Z"
   },
   {
    "duration": 4,
    "start_time": "2022-04-22T08:08:36.910Z"
   },
   {
    "duration": 70,
    "start_time": "2022-04-22T08:08:36.915Z"
   },
   {
    "duration": 15,
    "start_time": "2022-04-22T08:08:36.987Z"
   },
   {
    "duration": 92,
    "start_time": "2022-04-22T08:08:37.003Z"
   },
   {
    "duration": 1664,
    "start_time": "2022-04-22T11:05:51.742Z"
   },
   {
    "duration": 1628,
    "start_time": "2022-04-22T11:06:10.438Z"
   },
   {
    "duration": 47,
    "start_time": "2022-04-22T11:06:20.093Z"
   },
   {
    "duration": 50,
    "start_time": "2022-04-22T11:07:28.639Z"
   },
   {
    "duration": 119,
    "start_time": "2022-04-22T11:08:40.620Z"
   },
   {
    "duration": 189,
    "start_time": "2022-04-22T11:08:43.821Z"
   },
   {
    "duration": 11,
    "start_time": "2022-04-22T11:08:44.012Z"
   },
   {
    "duration": 12,
    "start_time": "2022-04-22T11:08:44.025Z"
   },
   {
    "duration": 10,
    "start_time": "2022-04-22T11:08:44.040Z"
   },
   {
    "duration": 16,
    "start_time": "2022-04-22T11:08:44.078Z"
   },
   {
    "duration": 12,
    "start_time": "2022-04-22T11:08:44.096Z"
   },
   {
    "duration": 17,
    "start_time": "2022-04-22T11:08:44.111Z"
   },
   {
    "duration": 240,
    "start_time": "2022-04-22T11:08:44.130Z"
   },
   {
    "duration": 19,
    "start_time": "2022-04-22T11:08:44.373Z"
   },
   {
    "duration": 81,
    "start_time": "2022-04-22T11:08:44.395Z"
   },
   {
    "duration": 6,
    "start_time": "2022-04-22T11:08:44.478Z"
   },
   {
    "duration": 47,
    "start_time": "2022-04-22T11:08:44.487Z"
   },
   {
    "duration": 4,
    "start_time": "2022-04-22T11:08:44.536Z"
   },
   {
    "duration": 79,
    "start_time": "2022-04-22T11:08:44.542Z"
   },
   {
    "duration": 0,
    "start_time": "2022-04-22T11:08:44.623Z"
   },
   {
    "duration": 0,
    "start_time": "2022-04-22T11:08:44.624Z"
   },
   {
    "duration": 57,
    "start_time": "2022-04-22T11:09:35.103Z"
   },
   {
    "duration": 16,
    "start_time": "2022-04-22T11:11:40.890Z"
   },
   {
    "duration": 186,
    "start_time": "2022-04-22T11:12:21.317Z"
   },
   {
    "duration": 11,
    "start_time": "2022-04-22T11:12:21.505Z"
   },
   {
    "duration": 14,
    "start_time": "2022-04-22T11:12:21.518Z"
   },
   {
    "duration": 8,
    "start_time": "2022-04-22T11:12:21.534Z"
   },
   {
    "duration": 11,
    "start_time": "2022-04-22T11:12:21.544Z"
   },
   {
    "duration": 10,
    "start_time": "2022-04-22T11:12:21.573Z"
   },
   {
    "duration": 20,
    "start_time": "2022-04-22T11:12:21.585Z"
   },
   {
    "duration": 206,
    "start_time": "2022-04-22T11:12:21.607Z"
   },
   {
    "duration": 16,
    "start_time": "2022-04-22T11:12:21.814Z"
   },
   {
    "duration": 83,
    "start_time": "2022-04-22T11:12:21.833Z"
   },
   {
    "duration": 4,
    "start_time": "2022-04-22T11:12:21.918Z"
   },
   {
    "duration": 62,
    "start_time": "2022-04-22T11:12:21.924Z"
   },
   {
    "duration": 4,
    "start_time": "2022-04-22T11:12:21.988Z"
   },
   {
    "duration": 66,
    "start_time": "2022-04-22T11:12:21.994Z"
   },
   {
    "duration": 33,
    "start_time": "2022-04-22T11:12:22.062Z"
   },
   {
    "duration": 70,
    "start_time": "2022-04-22T11:12:22.097Z"
   },
   {
    "duration": 15,
    "start_time": "2022-04-22T11:17:01.159Z"
   },
   {
    "duration": 14,
    "start_time": "2022-04-22T11:17:23.093Z"
   },
   {
    "duration": 13,
    "start_time": "2022-04-22T11:18:38.429Z"
   },
   {
    "duration": 13,
    "start_time": "2022-04-22T11:18:59.397Z"
   },
   {
    "duration": 16,
    "start_time": "2022-04-22T11:20:24.484Z"
   },
   {
    "duration": 11,
    "start_time": "2022-04-22T11:21:45.485Z"
   },
   {
    "duration": 21,
    "start_time": "2022-04-22T11:22:03.653Z"
   },
   {
    "duration": 22,
    "start_time": "2022-04-22T11:22:35.191Z"
   },
   {
    "duration": 23,
    "start_time": "2022-04-22T11:26:52.067Z"
   },
   {
    "duration": 183,
    "start_time": "2022-04-22T11:26:58.743Z"
   },
   {
    "duration": 9,
    "start_time": "2022-04-22T11:26:58.929Z"
   },
   {
    "duration": 13,
    "start_time": "2022-04-22T11:26:58.940Z"
   },
   {
    "duration": 23,
    "start_time": "2022-04-22T11:26:58.955Z"
   },
   {
    "duration": 6,
    "start_time": "2022-04-22T11:26:58.981Z"
   },
   {
    "duration": 9,
    "start_time": "2022-04-22T11:26:58.989Z"
   },
   {
    "duration": 11,
    "start_time": "2022-04-22T11:26:59.000Z"
   },
   {
    "duration": 205,
    "start_time": "2022-04-22T11:26:59.013Z"
   },
   {
    "duration": 14,
    "start_time": "2022-04-22T11:26:59.220Z"
   },
   {
    "duration": 135,
    "start_time": "2022-04-22T11:26:59.235Z"
   },
   {
    "duration": 5,
    "start_time": "2022-04-22T11:26:59.372Z"
   },
   {
    "duration": 38,
    "start_time": "2022-04-22T11:26:59.379Z"
   },
   {
    "duration": 5,
    "start_time": "2022-04-22T11:26:59.419Z"
   },
   {
    "duration": 81,
    "start_time": "2022-04-22T11:26:59.428Z"
   },
   {
    "duration": 16,
    "start_time": "2022-04-22T11:26:59.511Z"
   },
   {
    "duration": 76,
    "start_time": "2022-04-22T11:26:59.529Z"
   },
   {
    "duration": 16,
    "start_time": "2022-04-22T11:27:32.779Z"
   },
   {
    "duration": 13,
    "start_time": "2022-04-22T11:27:43.859Z"
   },
   {
    "duration": 12,
    "start_time": "2022-04-22T11:27:55.861Z"
   },
   {
    "duration": 14,
    "start_time": "2022-04-22T11:28:07.028Z"
   },
   {
    "duration": 175,
    "start_time": "2022-04-22T11:28:30.075Z"
   },
   {
    "duration": 20,
    "start_time": "2022-04-22T11:28:30.253Z"
   },
   {
    "duration": 11,
    "start_time": "2022-04-22T11:28:30.276Z"
   },
   {
    "duration": 12,
    "start_time": "2022-04-22T11:28:30.289Z"
   },
   {
    "duration": 16,
    "start_time": "2022-04-22T11:28:30.303Z"
   },
   {
    "duration": 20,
    "start_time": "2022-04-22T11:28:30.321Z"
   },
   {
    "duration": 18,
    "start_time": "2022-04-22T11:28:30.343Z"
   },
   {
    "duration": 199,
    "start_time": "2022-04-22T11:28:30.363Z"
   },
   {
    "duration": 16,
    "start_time": "2022-04-22T11:28:30.564Z"
   },
   {
    "duration": 79,
    "start_time": "2022-04-22T11:28:30.583Z"
   },
   {
    "duration": 11,
    "start_time": "2022-04-22T11:28:30.664Z"
   },
   {
    "duration": 44,
    "start_time": "2022-04-22T11:28:30.677Z"
   },
   {
    "duration": 3,
    "start_time": "2022-04-22T11:28:30.723Z"
   },
   {
    "duration": 101,
    "start_time": "2022-04-22T11:28:30.728Z"
   },
   {
    "duration": 15,
    "start_time": "2022-04-22T11:28:30.831Z"
   },
   {
    "duration": 66,
    "start_time": "2022-04-22T11:28:30.847Z"
   },
   {
    "duration": 155,
    "start_time": "2022-04-22T11:28:48.780Z"
   },
   {
    "duration": 138,
    "start_time": "2022-04-22T11:29:17.187Z"
   },
   {
    "duration": 141,
    "start_time": "2022-04-22T11:29:25.795Z"
   },
   {
    "duration": 206,
    "start_time": "2022-04-22T11:29:29.610Z"
   },
   {
    "duration": 9,
    "start_time": "2022-04-22T11:29:29.819Z"
   },
   {
    "duration": 10,
    "start_time": "2022-04-22T11:29:29.829Z"
   },
   {
    "duration": 10,
    "start_time": "2022-04-22T11:29:29.841Z"
   },
   {
    "duration": 25,
    "start_time": "2022-04-22T11:29:29.853Z"
   },
   {
    "duration": 28,
    "start_time": "2022-04-22T11:29:29.880Z"
   },
   {
    "duration": 20,
    "start_time": "2022-04-22T11:29:29.910Z"
   },
   {
    "duration": 220,
    "start_time": "2022-04-22T11:29:29.933Z"
   },
   {
    "duration": 20,
    "start_time": "2022-04-22T11:29:30.155Z"
   },
   {
    "duration": 111,
    "start_time": "2022-04-22T11:29:30.178Z"
   },
   {
    "duration": 5,
    "start_time": "2022-04-22T11:29:30.291Z"
   },
   {
    "duration": 63,
    "start_time": "2022-04-22T11:29:30.298Z"
   },
   {
    "duration": 14,
    "start_time": "2022-04-22T11:29:30.363Z"
   },
   {
    "duration": 75,
    "start_time": "2022-04-22T11:29:30.379Z"
   },
   {
    "duration": 37,
    "start_time": "2022-04-22T11:29:30.456Z"
   },
   {
    "duration": 88,
    "start_time": "2022-04-22T11:29:30.495Z"
   },
   {
    "duration": 15,
    "start_time": "2022-04-22T11:29:36.923Z"
   },
   {
    "duration": 51,
    "start_time": "2022-04-22T11:36:17.667Z"
   },
   {
    "duration": 328,
    "start_time": "2022-04-22T11:38:41.676Z"
   },
   {
    "duration": 353,
    "start_time": "2022-04-22T11:39:12.802Z"
   },
   {
    "duration": 288,
    "start_time": "2022-04-22T11:39:45.482Z"
   },
   {
    "duration": 303,
    "start_time": "2022-04-22T11:41:10.332Z"
   },
   {
    "duration": 320,
    "start_time": "2022-04-22T11:41:20.256Z"
   },
   {
    "duration": 360,
    "start_time": "2022-04-22T11:44:54.970Z"
   },
   {
    "duration": 178,
    "start_time": "2022-04-22T11:45:17.064Z"
   },
   {
    "duration": 9,
    "start_time": "2022-04-22T11:45:17.244Z"
   },
   {
    "duration": 22,
    "start_time": "2022-04-22T11:45:17.255Z"
   },
   {
    "duration": 12,
    "start_time": "2022-04-22T11:45:17.280Z"
   },
   {
    "duration": 9,
    "start_time": "2022-04-22T11:45:17.294Z"
   },
   {
    "duration": 7,
    "start_time": "2022-04-22T11:45:17.304Z"
   },
   {
    "duration": 13,
    "start_time": "2022-04-22T11:45:17.313Z"
   },
   {
    "duration": 193,
    "start_time": "2022-04-22T11:45:17.328Z"
   },
   {
    "duration": 15,
    "start_time": "2022-04-22T11:45:17.523Z"
   },
   {
    "duration": 83,
    "start_time": "2022-04-22T11:45:17.541Z"
   },
   {
    "duration": 4,
    "start_time": "2022-04-22T11:45:17.626Z"
   },
   {
    "duration": 49,
    "start_time": "2022-04-22T11:45:17.632Z"
   },
   {
    "duration": 4,
    "start_time": "2022-04-22T11:45:17.683Z"
   },
   {
    "duration": 64,
    "start_time": "2022-04-22T11:45:17.689Z"
   },
   {
    "duration": 32,
    "start_time": "2022-04-22T11:45:17.755Z"
   },
   {
    "duration": 348,
    "start_time": "2022-04-22T11:45:17.789Z"
   },
   {
    "duration": 336,
    "start_time": "2022-04-22T11:47:24.993Z"
   },
   {
    "duration": 339,
    "start_time": "2022-04-22T11:48:10.767Z"
   },
   {
    "duration": 1179,
    "start_time": "2022-04-22T11:48:23.278Z"
   },
   {
    "duration": 15,
    "start_time": "2022-04-22T11:48:24.459Z"
   },
   {
    "duration": 9,
    "start_time": "2022-04-22T11:48:24.476Z"
   },
   {
    "duration": 17,
    "start_time": "2022-04-22T11:48:24.487Z"
   },
   {
    "duration": 11,
    "start_time": "2022-04-22T11:48:24.505Z"
   },
   {
    "duration": 10,
    "start_time": "2022-04-22T11:48:24.518Z"
   },
   {
    "duration": 18,
    "start_time": "2022-04-22T11:48:24.530Z"
   },
   {
    "duration": 193,
    "start_time": "2022-04-22T11:48:24.550Z"
   },
   {
    "duration": 15,
    "start_time": "2022-04-22T11:48:24.745Z"
   },
   {
    "duration": 68,
    "start_time": "2022-04-22T11:48:24.773Z"
   },
   {
    "duration": 6,
    "start_time": "2022-04-22T11:48:24.842Z"
   },
   {
    "duration": 70,
    "start_time": "2022-04-22T11:48:24.851Z"
   },
   {
    "duration": 3,
    "start_time": "2022-04-22T11:48:24.923Z"
   },
   {
    "duration": 75,
    "start_time": "2022-04-22T11:48:24.928Z"
   },
   {
    "duration": 17,
    "start_time": "2022-04-22T11:48:25.005Z"
   },
   {
    "duration": 318,
    "start_time": "2022-04-22T11:48:25.024Z"
   },
   {
    "duration": 277,
    "start_time": "2022-04-22T11:50:46.847Z"
   },
   {
    "duration": 362,
    "start_time": "2022-04-22T11:51:01.398Z"
   },
   {
    "duration": 129,
    "start_time": "2022-04-22T12:13:17.169Z"
   },
   {
    "duration": 1334,
    "start_time": "2022-04-22T19:33:50.437Z"
   },
   {
    "duration": 14,
    "start_time": "2022-04-22T19:33:51.774Z"
   },
   {
    "duration": 39,
    "start_time": "2022-04-22T19:33:51.790Z"
   },
   {
    "duration": 10,
    "start_time": "2022-04-22T19:33:51.832Z"
   },
   {
    "duration": 17,
    "start_time": "2022-04-22T19:33:51.844Z"
   },
   {
    "duration": 16,
    "start_time": "2022-04-22T19:33:51.864Z"
   },
   {
    "duration": 19,
    "start_time": "2022-04-22T19:33:51.882Z"
   },
   {
    "duration": 367,
    "start_time": "2022-04-22T19:33:51.903Z"
   },
   {
    "duration": 23,
    "start_time": "2022-04-22T19:33:52.273Z"
   },
   {
    "duration": 136,
    "start_time": "2022-04-22T19:33:52.299Z"
   },
   {
    "duration": 6,
    "start_time": "2022-04-22T19:33:52.437Z"
   },
   {
    "duration": 57,
    "start_time": "2022-04-22T19:33:52.445Z"
   },
   {
    "duration": 23,
    "start_time": "2022-04-22T19:33:52.504Z"
   },
   {
    "duration": 107,
    "start_time": "2022-04-22T19:33:52.529Z"
   },
   {
    "duration": 18,
    "start_time": "2022-04-22T19:33:52.638Z"
   },
   {
    "duration": 594,
    "start_time": "2022-04-22T19:33:52.659Z"
   },
   {
    "duration": 435,
    "start_time": "2022-04-22T19:33:53.255Z"
   },
   {
    "duration": 857,
    "start_time": "2022-04-22T19:37:52.704Z"
   },
   {
    "duration": 14,
    "start_time": "2022-04-22T19:37:53.564Z"
   },
   {
    "duration": 24,
    "start_time": "2022-04-22T19:37:53.580Z"
   },
   {
    "duration": 29,
    "start_time": "2022-04-22T19:37:53.607Z"
   },
   {
    "duration": 11,
    "start_time": "2022-04-22T19:37:53.639Z"
   },
   {
    "duration": 9,
    "start_time": "2022-04-22T19:37:53.652Z"
   },
   {
    "duration": 19,
    "start_time": "2022-04-22T19:37:53.663Z"
   },
   {
    "duration": 343,
    "start_time": "2022-04-22T19:37:53.684Z"
   },
   {
    "duration": 18,
    "start_time": "2022-04-22T19:37:54.030Z"
   },
   {
    "duration": 198,
    "start_time": "2022-04-22T19:37:54.052Z"
   },
   {
    "duration": 6,
    "start_time": "2022-04-22T19:37:54.252Z"
   },
   {
    "duration": 71,
    "start_time": "2022-04-22T19:37:54.260Z"
   },
   {
    "duration": 5,
    "start_time": "2022-04-22T19:37:54.333Z"
   },
   {
    "duration": 102,
    "start_time": "2022-04-22T19:37:54.341Z"
   },
   {
    "duration": 17,
    "start_time": "2022-04-22T19:37:54.445Z"
   },
   {
    "duration": 567,
    "start_time": "2022-04-22T19:37:54.464Z"
   },
   {
    "duration": 421,
    "start_time": "2022-04-22T19:37:55.033Z"
   },
   {
    "duration": 168,
    "start_time": "2022-04-22T19:39:08.167Z"
   },
   {
    "duration": 281,
    "start_time": "2022-04-22T19:39:17.392Z"
   },
   {
    "duration": 32,
    "start_time": "2022-04-22T19:46:27.438Z"
   },
   {
    "duration": 281,
    "start_time": "2022-04-22T19:58:12.838Z"
   },
   {
    "duration": 597,
    "start_time": "2022-04-22T20:02:12.849Z"
   },
   {
    "duration": 516,
    "start_time": "2022-04-22T20:02:30.779Z"
   },
   {
    "duration": 508,
    "start_time": "2022-04-22T20:02:45.954Z"
   },
   {
    "duration": 503,
    "start_time": "2022-04-22T20:02:55.948Z"
   },
   {
    "duration": 528,
    "start_time": "2022-04-22T20:03:03.412Z"
   },
   {
    "duration": 503,
    "start_time": "2022-04-22T20:03:08.266Z"
   },
   {
    "duration": 526,
    "start_time": "2022-04-22T20:03:19.811Z"
   },
   {
    "duration": 717,
    "start_time": "2022-04-22T20:03:27.245Z"
   },
   {
    "duration": 615,
    "start_time": "2022-04-22T20:03:49.068Z"
   },
   {
    "duration": 528,
    "start_time": "2022-04-22T20:04:02.211Z"
   },
   {
    "duration": 492,
    "start_time": "2022-04-22T20:04:36.162Z"
   },
   {
    "duration": 303,
    "start_time": "2022-04-22T20:06:21.689Z"
   },
   {
    "duration": 200,
    "start_time": "2022-04-22T20:06:28.267Z"
   },
   {
    "duration": 196,
    "start_time": "2022-04-22T20:06:56.890Z"
   },
   {
    "duration": 193,
    "start_time": "2022-04-22T20:07:28.459Z"
   },
   {
    "duration": 178,
    "start_time": "2022-04-22T20:07:42.284Z"
   },
   {
    "duration": 212,
    "start_time": "2022-04-22T20:07:48.465Z"
   },
   {
    "duration": 175,
    "start_time": "2022-04-22T20:07:55.881Z"
   },
   {
    "duration": 180,
    "start_time": "2022-04-22T20:08:05.872Z"
   },
   {
    "duration": 187,
    "start_time": "2022-04-22T20:08:11.689Z"
   },
   {
    "duration": 219,
    "start_time": "2022-04-22T20:08:16.168Z"
   },
   {
    "duration": 202,
    "start_time": "2022-04-22T20:08:22.618Z"
   },
   {
    "duration": 206,
    "start_time": "2022-04-22T20:08:28.634Z"
   },
   {
    "duration": 185,
    "start_time": "2022-04-22T20:08:33.409Z"
   },
   {
    "duration": 210,
    "start_time": "2022-04-22T20:08:46.673Z"
   },
   {
    "duration": 592,
    "start_time": "2022-04-22T20:09:06.473Z"
   },
   {
    "duration": 496,
    "start_time": "2022-04-22T20:09:22.745Z"
   },
   {
    "duration": 34,
    "start_time": "2022-04-22T20:12:21.842Z"
   },
   {
    "duration": 440,
    "start_time": "2022-04-22T20:18:39.909Z"
   },
   {
    "duration": 505,
    "start_time": "2022-04-22T20:19:43.438Z"
   },
   {
    "duration": 504,
    "start_time": "2022-04-22T20:19:56.247Z"
   },
   {
    "duration": 583,
    "start_time": "2022-04-22T20:20:04.040Z"
   },
   {
    "duration": 706,
    "start_time": "2022-04-22T20:20:14.247Z"
   },
   {
    "duration": 530,
    "start_time": "2022-04-22T20:20:19.344Z"
   },
   {
    "duration": 692,
    "start_time": "2022-04-22T20:20:32.624Z"
   },
   {
    "duration": 336,
    "start_time": "2022-04-22T20:20:45.702Z"
   },
   {
    "duration": 3992,
    "start_time": "2022-04-22T20:20:52.119Z"
   },
   {
    "duration": 2566,
    "start_time": "2022-04-22T20:21:05.304Z"
   },
   {
    "duration": 1200,
    "start_time": "2022-04-22T20:21:15.551Z"
   },
   {
    "duration": 955,
    "start_time": "2022-04-22T20:21:31.103Z"
   },
   {
    "duration": 1115,
    "start_time": "2022-04-22T20:21:36.870Z"
   },
   {
    "duration": 968,
    "start_time": "2022-04-22T20:21:42.805Z"
   },
   {
    "duration": 992,
    "start_time": "2022-04-22T20:22:01.136Z"
   },
   {
    "duration": 673,
    "start_time": "2022-04-22T20:22:25.207Z"
   },
   {
    "duration": 652,
    "start_time": "2022-04-22T20:22:36.015Z"
   },
   {
    "duration": 959,
    "start_time": "2022-04-22T20:22:42.870Z"
   },
   {
    "duration": 205,
    "start_time": "2022-04-22T20:23:26.738Z"
   },
   {
    "duration": 220,
    "start_time": "2022-04-22T20:23:38.006Z"
   },
   {
    "duration": 211,
    "start_time": "2022-04-22T20:23:42.743Z"
   },
   {
    "duration": 200,
    "start_time": "2022-04-22T20:23:48.138Z"
   },
   {
    "duration": 181,
    "start_time": "2022-04-22T20:24:09.357Z"
   },
   {
    "duration": 213,
    "start_time": "2022-04-22T20:24:15.230Z"
   },
   {
    "duration": 208,
    "start_time": "2022-04-22T20:24:28.926Z"
   },
   {
    "duration": 207,
    "start_time": "2022-04-22T20:24:33.309Z"
   },
   {
    "duration": 187,
    "start_time": "2022-04-22T20:24:38.433Z"
   },
   {
    "duration": 199,
    "start_time": "2022-04-22T20:24:50.581Z"
   },
   {
    "duration": 200,
    "start_time": "2022-04-22T20:24:54.853Z"
   },
   {
    "duration": 213,
    "start_time": "2022-04-22T20:25:02.517Z"
   },
   {
    "duration": 207,
    "start_time": "2022-04-22T20:25:58.941Z"
   },
   {
    "duration": 516,
    "start_time": "2022-04-22T20:27:13.324Z"
   },
   {
    "duration": 506,
    "start_time": "2022-04-22T20:27:34.278Z"
   },
   {
    "duration": 506,
    "start_time": "2022-04-22T20:27:40.357Z"
   },
   {
    "duration": 504,
    "start_time": "2022-04-22T20:27:49.284Z"
   },
   {
    "duration": 447,
    "start_time": "2022-04-22T20:28:14.955Z"
   },
   {
    "duration": 391,
    "start_time": "2022-04-22T20:28:24.596Z"
   },
   {
    "duration": 266,
    "start_time": "2022-04-22T20:28:36.925Z"
   },
   {
    "duration": 301,
    "start_time": "2022-04-22T20:28:40.852Z"
   },
   {
    "duration": 660,
    "start_time": "2022-04-22T20:28:52.045Z"
   },
   {
    "duration": 299,
    "start_time": "2022-04-22T20:29:26.136Z"
   },
   {
    "duration": 206,
    "start_time": "2022-04-22T20:29:44.322Z"
   },
   {
    "duration": 178,
    "start_time": "2022-04-22T20:29:49.867Z"
   },
   {
    "duration": 186,
    "start_time": "2022-04-22T20:31:09.098Z"
   },
   {
    "duration": 186,
    "start_time": "2022-04-22T20:31:40.220Z"
   },
   {
    "duration": 219,
    "start_time": "2022-04-22T20:31:49.171Z"
   },
   {
    "duration": 390,
    "start_time": "2022-04-22T20:32:35.994Z"
   },
   {
    "duration": 375,
    "start_time": "2022-04-22T20:32:59.637Z"
   },
   {
    "duration": 435,
    "start_time": "2022-04-22T20:33:08.018Z"
   },
   {
    "duration": 399,
    "start_time": "2022-04-22T20:33:19.736Z"
   },
   {
    "duration": 322,
    "start_time": "2022-04-22T20:33:24.883Z"
   },
   {
    "duration": 496,
    "start_time": "2022-04-22T20:33:28.667Z"
   },
   {
    "duration": 398,
    "start_time": "2022-04-22T20:33:42.179Z"
   },
   {
    "duration": 485,
    "start_time": "2022-04-22T20:33:48.539Z"
   },
   {
    "duration": 488,
    "start_time": "2022-04-22T20:34:02.196Z"
   },
   {
    "duration": 11,
    "start_time": "2022-04-22T20:37:17.641Z"
   },
   {
    "duration": 16,
    "start_time": "2022-04-22T20:37:24.425Z"
   },
   {
    "duration": 498,
    "start_time": "2022-04-22T20:38:44.953Z"
   },
   {
    "duration": 515,
    "start_time": "2022-04-22T20:38:54.290Z"
   },
   {
    "duration": 2613,
    "start_time": "2022-04-22T20:38:59.674Z"
   },
   {
    "duration": 1728,
    "start_time": "2022-04-22T20:39:13.850Z"
   },
   {
    "duration": 963,
    "start_time": "2022-04-22T20:39:22.697Z"
   },
   {
    "duration": 729,
    "start_time": "2022-04-22T20:39:42.121Z"
   },
   {
    "duration": 715,
    "start_time": "2022-04-22T20:40:03.954Z"
   },
   {
    "duration": 718,
    "start_time": "2022-04-22T20:40:16.138Z"
   },
   {
    "duration": 217,
    "start_time": "2022-04-22T20:41:40.184Z"
   },
   {
    "duration": 196,
    "start_time": "2022-04-22T20:41:54.714Z"
   },
   {
    "duration": 177,
    "start_time": "2022-04-22T20:42:07.698Z"
   },
   {
    "duration": 211,
    "start_time": "2022-04-22T20:42:12.921Z"
   },
   {
    "duration": 33,
    "start_time": "2022-04-22T20:46:19.684Z"
   },
   {
    "duration": 733,
    "start_time": "2022-04-22T20:46:29.424Z"
   },
   {
    "duration": 11,
    "start_time": "2022-04-22T20:47:18.338Z"
   },
   {
    "duration": 8,
    "start_time": "2022-04-22T20:50:51.381Z"
   },
   {
    "duration": 22,
    "start_time": "2022-04-22T20:53:27.861Z"
   },
   {
    "duration": 23,
    "start_time": "2022-04-22T20:53:51.656Z"
   },
   {
    "duration": 22,
    "start_time": "2022-04-22T20:54:35.981Z"
   },
   {
    "duration": 207,
    "start_time": "2022-04-22T20:54:40.843Z"
   },
   {
    "duration": 13,
    "start_time": "2022-04-22T20:54:41.053Z"
   },
   {
    "duration": 16,
    "start_time": "2022-04-22T20:54:41.068Z"
   },
   {
    "duration": 40,
    "start_time": "2022-04-22T20:54:41.087Z"
   },
   {
    "duration": 22,
    "start_time": "2022-04-22T20:54:41.131Z"
   },
   {
    "duration": 14,
    "start_time": "2022-04-22T20:54:41.157Z"
   },
   {
    "duration": 32,
    "start_time": "2022-04-22T20:54:41.173Z"
   },
   {
    "duration": 334,
    "start_time": "2022-04-22T20:54:41.207Z"
   },
   {
    "duration": 25,
    "start_time": "2022-04-22T20:54:41.543Z"
   },
   {
    "duration": 517,
    "start_time": "2022-04-22T20:54:41.573Z"
   },
   {
    "duration": 6,
    "start_time": "2022-04-22T20:54:42.092Z"
   },
   {
    "duration": 75,
    "start_time": "2022-04-22T20:54:42.100Z"
   },
   {
    "duration": 9,
    "start_time": "2022-04-22T20:54:42.177Z"
   },
   {
    "duration": 113,
    "start_time": "2022-04-22T20:54:42.188Z"
   },
   {
    "duration": 31,
    "start_time": "2022-04-22T20:54:42.303Z"
   },
   {
    "duration": 607,
    "start_time": "2022-04-22T20:54:42.337Z"
   },
   {
    "duration": 36,
    "start_time": "2022-04-22T20:54:42.947Z"
   },
   {
    "duration": 546,
    "start_time": "2022-04-22T20:54:42.986Z"
   },
   {
    "duration": 236,
    "start_time": "2022-04-22T20:54:43.535Z"
   },
   {
    "duration": 10,
    "start_time": "2022-04-22T20:54:43.773Z"
   },
   {
    "duration": 759,
    "start_time": "2022-04-22T20:54:43.785Z"
   },
   {
    "duration": 221,
    "start_time": "2022-04-22T20:54:44.547Z"
   },
   {
    "duration": 21,
    "start_time": "2022-04-22T20:54:44.770Z"
   },
   {
    "duration": 327,
    "start_time": "2022-04-22T20:54:44.793Z"
   },
   {
    "duration": 194,
    "start_time": "2022-04-22T20:54:45.124Z"
   },
   {
    "duration": 522,
    "start_time": "2022-04-22T20:54:45.325Z"
   },
   {
    "duration": 196,
    "start_time": "2022-04-22T20:54:45.849Z"
   },
   {
    "duration": 8,
    "start_time": "2022-04-22T20:54:46.049Z"
   },
   {
    "duration": 54,
    "start_time": "2022-04-22T20:54:46.059Z"
   },
   {
    "duration": 740,
    "start_time": "2022-04-22T20:54:46.115Z"
   },
   {
    "duration": 203,
    "start_time": "2022-04-22T20:54:46.857Z"
   },
   {
    "duration": 20,
    "start_time": "2022-04-22T20:55:09.949Z"
   },
   {
    "duration": 213,
    "start_time": "2022-04-22T20:55:24.800Z"
   },
   {
    "duration": 23,
    "start_time": "2022-04-22T20:55:25.016Z"
   },
   {
    "duration": 21,
    "start_time": "2022-04-22T20:55:25.042Z"
   },
   {
    "duration": 10,
    "start_time": "2022-04-22T20:55:25.066Z"
   },
   {
    "duration": 10,
    "start_time": "2022-04-22T20:55:25.078Z"
   },
   {
    "duration": 46,
    "start_time": "2022-04-22T20:55:25.090Z"
   },
   {
    "duration": 19,
    "start_time": "2022-04-22T20:55:25.139Z"
   },
   {
    "duration": 350,
    "start_time": "2022-04-22T20:55:25.160Z"
   },
   {
    "duration": 32,
    "start_time": "2022-04-22T20:55:25.513Z"
   },
   {
    "duration": 128,
    "start_time": "2022-04-22T20:55:25.549Z"
   },
   {
    "duration": 6,
    "start_time": "2022-04-22T20:55:25.679Z"
   },
   {
    "duration": 72,
    "start_time": "2022-04-22T20:55:25.688Z"
   },
   {
    "duration": 6,
    "start_time": "2022-04-22T20:55:25.762Z"
   },
   {
    "duration": 105,
    "start_time": "2022-04-22T20:55:25.770Z"
   },
   {
    "duration": 17,
    "start_time": "2022-04-22T20:55:25.878Z"
   },
   {
    "duration": 585,
    "start_time": "2022-04-22T20:55:25.898Z"
   },
   {
    "duration": 52,
    "start_time": "2022-04-22T20:55:26.486Z"
   },
   {
    "duration": 499,
    "start_time": "2022-04-22T20:55:26.541Z"
   },
   {
    "duration": 212,
    "start_time": "2022-04-22T20:55:27.042Z"
   },
   {
    "duration": 29,
    "start_time": "2022-04-22T20:55:27.257Z"
   },
   {
    "duration": 747,
    "start_time": "2022-04-22T20:55:27.288Z"
   },
   {
    "duration": 211,
    "start_time": "2022-04-22T20:55:28.038Z"
   },
   {
    "duration": 7,
    "start_time": "2022-04-22T20:55:28.252Z"
   },
   {
    "duration": 311,
    "start_time": "2022-04-22T20:55:28.261Z"
   },
   {
    "duration": 206,
    "start_time": "2022-04-22T20:55:28.574Z"
   },
   {
    "duration": 513,
    "start_time": "2022-04-22T20:55:28.783Z"
   },
   {
    "duration": 657,
    "start_time": "2022-04-22T20:55:29.298Z"
   },
   {
    "duration": 8,
    "start_time": "2022-04-22T20:55:29.959Z"
   },
   {
    "duration": 12,
    "start_time": "2022-04-22T20:55:29.970Z"
   },
   {
    "duration": 885,
    "start_time": "2022-04-22T20:55:29.984Z"
   },
   {
    "duration": 207,
    "start_time": "2022-04-22T20:55:30.872Z"
   },
   {
    "duration": 30,
    "start_time": "2022-04-22T20:55:51.413Z"
   },
   {
    "duration": 20,
    "start_time": "2022-04-22T20:56:08.852Z"
   },
   {
    "duration": 217,
    "start_time": "2022-04-22T20:56:12.762Z"
   },
   {
    "duration": 15,
    "start_time": "2022-04-22T20:56:12.981Z"
   },
   {
    "duration": 42,
    "start_time": "2022-04-22T20:56:12.999Z"
   },
   {
    "duration": 11,
    "start_time": "2022-04-22T20:56:13.045Z"
   },
   {
    "duration": 10,
    "start_time": "2022-04-22T20:56:13.059Z"
   },
   {
    "duration": 12,
    "start_time": "2022-04-22T20:56:13.071Z"
   },
   {
    "duration": 47,
    "start_time": "2022-04-22T20:56:13.086Z"
   },
   {
    "duration": 340,
    "start_time": "2022-04-22T20:56:13.135Z"
   },
   {
    "duration": 19,
    "start_time": "2022-04-22T20:56:13.477Z"
   },
   {
    "duration": 143,
    "start_time": "2022-04-22T20:56:13.500Z"
   },
   {
    "duration": 6,
    "start_time": "2022-04-22T20:56:13.645Z"
   },
   {
    "duration": 49,
    "start_time": "2022-04-22T20:56:13.653Z"
   },
   {
    "duration": 7,
    "start_time": "2022-04-22T20:56:13.725Z"
   },
   {
    "duration": 110,
    "start_time": "2022-04-22T20:56:13.735Z"
   },
   {
    "duration": 21,
    "start_time": "2022-04-22T20:56:13.847Z"
   },
   {
    "duration": 599,
    "start_time": "2022-04-22T20:56:13.872Z"
   },
   {
    "duration": 58,
    "start_time": "2022-04-22T20:56:14.473Z"
   },
   {
    "duration": 495,
    "start_time": "2022-04-22T20:56:14.534Z"
   },
   {
    "duration": 216,
    "start_time": "2022-04-22T20:56:15.031Z"
   },
   {
    "duration": 32,
    "start_time": "2022-04-22T20:56:15.250Z"
   },
   {
    "duration": 784,
    "start_time": "2022-04-22T20:56:15.284Z"
   },
   {
    "duration": 219,
    "start_time": "2022-04-22T20:56:16.070Z"
   },
   {
    "duration": 42,
    "start_time": "2022-04-22T20:56:16.292Z"
   },
   {
    "duration": 321,
    "start_time": "2022-04-22T20:56:16.336Z"
   },
   {
    "duration": 186,
    "start_time": "2022-04-22T20:56:16.659Z"
   },
   {
    "duration": 494,
    "start_time": "2022-04-22T20:56:16.848Z"
   },
   {
    "duration": 221,
    "start_time": "2022-04-22T20:56:17.344Z"
   },
   {
    "duration": 15,
    "start_time": "2022-04-22T20:56:17.569Z"
   },
   {
    "duration": 12,
    "start_time": "2022-04-22T20:56:17.586Z"
   },
   {
    "duration": 715,
    "start_time": "2022-04-22T20:56:17.628Z"
   },
   {
    "duration": 219,
    "start_time": "2022-04-22T20:56:18.345Z"
   },
   {
    "duration": 35,
    "start_time": "2022-04-22T20:56:53.852Z"
   },
   {
    "duration": 29,
    "start_time": "2022-04-22T21:02:49.635Z"
   },
   {
    "duration": 29,
    "start_time": "2022-04-22T21:03:13.197Z"
   },
   {
    "duration": 12,
    "start_time": "2022-04-22T21:10:30.632Z"
   },
   {
    "duration": 12,
    "start_time": "2022-04-22T21:10:49.856Z"
   },
   {
    "duration": 13,
    "start_time": "2022-04-22T21:11:00.600Z"
   },
   {
    "duration": 29,
    "start_time": "2022-04-22T21:13:06.137Z"
   },
   {
    "duration": 15,
    "start_time": "2022-04-22T21:13:09.401Z"
   },
   {
    "duration": 19,
    "start_time": "2022-04-22T21:25:16.182Z"
   },
   {
    "duration": 8,
    "start_time": "2022-04-22T21:25:34.224Z"
   },
   {
    "duration": 7,
    "start_time": "2022-04-22T21:37:05.493Z"
   },
   {
    "duration": 1594,
    "start_time": "2022-04-22T21:37:40.307Z"
   },
   {
    "duration": 9,
    "start_time": "2022-04-22T21:37:50.571Z"
   },
   {
    "duration": 8,
    "start_time": "2022-04-22T21:37:56.395Z"
   },
   {
    "duration": 8,
    "start_time": "2022-04-22T21:38:07.770Z"
   },
   {
    "duration": 494,
    "start_time": "2022-04-22T21:38:37.003Z"
   },
   {
    "duration": 10,
    "start_time": "2022-04-22T21:39:17.027Z"
   },
   {
    "duration": 10,
    "start_time": "2022-04-22T21:39:53.250Z"
   },
   {
    "duration": 13,
    "start_time": "2022-04-22T21:42:50.890Z"
   },
   {
    "duration": 283,
    "start_time": "2022-04-22T21:42:59.043Z"
   },
   {
    "duration": 117,
    "start_time": "2022-04-22T21:43:52.956Z"
   },
   {
    "duration": 15,
    "start_time": "2022-04-22T21:45:22.457Z"
   },
   {
    "duration": 16,
    "start_time": "2022-04-22T21:45:34.737Z"
   },
   {
    "duration": 278,
    "start_time": "2022-04-22T21:45:55.858Z"
   },
   {
    "duration": 198,
    "start_time": "2022-04-22T21:50:53.744Z"
   },
   {
    "duration": 105,
    "start_time": "2022-04-22T21:55:03.951Z"
   },
   {
    "duration": 245,
    "start_time": "2022-04-22T21:55:17.689Z"
   },
   {
    "duration": 191,
    "start_time": "2022-04-22T21:57:09.903Z"
   },
   {
    "duration": 104,
    "start_time": "2022-04-22T21:58:33.616Z"
   },
   {
    "duration": 12,
    "start_time": "2022-04-22T22:03:59.287Z"
   },
   {
    "duration": 28,
    "start_time": "2022-04-22T22:05:58.364Z"
   },
   {
    "duration": 25,
    "start_time": "2022-04-22T22:06:07.260Z"
   },
   {
    "duration": 23,
    "start_time": "2022-04-22T22:06:21.086Z"
   },
   {
    "duration": 22,
    "start_time": "2022-04-22T22:06:32.820Z"
   },
   {
    "duration": 21,
    "start_time": "2022-04-22T22:07:51.260Z"
   },
   {
    "duration": 25,
    "start_time": "2022-04-22T22:08:07.740Z"
   },
   {
    "duration": 21,
    "start_time": "2022-04-22T22:08:20.013Z"
   },
   {
    "duration": 15,
    "start_time": "2022-04-22T22:10:44.300Z"
   },
   {
    "duration": 36,
    "start_time": "2022-04-22T22:10:56.627Z"
   },
   {
    "duration": 281,
    "start_time": "2022-04-23T06:28:29.677Z"
   },
   {
    "duration": 44,
    "start_time": "2022-04-23T06:31:04.987Z"
   },
   {
    "duration": 1611,
    "start_time": "2022-04-23T06:31:11.146Z"
   },
   {
    "duration": 11,
    "start_time": "2022-04-23T06:31:12.759Z"
   },
   {
    "duration": 13,
    "start_time": "2022-04-23T06:31:12.772Z"
   },
   {
    "duration": 8,
    "start_time": "2022-04-23T06:31:12.787Z"
   },
   {
    "duration": 7,
    "start_time": "2022-04-23T06:31:12.822Z"
   },
   {
    "duration": 5,
    "start_time": "2022-04-23T06:31:12.831Z"
   },
   {
    "duration": 12,
    "start_time": "2022-04-23T06:31:12.838Z"
   },
   {
    "duration": 207,
    "start_time": "2022-04-23T06:31:12.852Z"
   },
   {
    "duration": 16,
    "start_time": "2022-04-23T06:31:13.061Z"
   },
   {
    "duration": 83,
    "start_time": "2022-04-23T06:31:13.079Z"
   },
   {
    "duration": 6,
    "start_time": "2022-04-23T06:31:13.164Z"
   },
   {
    "duration": 56,
    "start_time": "2022-04-23T06:31:13.172Z"
   },
   {
    "duration": 5,
    "start_time": "2022-04-23T06:31:13.230Z"
   },
   {
    "duration": 62,
    "start_time": "2022-04-23T06:31:13.237Z"
   },
   {
    "duration": 34,
    "start_time": "2022-04-23T06:31:13.300Z"
   },
   {
    "duration": 430,
    "start_time": "2022-04-23T06:31:13.336Z"
   },
   {
    "duration": 26,
    "start_time": "2022-04-23T06:31:13.768Z"
   },
   {
    "duration": 296,
    "start_time": "2022-04-23T06:31:13.796Z"
   },
   {
    "duration": 138,
    "start_time": "2022-04-23T06:31:14.094Z"
   },
   {
    "duration": 23,
    "start_time": "2022-04-23T06:31:14.234Z"
   },
   {
    "duration": 577,
    "start_time": "2022-04-23T06:31:14.259Z"
   },
   {
    "duration": 132,
    "start_time": "2022-04-23T06:31:14.838Z"
   },
   {
    "duration": 24,
    "start_time": "2022-04-23T06:31:14.972Z"
   },
   {
    "duration": 185,
    "start_time": "2022-04-23T06:31:14.998Z"
   },
   {
    "duration": 114,
    "start_time": "2022-04-23T06:31:15.185Z"
   },
   {
    "duration": 266,
    "start_time": "2022-04-23T06:31:15.301Z"
   },
   {
    "duration": 135,
    "start_time": "2022-04-23T06:31:15.568Z"
   },
   {
    "duration": 34,
    "start_time": "2022-04-23T06:31:15.707Z"
   },
   {
    "duration": 489,
    "start_time": "2022-04-23T06:31:15.743Z"
   },
   {
    "duration": 126,
    "start_time": "2022-04-23T06:31:16.235Z"
   },
   {
    "duration": 20,
    "start_time": "2022-04-23T06:31:16.362Z"
   },
   {
    "duration": 7,
    "start_time": "2022-04-23T06:31:16.384Z"
   },
   {
    "duration": 5,
    "start_time": "2022-04-23T06:31:16.393Z"
   },
   {
    "duration": 5,
    "start_time": "2022-04-23T06:31:16.423Z"
   },
   {
    "duration": 6,
    "start_time": "2022-04-23T06:31:16.430Z"
   },
   {
    "duration": 187,
    "start_time": "2022-04-23T06:31:16.438Z"
   },
   {
    "duration": 257,
    "start_time": "2022-04-23T06:31:16.627Z"
   },
   {
    "duration": 171,
    "start_time": "2022-04-23T06:31:16.886Z"
   },
   {
    "duration": 259,
    "start_time": "2022-04-23T06:31:17.059Z"
   },
   {
    "duration": 182,
    "start_time": "2022-04-23T06:31:17.323Z"
   },
   {
    "duration": 42,
    "start_time": "2022-04-23T06:31:17.507Z"
   },
   {
    "duration": 7,
    "start_time": "2022-04-23T06:31:17.551Z"
   },
   {
    "duration": 43,
    "start_time": "2022-04-23T06:35:36.432Z"
   },
   {
    "duration": 68,
    "start_time": "2022-04-23T06:36:07.937Z"
   },
   {
    "duration": 19,
    "start_time": "2022-04-23T06:36:16.127Z"
   },
   {
    "duration": 11,
    "start_time": "2022-04-23T06:36:43.055Z"
   },
   {
    "duration": 40,
    "start_time": "2022-04-23T06:39:58.911Z"
   },
   {
    "duration": 13,
    "start_time": "2022-04-23T06:40:29.478Z"
   },
   {
    "duration": 21,
    "start_time": "2022-04-23T06:41:06.592Z"
   },
   {
    "duration": 19,
    "start_time": "2022-04-23T06:41:34.184Z"
   },
   {
    "duration": 14,
    "start_time": "2022-04-23T06:41:54.590Z"
   },
   {
    "duration": 17,
    "start_time": "2022-04-23T06:43:18.974Z"
   },
   {
    "duration": 24,
    "start_time": "2022-04-23T06:43:33.295Z"
   },
   {
    "duration": 27,
    "start_time": "2022-04-23T06:43:44.119Z"
   },
   {
    "duration": 19,
    "start_time": "2022-04-23T06:43:56.583Z"
   },
   {
    "duration": 20,
    "start_time": "2022-04-23T06:44:16.653Z"
   },
   {
    "duration": 18,
    "start_time": "2022-04-23T06:44:23.615Z"
   },
   {
    "duration": 17,
    "start_time": "2022-04-23T06:44:38.263Z"
   },
   {
    "duration": 4,
    "start_time": "2022-04-23T06:45:00.894Z"
   },
   {
    "duration": 4,
    "start_time": "2022-04-23T06:45:07.188Z"
   },
   {
    "duration": 4,
    "start_time": "2022-04-23T06:45:12.324Z"
   },
   {
    "duration": 15,
    "start_time": "2022-04-23T06:45:19.836Z"
   },
   {
    "duration": 16,
    "start_time": "2022-04-23T06:45:29.431Z"
   },
   {
    "duration": 12,
    "start_time": "2022-04-23T06:45:44.372Z"
   },
   {
    "duration": 14,
    "start_time": "2022-04-23T06:47:41.796Z"
   },
   {
    "duration": 14,
    "start_time": "2022-04-23T06:47:57.347Z"
   },
   {
    "duration": 13,
    "start_time": "2022-04-23T06:49:14.237Z"
   },
   {
    "duration": 12,
    "start_time": "2022-04-23T06:49:25.523Z"
   },
   {
    "duration": 240,
    "start_time": "2022-04-23T06:49:30.006Z"
   },
   {
    "duration": 8,
    "start_time": "2022-04-23T06:49:30.248Z"
   },
   {
    "duration": 17,
    "start_time": "2022-04-23T06:49:30.258Z"
   },
   {
    "duration": 7,
    "start_time": "2022-04-23T06:49:30.277Z"
   },
   {
    "duration": 17,
    "start_time": "2022-04-23T06:49:30.286Z"
   },
   {
    "duration": 17,
    "start_time": "2022-04-23T06:49:30.305Z"
   },
   {
    "duration": 18,
    "start_time": "2022-04-23T06:49:30.324Z"
   },
   {
    "duration": 188,
    "start_time": "2022-04-23T06:49:30.344Z"
   },
   {
    "duration": 13,
    "start_time": "2022-04-23T06:49:30.534Z"
   },
   {
    "duration": 80,
    "start_time": "2022-04-23T06:49:30.550Z"
   },
   {
    "duration": 4,
    "start_time": "2022-04-23T06:49:30.632Z"
   },
   {
    "duration": 54,
    "start_time": "2022-04-23T06:49:30.637Z"
   },
   {
    "duration": 3,
    "start_time": "2022-04-23T06:49:30.693Z"
   },
   {
    "duration": 61,
    "start_time": "2022-04-23T06:49:30.698Z"
   },
   {
    "duration": 13,
    "start_time": "2022-04-23T06:49:30.761Z"
   },
   {
    "duration": 408,
    "start_time": "2022-04-23T06:49:30.776Z"
   },
   {
    "duration": 22,
    "start_time": "2022-04-23T06:49:31.186Z"
   },
   {
    "duration": 255,
    "start_time": "2022-04-23T06:49:31.210Z"
   },
   {
    "duration": 123,
    "start_time": "2022-04-23T06:49:31.467Z"
   },
   {
    "duration": 19,
    "start_time": "2022-04-23T06:49:31.592Z"
   },
   {
    "duration": 370,
    "start_time": "2022-04-23T06:49:31.621Z"
   },
   {
    "duration": 118,
    "start_time": "2022-04-23T06:49:31.993Z"
   },
   {
    "duration": 26,
    "start_time": "2022-04-23T06:49:32.113Z"
   },
   {
    "duration": 159,
    "start_time": "2022-04-23T06:49:32.141Z"
   },
   {
    "duration": 103,
    "start_time": "2022-04-23T06:49:32.302Z"
   },
   {
    "duration": 357,
    "start_time": "2022-04-23T06:49:32.407Z"
   },
   {
    "duration": 124,
    "start_time": "2022-04-23T06:49:32.766Z"
   },
   {
    "duration": 29,
    "start_time": "2022-04-23T06:49:32.894Z"
   },
   {
    "duration": 340,
    "start_time": "2022-04-23T06:49:32.925Z"
   },
   {
    "duration": 112,
    "start_time": "2022-04-23T06:49:33.267Z"
   },
   {
    "duration": 19,
    "start_time": "2022-04-23T06:49:33.380Z"
   },
   {
    "duration": 23,
    "start_time": "2022-04-23T06:49:33.401Z"
   },
   {
    "duration": 5,
    "start_time": "2022-04-23T06:49:33.425Z"
   },
   {
    "duration": 5,
    "start_time": "2022-04-23T06:49:33.431Z"
   },
   {
    "duration": 6,
    "start_time": "2022-04-23T06:49:33.437Z"
   },
   {
    "duration": 124,
    "start_time": "2022-04-23T06:49:33.444Z"
   },
   {
    "duration": 173,
    "start_time": "2022-04-23T06:49:33.570Z"
   },
   {
    "duration": 118,
    "start_time": "2022-04-23T06:49:33.745Z"
   },
   {
    "duration": 138,
    "start_time": "2022-04-23T06:49:33.865Z"
   },
   {
    "duration": 211,
    "start_time": "2022-04-23T06:49:34.005Z"
   },
   {
    "duration": 21,
    "start_time": "2022-04-23T06:49:34.222Z"
   },
   {
    "duration": 11,
    "start_time": "2022-04-23T06:49:34.245Z"
   },
   {
    "duration": 3547,
    "start_time": "2022-04-23T06:55:12.379Z"
   },
   {
    "duration": 3217,
    "start_time": "2022-04-23T06:55:48.282Z"
   },
   {
    "duration": 3316,
    "start_time": "2022-04-23T06:56:04.627Z"
   },
   {
    "duration": 223,
    "start_time": "2022-04-23T06:56:22.808Z"
   },
   {
    "duration": 10,
    "start_time": "2022-04-23T06:56:23.033Z"
   },
   {
    "duration": 22,
    "start_time": "2022-04-23T06:56:23.045Z"
   },
   {
    "duration": 22,
    "start_time": "2022-04-23T06:56:23.070Z"
   },
   {
    "duration": 16,
    "start_time": "2022-04-23T06:56:23.094Z"
   },
   {
    "duration": 19,
    "start_time": "2022-04-23T06:56:23.112Z"
   },
   {
    "duration": 30,
    "start_time": "2022-04-23T06:56:23.133Z"
   },
   {
    "duration": 185,
    "start_time": "2022-04-23T06:56:23.165Z"
   },
   {
    "duration": 13,
    "start_time": "2022-04-23T06:56:23.351Z"
   },
   {
    "duration": 79,
    "start_time": "2022-04-23T06:56:23.366Z"
   },
   {
    "duration": 4,
    "start_time": "2022-04-23T06:56:23.447Z"
   },
   {
    "duration": 38,
    "start_time": "2022-04-23T06:56:23.452Z"
   },
   {
    "duration": 4,
    "start_time": "2022-04-23T06:56:23.492Z"
   },
   {
    "duration": 72,
    "start_time": "2022-04-23T06:56:23.497Z"
   },
   {
    "duration": 14,
    "start_time": "2022-04-23T06:56:23.571Z"
   },
   {
    "duration": 339,
    "start_time": "2022-04-23T06:56:23.586Z"
   },
   {
    "duration": 23,
    "start_time": "2022-04-23T06:56:23.926Z"
   },
   {
    "duration": 255,
    "start_time": "2022-04-23T06:56:23.951Z"
   },
   {
    "duration": 129,
    "start_time": "2022-04-23T06:56:24.208Z"
   },
   {
    "duration": 20,
    "start_time": "2022-04-23T06:56:24.338Z"
   },
   {
    "duration": 485,
    "start_time": "2022-04-23T06:56:24.360Z"
   },
   {
    "duration": 107,
    "start_time": "2022-04-23T06:56:24.847Z"
   },
   {
    "duration": 21,
    "start_time": "2022-04-23T06:56:24.956Z"
   },
   {
    "duration": 165,
    "start_time": "2022-04-23T06:56:24.978Z"
   },
   {
    "duration": 99,
    "start_time": "2022-04-23T06:56:25.145Z"
   },
   {
    "duration": 243,
    "start_time": "2022-04-23T06:56:25.246Z"
   },
   {
    "duration": 122,
    "start_time": "2022-04-23T06:56:25.490Z"
   },
   {
    "duration": 24,
    "start_time": "2022-04-23T06:56:25.616Z"
   },
   {
    "duration": 349,
    "start_time": "2022-04-23T06:56:25.642Z"
   },
   {
    "duration": 120,
    "start_time": "2022-04-23T06:56:25.992Z"
   },
   {
    "duration": 25,
    "start_time": "2022-04-23T06:56:26.114Z"
   },
   {
    "duration": 8,
    "start_time": "2022-04-23T06:56:26.140Z"
   },
   {
    "duration": 5,
    "start_time": "2022-04-23T06:56:26.149Z"
   },
   {
    "duration": 5,
    "start_time": "2022-04-23T06:56:26.155Z"
   },
   {
    "duration": 6,
    "start_time": "2022-04-23T06:56:26.161Z"
   },
   {
    "duration": 128,
    "start_time": "2022-04-23T06:56:26.168Z"
   },
   {
    "duration": 170,
    "start_time": "2022-04-23T06:56:26.298Z"
   },
   {
    "duration": 113,
    "start_time": "2022-04-23T06:56:26.470Z"
   },
   {
    "duration": 280,
    "start_time": "2022-04-23T06:56:26.585Z"
   },
   {
    "duration": 117,
    "start_time": "2022-04-23T06:56:26.867Z"
   },
   {
    "duration": 24,
    "start_time": "2022-04-23T06:56:26.986Z"
   },
   {
    "duration": 3249,
    "start_time": "2022-04-23T06:56:27.012Z"
   },
   {
    "duration": 23,
    "start_time": "2022-04-23T06:57:34.690Z"
   },
   {
    "duration": 4,
    "start_time": "2022-04-23T06:58:08.450Z"
   },
   {
    "duration": 200,
    "start_time": "2022-04-23T06:58:11.570Z"
   },
   {
    "duration": 44,
    "start_time": "2022-04-23T06:58:26.291Z"
   },
   {
    "duration": 42,
    "start_time": "2022-04-23T06:59:27.850Z"
   },
   {
    "duration": 41,
    "start_time": "2022-04-23T07:00:28.829Z"
   },
   {
    "duration": 218,
    "start_time": "2022-04-23T07:01:06.807Z"
   },
   {
    "duration": 9,
    "start_time": "2022-04-23T07:01:07.027Z"
   },
   {
    "duration": 10,
    "start_time": "2022-04-23T07:01:07.038Z"
   },
   {
    "duration": 7,
    "start_time": "2022-04-23T07:01:07.050Z"
   },
   {
    "duration": 6,
    "start_time": "2022-04-23T07:01:07.059Z"
   },
   {
    "duration": 5,
    "start_time": "2022-04-23T07:01:07.067Z"
   },
   {
    "duration": 50,
    "start_time": "2022-04-23T07:01:07.074Z"
   },
   {
    "duration": 190,
    "start_time": "2022-04-23T07:01:07.125Z"
   },
   {
    "duration": 17,
    "start_time": "2022-04-23T07:01:07.316Z"
   },
   {
    "duration": 64,
    "start_time": "2022-04-23T07:01:07.335Z"
   },
   {
    "duration": 4,
    "start_time": "2022-04-23T07:01:07.401Z"
   },
   {
    "duration": 51,
    "start_time": "2022-04-23T07:01:07.406Z"
   },
   {
    "duration": 4,
    "start_time": "2022-04-23T07:01:07.459Z"
   },
   {
    "duration": 70,
    "start_time": "2022-04-23T07:01:07.464Z"
   },
   {
    "duration": 12,
    "start_time": "2022-04-23T07:01:07.536Z"
   },
   {
    "duration": 315,
    "start_time": "2022-04-23T07:01:07.550Z"
   },
   {
    "duration": 23,
    "start_time": "2022-04-23T07:01:07.867Z"
   },
   {
    "duration": 253,
    "start_time": "2022-04-23T07:01:07.892Z"
   },
   {
    "duration": 131,
    "start_time": "2022-04-23T07:01:08.147Z"
   },
   {
    "duration": 20,
    "start_time": "2022-04-23T07:01:08.280Z"
   },
   {
    "duration": 527,
    "start_time": "2022-04-23T07:01:08.302Z"
   },
   {
    "duration": 121,
    "start_time": "2022-04-23T07:01:08.831Z"
   },
   {
    "duration": 21,
    "start_time": "2022-04-23T07:01:08.954Z"
   },
   {
    "duration": 174,
    "start_time": "2022-04-23T07:01:08.977Z"
   },
   {
    "duration": 102,
    "start_time": "2022-04-23T07:01:09.153Z"
   },
   {
    "duration": 256,
    "start_time": "2022-04-23T07:01:09.257Z"
   },
   {
    "duration": 131,
    "start_time": "2022-04-23T07:01:09.515Z"
   },
   {
    "duration": 28,
    "start_time": "2022-04-23T07:01:09.650Z"
   },
   {
    "duration": 389,
    "start_time": "2022-04-23T07:01:09.680Z"
   },
   {
    "duration": 127,
    "start_time": "2022-04-23T07:01:10.071Z"
   },
   {
    "duration": 29,
    "start_time": "2022-04-23T07:01:10.199Z"
   },
   {
    "duration": 9,
    "start_time": "2022-04-23T07:01:10.229Z"
   },
   {
    "duration": 5,
    "start_time": "2022-04-23T07:01:10.239Z"
   },
   {
    "duration": 5,
    "start_time": "2022-04-23T07:01:10.246Z"
   },
   {
    "duration": 6,
    "start_time": "2022-04-23T07:01:10.252Z"
   },
   {
    "duration": 128,
    "start_time": "2022-04-23T07:01:10.259Z"
   },
   {
    "duration": 179,
    "start_time": "2022-04-23T07:01:10.389Z"
   },
   {
    "duration": 121,
    "start_time": "2022-04-23T07:01:10.569Z"
   },
   {
    "duration": 149,
    "start_time": "2022-04-23T07:01:10.691Z"
   },
   {
    "duration": 121,
    "start_time": "2022-04-23T07:01:10.841Z"
   },
   {
    "duration": 25,
    "start_time": "2022-04-23T07:01:10.965Z"
   },
   {
    "duration": 60,
    "start_time": "2022-04-23T07:01:10.992Z"
   },
   {
    "duration": 44,
    "start_time": "2022-04-23T07:02:12.705Z"
   },
   {
    "duration": 241,
    "start_time": "2022-04-23T07:02:23.393Z"
   },
   {
    "duration": 36,
    "start_time": "2022-04-23T07:02:50.274Z"
   },
   {
    "duration": 38,
    "start_time": "2022-04-23T07:04:31.864Z"
   },
   {
    "duration": 39,
    "start_time": "2022-04-23T07:04:46.058Z"
   },
   {
    "duration": 12,
    "start_time": "2022-04-23T07:04:51.392Z"
   },
   {
    "duration": 14,
    "start_time": "2022-04-23T07:05:03.716Z"
   },
   {
    "duration": 2541,
    "start_time": "2022-04-23T07:05:24.663Z"
   },
   {
    "duration": 219,
    "start_time": "2022-04-23T07:05:53.774Z"
   },
   {
    "duration": 9,
    "start_time": "2022-04-23T07:05:53.995Z"
   },
   {
    "duration": 23,
    "start_time": "2022-04-23T07:05:54.006Z"
   },
   {
    "duration": 13,
    "start_time": "2022-04-23T07:05:54.032Z"
   },
   {
    "duration": 24,
    "start_time": "2022-04-23T07:05:54.047Z"
   },
   {
    "duration": 17,
    "start_time": "2022-04-23T07:05:54.073Z"
   },
   {
    "duration": 22,
    "start_time": "2022-04-23T07:05:54.091Z"
   },
   {
    "duration": 178,
    "start_time": "2022-04-23T07:05:54.115Z"
   },
   {
    "duration": 14,
    "start_time": "2022-04-23T07:05:54.294Z"
   },
   {
    "duration": 84,
    "start_time": "2022-04-23T07:05:54.311Z"
   },
   {
    "duration": 4,
    "start_time": "2022-04-23T07:05:54.396Z"
   },
   {
    "duration": 45,
    "start_time": "2022-04-23T07:05:54.402Z"
   },
   {
    "duration": 5,
    "start_time": "2022-04-23T07:05:54.449Z"
   },
   {
    "duration": 69,
    "start_time": "2022-04-23T07:05:54.455Z"
   },
   {
    "duration": 12,
    "start_time": "2022-04-23T07:05:54.526Z"
   },
   {
    "duration": 309,
    "start_time": "2022-04-23T07:05:54.540Z"
   },
   {
    "duration": 21,
    "start_time": "2022-04-23T07:05:54.851Z"
   },
   {
    "duration": 237,
    "start_time": "2022-04-23T07:05:54.874Z"
   },
   {
    "duration": 120,
    "start_time": "2022-04-23T07:05:55.112Z"
   },
   {
    "duration": 19,
    "start_time": "2022-04-23T07:05:55.234Z"
   },
   {
    "duration": 372,
    "start_time": "2022-04-23T07:05:55.254Z"
   },
   {
    "duration": 121,
    "start_time": "2022-04-23T07:05:55.628Z"
   },
   {
    "duration": 19,
    "start_time": "2022-04-23T07:05:55.751Z"
   },
   {
    "duration": 166,
    "start_time": "2022-04-23T07:05:55.772Z"
   },
   {
    "duration": 98,
    "start_time": "2022-04-23T07:05:55.939Z"
   },
   {
    "duration": 419,
    "start_time": "2022-04-23T07:05:56.039Z"
   },
   {
    "duration": 116,
    "start_time": "2022-04-23T07:05:56.460Z"
   },
   {
    "duration": 21,
    "start_time": "2022-04-23T07:05:56.580Z"
   },
   {
    "duration": 354,
    "start_time": "2022-04-23T07:05:56.602Z"
   },
   {
    "duration": 108,
    "start_time": "2022-04-23T07:05:56.958Z"
   },
   {
    "duration": 18,
    "start_time": "2022-04-23T07:05:57.067Z"
   },
   {
    "duration": 8,
    "start_time": "2022-04-23T07:05:57.086Z"
   },
   {
    "duration": 30,
    "start_time": "2022-04-23T07:05:57.096Z"
   },
   {
    "duration": 6,
    "start_time": "2022-04-23T07:05:57.127Z"
   },
   {
    "duration": 9,
    "start_time": "2022-04-23T07:05:57.134Z"
   },
   {
    "duration": 110,
    "start_time": "2022-04-23T07:05:57.145Z"
   },
   {
    "duration": 182,
    "start_time": "2022-04-23T07:05:57.257Z"
   },
   {
    "duration": 121,
    "start_time": "2022-04-23T07:05:57.441Z"
   },
   {
    "duration": 137,
    "start_time": "2022-04-23T07:05:57.564Z"
   },
   {
    "duration": 119,
    "start_time": "2022-04-23T07:05:57.703Z"
   },
   {
    "duration": 24,
    "start_time": "2022-04-23T07:05:57.824Z"
   },
   {
    "duration": 2402,
    "start_time": "2022-04-23T07:05:57.850Z"
   },
   {
    "duration": 16,
    "start_time": "2022-04-23T07:10:04.830Z"
   },
   {
    "duration": 16,
    "start_time": "2022-04-23T07:10:16.633Z"
   },
   {
    "duration": 37,
    "start_time": "2022-04-23T07:10:34.894Z"
   },
   {
    "duration": 40,
    "start_time": "2022-04-23T07:13:03.541Z"
   },
   {
    "duration": 17,
    "start_time": "2022-04-23T07:13:10.935Z"
   },
   {
    "duration": 40,
    "start_time": "2022-04-23T07:13:26.790Z"
   },
   {
    "duration": 39,
    "start_time": "2022-04-23T07:14:08.782Z"
   },
   {
    "duration": 17,
    "start_time": "2022-04-23T07:14:31.998Z"
   },
   {
    "duration": 20,
    "start_time": "2022-04-23T07:14:56.775Z"
   },
   {
    "duration": 22,
    "start_time": "2022-04-23T07:15:54.284Z"
   },
   {
    "duration": 17,
    "start_time": "2022-04-23T07:16:41.668Z"
   },
   {
    "duration": 221,
    "start_time": "2022-04-23T07:16:51.442Z"
   },
   {
    "duration": 9,
    "start_time": "2022-04-23T07:16:51.665Z"
   },
   {
    "duration": 13,
    "start_time": "2022-04-23T07:16:51.676Z"
   },
   {
    "duration": 15,
    "start_time": "2022-04-23T07:16:51.692Z"
   },
   {
    "duration": 17,
    "start_time": "2022-04-23T07:16:51.709Z"
   },
   {
    "duration": 21,
    "start_time": "2022-04-23T07:16:51.727Z"
   },
   {
    "duration": 16,
    "start_time": "2022-04-23T07:16:51.749Z"
   },
   {
    "duration": 197,
    "start_time": "2022-04-23T07:16:51.767Z"
   },
   {
    "duration": 14,
    "start_time": "2022-04-23T07:16:51.966Z"
   },
   {
    "duration": 81,
    "start_time": "2022-04-23T07:16:51.982Z"
   },
   {
    "duration": 5,
    "start_time": "2022-04-23T07:16:52.064Z"
   },
   {
    "duration": 43,
    "start_time": "2022-04-23T07:16:52.070Z"
   },
   {
    "duration": 3,
    "start_time": "2022-04-23T07:16:52.123Z"
   },
   {
    "duration": 66,
    "start_time": "2022-04-23T07:16:52.128Z"
   },
   {
    "duration": 12,
    "start_time": "2022-04-23T07:16:52.196Z"
   },
   {
    "duration": 326,
    "start_time": "2022-04-23T07:16:52.210Z"
   },
   {
    "duration": 22,
    "start_time": "2022-04-23T07:16:52.538Z"
   },
   {
    "duration": 260,
    "start_time": "2022-04-23T07:16:52.562Z"
   },
   {
    "duration": 121,
    "start_time": "2022-04-23T07:16:52.824Z"
   },
   {
    "duration": 20,
    "start_time": "2022-04-23T07:16:52.947Z"
   },
   {
    "duration": 561,
    "start_time": "2022-04-23T07:16:52.968Z"
   },
   {
    "duration": 117,
    "start_time": "2022-04-23T07:16:53.531Z"
   },
   {
    "duration": 20,
    "start_time": "2022-04-23T07:16:53.649Z"
   },
   {
    "duration": 165,
    "start_time": "2022-04-23T07:16:53.670Z"
   },
   {
    "duration": 98,
    "start_time": "2022-04-23T07:16:53.836Z"
   },
   {
    "duration": 246,
    "start_time": "2022-04-23T07:16:53.936Z"
   },
   {
    "duration": 118,
    "start_time": "2022-04-23T07:16:54.184Z"
   },
   {
    "duration": 29,
    "start_time": "2022-04-23T07:16:54.307Z"
   },
   {
    "duration": 342,
    "start_time": "2022-04-23T07:16:54.338Z"
   },
   {
    "duration": 118,
    "start_time": "2022-04-23T07:16:54.682Z"
   },
   {
    "duration": 22,
    "start_time": "2022-04-23T07:16:54.803Z"
   },
   {
    "duration": 8,
    "start_time": "2022-04-23T07:16:54.827Z"
   },
   {
    "duration": 5,
    "start_time": "2022-04-23T07:16:54.837Z"
   },
   {
    "duration": 6,
    "start_time": "2022-04-23T07:16:54.843Z"
   },
   {
    "duration": 6,
    "start_time": "2022-04-23T07:16:54.851Z"
   },
   {
    "duration": 139,
    "start_time": "2022-04-23T07:16:54.858Z"
   },
   {
    "duration": 171,
    "start_time": "2022-04-23T07:16:54.999Z"
   },
   {
    "duration": 118,
    "start_time": "2022-04-23T07:16:55.173Z"
   },
   {
    "duration": 145,
    "start_time": "2022-04-23T07:16:55.293Z"
   },
   {
    "duration": 112,
    "start_time": "2022-04-23T07:16:55.440Z"
   },
   {
    "duration": 23,
    "start_time": "2022-04-23T07:16:55.554Z"
   },
   {
    "duration": 19,
    "start_time": "2022-04-23T07:16:55.579Z"
   },
   {
    "duration": 12,
    "start_time": "2022-04-23T07:17:27.613Z"
   },
   {
    "duration": 44,
    "start_time": "2022-04-23T07:17:31.508Z"
   },
   {
    "duration": 42,
    "start_time": "2022-04-23T07:20:03.777Z"
   },
   {
    "duration": 68,
    "start_time": "2022-04-23T07:23:16.524Z"
   },
   {
    "duration": 45,
    "start_time": "2022-04-23T07:24:56.396Z"
   },
   {
    "duration": 41,
    "start_time": "2022-04-23T07:25:36.683Z"
   },
   {
    "duration": 22,
    "start_time": "2022-04-23T07:25:46.322Z"
   },
   {
    "duration": 20,
    "start_time": "2022-04-23T07:25:53.866Z"
   },
   {
    "duration": 42,
    "start_time": "2022-04-23T07:25:59.650Z"
   },
   {
    "duration": 41,
    "start_time": "2022-04-23T07:26:42.917Z"
   },
   {
    "duration": 46,
    "start_time": "2022-04-23T07:56:19.522Z"
   },
   {
    "duration": 19,
    "start_time": "2022-04-23T07:56:51.676Z"
   },
   {
    "duration": 44,
    "start_time": "2022-04-23T07:57:11.045Z"
   },
   {
    "duration": 81,
    "start_time": "2022-04-23T08:03:01.090Z"
   },
   {
    "duration": 45,
    "start_time": "2022-04-23T08:03:33.930Z"
   },
   {
    "duration": 264,
    "start_time": "2022-04-23T08:03:45.911Z"
   },
   {
    "duration": 8,
    "start_time": "2022-04-23T08:03:46.177Z"
   },
   {
    "duration": 10,
    "start_time": "2022-04-23T08:03:46.187Z"
   },
   {
    "duration": 27,
    "start_time": "2022-04-23T08:03:46.199Z"
   },
   {
    "duration": 9,
    "start_time": "2022-04-23T08:03:46.228Z"
   },
   {
    "duration": 6,
    "start_time": "2022-04-23T08:03:46.238Z"
   },
   {
    "duration": 11,
    "start_time": "2022-04-23T08:03:46.246Z"
   },
   {
    "duration": 200,
    "start_time": "2022-04-23T08:03:46.259Z"
   },
   {
    "duration": 16,
    "start_time": "2022-04-23T08:03:46.461Z"
   },
   {
    "duration": 287,
    "start_time": "2022-04-23T08:03:46.480Z"
   },
   {
    "duration": 5,
    "start_time": "2022-04-23T08:03:46.769Z"
   },
   {
    "duration": 50,
    "start_time": "2022-04-23T08:03:46.776Z"
   },
   {
    "duration": 4,
    "start_time": "2022-04-23T08:03:46.828Z"
   },
   {
    "duration": 50,
    "start_time": "2022-04-23T08:03:46.834Z"
   },
   {
    "duration": 37,
    "start_time": "2022-04-23T08:03:46.885Z"
   },
   {
    "duration": 311,
    "start_time": "2022-04-23T08:03:46.924Z"
   },
   {
    "duration": 23,
    "start_time": "2022-04-23T08:03:47.237Z"
   },
   {
    "duration": 260,
    "start_time": "2022-04-23T08:03:47.262Z"
   },
   {
    "duration": 127,
    "start_time": "2022-04-23T08:03:47.524Z"
   },
   {
    "duration": 21,
    "start_time": "2022-04-23T08:03:47.653Z"
   },
   {
    "duration": 392,
    "start_time": "2022-04-23T08:03:47.676Z"
   },
   {
    "duration": 128,
    "start_time": "2022-04-23T08:03:48.070Z"
   },
   {
    "duration": 25,
    "start_time": "2022-04-23T08:03:48.200Z"
   },
   {
    "duration": 166,
    "start_time": "2022-04-23T08:03:48.227Z"
   },
   {
    "duration": 105,
    "start_time": "2022-04-23T08:03:48.394Z"
   },
   {
    "duration": 252,
    "start_time": "2022-04-23T08:03:48.500Z"
   },
   {
    "duration": 127,
    "start_time": "2022-04-23T08:03:48.754Z"
   },
   {
    "duration": 21,
    "start_time": "2022-04-23T08:03:48.884Z"
   },
   {
    "duration": 344,
    "start_time": "2022-04-23T08:03:48.906Z"
   },
   {
    "duration": 104,
    "start_time": "2022-04-23T08:03:49.252Z"
   },
   {
    "duration": 19,
    "start_time": "2022-04-23T08:03:49.358Z"
   },
   {
    "duration": 7,
    "start_time": "2022-04-23T08:03:49.379Z"
   },
   {
    "duration": 5,
    "start_time": "2022-04-23T08:03:49.388Z"
   },
   {
    "duration": 29,
    "start_time": "2022-04-23T08:03:49.395Z"
   },
   {
    "duration": 4,
    "start_time": "2022-04-23T08:03:49.426Z"
   },
   {
    "duration": 114,
    "start_time": "2022-04-23T08:03:49.432Z"
   },
   {
    "duration": 170,
    "start_time": "2022-04-23T08:03:49.548Z"
   },
   {
    "duration": 114,
    "start_time": "2022-04-23T08:03:49.723Z"
   },
   {
    "duration": 147,
    "start_time": "2022-04-23T08:03:49.838Z"
   },
   {
    "duration": 110,
    "start_time": "2022-04-23T08:03:49.986Z"
   },
   {
    "duration": 34,
    "start_time": "2022-04-23T08:03:50.098Z"
   },
   {
    "duration": 41,
    "start_time": "2022-04-23T08:03:50.134Z"
   },
   {
    "duration": 50,
    "start_time": "2022-04-23T08:04:19.185Z"
   },
   {
    "duration": 20,
    "start_time": "2022-04-23T08:04:56.529Z"
   },
   {
    "duration": 213,
    "start_time": "2022-04-23T08:05:23.294Z"
   },
   {
    "duration": 14,
    "start_time": "2022-04-23T08:05:23.509Z"
   },
   {
    "duration": 12,
    "start_time": "2022-04-23T08:05:23.524Z"
   },
   {
    "duration": 9,
    "start_time": "2022-04-23T08:05:23.538Z"
   },
   {
    "duration": 13,
    "start_time": "2022-04-23T08:05:23.549Z"
   },
   {
    "duration": 11,
    "start_time": "2022-04-23T08:05:23.563Z"
   },
   {
    "duration": 14,
    "start_time": "2022-04-23T08:05:23.576Z"
   },
   {
    "duration": 179,
    "start_time": "2022-04-23T08:05:23.591Z"
   },
   {
    "duration": 12,
    "start_time": "2022-04-23T08:05:23.771Z"
   },
   {
    "duration": 307,
    "start_time": "2022-04-23T08:05:23.785Z"
   },
   {
    "duration": 4,
    "start_time": "2022-04-23T08:05:24.094Z"
   },
   {
    "duration": 54,
    "start_time": "2022-04-23T08:05:24.100Z"
   },
   {
    "duration": 4,
    "start_time": "2022-04-23T08:05:24.155Z"
   },
   {
    "duration": 74,
    "start_time": "2022-04-23T08:05:24.160Z"
   },
   {
    "duration": 15,
    "start_time": "2022-04-23T08:05:24.236Z"
   },
   {
    "duration": 330,
    "start_time": "2022-04-23T08:05:24.253Z"
   },
   {
    "duration": 23,
    "start_time": "2022-04-23T08:05:24.584Z"
   },
   {
    "duration": 243,
    "start_time": "2022-04-23T08:05:24.609Z"
   },
   {
    "duration": 124,
    "start_time": "2022-04-23T08:05:24.854Z"
   },
   {
    "duration": 20,
    "start_time": "2022-04-23T08:05:24.979Z"
   },
   {
    "duration": 359,
    "start_time": "2022-04-23T08:05:25.000Z"
   },
   {
    "duration": 112,
    "start_time": "2022-04-23T08:05:25.360Z"
   },
   {
    "duration": 18,
    "start_time": "2022-04-23T08:05:25.474Z"
   },
   {
    "duration": 156,
    "start_time": "2022-04-23T08:05:25.494Z"
   },
   {
    "duration": 94,
    "start_time": "2022-04-23T08:05:25.651Z"
   },
   {
    "duration": 232,
    "start_time": "2022-04-23T08:05:25.746Z"
   },
   {
    "duration": 119,
    "start_time": "2022-04-23T08:05:25.979Z"
   },
   {
    "duration": 24,
    "start_time": "2022-04-23T08:05:26.102Z"
   },
   {
    "duration": 346,
    "start_time": "2022-04-23T08:05:26.128Z"
   },
   {
    "duration": 108,
    "start_time": "2022-04-23T08:05:26.476Z"
   },
   {
    "duration": 17,
    "start_time": "2022-04-23T08:05:26.586Z"
   },
   {
    "duration": 18,
    "start_time": "2022-04-23T08:05:26.605Z"
   },
   {
    "duration": 19,
    "start_time": "2022-04-23T08:05:26.625Z"
   },
   {
    "duration": 31,
    "start_time": "2022-04-23T08:05:26.646Z"
   },
   {
    "duration": 27,
    "start_time": "2022-04-23T08:05:26.678Z"
   },
   {
    "duration": 110,
    "start_time": "2022-04-23T08:05:26.707Z"
   },
   {
    "duration": 170,
    "start_time": "2022-04-23T08:05:26.819Z"
   },
   {
    "duration": 109,
    "start_time": "2022-04-23T08:05:26.990Z"
   },
   {
    "duration": 147,
    "start_time": "2022-04-23T08:05:27.101Z"
   },
   {
    "duration": 114,
    "start_time": "2022-04-23T08:05:27.249Z"
   },
   {
    "duration": 22,
    "start_time": "2022-04-23T08:05:27.365Z"
   },
   {
    "duration": 38,
    "start_time": "2022-04-23T08:05:27.389Z"
   },
   {
    "duration": 11,
    "start_time": "2022-04-23T08:05:49.344Z"
   },
   {
    "duration": 225,
    "start_time": "2022-04-23T08:06:11.024Z"
   },
   {
    "duration": 9,
    "start_time": "2022-04-23T08:06:11.251Z"
   },
   {
    "duration": 10,
    "start_time": "2022-04-23T08:06:11.262Z"
   },
   {
    "duration": 7,
    "start_time": "2022-04-23T08:06:11.274Z"
   },
   {
    "duration": 15,
    "start_time": "2022-04-23T08:06:11.283Z"
   },
   {
    "duration": 25,
    "start_time": "2022-04-23T08:06:11.300Z"
   },
   {
    "duration": 11,
    "start_time": "2022-04-23T08:06:11.327Z"
   },
   {
    "duration": 195,
    "start_time": "2022-04-23T08:06:11.340Z"
   },
   {
    "duration": 15,
    "start_time": "2022-04-23T08:06:11.537Z"
   },
   {
    "duration": 352,
    "start_time": "2022-04-23T08:06:11.554Z"
   },
   {
    "duration": 3,
    "start_time": "2022-04-23T08:06:11.908Z"
   },
   {
    "duration": 44,
    "start_time": "2022-04-23T08:06:11.913Z"
   },
   {
    "duration": 4,
    "start_time": "2022-04-23T08:06:11.959Z"
   },
   {
    "duration": 70,
    "start_time": "2022-04-23T08:06:11.965Z"
   },
   {
    "duration": 15,
    "start_time": "2022-04-23T08:06:12.038Z"
   },
   {
    "duration": 328,
    "start_time": "2022-04-23T08:06:12.055Z"
   },
   {
    "duration": 24,
    "start_time": "2022-04-23T08:06:12.385Z"
   },
   {
    "duration": 255,
    "start_time": "2022-04-23T08:06:12.422Z"
   },
   {
    "duration": 125,
    "start_time": "2022-04-23T08:06:12.680Z"
   },
   {
    "duration": 29,
    "start_time": "2022-04-23T08:06:12.807Z"
   },
   {
    "duration": 379,
    "start_time": "2022-04-23T08:06:12.838Z"
   },
   {
    "duration": 123,
    "start_time": "2022-04-23T08:06:13.222Z"
   },
   {
    "duration": 20,
    "start_time": "2022-04-23T08:06:13.348Z"
   },
   {
    "duration": 170,
    "start_time": "2022-04-23T08:06:13.369Z"
   },
   {
    "duration": 105,
    "start_time": "2022-04-23T08:06:13.541Z"
   },
   {
    "duration": 258,
    "start_time": "2022-04-23T08:06:13.647Z"
   },
   {
    "duration": 124,
    "start_time": "2022-04-23T08:06:13.906Z"
   },
   {
    "duration": 22,
    "start_time": "2022-04-23T08:06:14.034Z"
   },
   {
    "duration": 375,
    "start_time": "2022-04-23T08:06:14.058Z"
   },
   {
    "duration": 123,
    "start_time": "2022-04-23T08:06:14.435Z"
   },
   {
    "duration": 20,
    "start_time": "2022-04-23T08:06:14.560Z"
   },
   {
    "duration": 15,
    "start_time": "2022-04-23T08:06:14.582Z"
   },
   {
    "duration": 15,
    "start_time": "2022-04-23T08:06:14.599Z"
   },
   {
    "duration": 36,
    "start_time": "2022-04-23T08:06:14.616Z"
   },
   {
    "duration": 16,
    "start_time": "2022-04-23T08:06:14.654Z"
   },
   {
    "duration": 120,
    "start_time": "2022-04-23T08:06:14.672Z"
   },
   {
    "duration": 171,
    "start_time": "2022-04-23T08:06:14.794Z"
   },
   {
    "duration": 125,
    "start_time": "2022-04-23T08:06:14.967Z"
   },
   {
    "duration": 150,
    "start_time": "2022-04-23T08:06:15.094Z"
   },
   {
    "duration": 122,
    "start_time": "2022-04-23T08:06:15.246Z"
   },
   {
    "duration": 24,
    "start_time": "2022-04-23T08:06:15.369Z"
   },
   {
    "duration": 33,
    "start_time": "2022-04-23T08:06:15.395Z"
   },
   {
    "duration": 11,
    "start_time": "2022-04-23T08:06:44.320Z"
   },
   {
    "duration": 9,
    "start_time": "2022-04-23T08:06:52.296Z"
   },
   {
    "duration": 216,
    "start_time": "2022-04-23T08:06:58.150Z"
   },
   {
    "duration": 9,
    "start_time": "2022-04-23T08:06:58.368Z"
   },
   {
    "duration": 9,
    "start_time": "2022-04-23T08:06:58.379Z"
   },
   {
    "duration": 6,
    "start_time": "2022-04-23T08:06:58.390Z"
   },
   {
    "duration": 28,
    "start_time": "2022-04-23T08:06:58.398Z"
   },
   {
    "duration": 8,
    "start_time": "2022-04-23T08:06:58.428Z"
   },
   {
    "duration": 11,
    "start_time": "2022-04-23T08:06:58.437Z"
   },
   {
    "duration": 192,
    "start_time": "2022-04-23T08:06:58.450Z"
   },
   {
    "duration": 13,
    "start_time": "2022-04-23T08:06:58.644Z"
   },
   {
    "duration": 76,
    "start_time": "2022-04-23T08:06:58.660Z"
   },
   {
    "duration": 4,
    "start_time": "2022-04-23T08:06:58.738Z"
   },
   {
    "duration": 34,
    "start_time": "2022-04-23T08:06:58.744Z"
   },
   {
    "duration": 4,
    "start_time": "2022-04-23T08:06:58.780Z"
   },
   {
    "duration": 73,
    "start_time": "2022-04-23T08:06:58.786Z"
   },
   {
    "duration": 14,
    "start_time": "2022-04-23T08:06:58.861Z"
   },
   {
    "duration": 618,
    "start_time": "2022-04-23T08:06:58.876Z"
   },
   {
    "duration": 30,
    "start_time": "2022-04-23T08:06:59.496Z"
   },
   {
    "duration": 235,
    "start_time": "2022-04-23T08:06:59.528Z"
   },
   {
    "duration": 136,
    "start_time": "2022-04-23T08:06:59.765Z"
   },
   {
    "duration": 28,
    "start_time": "2022-04-23T08:06:59.903Z"
   },
   {
    "duration": 393,
    "start_time": "2022-04-23T08:06:59.933Z"
   },
   {
    "duration": 127,
    "start_time": "2022-04-23T08:07:00.327Z"
   },
   {
    "duration": 22,
    "start_time": "2022-04-23T08:07:00.455Z"
   },
   {
    "duration": 170,
    "start_time": "2022-04-23T08:07:00.479Z"
   },
   {
    "duration": 101,
    "start_time": "2022-04-23T08:07:00.651Z"
   },
   {
    "duration": 242,
    "start_time": "2022-04-23T08:07:00.753Z"
   },
   {
    "duration": 130,
    "start_time": "2022-04-23T08:07:00.997Z"
   },
   {
    "duration": 22,
    "start_time": "2022-04-23T08:07:01.131Z"
   },
   {
    "duration": 383,
    "start_time": "2022-04-23T08:07:01.155Z"
   },
   {
    "duration": 114,
    "start_time": "2022-04-23T08:07:01.540Z"
   },
   {
    "duration": 18,
    "start_time": "2022-04-23T08:07:01.656Z"
   },
   {
    "duration": 9,
    "start_time": "2022-04-23T08:07:01.676Z"
   },
   {
    "duration": 5,
    "start_time": "2022-04-23T08:07:01.687Z"
   },
   {
    "duration": 32,
    "start_time": "2022-04-23T08:07:01.694Z"
   },
   {
    "duration": 13,
    "start_time": "2022-04-23T08:07:01.728Z"
   },
   {
    "duration": 106,
    "start_time": "2022-04-23T08:07:01.742Z"
   },
   {
    "duration": 185,
    "start_time": "2022-04-23T08:07:01.850Z"
   },
   {
    "duration": 127,
    "start_time": "2022-04-23T08:07:02.037Z"
   },
   {
    "duration": 158,
    "start_time": "2022-04-23T08:07:02.166Z"
   },
   {
    "duration": 124,
    "start_time": "2022-04-23T08:07:02.327Z"
   },
   {
    "duration": 26,
    "start_time": "2022-04-23T08:07:02.453Z"
   },
   {
    "duration": 65,
    "start_time": "2022-04-23T08:07:02.481Z"
   },
   {
    "duration": 19,
    "start_time": "2022-04-23T08:10:16.995Z"
   },
   {
    "duration": 19,
    "start_time": "2022-04-23T08:10:53.784Z"
   },
   {
    "duration": 39,
    "start_time": "2022-04-23T08:11:51.560Z"
   },
   {
    "duration": 36,
    "start_time": "2022-04-23T08:12:12.697Z"
   },
   {
    "duration": 36,
    "start_time": "2022-04-23T08:12:32.112Z"
   },
   {
    "duration": 38,
    "start_time": "2022-04-23T08:12:45.256Z"
   },
   {
    "duration": 212,
    "start_time": "2022-04-23T08:12:53.149Z"
   },
   {
    "duration": 9,
    "start_time": "2022-04-23T08:12:53.363Z"
   },
   {
    "duration": 10,
    "start_time": "2022-04-23T08:12:53.374Z"
   },
   {
    "duration": 6,
    "start_time": "2022-04-23T08:12:53.386Z"
   },
   {
    "duration": 28,
    "start_time": "2022-04-23T08:12:53.394Z"
   },
   {
    "duration": 6,
    "start_time": "2022-04-23T08:12:53.424Z"
   },
   {
    "duration": 12,
    "start_time": "2022-04-23T08:12:53.431Z"
   },
   {
    "duration": 193,
    "start_time": "2022-04-23T08:12:53.444Z"
   },
   {
    "duration": 13,
    "start_time": "2022-04-23T08:12:53.638Z"
   },
   {
    "duration": 77,
    "start_time": "2022-04-23T08:12:53.654Z"
   },
   {
    "duration": 4,
    "start_time": "2022-04-23T08:12:53.733Z"
   },
   {
    "duration": 35,
    "start_time": "2022-04-23T08:12:53.738Z"
   },
   {
    "duration": 4,
    "start_time": "2022-04-23T08:12:53.774Z"
   },
   {
    "duration": 65,
    "start_time": "2022-04-23T08:12:53.779Z"
   },
   {
    "duration": 12,
    "start_time": "2022-04-23T08:12:53.846Z"
   },
   {
    "duration": 318,
    "start_time": "2022-04-23T08:12:53.860Z"
   },
   {
    "duration": 21,
    "start_time": "2022-04-23T08:12:54.180Z"
   },
   {
    "duration": 247,
    "start_time": "2022-04-23T08:12:54.202Z"
   },
   {
    "duration": 115,
    "start_time": "2022-04-23T08:12:54.450Z"
   },
   {
    "duration": 18,
    "start_time": "2022-04-23T08:12:54.566Z"
   },
   {
    "duration": 353,
    "start_time": "2022-04-23T08:12:54.586Z"
   },
   {
    "duration": 447,
    "start_time": "2022-04-23T08:12:54.941Z"
   },
   {
    "duration": 19,
    "start_time": "2022-04-23T08:12:55.389Z"
   },
   {
    "duration": 155,
    "start_time": "2022-04-23T08:12:55.410Z"
   },
   {
    "duration": 97,
    "start_time": "2022-04-23T08:12:55.566Z"
   },
   {
    "duration": 234,
    "start_time": "2022-04-23T08:12:55.664Z"
   },
   {
    "duration": 112,
    "start_time": "2022-04-23T08:12:55.899Z"
   },
   {
    "duration": 21,
    "start_time": "2022-04-23T08:12:56.014Z"
   },
   {
    "duration": 354,
    "start_time": "2022-04-23T08:12:56.041Z"
   },
   {
    "duration": 114,
    "start_time": "2022-04-23T08:12:56.397Z"
   },
   {
    "duration": 25,
    "start_time": "2022-04-23T08:12:56.513Z"
   },
   {
    "duration": 8,
    "start_time": "2022-04-23T08:12:56.539Z"
   },
   {
    "duration": 4,
    "start_time": "2022-04-23T08:12:56.548Z"
   },
   {
    "duration": 5,
    "start_time": "2022-04-23T08:12:56.553Z"
   },
   {
    "duration": 5,
    "start_time": "2022-04-23T08:12:56.560Z"
   },
   {
    "duration": 121,
    "start_time": "2022-04-23T08:12:56.566Z"
   },
   {
    "duration": 162,
    "start_time": "2022-04-23T08:12:56.689Z"
   },
   {
    "duration": 111,
    "start_time": "2022-04-23T08:12:56.853Z"
   },
   {
    "duration": 141,
    "start_time": "2022-04-23T08:12:56.965Z"
   },
   {
    "duration": 107,
    "start_time": "2022-04-23T08:12:57.107Z"
   },
   {
    "duration": 21,
    "start_time": "2022-04-23T08:12:57.221Z"
   },
   {
    "duration": 36,
    "start_time": "2022-04-23T08:12:57.243Z"
   },
   {
    "duration": 37,
    "start_time": "2022-04-23T08:13:22.681Z"
   },
   {
    "duration": 204,
    "start_time": "2022-04-23T08:13:27.652Z"
   },
   {
    "duration": 9,
    "start_time": "2022-04-23T08:13:27.858Z"
   },
   {
    "duration": 9,
    "start_time": "2022-04-23T08:13:27.868Z"
   },
   {
    "duration": 8,
    "start_time": "2022-04-23T08:13:27.879Z"
   },
   {
    "duration": 30,
    "start_time": "2022-04-23T08:13:27.888Z"
   },
   {
    "duration": 19,
    "start_time": "2022-04-23T08:13:27.920Z"
   },
   {
    "duration": 25,
    "start_time": "2022-04-23T08:13:27.940Z"
   },
   {
    "duration": 182,
    "start_time": "2022-04-23T08:13:27.966Z"
   },
   {
    "duration": 13,
    "start_time": "2022-04-23T08:13:28.150Z"
   },
   {
    "duration": 79,
    "start_time": "2022-04-23T08:13:28.166Z"
   },
   {
    "duration": 4,
    "start_time": "2022-04-23T08:13:28.246Z"
   },
   {
    "duration": 36,
    "start_time": "2022-04-23T08:13:28.252Z"
   },
   {
    "duration": 3,
    "start_time": "2022-04-23T08:13:28.290Z"
   },
   {
    "duration": 61,
    "start_time": "2022-04-23T08:13:28.294Z"
   },
   {
    "duration": 12,
    "start_time": "2022-04-23T08:13:28.357Z"
   },
   {
    "duration": 315,
    "start_time": "2022-04-23T08:13:28.371Z"
   },
   {
    "duration": 21,
    "start_time": "2022-04-23T08:13:28.688Z"
   },
   {
    "duration": 246,
    "start_time": "2022-04-23T08:13:28.711Z"
   },
   {
    "duration": 119,
    "start_time": "2022-04-23T08:13:28.959Z"
   },
   {
    "duration": 20,
    "start_time": "2022-04-23T08:13:29.080Z"
   },
   {
    "duration": 358,
    "start_time": "2022-04-23T08:13:29.103Z"
   },
   {
    "duration": 112,
    "start_time": "2022-04-23T08:13:29.463Z"
   },
   {
    "duration": 19,
    "start_time": "2022-04-23T08:13:29.577Z"
   },
   {
    "duration": 166,
    "start_time": "2022-04-23T08:13:29.597Z"
   },
   {
    "duration": 106,
    "start_time": "2022-04-23T08:13:29.765Z"
   },
   {
    "duration": 244,
    "start_time": "2022-04-23T08:13:29.873Z"
   },
   {
    "duration": 122,
    "start_time": "2022-04-23T08:13:30.122Z"
   },
   {
    "duration": 20,
    "start_time": "2022-04-23T08:13:30.247Z"
   },
   {
    "duration": 356,
    "start_time": "2022-04-23T08:13:30.269Z"
   },
   {
    "duration": 118,
    "start_time": "2022-04-23T08:13:30.627Z"
   },
   {
    "duration": 18,
    "start_time": "2022-04-23T08:13:30.747Z"
   },
   {
    "duration": 13,
    "start_time": "2022-04-23T08:13:30.766Z"
   },
   {
    "duration": 19,
    "start_time": "2022-04-23T08:13:30.781Z"
   },
   {
    "duration": 21,
    "start_time": "2022-04-23T08:13:30.801Z"
   },
   {
    "duration": 9,
    "start_time": "2022-04-23T08:13:30.823Z"
   },
   {
    "duration": 110,
    "start_time": "2022-04-23T08:13:30.834Z"
   },
   {
    "duration": 569,
    "start_time": "2022-04-23T08:13:30.945Z"
   },
   {
    "duration": 120,
    "start_time": "2022-04-23T08:13:31.515Z"
   },
   {
    "duration": 149,
    "start_time": "2022-04-23T08:13:31.637Z"
   },
   {
    "duration": 115,
    "start_time": "2022-04-23T08:13:31.788Z"
   },
   {
    "duration": 26,
    "start_time": "2022-04-23T08:13:31.905Z"
   },
   {
    "duration": 38,
    "start_time": "2022-04-23T08:13:31.933Z"
   },
   {
    "duration": 42,
    "start_time": "2022-04-23T08:13:42.535Z"
   },
   {
    "duration": 1263,
    "start_time": "2022-04-23T08:17:29.350Z"
   },
   {
    "duration": 148,
    "start_time": "2022-04-23T08:19:39.302Z"
   },
   {
    "duration": 76,
    "start_time": "2022-04-23T08:20:24.297Z"
   },
   {
    "duration": 24,
    "start_time": "2022-04-23T08:21:01.926Z"
   },
   {
    "duration": 37,
    "start_time": "2022-04-23T08:21:21.725Z"
   },
   {
    "duration": 140,
    "start_time": "2022-04-23T08:21:47.903Z"
   },
   {
    "duration": 137,
    "start_time": "2022-04-23T08:21:55.334Z"
   },
   {
    "duration": 157,
    "start_time": "2022-04-23T08:22:00.943Z"
   },
   {
    "duration": 148,
    "start_time": "2022-04-23T08:22:08.070Z"
   },
   {
    "duration": 145,
    "start_time": "2022-04-23T08:22:19.838Z"
   },
   {
    "duration": 146,
    "start_time": "2022-04-23T08:22:24.630Z"
   },
   {
    "duration": 9,
    "start_time": "2022-04-23T08:23:16.151Z"
   },
   {
    "duration": 5,
    "start_time": "2022-04-23T08:27:53.846Z"
   },
   {
    "duration": 20,
    "start_time": "2022-04-23T08:27:59.348Z"
   },
   {
    "duration": 20,
    "start_time": "2022-04-23T08:28:32.161Z"
   },
   {
    "duration": 22,
    "start_time": "2022-04-23T08:28:40.026Z"
   },
   {
    "duration": 212,
    "start_time": "2022-04-23T08:28:45.745Z"
   },
   {
    "duration": 8,
    "start_time": "2022-04-23T08:28:45.959Z"
   },
   {
    "duration": 9,
    "start_time": "2022-04-23T08:28:45.969Z"
   },
   {
    "duration": 6,
    "start_time": "2022-04-23T08:28:45.980Z"
   },
   {
    "duration": 8,
    "start_time": "2022-04-23T08:28:45.987Z"
   },
   {
    "duration": 30,
    "start_time": "2022-04-23T08:28:45.996Z"
   },
   {
    "duration": 12,
    "start_time": "2022-04-23T08:28:46.027Z"
   },
   {
    "duration": 195,
    "start_time": "2022-04-23T08:28:46.040Z"
   },
   {
    "duration": 13,
    "start_time": "2022-04-23T08:28:46.237Z"
   },
   {
    "duration": 76,
    "start_time": "2022-04-23T08:28:46.254Z"
   },
   {
    "duration": 5,
    "start_time": "2022-04-23T08:28:46.331Z"
   },
   {
    "duration": 35,
    "start_time": "2022-04-23T08:28:46.338Z"
   },
   {
    "duration": 4,
    "start_time": "2022-04-23T08:28:46.375Z"
   },
   {
    "duration": 76,
    "start_time": "2022-04-23T08:28:46.381Z"
   },
   {
    "duration": 13,
    "start_time": "2022-04-23T08:28:46.459Z"
   },
   {
    "duration": 307,
    "start_time": "2022-04-23T08:28:46.474Z"
   },
   {
    "duration": 20,
    "start_time": "2022-04-23T08:28:46.783Z"
   },
   {
    "duration": 252,
    "start_time": "2022-04-23T08:28:46.804Z"
   },
   {
    "duration": 119,
    "start_time": "2022-04-23T08:28:47.058Z"
   },
   {
    "duration": 20,
    "start_time": "2022-04-23T08:28:47.179Z"
   },
   {
    "duration": 400,
    "start_time": "2022-04-23T08:28:47.201Z"
   },
   {
    "duration": 119,
    "start_time": "2022-04-23T08:28:47.603Z"
   },
   {
    "duration": 20,
    "start_time": "2022-04-23T08:28:47.724Z"
   },
   {
    "duration": 160,
    "start_time": "2022-04-23T08:28:47.746Z"
   },
   {
    "duration": 101,
    "start_time": "2022-04-23T08:28:47.908Z"
   },
   {
    "duration": 254,
    "start_time": "2022-04-23T08:28:48.011Z"
   },
   {
    "duration": 141,
    "start_time": "2022-04-23T08:28:48.267Z"
   },
   {
    "duration": 27,
    "start_time": "2022-04-23T08:28:48.412Z"
   },
   {
    "duration": 359,
    "start_time": "2022-04-23T08:28:48.440Z"
   },
   {
    "duration": 126,
    "start_time": "2022-04-23T08:28:48.800Z"
   },
   {
    "duration": 18,
    "start_time": "2022-04-23T08:28:48.927Z"
   },
   {
    "duration": 7,
    "start_time": "2022-04-23T08:28:48.947Z"
   },
   {
    "duration": 4,
    "start_time": "2022-04-23T08:28:48.956Z"
   },
   {
    "duration": 5,
    "start_time": "2022-04-23T08:28:48.961Z"
   },
   {
    "duration": 5,
    "start_time": "2022-04-23T08:28:48.967Z"
   },
   {
    "duration": 563,
    "start_time": "2022-04-23T08:28:48.973Z"
   },
   {
    "duration": 184,
    "start_time": "2022-04-23T08:28:49.538Z"
   },
   {
    "duration": 133,
    "start_time": "2022-04-23T08:28:49.724Z"
   },
   {
    "duration": 155,
    "start_time": "2022-04-23T08:28:49.859Z"
   },
   {
    "duration": 128,
    "start_time": "2022-04-23T08:28:50.022Z"
   },
   {
    "duration": 24,
    "start_time": "2022-04-23T08:28:50.152Z"
   },
   {
    "duration": 19,
    "start_time": "2022-04-23T08:28:50.178Z"
   },
   {
    "duration": 0,
    "start_time": "2022-04-23T08:28:50.199Z"
   },
   {
    "duration": 0,
    "start_time": "2022-04-23T08:28:50.200Z"
   },
   {
    "duration": 62,
    "start_time": "2022-04-23T08:29:22.301Z"
   },
   {
    "duration": 38,
    "start_time": "2022-04-23T08:29:43.059Z"
   },
   {
    "duration": 8,
    "start_time": "2022-04-23T08:29:57.058Z"
   },
   {
    "duration": 203,
    "start_time": "2022-04-23T08:30:06.439Z"
   },
   {
    "duration": 9,
    "start_time": "2022-04-23T08:30:06.644Z"
   },
   {
    "duration": 12,
    "start_time": "2022-04-23T08:30:06.654Z"
   },
   {
    "duration": 15,
    "start_time": "2022-04-23T08:30:06.668Z"
   },
   {
    "duration": 12,
    "start_time": "2022-04-23T08:30:06.684Z"
   },
   {
    "duration": 13,
    "start_time": "2022-04-23T08:30:06.697Z"
   },
   {
    "duration": 26,
    "start_time": "2022-04-23T08:30:06.712Z"
   },
   {
    "duration": 181,
    "start_time": "2022-04-23T08:30:06.739Z"
   },
   {
    "duration": 14,
    "start_time": "2022-04-23T08:30:06.922Z"
   },
   {
    "duration": 78,
    "start_time": "2022-04-23T08:30:06.939Z"
   },
   {
    "duration": 8,
    "start_time": "2022-04-23T08:30:07.018Z"
   },
   {
    "duration": 44,
    "start_time": "2022-04-23T08:30:07.027Z"
   },
   {
    "duration": 3,
    "start_time": "2022-04-23T08:30:07.073Z"
   },
   {
    "duration": 62,
    "start_time": "2022-04-23T08:30:07.078Z"
   },
   {
    "duration": 13,
    "start_time": "2022-04-23T08:30:07.142Z"
   },
   {
    "duration": 326,
    "start_time": "2022-04-23T08:30:07.156Z"
   },
   {
    "duration": 22,
    "start_time": "2022-04-23T08:30:07.483Z"
   },
   {
    "duration": 243,
    "start_time": "2022-04-23T08:30:07.507Z"
   },
   {
    "duration": 123,
    "start_time": "2022-04-23T08:30:07.752Z"
   },
   {
    "duration": 19,
    "start_time": "2022-04-23T08:30:07.876Z"
   },
   {
    "duration": 373,
    "start_time": "2022-04-23T08:30:07.896Z"
   },
   {
    "duration": 121,
    "start_time": "2022-04-23T08:30:08.270Z"
   },
   {
    "duration": 19,
    "start_time": "2022-04-23T08:30:08.393Z"
   },
   {
    "duration": 156,
    "start_time": "2022-04-23T08:30:08.422Z"
   },
   {
    "duration": 102,
    "start_time": "2022-04-23T08:30:08.579Z"
   },
   {
    "duration": 248,
    "start_time": "2022-04-23T08:30:08.683Z"
   },
   {
    "duration": 116,
    "start_time": "2022-04-23T08:30:08.932Z"
   },
   {
    "duration": 21,
    "start_time": "2022-04-23T08:30:09.052Z"
   },
   {
    "duration": 359,
    "start_time": "2022-04-23T08:30:09.075Z"
   },
   {
    "duration": 113,
    "start_time": "2022-04-23T08:30:09.436Z"
   },
   {
    "duration": 19,
    "start_time": "2022-04-23T08:30:09.550Z"
   },
   {
    "duration": 8,
    "start_time": "2022-04-23T08:30:09.571Z"
   },
   {
    "duration": 5,
    "start_time": "2022-04-23T08:30:09.580Z"
   },
   {
    "duration": 5,
    "start_time": "2022-04-23T08:30:09.587Z"
   },
   {
    "duration": 6,
    "start_time": "2022-04-23T08:30:09.622Z"
   },
   {
    "duration": 116,
    "start_time": "2022-04-23T08:30:09.630Z"
   },
   {
    "duration": 178,
    "start_time": "2022-04-23T08:30:09.747Z"
   },
   {
    "duration": 123,
    "start_time": "2022-04-23T08:30:09.927Z"
   },
   {
    "duration": 150,
    "start_time": "2022-04-23T08:30:10.052Z"
   },
   {
    "duration": 131,
    "start_time": "2022-04-23T08:30:10.204Z"
   },
   {
    "duration": 23,
    "start_time": "2022-04-23T08:30:10.337Z"
   },
   {
    "duration": 40,
    "start_time": "2022-04-23T08:30:10.362Z"
   },
   {
    "duration": 176,
    "start_time": "2022-04-23T08:30:10.404Z"
   },
   {
    "duration": 8,
    "start_time": "2022-04-23T08:30:10.582Z"
   },
   {
    "duration": 16,
    "start_time": "2022-04-23T08:30:28.100Z"
   },
   {
    "duration": 16,
    "start_time": "2022-04-23T08:30:37.402Z"
   },
   {
    "duration": 216,
    "start_time": "2022-04-23T08:30:43.536Z"
   },
   {
    "duration": 10,
    "start_time": "2022-04-23T08:30:43.753Z"
   },
   {
    "duration": 10,
    "start_time": "2022-04-23T08:30:43.764Z"
   },
   {
    "duration": 7,
    "start_time": "2022-04-23T08:30:43.776Z"
   },
   {
    "duration": 7,
    "start_time": "2022-04-23T08:30:43.785Z"
   },
   {
    "duration": 30,
    "start_time": "2022-04-23T08:30:43.793Z"
   },
   {
    "duration": 15,
    "start_time": "2022-04-23T08:30:43.824Z"
   },
   {
    "duration": 182,
    "start_time": "2022-04-23T08:30:43.840Z"
   },
   {
    "duration": 12,
    "start_time": "2022-04-23T08:30:44.024Z"
   },
   {
    "duration": 62,
    "start_time": "2022-04-23T08:30:44.039Z"
   },
   {
    "duration": 3,
    "start_time": "2022-04-23T08:30:44.103Z"
   },
   {
    "duration": 32,
    "start_time": "2022-04-23T08:30:44.122Z"
   },
   {
    "duration": 3,
    "start_time": "2022-04-23T08:30:44.155Z"
   },
   {
    "duration": 46,
    "start_time": "2022-04-23T08:30:44.159Z"
   },
   {
    "duration": 14,
    "start_time": "2022-04-23T08:30:44.222Z"
   },
   {
    "duration": 305,
    "start_time": "2022-04-23T08:30:44.238Z"
   },
   {
    "duration": 21,
    "start_time": "2022-04-23T08:30:44.544Z"
   },
   {
    "duration": 239,
    "start_time": "2022-04-23T08:30:44.566Z"
   },
   {
    "duration": 112,
    "start_time": "2022-04-23T08:30:44.806Z"
   },
   {
    "duration": 19,
    "start_time": "2022-04-23T08:30:44.922Z"
   },
   {
    "duration": 369,
    "start_time": "2022-04-23T08:30:44.943Z"
   },
   {
    "duration": 112,
    "start_time": "2022-04-23T08:30:45.322Z"
   },
   {
    "duration": 20,
    "start_time": "2022-04-23T08:30:45.436Z"
   },
   {
    "duration": 157,
    "start_time": "2022-04-23T08:30:45.458Z"
   },
   {
    "duration": 91,
    "start_time": "2022-04-23T08:30:45.617Z"
   },
   {
    "duration": 715,
    "start_time": "2022-04-23T08:30:45.709Z"
   },
   {
    "duration": 121,
    "start_time": "2022-04-23T08:30:46.426Z"
   },
   {
    "duration": 23,
    "start_time": "2022-04-23T08:30:46.551Z"
   },
   {
    "duration": 360,
    "start_time": "2022-04-23T08:30:46.575Z"
   },
   {
    "duration": 115,
    "start_time": "2022-04-23T08:30:46.937Z"
   },
   {
    "duration": 17,
    "start_time": "2022-04-23T08:30:47.054Z"
   },
   {
    "duration": 7,
    "start_time": "2022-04-23T08:30:47.073Z"
   },
   {
    "duration": 4,
    "start_time": "2022-04-23T08:30:47.082Z"
   },
   {
    "duration": 4,
    "start_time": "2022-04-23T08:30:47.088Z"
   },
   {
    "duration": 30,
    "start_time": "2022-04-23T08:30:47.093Z"
   },
   {
    "duration": 113,
    "start_time": "2022-04-23T08:30:47.125Z"
   },
   {
    "duration": 179,
    "start_time": "2022-04-23T08:30:47.240Z"
   },
   {
    "duration": 124,
    "start_time": "2022-04-23T08:30:47.422Z"
   },
   {
    "duration": 144,
    "start_time": "2022-04-23T08:30:47.548Z"
   },
   {
    "duration": 119,
    "start_time": "2022-04-23T08:30:47.693Z"
   },
   {
    "duration": 25,
    "start_time": "2022-04-23T08:30:47.814Z"
   },
   {
    "duration": 17,
    "start_time": "2022-04-23T08:30:47.841Z"
   },
   {
    "duration": 8,
    "start_time": "2022-04-23T08:30:47.860Z"
   },
   {
    "duration": 0,
    "start_time": "2022-04-23T08:30:47.870Z"
   },
   {
    "duration": 2407,
    "start_time": "2022-04-23T08:30:58.714Z"
   },
   {
    "duration": 23,
    "start_time": "2022-04-23T08:31:42.946Z"
   },
   {
    "duration": 40,
    "start_time": "2022-04-23T08:32:03.394Z"
   },
   {
    "duration": 8,
    "start_time": "2022-04-23T08:32:11.074Z"
   },
   {
    "duration": 195,
    "start_time": "2022-04-23T08:34:35.866Z"
   },
   {
    "duration": 742,
    "start_time": "2022-04-23T08:35:03.882Z"
   },
   {
    "duration": 764,
    "start_time": "2022-04-23T08:35:08.938Z"
   },
   {
    "duration": 911,
    "start_time": "2022-04-23T08:35:16.419Z"
   },
   {
    "duration": 9,
    "start_time": "2022-04-23T08:35:17.332Z"
   },
   {
    "duration": 17,
    "start_time": "2022-04-23T08:35:17.342Z"
   },
   {
    "duration": 16,
    "start_time": "2022-04-23T08:35:17.361Z"
   },
   {
    "duration": 7,
    "start_time": "2022-04-23T08:35:17.379Z"
   },
   {
    "duration": 9,
    "start_time": "2022-04-23T08:35:17.387Z"
   },
   {
    "duration": 26,
    "start_time": "2022-04-23T08:35:17.398Z"
   },
   {
    "duration": 183,
    "start_time": "2022-04-23T08:35:17.426Z"
   },
   {
    "duration": 22,
    "start_time": "2022-04-23T08:35:17.611Z"
   },
   {
    "duration": 65,
    "start_time": "2022-04-23T08:35:17.636Z"
   },
   {
    "duration": 5,
    "start_time": "2022-04-23T08:35:17.702Z"
   },
   {
    "duration": 52,
    "start_time": "2022-04-23T08:35:17.708Z"
   },
   {
    "duration": 4,
    "start_time": "2022-04-23T08:35:17.762Z"
   },
   {
    "duration": 70,
    "start_time": "2022-04-23T08:35:17.767Z"
   },
   {
    "duration": 14,
    "start_time": "2022-04-23T08:35:17.838Z"
   },
   {
    "duration": 319,
    "start_time": "2022-04-23T08:35:17.853Z"
   },
   {
    "duration": 22,
    "start_time": "2022-04-23T08:35:18.173Z"
   },
   {
    "duration": 257,
    "start_time": "2022-04-23T08:35:18.197Z"
   },
   {
    "duration": 129,
    "start_time": "2022-04-23T08:35:18.455Z"
   },
   {
    "duration": 20,
    "start_time": "2022-04-23T08:35:18.586Z"
   },
   {
    "duration": 377,
    "start_time": "2022-04-23T08:35:18.608Z"
   },
   {
    "duration": 122,
    "start_time": "2022-04-23T08:35:18.986Z"
   },
   {
    "duration": 28,
    "start_time": "2022-04-23T08:35:19.109Z"
   },
   {
    "duration": 159,
    "start_time": "2022-04-23T08:35:19.138Z"
   },
   {
    "duration": 104,
    "start_time": "2022-04-23T08:35:19.298Z"
   },
   {
    "duration": 257,
    "start_time": "2022-04-23T08:35:19.404Z"
   },
   {
    "duration": 128,
    "start_time": "2022-04-23T08:35:19.663Z"
   },
   {
    "duration": 36,
    "start_time": "2022-04-23T08:35:19.795Z"
   },
   {
    "duration": 359,
    "start_time": "2022-04-23T08:35:19.833Z"
   },
   {
    "duration": 120,
    "start_time": "2022-04-23T08:35:20.194Z"
   },
   {
    "duration": 18,
    "start_time": "2022-04-23T08:35:20.322Z"
   },
   {
    "duration": 8,
    "start_time": "2022-04-23T08:35:20.342Z"
   },
   {
    "duration": 5,
    "start_time": "2022-04-23T08:35:20.352Z"
   },
   {
    "duration": 6,
    "start_time": "2022-04-23T08:35:20.359Z"
   },
   {
    "duration": 6,
    "start_time": "2022-04-23T08:35:20.367Z"
   },
   {
    "duration": 143,
    "start_time": "2022-04-23T08:35:20.375Z"
   },
   {
    "duration": 180,
    "start_time": "2022-04-23T08:35:20.523Z"
   },
   {
    "duration": 124,
    "start_time": "2022-04-23T08:35:20.705Z"
   },
   {
    "duration": 146,
    "start_time": "2022-04-23T08:35:20.831Z"
   },
   {
    "duration": 121,
    "start_time": "2022-04-23T08:35:20.979Z"
   },
   {
    "duration": 31,
    "start_time": "2022-04-23T08:35:21.102Z"
   },
   {
    "duration": 580,
    "start_time": "2022-04-23T08:35:21.135Z"
   },
   {
    "duration": 0,
    "start_time": "2022-04-23T08:35:21.717Z"
   },
   {
    "duration": 0,
    "start_time": "2022-04-23T08:35:21.719Z"
   },
   {
    "duration": 54,
    "start_time": "2022-04-23T08:37:37.322Z"
   },
   {
    "duration": 7,
    "start_time": "2022-04-23T08:37:41.432Z"
   },
   {
    "duration": 213,
    "start_time": "2022-04-23T08:37:45.886Z"
   },
   {
    "duration": 9,
    "start_time": "2022-04-23T08:37:46.101Z"
   },
   {
    "duration": 17,
    "start_time": "2022-04-23T08:37:46.111Z"
   },
   {
    "duration": 6,
    "start_time": "2022-04-23T08:37:46.131Z"
   },
   {
    "duration": 6,
    "start_time": "2022-04-23T08:37:46.138Z"
   },
   {
    "duration": 5,
    "start_time": "2022-04-23T08:37:46.145Z"
   },
   {
    "duration": 10,
    "start_time": "2022-04-23T08:37:46.151Z"
   },
   {
    "duration": 206,
    "start_time": "2022-04-23T08:37:46.162Z"
   },
   {
    "duration": 14,
    "start_time": "2022-04-23T08:37:46.369Z"
   },
   {
    "duration": 73,
    "start_time": "2022-04-23T08:37:46.385Z"
   },
   {
    "duration": 5,
    "start_time": "2022-04-23T08:37:46.460Z"
   },
   {
    "duration": 48,
    "start_time": "2022-04-23T08:37:46.466Z"
   },
   {
    "duration": 8,
    "start_time": "2022-04-23T08:37:46.516Z"
   },
   {
    "duration": 68,
    "start_time": "2022-04-23T08:37:46.525Z"
   },
   {
    "duration": 13,
    "start_time": "2022-04-23T08:37:46.594Z"
   },
   {
    "duration": 289,
    "start_time": "2022-04-23T08:37:46.608Z"
   },
   {
    "duration": 25,
    "start_time": "2022-04-23T08:37:46.898Z"
   },
   {
    "duration": 233,
    "start_time": "2022-04-23T08:37:46.924Z"
   },
   {
    "duration": 119,
    "start_time": "2022-04-23T08:37:47.159Z"
   },
   {
    "duration": 19,
    "start_time": "2022-04-23T08:37:47.279Z"
   },
   {
    "duration": 355,
    "start_time": "2022-04-23T08:37:47.300Z"
   },
   {
    "duration": 615,
    "start_time": "2022-04-23T08:37:47.656Z"
   },
   {
    "duration": 20,
    "start_time": "2022-04-23T08:37:48.272Z"
   },
   {
    "duration": 155,
    "start_time": "2022-04-23T08:37:48.293Z"
   },
   {
    "duration": 103,
    "start_time": "2022-04-23T08:37:48.450Z"
   },
   {
    "duration": 241,
    "start_time": "2022-04-23T08:37:48.555Z"
   },
   {
    "duration": 123,
    "start_time": "2022-04-23T08:37:48.797Z"
   },
   {
    "duration": 21,
    "start_time": "2022-04-23T08:37:48.925Z"
   },
   {
    "duration": 355,
    "start_time": "2022-04-23T08:37:48.948Z"
   },
   {
    "duration": 114,
    "start_time": "2022-04-23T08:37:49.304Z"
   },
   {
    "duration": 17,
    "start_time": "2022-04-23T08:37:49.422Z"
   },
   {
    "duration": 8,
    "start_time": "2022-04-23T08:37:49.440Z"
   },
   {
    "duration": 4,
    "start_time": "2022-04-23T08:37:49.449Z"
   },
   {
    "duration": 5,
    "start_time": "2022-04-23T08:37:49.455Z"
   },
   {
    "duration": 4,
    "start_time": "2022-04-23T08:37:49.461Z"
   },
   {
    "duration": 121,
    "start_time": "2022-04-23T08:37:49.467Z"
   },
   {
    "duration": 175,
    "start_time": "2022-04-23T08:37:49.589Z"
   },
   {
    "duration": 116,
    "start_time": "2022-04-23T08:37:49.766Z"
   },
   {
    "duration": 147,
    "start_time": "2022-04-23T08:37:49.884Z"
   },
   {
    "duration": 122,
    "start_time": "2022-04-23T08:37:50.033Z"
   },
   {
    "duration": 22,
    "start_time": "2022-04-23T08:37:50.157Z"
   },
   {
    "duration": 69,
    "start_time": "2022-04-23T08:37:50.181Z"
   },
   {
    "duration": 2,
    "start_time": "2022-04-23T08:37:50.252Z"
   },
   {
    "duration": 9,
    "start_time": "2022-04-23T08:37:50.255Z"
   },
   {
    "duration": 55,
    "start_time": "2022-04-23T08:38:10.793Z"
   },
   {
    "duration": 3495,
    "start_time": "2022-04-23T08:38:14.936Z"
   },
   {
    "duration": 198,
    "start_time": "2022-04-23T08:38:24.366Z"
   },
   {
    "duration": 9,
    "start_time": "2022-04-23T08:38:24.566Z"
   },
   {
    "duration": 10,
    "start_time": "2022-04-23T08:38:24.576Z"
   },
   {
    "duration": 10,
    "start_time": "2022-04-23T08:38:24.588Z"
   },
   {
    "duration": 24,
    "start_time": "2022-04-23T08:38:24.599Z"
   },
   {
    "duration": 6,
    "start_time": "2022-04-23T08:38:24.625Z"
   },
   {
    "duration": 11,
    "start_time": "2022-04-23T08:38:24.633Z"
   },
   {
    "duration": 197,
    "start_time": "2022-04-23T08:38:24.645Z"
   },
   {
    "duration": 13,
    "start_time": "2022-04-23T08:38:24.843Z"
   },
   {
    "duration": 76,
    "start_time": "2022-04-23T08:38:24.859Z"
   },
   {
    "duration": 3,
    "start_time": "2022-04-23T08:38:24.937Z"
   },
   {
    "duration": 35,
    "start_time": "2022-04-23T08:38:24.942Z"
   },
   {
    "duration": 3,
    "start_time": "2022-04-23T08:38:24.979Z"
   },
   {
    "duration": 66,
    "start_time": "2022-04-23T08:38:24.984Z"
   },
   {
    "duration": 13,
    "start_time": "2022-04-23T08:38:25.051Z"
   },
   {
    "duration": 301,
    "start_time": "2022-04-23T08:38:25.066Z"
   },
   {
    "duration": 20,
    "start_time": "2022-04-23T08:38:25.368Z"
   },
   {
    "duration": 234,
    "start_time": "2022-04-23T08:38:25.390Z"
   },
   {
    "duration": 113,
    "start_time": "2022-04-23T08:38:25.625Z"
   },
   {
    "duration": 20,
    "start_time": "2022-04-23T08:38:25.740Z"
   },
   {
    "duration": 369,
    "start_time": "2022-04-23T08:38:25.761Z"
   },
   {
    "duration": 117,
    "start_time": "2022-04-23T08:38:26.132Z"
   },
   {
    "duration": 19,
    "start_time": "2022-04-23T08:38:26.251Z"
   },
   {
    "duration": 271,
    "start_time": "2022-04-23T08:38:26.271Z"
   },
   {
    "duration": 88,
    "start_time": "2022-04-23T08:38:26.544Z"
   },
   {
    "duration": 233,
    "start_time": "2022-04-23T08:38:26.634Z"
   },
   {
    "duration": 116,
    "start_time": "2022-04-23T08:38:26.869Z"
   },
   {
    "duration": 21,
    "start_time": "2022-04-23T08:38:26.988Z"
   },
   {
    "duration": 340,
    "start_time": "2022-04-23T08:38:27.022Z"
   },
   {
    "duration": 108,
    "start_time": "2022-04-23T08:38:27.363Z"
   },
   {
    "duration": 17,
    "start_time": "2022-04-23T08:38:27.473Z"
   },
   {
    "duration": 7,
    "start_time": "2022-04-23T08:38:27.491Z"
   },
   {
    "duration": 4,
    "start_time": "2022-04-23T08:38:27.500Z"
   },
   {
    "duration": 4,
    "start_time": "2022-04-23T08:38:27.523Z"
   },
   {
    "duration": 6,
    "start_time": "2022-04-23T08:38:27.529Z"
   },
   {
    "duration": 111,
    "start_time": "2022-04-23T08:38:27.537Z"
   },
   {
    "duration": 173,
    "start_time": "2022-04-23T08:38:27.650Z"
   },
   {
    "duration": 120,
    "start_time": "2022-04-23T08:38:27.824Z"
   },
   {
    "duration": 138,
    "start_time": "2022-04-23T08:38:27.946Z"
   },
   {
    "duration": 113,
    "start_time": "2022-04-23T08:38:28.086Z"
   },
   {
    "duration": 34,
    "start_time": "2022-04-23T08:38:28.200Z"
   },
   {
    "duration": 51,
    "start_time": "2022-04-23T08:38:28.235Z"
   },
   {
    "duration": 2,
    "start_time": "2022-04-23T08:38:28.288Z"
   },
   {
    "duration": 3722,
    "start_time": "2022-04-23T08:38:28.292Z"
   },
   {
    "duration": 3195,
    "start_time": "2022-04-23T08:39:22.218Z"
   },
   {
    "duration": 20,
    "start_time": "2022-04-23T08:40:24.960Z"
   },
   {
    "duration": 40,
    "start_time": "2022-04-23T08:40:37.256Z"
   },
   {
    "duration": 9,
    "start_time": "2022-04-23T08:41:04.335Z"
   },
   {
    "duration": 3,
    "start_time": "2022-04-23T08:41:28.071Z"
   },
   {
    "duration": 153,
    "start_time": "2022-04-23T08:41:31.983Z"
   },
   {
    "duration": 151,
    "start_time": "2022-04-23T08:44:44.511Z"
   },
   {
    "duration": 102,
    "start_time": "2022-04-23T08:45:43.511Z"
   },
   {
    "duration": 106,
    "start_time": "2022-04-23T08:45:47.445Z"
   },
   {
    "duration": 99,
    "start_time": "2022-04-23T08:45:54.496Z"
   },
   {
    "duration": 110,
    "start_time": "2022-04-23T08:45:58.360Z"
   },
   {
    "duration": 114,
    "start_time": "2022-04-23T08:46:13.688Z"
   },
   {
    "duration": 111,
    "start_time": "2022-04-23T08:47:16.631Z"
   },
   {
    "duration": 94,
    "start_time": "2022-04-23T08:47:22.247Z"
   },
   {
    "duration": 113,
    "start_time": "2022-04-23T08:47:30.519Z"
   },
   {
    "duration": 114,
    "start_time": "2022-04-23T08:47:39.527Z"
   },
   {
    "duration": 6,
    "start_time": "2022-04-23T08:48:51.120Z"
   },
   {
    "duration": 146,
    "start_time": "2022-04-23T08:48:53.829Z"
   },
   {
    "duration": 5,
    "start_time": "2022-04-23T08:49:08.775Z"
   },
   {
    "duration": 154,
    "start_time": "2022-04-23T08:49:11.677Z"
   },
   {
    "duration": 5,
    "start_time": "2022-04-23T08:49:27.494Z"
   },
   {
    "duration": 149,
    "start_time": "2022-04-23T08:49:30.997Z"
   },
   {
    "duration": 6,
    "start_time": "2022-04-23T09:14:59.400Z"
   },
   {
    "duration": 149,
    "start_time": "2022-04-23T09:15:01.720Z"
   },
   {
    "duration": 5,
    "start_time": "2022-04-23T09:15:08.231Z"
   },
   {
    "duration": 226,
    "start_time": "2022-04-23T09:15:11.154Z"
   },
   {
    "duration": 9,
    "start_time": "2022-04-23T09:15:11.382Z"
   },
   {
    "duration": 11,
    "start_time": "2022-04-23T09:15:11.392Z"
   },
   {
    "duration": 23,
    "start_time": "2022-04-23T09:15:11.405Z"
   },
   {
    "duration": 21,
    "start_time": "2022-04-23T09:15:11.429Z"
   },
   {
    "duration": 11,
    "start_time": "2022-04-23T09:15:11.451Z"
   },
   {
    "duration": 11,
    "start_time": "2022-04-23T09:15:11.463Z"
   },
   {
    "duration": 193,
    "start_time": "2022-04-23T09:15:11.476Z"
   },
   {
    "duration": 15,
    "start_time": "2022-04-23T09:15:11.670Z"
   },
   {
    "duration": 74,
    "start_time": "2022-04-23T09:15:11.688Z"
   },
   {
    "duration": 4,
    "start_time": "2022-04-23T09:15:11.763Z"
   },
   {
    "duration": 54,
    "start_time": "2022-04-23T09:15:11.769Z"
   },
   {
    "duration": 4,
    "start_time": "2022-04-23T09:15:11.825Z"
   },
   {
    "duration": 66,
    "start_time": "2022-04-23T09:15:11.830Z"
   },
   {
    "duration": 13,
    "start_time": "2022-04-23T09:15:11.898Z"
   },
   {
    "duration": 313,
    "start_time": "2022-04-23T09:15:11.913Z"
   },
   {
    "duration": 22,
    "start_time": "2022-04-23T09:15:12.227Z"
   },
   {
    "duration": 838,
    "start_time": "2022-04-23T09:15:12.251Z"
   },
   {
    "duration": 128,
    "start_time": "2022-04-23T09:15:13.091Z"
   },
   {
    "duration": 20,
    "start_time": "2022-04-23T09:15:13.223Z"
   },
   {
    "duration": 392,
    "start_time": "2022-04-23T09:15:13.245Z"
   },
   {
    "duration": 130,
    "start_time": "2022-04-23T09:15:13.638Z"
   },
   {
    "duration": 22,
    "start_time": "2022-04-23T09:15:13.770Z"
   },
   {
    "duration": 167,
    "start_time": "2022-04-23T09:15:13.794Z"
   },
   {
    "duration": 99,
    "start_time": "2022-04-23T09:15:13.963Z"
   },
   {
    "duration": 254,
    "start_time": "2022-04-23T09:15:14.064Z"
   },
   {
    "duration": 125,
    "start_time": "2022-04-23T09:15:14.321Z"
   },
   {
    "duration": 22,
    "start_time": "2022-04-23T09:15:14.450Z"
   },
   {
    "duration": 365,
    "start_time": "2022-04-23T09:15:14.474Z"
   },
   {
    "duration": 120,
    "start_time": "2022-04-23T09:15:14.841Z"
   },
   {
    "duration": 18,
    "start_time": "2022-04-23T09:15:14.962Z"
   },
   {
    "duration": 7,
    "start_time": "2022-04-23T09:15:14.982Z"
   },
   {
    "duration": 11,
    "start_time": "2022-04-23T09:15:14.991Z"
   },
   {
    "duration": 23,
    "start_time": "2022-04-23T09:15:15.003Z"
   },
   {
    "duration": 29,
    "start_time": "2022-04-23T09:15:15.028Z"
   },
   {
    "duration": 108,
    "start_time": "2022-04-23T09:15:15.059Z"
   },
   {
    "duration": 168,
    "start_time": "2022-04-23T09:15:15.169Z"
   },
   {
    "duration": 128,
    "start_time": "2022-04-23T09:15:15.338Z"
   },
   {
    "duration": 143,
    "start_time": "2022-04-23T09:15:15.467Z"
   },
   {
    "duration": 119,
    "start_time": "2022-04-23T09:15:15.612Z"
   },
   {
    "duration": 22,
    "start_time": "2022-04-23T09:15:15.732Z"
   },
   {
    "duration": 41,
    "start_time": "2022-04-23T09:15:15.755Z"
   },
   {
    "duration": 28,
    "start_time": "2022-04-23T09:15:15.798Z"
   },
   {
    "duration": 118,
    "start_time": "2022-04-23T09:15:15.828Z"
   },
   {
    "duration": 5,
    "start_time": "2022-04-23T09:15:15.948Z"
   },
   {
    "duration": 183,
    "start_time": "2022-04-23T09:15:15.955Z"
   },
   {
    "duration": 6,
    "start_time": "2022-04-23T09:15:39.504Z"
   },
   {
    "duration": 157,
    "start_time": "2022-04-23T09:15:41.430Z"
   },
   {
    "duration": 5,
    "start_time": "2022-04-23T09:26:40.318Z"
   },
   {
    "duration": 5,
    "start_time": "2022-04-23T09:26:43.020Z"
   },
   {
    "duration": 15,
    "start_time": "2022-04-23T09:27:28.620Z"
   },
   {
    "duration": 62,
    "start_time": "2022-04-23T09:27:43.774Z"
   },
   {
    "duration": 5,
    "start_time": "2022-04-23T09:28:04.580Z"
   },
   {
    "duration": 21,
    "start_time": "2022-04-23T09:29:26.576Z"
   },
   {
    "duration": 29,
    "start_time": "2022-04-23T09:29:53.933Z"
   },
   {
    "duration": 20,
    "start_time": "2022-04-23T09:30:15.396Z"
   },
   {
    "duration": 23,
    "start_time": "2022-04-23T09:46:53.880Z"
   },
   {
    "duration": 29,
    "start_time": "2022-04-23T09:47:03.130Z"
   },
   {
    "duration": 29,
    "start_time": "2022-04-23T09:47:48.481Z"
   },
   {
    "duration": 31,
    "start_time": "2022-04-23T09:49:47.559Z"
   },
   {
    "duration": 33,
    "start_time": "2022-04-23T09:49:52.951Z"
   },
   {
    "duration": 202,
    "start_time": "2022-04-23T09:50:01.194Z"
   },
   {
    "duration": 8,
    "start_time": "2022-04-23T09:50:01.398Z"
   },
   {
    "duration": 19,
    "start_time": "2022-04-23T09:50:01.408Z"
   },
   {
    "duration": 6,
    "start_time": "2022-04-23T09:50:01.429Z"
   },
   {
    "duration": 13,
    "start_time": "2022-04-23T09:50:01.437Z"
   },
   {
    "duration": 8,
    "start_time": "2022-04-23T09:50:01.452Z"
   },
   {
    "duration": 16,
    "start_time": "2022-04-23T09:50:01.461Z"
   },
   {
    "duration": 184,
    "start_time": "2022-04-23T09:50:01.478Z"
   },
   {
    "duration": 14,
    "start_time": "2022-04-23T09:50:01.663Z"
   },
   {
    "duration": 79,
    "start_time": "2022-04-23T09:50:01.679Z"
   },
   {
    "duration": 4,
    "start_time": "2022-04-23T09:50:01.759Z"
   },
   {
    "duration": 36,
    "start_time": "2022-04-23T09:50:01.765Z"
   },
   {
    "duration": 21,
    "start_time": "2022-04-23T09:50:01.802Z"
   },
   {
    "duration": 52,
    "start_time": "2022-04-23T09:50:01.824Z"
   },
   {
    "duration": 13,
    "start_time": "2022-04-23T09:50:01.878Z"
   },
   {
    "duration": 314,
    "start_time": "2022-04-23T09:50:01.892Z"
   },
   {
    "duration": 29,
    "start_time": "2022-04-23T09:50:02.208Z"
   },
   {
    "duration": 235,
    "start_time": "2022-04-23T09:50:02.239Z"
   },
   {
    "duration": 122,
    "start_time": "2022-04-23T09:50:02.475Z"
   },
   {
    "duration": 24,
    "start_time": "2022-04-23T09:50:02.599Z"
   },
   {
    "duration": 365,
    "start_time": "2022-04-23T09:50:02.625Z"
   },
   {
    "duration": 121,
    "start_time": "2022-04-23T09:50:02.992Z"
   },
   {
    "duration": 24,
    "start_time": "2022-04-23T09:50:03.115Z"
   },
   {
    "duration": 156,
    "start_time": "2022-04-23T09:50:03.141Z"
   },
   {
    "duration": 104,
    "start_time": "2022-04-23T09:50:03.299Z"
   },
   {
    "duration": 242,
    "start_time": "2022-04-23T09:50:03.404Z"
   },
   {
    "duration": 117,
    "start_time": "2022-04-23T09:50:03.648Z"
   },
   {
    "duration": 24,
    "start_time": "2022-04-23T09:50:03.769Z"
   },
   {
    "duration": 381,
    "start_time": "2022-04-23T09:50:03.794Z"
   },
   {
    "duration": 119,
    "start_time": "2022-04-23T09:50:04.178Z"
   },
   {
    "duration": 32,
    "start_time": "2022-04-23T09:50:04.299Z"
   },
   {
    "duration": 8,
    "start_time": "2022-04-23T09:50:04.332Z"
   },
   {
    "duration": 25,
    "start_time": "2022-04-23T09:50:04.342Z"
   },
   {
    "duration": 9,
    "start_time": "2022-04-23T09:50:04.369Z"
   },
   {
    "duration": 8,
    "start_time": "2022-04-23T09:50:04.380Z"
   },
   {
    "duration": 108,
    "start_time": "2022-04-23T09:50:04.390Z"
   },
   {
    "duration": 183,
    "start_time": "2022-04-23T09:50:04.500Z"
   },
   {
    "duration": 123,
    "start_time": "2022-04-23T09:50:04.684Z"
   },
   {
    "duration": 152,
    "start_time": "2022-04-23T09:50:04.808Z"
   },
   {
    "duration": 126,
    "start_time": "2022-04-23T09:50:04.962Z"
   },
   {
    "duration": 21,
    "start_time": "2022-04-23T09:50:05.090Z"
   },
   {
    "duration": 49,
    "start_time": "2022-04-23T09:50:05.113Z"
   },
   {
    "duration": 9,
    "start_time": "2022-04-23T09:50:05.163Z"
   },
   {
    "duration": 128,
    "start_time": "2022-04-23T09:50:05.174Z"
   },
   {
    "duration": 6,
    "start_time": "2022-04-23T09:50:05.304Z"
   },
   {
    "duration": 173,
    "start_time": "2022-04-23T09:50:05.311Z"
   },
   {
    "duration": 22,
    "start_time": "2022-04-23T09:50:05.485Z"
   },
   {
    "duration": 32,
    "start_time": "2022-04-23T09:50:05.508Z"
   },
   {
    "duration": 35,
    "start_time": "2022-04-23T09:50:05.542Z"
   },
   {
    "duration": 10,
    "start_time": "2022-04-23T09:51:25.249Z"
   },
   {
    "duration": 203,
    "start_time": "2022-04-23T09:51:39.194Z"
   },
   {
    "duration": 8,
    "start_time": "2022-04-23T09:51:39.399Z"
   },
   {
    "duration": 18,
    "start_time": "2022-04-23T09:51:39.408Z"
   },
   {
    "duration": 6,
    "start_time": "2022-04-23T09:51:39.428Z"
   },
   {
    "duration": 9,
    "start_time": "2022-04-23T09:51:39.435Z"
   },
   {
    "duration": 8,
    "start_time": "2022-04-23T09:51:39.445Z"
   },
   {
    "duration": 10,
    "start_time": "2022-04-23T09:51:39.454Z"
   },
   {
    "duration": 197,
    "start_time": "2022-04-23T09:51:39.466Z"
   },
   {
    "duration": 13,
    "start_time": "2022-04-23T09:51:39.664Z"
   },
   {
    "duration": 78,
    "start_time": "2022-04-23T09:51:39.680Z"
   },
   {
    "duration": 5,
    "start_time": "2022-04-23T09:51:39.759Z"
   },
   {
    "duration": 38,
    "start_time": "2022-04-23T09:51:39.765Z"
   },
   {
    "duration": 4,
    "start_time": "2022-04-23T09:51:39.805Z"
   },
   {
    "duration": 45,
    "start_time": "2022-04-23T09:51:39.823Z"
   },
   {
    "duration": 13,
    "start_time": "2022-04-23T09:51:39.870Z"
   },
   {
    "duration": 327,
    "start_time": "2022-04-23T09:51:39.885Z"
   },
   {
    "duration": 28,
    "start_time": "2022-04-23T09:51:40.214Z"
   },
   {
    "duration": 253,
    "start_time": "2022-04-23T09:51:40.243Z"
   },
   {
    "duration": 163,
    "start_time": "2022-04-23T09:51:40.497Z"
   },
   {
    "duration": 31,
    "start_time": "2022-04-23T09:51:40.663Z"
   },
   {
    "duration": 978,
    "start_time": "2022-04-23T09:51:40.696Z"
   },
   {
    "duration": 122,
    "start_time": "2022-04-23T09:51:41.676Z"
   },
   {
    "duration": 29,
    "start_time": "2022-04-23T09:51:41.799Z"
   },
   {
    "duration": 155,
    "start_time": "2022-04-23T09:51:41.830Z"
   },
   {
    "duration": 117,
    "start_time": "2022-04-23T09:51:41.986Z"
   },
   {
    "duration": 257,
    "start_time": "2022-04-23T09:51:42.104Z"
   },
   {
    "duration": 121,
    "start_time": "2022-04-23T09:51:42.363Z"
   },
   {
    "duration": 34,
    "start_time": "2022-04-23T09:51:42.488Z"
   },
   {
    "duration": 374,
    "start_time": "2022-04-23T09:51:42.524Z"
   },
   {
    "duration": 111,
    "start_time": "2022-04-23T09:51:42.900Z"
   },
   {
    "duration": 25,
    "start_time": "2022-04-23T09:51:43.013Z"
   },
   {
    "duration": 8,
    "start_time": "2022-04-23T09:51:43.040Z"
   },
   {
    "duration": 9,
    "start_time": "2022-04-23T09:51:43.050Z"
   },
   {
    "duration": 15,
    "start_time": "2022-04-23T09:51:43.060Z"
   },
   {
    "duration": 14,
    "start_time": "2022-04-23T09:51:43.077Z"
   },
   {
    "duration": 116,
    "start_time": "2022-04-23T09:51:43.093Z"
   },
   {
    "duration": 179,
    "start_time": "2022-04-23T09:51:43.210Z"
   },
   {
    "duration": 121,
    "start_time": "2022-04-23T09:51:43.390Z"
   },
   {
    "duration": 151,
    "start_time": "2022-04-23T09:51:43.513Z"
   },
   {
    "duration": 123,
    "start_time": "2022-04-23T09:51:43.666Z"
   },
   {
    "duration": 34,
    "start_time": "2022-04-23T09:51:43.791Z"
   },
   {
    "duration": 41,
    "start_time": "2022-04-23T09:51:43.827Z"
   },
   {
    "duration": 7,
    "start_time": "2022-04-23T09:51:43.869Z"
   },
   {
    "duration": 124,
    "start_time": "2022-04-23T09:51:43.878Z"
   },
   {
    "duration": 5,
    "start_time": "2022-04-23T09:51:44.004Z"
   },
   {
    "duration": 173,
    "start_time": "2022-04-23T09:51:44.010Z"
   },
   {
    "duration": 17,
    "start_time": "2022-04-23T09:51:44.184Z"
   },
   {
    "duration": 28,
    "start_time": "2022-04-23T09:51:44.203Z"
   },
   {
    "duration": 11,
    "start_time": "2022-04-23T09:51:44.233Z"
   },
   {
    "duration": 12,
    "start_time": "2022-04-23T09:52:53.390Z"
   },
   {
    "duration": 9,
    "start_time": "2022-04-23T09:54:34.743Z"
   },
   {
    "duration": 11,
    "start_time": "2022-04-23T09:59:14.248Z"
   },
   {
    "duration": 12,
    "start_time": "2022-04-23T10:12:21.651Z"
   },
   {
    "duration": 192,
    "start_time": "2022-04-23T10:29:12.272Z"
   },
   {
    "duration": 6,
    "start_time": "2022-04-23T10:30:48.390Z"
   },
   {
    "duration": 6,
    "start_time": "2022-04-23T10:31:04.180Z"
   },
   {
    "duration": 202,
    "start_time": "2022-04-23T10:31:06.956Z"
   },
   {
    "duration": 10,
    "start_time": "2022-04-23T10:31:07.159Z"
   },
   {
    "duration": 11,
    "start_time": "2022-04-23T10:31:07.171Z"
   },
   {
    "duration": 7,
    "start_time": "2022-04-23T10:31:07.184Z"
   },
   {
    "duration": 11,
    "start_time": "2022-04-23T10:31:07.192Z"
   },
   {
    "duration": 5,
    "start_time": "2022-04-23T10:31:07.222Z"
   },
   {
    "duration": 12,
    "start_time": "2022-04-23T10:31:07.229Z"
   },
   {
    "duration": 193,
    "start_time": "2022-04-23T10:31:07.243Z"
   },
   {
    "duration": 14,
    "start_time": "2022-04-23T10:31:07.438Z"
   },
   {
    "duration": 79,
    "start_time": "2022-04-23T10:31:07.455Z"
   },
   {
    "duration": 4,
    "start_time": "2022-04-23T10:31:07.536Z"
   },
   {
    "duration": 55,
    "start_time": "2022-04-23T10:31:07.541Z"
   },
   {
    "duration": 4,
    "start_time": "2022-04-23T10:31:07.597Z"
   },
   {
    "duration": 57,
    "start_time": "2022-04-23T10:31:07.603Z"
   },
   {
    "duration": 14,
    "start_time": "2022-04-23T10:31:07.661Z"
   },
   {
    "duration": 309,
    "start_time": "2022-04-23T10:31:07.676Z"
   },
   {
    "duration": 22,
    "start_time": "2022-04-23T10:31:07.986Z"
   },
   {
    "duration": 250,
    "start_time": "2022-04-23T10:31:08.010Z"
   },
   {
    "duration": 121,
    "start_time": "2022-04-23T10:31:08.261Z"
   },
   {
    "duration": 20,
    "start_time": "2022-04-23T10:31:08.383Z"
   },
   {
    "duration": 375,
    "start_time": "2022-04-23T10:31:08.405Z"
   },
   {
    "duration": 125,
    "start_time": "2022-04-23T10:31:08.782Z"
   },
   {
    "duration": 30,
    "start_time": "2022-04-23T10:31:08.908Z"
   },
   {
    "duration": 161,
    "start_time": "2022-04-23T10:31:08.939Z"
   },
   {
    "duration": 109,
    "start_time": "2022-04-23T10:31:09.102Z"
   },
   {
    "duration": 253,
    "start_time": "2022-04-23T10:31:09.212Z"
   },
   {
    "duration": 133,
    "start_time": "2022-04-23T10:31:09.467Z"
   },
   {
    "duration": 35,
    "start_time": "2022-04-23T10:31:09.605Z"
   },
   {
    "duration": 375,
    "start_time": "2022-04-23T10:31:09.642Z"
   },
   {
    "duration": 123,
    "start_time": "2022-04-23T10:31:10.023Z"
   },
   {
    "duration": 21,
    "start_time": "2022-04-23T10:31:10.148Z"
   },
   {
    "duration": 8,
    "start_time": "2022-04-23T10:31:10.171Z"
   },
   {
    "duration": 5,
    "start_time": "2022-04-23T10:31:10.180Z"
   },
   {
    "duration": 38,
    "start_time": "2022-04-23T10:31:10.187Z"
   },
   {
    "duration": 5,
    "start_time": "2022-04-23T10:31:10.227Z"
   },
   {
    "duration": 124,
    "start_time": "2022-04-23T10:31:10.234Z"
   },
   {
    "duration": 189,
    "start_time": "2022-04-23T10:31:10.360Z"
   },
   {
    "duration": 137,
    "start_time": "2022-04-23T10:31:10.551Z"
   },
   {
    "duration": 159,
    "start_time": "2022-04-23T10:31:10.691Z"
   },
   {
    "duration": 130,
    "start_time": "2022-04-23T10:31:10.852Z"
   },
   {
    "duration": 25,
    "start_time": "2022-04-23T10:31:10.984Z"
   },
   {
    "duration": 45,
    "start_time": "2022-04-23T10:31:11.021Z"
   },
   {
    "duration": 9,
    "start_time": "2022-04-23T10:31:11.068Z"
   },
   {
    "duration": 138,
    "start_time": "2022-04-23T10:31:11.078Z"
   },
   {
    "duration": 9,
    "start_time": "2022-04-23T10:31:11.217Z"
   },
   {
    "duration": 177,
    "start_time": "2022-04-23T10:31:11.228Z"
   },
   {
    "duration": 26,
    "start_time": "2022-04-23T10:31:11.406Z"
   },
   {
    "duration": 16,
    "start_time": "2022-04-23T10:31:11.433Z"
   },
   {
    "duration": 11,
    "start_time": "2022-04-23T10:31:11.450Z"
   },
   {
    "duration": 10,
    "start_time": "2022-04-23T10:37:30.771Z"
   },
   {
    "duration": 218,
    "start_time": "2022-04-23T12:43:50.664Z"
   },
   {
    "duration": 9,
    "start_time": "2022-04-23T12:43:50.885Z"
   },
   {
    "duration": 10,
    "start_time": "2022-04-23T12:43:50.896Z"
   },
   {
    "duration": 11,
    "start_time": "2022-04-23T12:43:50.922Z"
   },
   {
    "duration": 13,
    "start_time": "2022-04-23T12:43:50.935Z"
   },
   {
    "duration": 10,
    "start_time": "2022-04-23T12:43:50.950Z"
   },
   {
    "duration": 17,
    "start_time": "2022-04-23T12:43:50.962Z"
   },
   {
    "duration": 205,
    "start_time": "2022-04-23T12:43:50.981Z"
   },
   {
    "duration": 14,
    "start_time": "2022-04-23T12:43:51.187Z"
   },
   {
    "duration": 79,
    "start_time": "2022-04-23T12:43:51.204Z"
   },
   {
    "duration": 5,
    "start_time": "2022-04-23T12:43:51.285Z"
   },
   {
    "duration": 55,
    "start_time": "2022-04-23T12:43:51.292Z"
   },
   {
    "duration": 4,
    "start_time": "2022-04-23T12:43:51.349Z"
   },
   {
    "duration": 97,
    "start_time": "2022-04-23T12:43:51.356Z"
   },
   {
    "duration": 15,
    "start_time": "2022-04-23T12:43:51.455Z"
   },
   {
    "duration": 432,
    "start_time": "2022-04-23T12:43:51.472Z"
   },
   {
    "duration": 34,
    "start_time": "2022-04-23T12:43:51.906Z"
   },
   {
    "duration": 251,
    "start_time": "2022-04-23T12:43:51.942Z"
   },
   {
    "duration": 132,
    "start_time": "2022-04-23T12:43:52.195Z"
   },
   {
    "duration": 23,
    "start_time": "2022-04-23T12:43:52.329Z"
   },
   {
    "duration": 486,
    "start_time": "2022-04-23T12:43:52.354Z"
   },
   {
    "duration": 129,
    "start_time": "2022-04-23T12:43:52.842Z"
   },
   {
    "duration": 20,
    "start_time": "2022-04-23T12:43:52.972Z"
   },
   {
    "duration": 164,
    "start_time": "2022-04-23T12:43:52.994Z"
   },
   {
    "duration": 111,
    "start_time": "2022-04-23T12:43:53.160Z"
   },
   {
    "duration": 256,
    "start_time": "2022-04-23T12:43:53.273Z"
   },
   {
    "duration": 131,
    "start_time": "2022-04-23T12:43:53.532Z"
   },
   {
    "duration": 23,
    "start_time": "2022-04-23T12:43:53.668Z"
   },
   {
    "duration": 364,
    "start_time": "2022-04-23T12:43:53.693Z"
   },
   {
    "duration": 837,
    "start_time": "2022-04-23T12:43:54.058Z"
   },
   {
    "duration": 26,
    "start_time": "2022-04-23T12:43:54.896Z"
   },
   {
    "duration": 11,
    "start_time": "2022-04-23T12:43:54.924Z"
   },
   {
    "duration": 16,
    "start_time": "2022-04-23T12:43:54.936Z"
   },
   {
    "duration": 23,
    "start_time": "2022-04-23T12:43:54.954Z"
   },
   {
    "duration": 23,
    "start_time": "2022-04-23T12:43:54.979Z"
   },
   {
    "duration": 118,
    "start_time": "2022-04-23T12:43:55.004Z"
   },
   {
    "duration": 177,
    "start_time": "2022-04-23T12:43:55.124Z"
   },
   {
    "duration": 119,
    "start_time": "2022-04-23T12:43:55.303Z"
   },
   {
    "duration": 148,
    "start_time": "2022-04-23T12:43:55.424Z"
   },
   {
    "duration": 130,
    "start_time": "2022-04-23T12:43:55.574Z"
   },
   {
    "duration": 33,
    "start_time": "2022-04-23T12:43:55.707Z"
   },
   {
    "duration": 40,
    "start_time": "2022-04-23T12:43:55.742Z"
   },
   {
    "duration": 8,
    "start_time": "2022-04-23T12:43:55.784Z"
   },
   {
    "duration": 148,
    "start_time": "2022-04-23T12:43:55.794Z"
   },
   {
    "duration": 6,
    "start_time": "2022-04-23T12:43:55.944Z"
   },
   {
    "duration": 176,
    "start_time": "2022-04-23T12:43:55.952Z"
   },
   {
    "duration": 16,
    "start_time": "2022-04-23T12:43:56.130Z"
   },
   {
    "duration": 26,
    "start_time": "2022-04-23T12:43:56.148Z"
   },
   {
    "duration": 18,
    "start_time": "2022-04-23T12:43:56.176Z"
   },
   {
    "duration": 2110,
    "start_time": "2022-04-26T16:24:07.264Z"
   },
   {
    "duration": 23,
    "start_time": "2022-04-26T16:24:09.377Z"
   },
   {
    "duration": 19,
    "start_time": "2022-04-26T16:24:09.406Z"
   },
   {
    "duration": 8,
    "start_time": "2022-04-26T16:24:09.429Z"
   },
   {
    "duration": 8,
    "start_time": "2022-04-26T16:24:09.440Z"
   },
   {
    "duration": 35,
    "start_time": "2022-04-26T16:24:09.450Z"
   },
   {
    "duration": 40,
    "start_time": "2022-04-26T16:24:09.490Z"
   },
   {
    "duration": 335,
    "start_time": "2022-04-26T16:24:09.533Z"
   },
   {
    "duration": 34,
    "start_time": "2022-04-26T16:24:09.870Z"
   },
   {
    "duration": 129,
    "start_time": "2022-04-26T16:24:09.908Z"
   },
   {
    "duration": 6,
    "start_time": "2022-04-26T16:24:10.039Z"
   },
   {
    "duration": 77,
    "start_time": "2022-04-26T16:24:10.047Z"
   },
   {
    "duration": 6,
    "start_time": "2022-04-26T16:24:10.126Z"
   },
   {
    "duration": 107,
    "start_time": "2022-04-26T16:24:10.134Z"
   },
   {
    "duration": 19,
    "start_time": "2022-04-26T16:24:10.244Z"
   },
   {
    "duration": 590,
    "start_time": "2022-04-26T16:24:10.281Z"
   },
   {
    "duration": 47,
    "start_time": "2022-04-26T16:24:10.873Z"
   },
   {
    "duration": 505,
    "start_time": "2022-04-26T16:24:10.922Z"
   },
   {
    "duration": 284,
    "start_time": "2022-04-26T16:24:11.429Z"
   },
   {
    "duration": 28,
    "start_time": "2022-04-26T16:24:11.716Z"
   },
   {
    "duration": 743,
    "start_time": "2022-04-26T16:24:11.747Z"
   },
   {
    "duration": 211,
    "start_time": "2022-04-26T16:24:12.493Z"
   },
   {
    "duration": 32,
    "start_time": "2022-04-26T16:24:12.708Z"
   },
   {
    "duration": 313,
    "start_time": "2022-04-26T16:24:12.742Z"
   },
   {
    "duration": 189,
    "start_time": "2022-04-26T16:24:13.057Z"
   },
   {
    "duration": 492,
    "start_time": "2022-04-26T16:24:13.249Z"
   },
   {
    "duration": 229,
    "start_time": "2022-04-26T16:24:13.744Z"
   },
   {
    "duration": 40,
    "start_time": "2022-04-26T16:24:13.978Z"
   },
   {
    "duration": 801,
    "start_time": "2022-04-26T16:24:14.021Z"
   },
   {
    "duration": 213,
    "start_time": "2022-04-26T16:24:14.825Z"
   },
   {
    "duration": 27,
    "start_time": "2022-04-26T16:24:15.040Z"
   },
   {
    "duration": 44,
    "start_time": "2022-04-26T16:24:15.069Z"
   },
   {
    "duration": 8,
    "start_time": "2022-04-26T16:24:15.115Z"
   },
   {
    "duration": 15,
    "start_time": "2022-04-26T16:24:15.125Z"
   },
   {
    "duration": 16,
    "start_time": "2022-04-26T16:24:15.142Z"
   },
   {
    "duration": 188,
    "start_time": "2022-04-26T16:24:15.160Z"
   },
   {
    "duration": 307,
    "start_time": "2022-04-26T16:24:15.350Z"
   },
   {
    "duration": 216,
    "start_time": "2022-04-26T16:24:15.659Z"
   },
   {
    "duration": 266,
    "start_time": "2022-04-26T16:24:15.881Z"
   },
   {
    "duration": 221,
    "start_time": "2022-04-26T16:24:16.149Z"
   },
   {
    "duration": 40,
    "start_time": "2022-04-26T16:24:16.372Z"
   },
   {
    "duration": 90,
    "start_time": "2022-04-26T16:24:16.414Z"
   },
   {
    "duration": 12,
    "start_time": "2022-04-26T16:24:16.509Z"
   },
   {
    "duration": 217,
    "start_time": "2022-04-26T16:24:16.523Z"
   },
   {
    "duration": 8,
    "start_time": "2022-04-26T16:24:16.742Z"
   },
   {
    "duration": 295,
    "start_time": "2022-04-26T16:24:16.752Z"
   },
   {
    "duration": 40,
    "start_time": "2022-04-26T16:24:17.049Z"
   },
   {
    "duration": 25,
    "start_time": "2022-04-26T16:24:17.091Z"
   },
   {
    "duration": 18,
    "start_time": "2022-04-26T16:24:17.119Z"
   },
   {
    "duration": 123,
    "start_time": "2022-04-26T16:36:30.202Z"
   },
   {
    "duration": 216,
    "start_time": "2022-04-26T16:36:41.719Z"
   },
   {
    "duration": 12,
    "start_time": "2022-04-26T16:36:41.938Z"
   },
   {
    "duration": 37,
    "start_time": "2022-04-26T16:36:41.952Z"
   },
   {
    "duration": 18,
    "start_time": "2022-04-26T16:36:41.992Z"
   },
   {
    "duration": 9,
    "start_time": "2022-04-26T16:36:42.012Z"
   },
   {
    "duration": 8,
    "start_time": "2022-04-26T16:36:42.024Z"
   },
   {
    "duration": 16,
    "start_time": "2022-04-26T16:36:42.035Z"
   },
   {
    "duration": 373,
    "start_time": "2022-04-26T16:36:42.053Z"
   },
   {
    "duration": 22,
    "start_time": "2022-04-26T16:36:42.428Z"
   },
   {
    "duration": 138,
    "start_time": "2022-04-26T16:36:42.454Z"
   },
   {
    "duration": 14,
    "start_time": "2022-04-26T16:36:42.593Z"
   },
   {
    "duration": 50,
    "start_time": "2022-04-26T16:36:42.610Z"
   },
   {
    "duration": 6,
    "start_time": "2022-04-26T16:36:42.662Z"
   },
   {
    "duration": 33,
    "start_time": "2022-04-26T16:36:42.686Z"
   },
   {
    "duration": 18,
    "start_time": "2022-04-26T16:36:42.721Z"
   },
   {
    "duration": 597,
    "start_time": "2022-04-26T16:36:42.741Z"
   },
   {
    "duration": 46,
    "start_time": "2022-04-26T16:36:43.340Z"
   },
   {
    "duration": 470,
    "start_time": "2022-04-26T16:36:43.391Z"
   },
   {
    "duration": 214,
    "start_time": "2022-04-26T16:36:43.863Z"
   },
   {
    "duration": 37,
    "start_time": "2022-04-26T16:36:44.081Z"
   },
   {
    "duration": 844,
    "start_time": "2022-04-26T16:36:44.120Z"
   },
   {
    "duration": 210,
    "start_time": "2022-04-26T16:36:44.966Z"
   },
   {
    "duration": 35,
    "start_time": "2022-04-26T16:36:45.185Z"
   },
   {
    "duration": 313,
    "start_time": "2022-04-26T16:36:45.222Z"
   },
   {
    "duration": 174,
    "start_time": "2022-04-26T16:36:45.537Z"
   },
   {
    "duration": 486,
    "start_time": "2022-04-26T16:36:45.713Z"
   },
   {
    "duration": 206,
    "start_time": "2022-04-26T16:36:46.202Z"
   },
   {
    "duration": 32,
    "start_time": "2022-04-26T16:36:46.415Z"
   },
   {
    "duration": 714,
    "start_time": "2022-04-26T16:36:46.449Z"
   },
   {
    "duration": 201,
    "start_time": "2022-04-26T16:36:47.166Z"
   },
   {
    "duration": 40,
    "start_time": "2022-04-26T16:36:47.369Z"
   },
   {
    "duration": 14,
    "start_time": "2022-04-26T16:36:47.412Z"
   },
   {
    "duration": 7,
    "start_time": "2022-04-26T16:36:47.428Z"
   },
   {
    "duration": 6,
    "start_time": "2022-04-26T16:36:47.438Z"
   },
   {
    "duration": 47,
    "start_time": "2022-04-26T16:36:47.447Z"
   },
   {
    "duration": 323,
    "start_time": "2022-04-26T16:36:47.496Z"
   },
   {
    "duration": 292,
    "start_time": "2022-04-26T16:36:47.821Z"
   },
   {
    "duration": 210,
    "start_time": "2022-04-26T16:36:48.115Z"
   },
   {
    "duration": 274,
    "start_time": "2022-04-26T16:36:48.327Z"
   },
   {
    "duration": 210,
    "start_time": "2022-04-26T16:36:48.604Z"
   },
   {
    "duration": 32,
    "start_time": "2022-04-26T16:36:48.817Z"
   },
   {
    "duration": 91,
    "start_time": "2022-04-26T16:36:48.851Z"
   },
   {
    "duration": 11,
    "start_time": "2022-04-26T16:36:48.944Z"
   },
   {
    "duration": 215,
    "start_time": "2022-04-26T16:36:48.958Z"
   },
   {
    "duration": 13,
    "start_time": "2022-04-26T16:36:49.176Z"
   },
   {
    "duration": 282,
    "start_time": "2022-04-26T16:36:49.192Z"
   },
   {
    "duration": 34,
    "start_time": "2022-04-26T16:36:49.481Z"
   },
   {
    "duration": 22,
    "start_time": "2022-04-26T16:36:49.517Z"
   },
   {
    "duration": 17,
    "start_time": "2022-04-26T16:36:49.541Z"
   },
   {
    "duration": 1962,
    "start_time": "2022-04-26T16:37:09.431Z"
   },
   {
    "duration": 122,
    "start_time": "2022-04-26T16:38:08.726Z"
   },
   {
    "duration": 119,
    "start_time": "2022-04-26T16:38:20.230Z"
   },
   {
    "duration": 111,
    "start_time": "2022-04-26T16:38:25.950Z"
   },
   {
    "duration": 105,
    "start_time": "2022-04-26T16:38:35.622Z"
   },
   {
    "duration": 104,
    "start_time": "2022-04-26T16:38:43.185Z"
   },
   {
    "duration": 1796,
    "start_time": "2022-04-26T16:38:58.610Z"
   },
   {
    "duration": 1810,
    "start_time": "2022-04-26T16:39:17.239Z"
   },
   {
    "duration": 1753,
    "start_time": "2022-04-26T16:39:28.907Z"
   },
   {
    "duration": 45,
    "start_time": "2022-04-26T16:39:54.880Z"
   },
   {
    "duration": 1769,
    "start_time": "2022-04-26T16:41:28.368Z"
   },
   {
    "duration": 162,
    "start_time": "2022-04-26T16:42:25.329Z"
   },
   {
    "duration": 33,
    "start_time": "2022-04-26T16:42:34.968Z"
   },
   {
    "duration": 6,
    "start_time": "2022-04-26T16:45:14.513Z"
   },
   {
    "duration": 35,
    "start_time": "2022-04-26T16:45:19.382Z"
   },
   {
    "duration": 40,
    "start_time": "2022-04-26T16:45:26.977Z"
   },
   {
    "duration": 260,
    "start_time": "2022-04-26T16:45:33.990Z"
   },
   {
    "duration": 12,
    "start_time": "2022-04-26T16:45:34.252Z"
   },
   {
    "duration": 36,
    "start_time": "2022-04-26T16:45:34.266Z"
   },
   {
    "duration": 20,
    "start_time": "2022-04-26T16:45:34.305Z"
   },
   {
    "duration": 13,
    "start_time": "2022-04-26T16:45:34.327Z"
   },
   {
    "duration": 18,
    "start_time": "2022-04-26T16:45:34.342Z"
   },
   {
    "duration": 33,
    "start_time": "2022-04-26T16:45:34.362Z"
   },
   {
    "duration": 415,
    "start_time": "2022-04-26T16:45:34.400Z"
   },
   {
    "duration": 29,
    "start_time": "2022-04-26T16:45:34.819Z"
   },
   {
    "duration": 150,
    "start_time": "2022-04-26T16:45:34.853Z"
   },
   {
    "duration": 8,
    "start_time": "2022-04-26T16:45:35.008Z"
   },
   {
    "duration": 53,
    "start_time": "2022-04-26T16:45:35.018Z"
   },
   {
    "duration": 18,
    "start_time": "2022-04-26T16:45:35.073Z"
   },
   {
    "duration": 39,
    "start_time": "2022-04-26T16:45:35.094Z"
   },
   {
    "duration": 19,
    "start_time": "2022-04-26T16:45:35.136Z"
   },
   {
    "duration": 636,
    "start_time": "2022-04-26T16:45:35.182Z"
   },
   {
    "duration": 35,
    "start_time": "2022-04-26T16:45:35.820Z"
   },
   {
    "duration": 515,
    "start_time": "2022-04-26T16:45:35.858Z"
   },
   {
    "duration": 337,
    "start_time": "2022-04-26T16:45:36.375Z"
   },
   {
    "duration": 29,
    "start_time": "2022-04-26T16:45:36.715Z"
   },
   {
    "duration": 747,
    "start_time": "2022-04-26T16:45:36.747Z"
   },
   {
    "duration": 203,
    "start_time": "2022-04-26T16:45:37.496Z"
   },
   {
    "duration": 30,
    "start_time": "2022-04-26T16:45:37.704Z"
   },
   {
    "duration": 328,
    "start_time": "2022-04-26T16:45:37.737Z"
   },
   {
    "duration": 181,
    "start_time": "2022-04-26T16:45:38.067Z"
   },
   {
    "duration": 488,
    "start_time": "2022-04-26T16:45:38.250Z"
   },
   {
    "duration": 235,
    "start_time": "2022-04-26T16:45:38.740Z"
   },
   {
    "duration": 41,
    "start_time": "2022-04-26T16:45:38.980Z"
   },
   {
    "duration": 903,
    "start_time": "2022-04-26T16:45:39.024Z"
   },
   {
    "duration": 226,
    "start_time": "2022-04-26T16:45:39.930Z"
   },
   {
    "duration": 46,
    "start_time": "2022-04-26T16:45:40.159Z"
   },
   {
    "duration": 12,
    "start_time": "2022-04-26T16:45:40.209Z"
   },
   {
    "duration": 8,
    "start_time": "2022-04-26T16:45:40.223Z"
   },
   {
    "duration": 8,
    "start_time": "2022-04-26T16:45:40.233Z"
   },
   {
    "duration": 41,
    "start_time": "2022-04-26T16:45:40.244Z"
   },
   {
    "duration": 189,
    "start_time": "2022-04-26T16:45:40.292Z"
   },
   {
    "duration": 308,
    "start_time": "2022-04-26T16:45:40.491Z"
   },
   {
    "duration": 213,
    "start_time": "2022-04-26T16:45:40.802Z"
   },
   {
    "duration": 273,
    "start_time": "2022-04-26T16:45:41.020Z"
   },
   {
    "duration": 212,
    "start_time": "2022-04-26T16:45:41.294Z"
   },
   {
    "duration": 34,
    "start_time": "2022-04-26T16:45:41.508Z"
   },
   {
    "duration": 89,
    "start_time": "2022-04-26T16:45:41.544Z"
   },
   {
    "duration": 13,
    "start_time": "2022-04-26T16:45:41.635Z"
   },
   {
    "duration": 216,
    "start_time": "2022-04-26T16:45:41.651Z"
   },
   {
    "duration": 24,
    "start_time": "2022-04-26T16:45:41.869Z"
   },
   {
    "duration": 299,
    "start_time": "2022-04-26T16:45:41.895Z"
   },
   {
    "duration": 26,
    "start_time": "2022-04-26T16:45:42.196Z"
   },
   {
    "duration": 21,
    "start_time": "2022-04-26T16:45:42.225Z"
   },
   {
    "duration": 43,
    "start_time": "2022-04-26T16:45:42.248Z"
   },
   {
    "duration": 34,
    "start_time": "2022-04-26T16:48:18.220Z"
   },
   {
    "duration": 6,
    "start_time": "2022-04-26T16:48:48.696Z"
   },
   {
    "duration": 49,
    "start_time": "2022-04-26T16:49:09.774Z"
   },
   {
    "duration": 29,
    "start_time": "2022-04-26T16:49:25.648Z"
   },
   {
    "duration": 33,
    "start_time": "2022-04-26T16:49:33.734Z"
   },
   {
    "duration": 130,
    "start_time": "2022-04-26T16:53:08.398Z"
   },
   {
    "duration": 7,
    "start_time": "2022-04-26T16:53:23.656Z"
   },
   {
    "duration": 11,
    "start_time": "2022-04-26T16:53:59.281Z"
   },
   {
    "duration": 45,
    "start_time": "2022-04-26T16:54:05.174Z"
   },
   {
    "duration": 35,
    "start_time": "2022-04-26T16:54:29.135Z"
   },
   {
    "duration": 1473,
    "start_time": "2022-04-26T16:55:25.229Z"
   },
   {
    "duration": 24,
    "start_time": "2022-04-26T16:55:52.854Z"
   },
   {
    "duration": 25,
    "start_time": "2022-04-26T17:01:21.436Z"
   },
   {
    "duration": 41,
    "start_time": "2022-04-26T17:01:40.699Z"
   },
   {
    "duration": 1839,
    "start_time": "2022-04-26T17:01:53.963Z"
   },
   {
    "duration": 1395,
    "start_time": "2022-04-26T17:02:16.670Z"
   },
   {
    "duration": 1063,
    "start_time": "2022-04-26T17:02:33.920Z"
   },
   {
    "duration": 56,
    "start_time": "2022-04-26T17:02:56.373Z"
   },
   {
    "duration": 959,
    "start_time": "2022-04-26T17:03:02.861Z"
   },
   {
    "duration": 1153,
    "start_time": "2022-04-26T17:03:16.417Z"
   },
   {
    "duration": 996,
    "start_time": "2022-04-26T17:03:30.925Z"
   },
   {
    "duration": 1043,
    "start_time": "2022-04-26T17:03:51.814Z"
   },
   {
    "duration": 2678,
    "start_time": "2022-04-26T17:04:06.218Z"
   },
   {
    "duration": 236,
    "start_time": "2022-04-26T17:04:19.286Z"
   },
   {
    "duration": 13,
    "start_time": "2022-04-26T17:04:19.526Z"
   },
   {
    "duration": 17,
    "start_time": "2022-04-26T17:04:19.542Z"
   },
   {
    "duration": 15,
    "start_time": "2022-04-26T17:04:19.589Z"
   },
   {
    "duration": 23,
    "start_time": "2022-04-26T17:04:19.607Z"
   },
   {
    "duration": 11,
    "start_time": "2022-04-26T17:04:19.632Z"
   },
   {
    "duration": 20,
    "start_time": "2022-04-26T17:04:19.645Z"
   },
   {
    "duration": 373,
    "start_time": "2022-04-26T17:04:19.668Z"
   },
   {
    "duration": 19,
    "start_time": "2022-04-26T17:04:20.043Z"
   },
   {
    "duration": 148,
    "start_time": "2022-04-26T17:04:20.066Z"
   },
   {
    "duration": 6,
    "start_time": "2022-04-26T17:04:20.217Z"
   },
   {
    "duration": 215,
    "start_time": "2022-04-26T17:04:20.225Z"
   },
   {
    "duration": 9,
    "start_time": "2022-04-26T17:04:20.442Z"
   },
   {
    "duration": 1982,
    "start_time": "2022-04-26T17:04:20.453Z"
   },
   {
    "duration": 0,
    "start_time": "2022-04-26T17:04:22.438Z"
   },
   {
    "duration": 0,
    "start_time": "2022-04-26T17:04:22.439Z"
   },
   {
    "duration": 0,
    "start_time": "2022-04-26T17:04:22.441Z"
   },
   {
    "duration": 0,
    "start_time": "2022-04-26T17:04:22.443Z"
   },
   {
    "duration": 0,
    "start_time": "2022-04-26T17:04:22.445Z"
   },
   {
    "duration": 0,
    "start_time": "2022-04-26T17:04:22.447Z"
   },
   {
    "duration": 0,
    "start_time": "2022-04-26T17:04:22.448Z"
   },
   {
    "duration": 0,
    "start_time": "2022-04-26T17:04:22.450Z"
   },
   {
    "duration": 0,
    "start_time": "2022-04-26T17:04:22.451Z"
   },
   {
    "duration": 1,
    "start_time": "2022-04-26T17:04:22.452Z"
   },
   {
    "duration": 0,
    "start_time": "2022-04-26T17:04:22.454Z"
   },
   {
    "duration": 0,
    "start_time": "2022-04-26T17:04:22.455Z"
   },
   {
    "duration": 0,
    "start_time": "2022-04-26T17:04:22.457Z"
   },
   {
    "duration": 0,
    "start_time": "2022-04-26T17:04:22.459Z"
   },
   {
    "duration": 0,
    "start_time": "2022-04-26T17:04:22.461Z"
   },
   {
    "duration": 0,
    "start_time": "2022-04-26T17:04:22.462Z"
   },
   {
    "duration": 0,
    "start_time": "2022-04-26T17:04:22.463Z"
   },
   {
    "duration": 0,
    "start_time": "2022-04-26T17:04:22.465Z"
   },
   {
    "duration": 0,
    "start_time": "2022-04-26T17:04:22.467Z"
   },
   {
    "duration": 0,
    "start_time": "2022-04-26T17:04:22.468Z"
   },
   {
    "duration": 0,
    "start_time": "2022-04-26T17:04:22.470Z"
   },
   {
    "duration": 0,
    "start_time": "2022-04-26T17:04:22.472Z"
   },
   {
    "duration": 0,
    "start_time": "2022-04-26T17:04:22.473Z"
   },
   {
    "duration": 0,
    "start_time": "2022-04-26T17:04:22.475Z"
   },
   {
    "duration": 0,
    "start_time": "2022-04-26T17:04:22.491Z"
   },
   {
    "duration": 0,
    "start_time": "2022-04-26T17:04:22.492Z"
   },
   {
    "duration": 0,
    "start_time": "2022-04-26T17:04:22.494Z"
   },
   {
    "duration": 0,
    "start_time": "2022-04-26T17:04:22.496Z"
   },
   {
    "duration": 1,
    "start_time": "2022-04-26T17:04:22.497Z"
   },
   {
    "duration": 0,
    "start_time": "2022-04-26T17:04:22.499Z"
   },
   {
    "duration": 0,
    "start_time": "2022-04-26T17:04:22.502Z"
   },
   {
    "duration": 0,
    "start_time": "2022-04-26T17:04:22.504Z"
   },
   {
    "duration": 0,
    "start_time": "2022-04-26T17:04:22.506Z"
   },
   {
    "duration": 0,
    "start_time": "2022-04-26T17:04:22.508Z"
   },
   {
    "duration": 0,
    "start_time": "2022-04-26T17:04:22.510Z"
   },
   {
    "duration": 2435,
    "start_time": "2022-04-26T17:04:34.831Z"
   },
   {
    "duration": 24,
    "start_time": "2022-04-26T17:06:42.124Z"
   },
   {
    "duration": 81,
    "start_time": "2022-04-26T17:06:54.243Z"
   },
   {
    "duration": 105,
    "start_time": "2022-04-26T17:08:48.181Z"
   },
   {
    "duration": 30,
    "start_time": "2022-04-26T17:10:37.907Z"
   },
   {
    "duration": 41,
    "start_time": "2022-04-26T17:11:02.267Z"
   },
   {
    "duration": 52,
    "start_time": "2022-04-26T17:11:33.102Z"
   },
   {
    "duration": 30,
    "start_time": "2022-04-26T17:11:40.753Z"
   },
   {
    "duration": 37,
    "start_time": "2022-04-26T17:11:53.132Z"
   },
   {
    "duration": 41,
    "start_time": "2022-04-26T17:12:08.016Z"
   },
   {
    "duration": 30,
    "start_time": "2022-04-26T17:14:59.818Z"
   },
   {
    "duration": 31,
    "start_time": "2022-04-26T17:15:21.329Z"
   },
   {
    "duration": 30,
    "start_time": "2022-04-26T17:15:47.009Z"
   },
   {
    "duration": 203,
    "start_time": "2022-04-26T17:16:24.137Z"
   },
   {
    "duration": 30,
    "start_time": "2022-04-26T17:16:40.034Z"
   },
   {
    "duration": 31,
    "start_time": "2022-04-26T17:17:47.241Z"
   },
   {
    "duration": 32,
    "start_time": "2022-04-26T17:18:00.007Z"
   },
   {
    "duration": 55,
    "start_time": "2022-04-26T17:22:55.479Z"
   },
   {
    "duration": 51,
    "start_time": "2022-04-26T17:23:09.864Z"
   },
   {
    "duration": 124,
    "start_time": "2022-04-26T17:23:24.519Z"
   },
   {
    "duration": 125,
    "start_time": "2022-04-26T17:23:42.736Z"
   },
   {
    "duration": 114,
    "start_time": "2022-04-26T17:25:24.128Z"
   },
   {
    "duration": 197,
    "start_time": "2022-04-26T17:28:50.972Z"
   },
   {
    "duration": 132,
    "start_time": "2022-04-26T17:29:29.245Z"
   },
   {
    "duration": 176,
    "start_time": "2022-04-26T17:30:04.070Z"
   },
   {
    "duration": 115,
    "start_time": "2022-04-26T17:30:17.628Z"
   },
   {
    "duration": 10,
    "start_time": "2022-04-26T17:30:24.724Z"
   },
   {
    "duration": 11,
    "start_time": "2022-04-26T17:30:44.413Z"
   },
   {
    "duration": 8,
    "start_time": "2022-04-26T17:32:17.773Z"
   },
   {
    "duration": 7,
    "start_time": "2022-04-26T17:32:50.812Z"
   },
   {
    "duration": 123,
    "start_time": "2022-04-26T17:33:57.813Z"
   },
   {
    "duration": 9,
    "start_time": "2022-04-26T17:35:09.909Z"
   },
   {
    "duration": 150,
    "start_time": "2022-04-26T17:35:17.215Z"
   },
   {
    "duration": 117,
    "start_time": "2022-04-26T17:35:26.671Z"
   },
   {
    "duration": 115,
    "start_time": "2022-04-26T17:35:36.980Z"
   },
   {
    "duration": 116,
    "start_time": "2022-04-26T17:35:48.858Z"
   },
   {
    "duration": 155,
    "start_time": "2022-04-26T17:35:59.123Z"
   },
   {
    "duration": 134,
    "start_time": "2022-04-26T17:36:23.957Z"
   },
   {
    "duration": 128,
    "start_time": "2022-04-26T17:41:01.474Z"
   },
   {
    "duration": 124,
    "start_time": "2022-04-26T17:41:20.284Z"
   },
   {
    "duration": 111,
    "start_time": "2022-04-26T17:41:36.859Z"
   },
   {
    "duration": 169,
    "start_time": "2022-04-26T17:44:36.209Z"
   },
   {
    "duration": 1819,
    "start_time": "2022-04-26T17:48:25.810Z"
   },
   {
    "duration": 1873,
    "start_time": "2022-04-26T17:48:42.930Z"
   },
   {
    "duration": 1725,
    "start_time": "2022-04-26T17:49:00.970Z"
   },
   {
    "duration": 1671,
    "start_time": "2022-04-26T17:49:26.675Z"
   },
   {
    "duration": 57,
    "start_time": "2022-04-26T17:51:04.360Z"
   },
   {
    "duration": 225,
    "start_time": "2022-04-26T17:51:09.534Z"
   },
   {
    "duration": 29,
    "start_time": "2022-04-26T17:51:09.762Z"
   },
   {
    "duration": 34,
    "start_time": "2022-04-26T17:51:09.793Z"
   },
   {
    "duration": 11,
    "start_time": "2022-04-26T17:51:09.830Z"
   },
   {
    "duration": 16,
    "start_time": "2022-04-26T17:51:09.843Z"
   },
   {
    "duration": 27,
    "start_time": "2022-04-26T17:51:09.861Z"
   },
   {
    "duration": 35,
    "start_time": "2022-04-26T17:51:09.891Z"
   },
   {
    "duration": 345,
    "start_time": "2022-04-26T17:51:09.928Z"
   },
   {
    "duration": 31,
    "start_time": "2022-04-26T17:51:10.275Z"
   },
   {
    "duration": 125,
    "start_time": "2022-04-26T17:51:10.311Z"
   },
   {
    "duration": 6,
    "start_time": "2022-04-26T17:51:10.438Z"
   },
   {
    "duration": 80,
    "start_time": "2022-04-26T17:51:10.446Z"
   },
   {
    "duration": 5,
    "start_time": "2022-04-26T17:51:10.528Z"
   },
   {
    "duration": 66,
    "start_time": "2022-04-26T17:51:10.535Z"
   },
   {
    "duration": 0,
    "start_time": "2022-04-26T17:51:10.605Z"
   },
   {
    "duration": 0,
    "start_time": "2022-04-26T17:51:10.610Z"
   },
   {
    "duration": 0,
    "start_time": "2022-04-26T17:51:10.611Z"
   },
   {
    "duration": 0,
    "start_time": "2022-04-26T17:51:10.612Z"
   },
   {
    "duration": 0,
    "start_time": "2022-04-26T17:51:10.615Z"
   },
   {
    "duration": 0,
    "start_time": "2022-04-26T17:51:10.616Z"
   },
   {
    "duration": 1,
    "start_time": "2022-04-26T17:51:10.617Z"
   },
   {
    "duration": 0,
    "start_time": "2022-04-26T17:51:10.619Z"
   },
   {
    "duration": 0,
    "start_time": "2022-04-26T17:51:10.621Z"
   },
   {
    "duration": 0,
    "start_time": "2022-04-26T17:51:10.622Z"
   },
   {
    "duration": 0,
    "start_time": "2022-04-26T17:51:10.624Z"
   },
   {
    "duration": 0,
    "start_time": "2022-04-26T17:51:10.626Z"
   },
   {
    "duration": 0,
    "start_time": "2022-04-26T17:51:10.627Z"
   },
   {
    "duration": 0,
    "start_time": "2022-04-26T17:51:10.629Z"
   },
   {
    "duration": 0,
    "start_time": "2022-04-26T17:51:10.630Z"
   },
   {
    "duration": 0,
    "start_time": "2022-04-26T17:51:10.632Z"
   },
   {
    "duration": 0,
    "start_time": "2022-04-26T17:51:10.634Z"
   },
   {
    "duration": 0,
    "start_time": "2022-04-26T17:51:10.635Z"
   },
   {
    "duration": 0,
    "start_time": "2022-04-26T17:51:10.637Z"
   },
   {
    "duration": 0,
    "start_time": "2022-04-26T17:51:10.686Z"
   },
   {
    "duration": 0,
    "start_time": "2022-04-26T17:51:10.687Z"
   },
   {
    "duration": 0,
    "start_time": "2022-04-26T17:51:10.688Z"
   },
   {
    "duration": 0,
    "start_time": "2022-04-26T17:51:10.697Z"
   },
   {
    "duration": 0,
    "start_time": "2022-04-26T17:51:10.698Z"
   },
   {
    "duration": 0,
    "start_time": "2022-04-26T17:51:10.701Z"
   },
   {
    "duration": 0,
    "start_time": "2022-04-26T17:51:10.703Z"
   },
   {
    "duration": 0,
    "start_time": "2022-04-26T17:51:10.705Z"
   },
   {
    "duration": 0,
    "start_time": "2022-04-26T17:51:10.707Z"
   },
   {
    "duration": 0,
    "start_time": "2022-04-26T17:51:10.709Z"
   },
   {
    "duration": 0,
    "start_time": "2022-04-26T17:51:10.711Z"
   },
   {
    "duration": 0,
    "start_time": "2022-04-26T17:51:10.712Z"
   },
   {
    "duration": 0,
    "start_time": "2022-04-26T17:51:10.715Z"
   },
   {
    "duration": 0,
    "start_time": "2022-04-26T17:51:10.717Z"
   },
   {
    "duration": 0,
    "start_time": "2022-04-26T17:51:10.719Z"
   },
   {
    "duration": 0,
    "start_time": "2022-04-26T17:51:10.721Z"
   },
   {
    "duration": 204,
    "start_time": "2022-04-26T17:51:46.921Z"
   },
   {
    "duration": 48,
    "start_time": "2022-04-26T17:52:05.951Z"
   },
   {
    "duration": 42,
    "start_time": "2022-04-26T17:52:32.168Z"
   },
   {
    "duration": 126,
    "start_time": "2022-04-26T17:55:26.696Z"
   },
   {
    "duration": 104,
    "start_time": "2022-04-26T17:55:35.470Z"
   },
   {
    "duration": 221,
    "start_time": "2022-04-26T17:55:39.483Z"
   },
   {
    "duration": 13,
    "start_time": "2022-04-26T17:55:39.710Z"
   },
   {
    "duration": 20,
    "start_time": "2022-04-26T17:55:39.725Z"
   },
   {
    "duration": 14,
    "start_time": "2022-04-26T17:55:39.748Z"
   },
   {
    "duration": 36,
    "start_time": "2022-04-26T17:55:39.764Z"
   },
   {
    "duration": 20,
    "start_time": "2022-04-26T17:55:39.802Z"
   },
   {
    "duration": 21,
    "start_time": "2022-04-26T17:55:39.824Z"
   },
   {
    "duration": 368,
    "start_time": "2022-04-26T17:55:39.848Z"
   },
   {
    "duration": 19,
    "start_time": "2022-04-26T17:55:40.218Z"
   },
   {
    "duration": 136,
    "start_time": "2022-04-26T17:55:40.241Z"
   },
   {
    "duration": 7,
    "start_time": "2022-04-26T17:55:40.379Z"
   },
   {
    "duration": 74,
    "start_time": "2022-04-26T17:55:40.388Z"
   },
   {
    "duration": 5,
    "start_time": "2022-04-26T17:55:40.464Z"
   },
   {
    "duration": 143,
    "start_time": "2022-04-26T17:55:40.472Z"
   },
   {
    "duration": 0,
    "start_time": "2022-04-26T17:55:40.618Z"
   },
   {
    "duration": 0,
    "start_time": "2022-04-26T17:55:40.620Z"
   },
   {
    "duration": 0,
    "start_time": "2022-04-26T17:55:40.622Z"
   },
   {
    "duration": 0,
    "start_time": "2022-04-26T17:55:40.623Z"
   },
   {
    "duration": 0,
    "start_time": "2022-04-26T17:55:40.625Z"
   },
   {
    "duration": 0,
    "start_time": "2022-04-26T17:55:40.626Z"
   },
   {
    "duration": 0,
    "start_time": "2022-04-26T17:55:40.628Z"
   },
   {
    "duration": 0,
    "start_time": "2022-04-26T17:55:40.629Z"
   },
   {
    "duration": 0,
    "start_time": "2022-04-26T17:55:40.630Z"
   },
   {
    "duration": 0,
    "start_time": "2022-04-26T17:55:40.632Z"
   },
   {
    "duration": 0,
    "start_time": "2022-04-26T17:55:40.633Z"
   },
   {
    "duration": 0,
    "start_time": "2022-04-26T17:55:40.634Z"
   },
   {
    "duration": 0,
    "start_time": "2022-04-26T17:55:40.636Z"
   },
   {
    "duration": 0,
    "start_time": "2022-04-26T17:55:40.637Z"
   },
   {
    "duration": 0,
    "start_time": "2022-04-26T17:55:40.638Z"
   },
   {
    "duration": 0,
    "start_time": "2022-04-26T17:55:40.639Z"
   },
   {
    "duration": 0,
    "start_time": "2022-04-26T17:55:40.641Z"
   },
   {
    "duration": 0,
    "start_time": "2022-04-26T17:55:40.642Z"
   },
   {
    "duration": 0,
    "start_time": "2022-04-26T17:55:40.643Z"
   },
   {
    "duration": 0,
    "start_time": "2022-04-26T17:55:40.644Z"
   },
   {
    "duration": 0,
    "start_time": "2022-04-26T17:55:40.646Z"
   },
   {
    "duration": 0,
    "start_time": "2022-04-26T17:55:40.647Z"
   },
   {
    "duration": 0,
    "start_time": "2022-04-26T17:55:40.649Z"
   },
   {
    "duration": 0,
    "start_time": "2022-04-26T17:55:40.650Z"
   },
   {
    "duration": 0,
    "start_time": "2022-04-26T17:55:40.651Z"
   },
   {
    "duration": 0,
    "start_time": "2022-04-26T17:55:40.652Z"
   },
   {
    "duration": 0,
    "start_time": "2022-04-26T17:55:40.653Z"
   },
   {
    "duration": 0,
    "start_time": "2022-04-26T17:55:40.655Z"
   },
   {
    "duration": 0,
    "start_time": "2022-04-26T17:55:40.696Z"
   },
   {
    "duration": 0,
    "start_time": "2022-04-26T17:55:40.698Z"
   },
   {
    "duration": 0,
    "start_time": "2022-04-26T17:55:40.699Z"
   },
   {
    "duration": 0,
    "start_time": "2022-04-26T17:55:40.702Z"
   },
   {
    "duration": 1,
    "start_time": "2022-04-26T17:55:40.703Z"
   },
   {
    "duration": 0,
    "start_time": "2022-04-26T17:55:40.705Z"
   },
   {
    "duration": 0,
    "start_time": "2022-04-26T17:55:40.706Z"
   },
   {
    "duration": 96,
    "start_time": "2022-04-26T17:55:55.402Z"
   },
   {
    "duration": 30,
    "start_time": "2022-04-26T17:59:22.015Z"
   },
   {
    "duration": 113,
    "start_time": "2022-04-26T18:03:15.974Z"
   },
   {
    "duration": 263,
    "start_time": "2022-04-26T18:09:27.694Z"
   },
   {
    "duration": 210,
    "start_time": "2022-04-26T18:11:44.945Z"
   },
   {
    "duration": 13,
    "start_time": "2022-04-26T18:11:45.158Z"
   },
   {
    "duration": 20,
    "start_time": "2022-04-26T18:11:45.193Z"
   },
   {
    "duration": 15,
    "start_time": "2022-04-26T18:11:45.217Z"
   },
   {
    "duration": 10,
    "start_time": "2022-04-26T18:11:45.234Z"
   },
   {
    "duration": 10,
    "start_time": "2022-04-26T18:11:45.246Z"
   },
   {
    "duration": 22,
    "start_time": "2022-04-26T18:11:45.287Z"
   },
   {
    "duration": 349,
    "start_time": "2022-04-26T18:11:45.311Z"
   },
   {
    "duration": 39,
    "start_time": "2022-04-26T18:11:45.662Z"
   },
   {
    "duration": 119,
    "start_time": "2022-04-26T18:11:45.707Z"
   },
   {
    "duration": 6,
    "start_time": "2022-04-26T18:11:45.829Z"
   },
   {
    "duration": 86,
    "start_time": "2022-04-26T18:11:45.838Z"
   },
   {
    "duration": 11,
    "start_time": "2022-04-26T18:11:45.926Z"
   },
   {
    "duration": 111,
    "start_time": "2022-04-26T18:11:45.939Z"
   },
   {
    "duration": 0,
    "start_time": "2022-04-26T18:11:46.053Z"
   },
   {
    "duration": 0,
    "start_time": "2022-04-26T18:11:46.055Z"
   },
   {
    "duration": 0,
    "start_time": "2022-04-26T18:11:46.056Z"
   },
   {
    "duration": 0,
    "start_time": "2022-04-26T18:11:46.058Z"
   },
   {
    "duration": 0,
    "start_time": "2022-04-26T18:11:46.059Z"
   },
   {
    "duration": 0,
    "start_time": "2022-04-26T18:11:46.061Z"
   },
   {
    "duration": 0,
    "start_time": "2022-04-26T18:11:46.063Z"
   },
   {
    "duration": 0,
    "start_time": "2022-04-26T18:11:46.065Z"
   },
   {
    "duration": 0,
    "start_time": "2022-04-26T18:11:46.066Z"
   },
   {
    "duration": 0,
    "start_time": "2022-04-26T18:11:46.068Z"
   },
   {
    "duration": 0,
    "start_time": "2022-04-26T18:11:46.069Z"
   },
   {
    "duration": 0,
    "start_time": "2022-04-26T18:11:46.070Z"
   },
   {
    "duration": 0,
    "start_time": "2022-04-26T18:11:46.073Z"
   },
   {
    "duration": 0,
    "start_time": "2022-04-26T18:11:46.074Z"
   },
   {
    "duration": 0,
    "start_time": "2022-04-26T18:11:46.076Z"
   },
   {
    "duration": 0,
    "start_time": "2022-04-26T18:11:46.077Z"
   },
   {
    "duration": 0,
    "start_time": "2022-04-26T18:11:46.079Z"
   },
   {
    "duration": 0,
    "start_time": "2022-04-26T18:11:46.080Z"
   },
   {
    "duration": 0,
    "start_time": "2022-04-26T18:11:46.085Z"
   },
   {
    "duration": 0,
    "start_time": "2022-04-26T18:11:46.088Z"
   },
   {
    "duration": 0,
    "start_time": "2022-04-26T18:11:46.095Z"
   },
   {
    "duration": 0,
    "start_time": "2022-04-26T18:11:46.096Z"
   },
   {
    "duration": 1,
    "start_time": "2022-04-26T18:11:46.099Z"
   },
   {
    "duration": 0,
    "start_time": "2022-04-26T18:11:46.101Z"
   },
   {
    "duration": 0,
    "start_time": "2022-04-26T18:11:46.102Z"
   },
   {
    "duration": 0,
    "start_time": "2022-04-26T18:11:46.108Z"
   },
   {
    "duration": 0,
    "start_time": "2022-04-26T18:11:46.110Z"
   },
   {
    "duration": 0,
    "start_time": "2022-04-26T18:11:46.116Z"
   },
   {
    "duration": 0,
    "start_time": "2022-04-26T18:11:46.118Z"
   },
   {
    "duration": 0,
    "start_time": "2022-04-26T18:11:46.120Z"
   },
   {
    "duration": 0,
    "start_time": "2022-04-26T18:11:46.121Z"
   },
   {
    "duration": 0,
    "start_time": "2022-04-26T18:11:46.124Z"
   },
   {
    "duration": 0,
    "start_time": "2022-04-26T18:11:46.126Z"
   },
   {
    "duration": 0,
    "start_time": "2022-04-26T18:11:46.128Z"
   },
   {
    "duration": 0,
    "start_time": "2022-04-26T18:11:46.130Z"
   },
   {
    "duration": 324,
    "start_time": "2022-04-26T18:12:06.924Z"
   },
   {
    "duration": 191,
    "start_time": "2022-04-26T18:15:24.723Z"
   },
   {
    "duration": 111,
    "start_time": "2022-04-26T18:15:29.807Z"
   },
   {
    "duration": 15,
    "start_time": "2022-04-26T18:15:34.523Z"
   },
   {
    "duration": 304,
    "start_time": "2022-04-26T18:15:50.579Z"
   },
   {
    "duration": 34,
    "start_time": "2022-04-26T18:22:03.318Z"
   },
   {
    "duration": 246,
    "start_time": "2022-04-26T18:22:11.609Z"
   },
   {
    "duration": 23,
    "start_time": "2022-04-26T18:22:11.858Z"
   },
   {
    "duration": 17,
    "start_time": "2022-04-26T18:22:11.883Z"
   },
   {
    "duration": 33,
    "start_time": "2022-04-26T18:22:11.903Z"
   },
   {
    "duration": 12,
    "start_time": "2022-04-26T18:22:11.939Z"
   },
   {
    "duration": 11,
    "start_time": "2022-04-26T18:22:11.953Z"
   },
   {
    "duration": 38,
    "start_time": "2022-04-26T18:22:11.966Z"
   },
   {
    "duration": 364,
    "start_time": "2022-04-26T18:22:12.006Z"
   },
   {
    "duration": 31,
    "start_time": "2022-04-26T18:22:12.373Z"
   },
   {
    "duration": 136,
    "start_time": "2022-04-26T18:22:12.414Z"
   },
   {
    "duration": 5,
    "start_time": "2022-04-26T18:22:12.552Z"
   },
   {
    "duration": 79,
    "start_time": "2022-04-26T18:22:12.559Z"
   },
   {
    "duration": 5,
    "start_time": "2022-04-26T18:22:12.641Z"
   },
   {
    "duration": 127,
    "start_time": "2022-04-26T18:22:12.648Z"
   },
   {
    "duration": 0,
    "start_time": "2022-04-26T18:22:12.778Z"
   },
   {
    "duration": 1,
    "start_time": "2022-04-26T18:22:12.779Z"
   },
   {
    "duration": 0,
    "start_time": "2022-04-26T18:22:12.781Z"
   },
   {
    "duration": 0,
    "start_time": "2022-04-26T18:22:12.782Z"
   },
   {
    "duration": 0,
    "start_time": "2022-04-26T18:22:12.791Z"
   },
   {
    "duration": 0,
    "start_time": "2022-04-26T18:22:12.793Z"
   },
   {
    "duration": 0,
    "start_time": "2022-04-26T18:22:12.797Z"
   },
   {
    "duration": 0,
    "start_time": "2022-04-26T18:22:12.799Z"
   },
   {
    "duration": 0,
    "start_time": "2022-04-26T18:22:12.813Z"
   },
   {
    "duration": 0,
    "start_time": "2022-04-26T18:22:12.815Z"
   },
   {
    "duration": 0,
    "start_time": "2022-04-26T18:22:12.817Z"
   },
   {
    "duration": 0,
    "start_time": "2022-04-26T18:22:12.819Z"
   },
   {
    "duration": 0,
    "start_time": "2022-04-26T18:22:12.821Z"
   },
   {
    "duration": 0,
    "start_time": "2022-04-26T18:22:12.822Z"
   },
   {
    "duration": 0,
    "start_time": "2022-04-26T18:22:12.823Z"
   },
   {
    "duration": 0,
    "start_time": "2022-04-26T18:22:12.825Z"
   },
   {
    "duration": 0,
    "start_time": "2022-04-26T18:22:12.827Z"
   },
   {
    "duration": 0,
    "start_time": "2022-04-26T18:22:12.828Z"
   },
   {
    "duration": 0,
    "start_time": "2022-04-26T18:22:12.830Z"
   },
   {
    "duration": 0,
    "start_time": "2022-04-26T18:22:12.832Z"
   },
   {
    "duration": 0,
    "start_time": "2022-04-26T18:22:12.833Z"
   },
   {
    "duration": 1,
    "start_time": "2022-04-26T18:22:12.834Z"
   },
   {
    "duration": 0,
    "start_time": "2022-04-26T18:22:12.836Z"
   },
   {
    "duration": 0,
    "start_time": "2022-04-26T18:22:12.838Z"
   },
   {
    "duration": 0,
    "start_time": "2022-04-26T18:22:12.839Z"
   },
   {
    "duration": 0,
    "start_time": "2022-04-26T18:22:12.840Z"
   },
   {
    "duration": 0,
    "start_time": "2022-04-26T18:22:12.841Z"
   },
   {
    "duration": 0,
    "start_time": "2022-04-26T18:22:12.843Z"
   },
   {
    "duration": 0,
    "start_time": "2022-04-26T18:22:12.844Z"
   },
   {
    "duration": 1,
    "start_time": "2022-04-26T18:22:12.845Z"
   },
   {
    "duration": 0,
    "start_time": "2022-04-26T18:22:12.847Z"
   },
   {
    "duration": 0,
    "start_time": "2022-04-26T18:22:12.884Z"
   },
   {
    "duration": 0,
    "start_time": "2022-04-26T18:22:12.885Z"
   },
   {
    "duration": 0,
    "start_time": "2022-04-26T18:22:12.887Z"
   },
   {
    "duration": 0,
    "start_time": "2022-04-26T18:22:12.888Z"
   },
   {
    "duration": 0,
    "start_time": "2022-04-26T18:22:12.890Z"
   },
   {
    "duration": 39,
    "start_time": "2022-04-26T18:22:19.297Z"
   },
   {
    "duration": 24,
    "start_time": "2022-04-26T18:22:54.216Z"
   },
   {
    "duration": 8,
    "start_time": "2022-04-26T18:23:31.105Z"
   },
   {
    "duration": 6,
    "start_time": "2022-04-26T18:23:45.257Z"
   },
   {
    "duration": 76,
    "start_time": "2022-04-27T11:15:23.805Z"
   },
   {
    "duration": 2202,
    "start_time": "2022-04-27T11:15:31.143Z"
   },
   {
    "duration": 14,
    "start_time": "2022-04-27T11:15:37.569Z"
   },
   {
    "duration": 21,
    "start_time": "2022-04-27T11:15:41.273Z"
   },
   {
    "duration": 11,
    "start_time": "2022-04-27T11:15:41.713Z"
   },
   {
    "duration": 9,
    "start_time": "2022-04-27T11:15:42.304Z"
   },
   {
    "duration": 7,
    "start_time": "2022-04-27T11:15:42.768Z"
   },
   {
    "duration": 17,
    "start_time": "2022-04-27T11:15:43.440Z"
   },
   {
    "duration": 313,
    "start_time": "2022-04-27T11:15:47.778Z"
   },
   {
    "duration": 20,
    "start_time": "2022-04-27T11:15:53.664Z"
   },
   {
    "duration": 107,
    "start_time": "2022-04-27T11:15:54.644Z"
   },
   {
    "duration": 8,
    "start_time": "2022-04-27T11:15:57.719Z"
   },
   {
    "duration": 51,
    "start_time": "2022-04-27T11:15:58.316Z"
   },
   {
    "duration": 17,
    "start_time": "2022-04-27T11:16:01.658Z"
   },
   {
    "duration": 39,
    "start_time": "2022-04-27T11:16:02.076Z"
   },
   {
    "duration": 276,
    "start_time": "2022-04-27T12:08:05.311Z"
   },
   {
    "duration": 20,
    "start_time": "2022-04-27T12:08:13.225Z"
   },
   {
    "duration": 13,
    "start_time": "2022-04-27T12:08:16.766Z"
   },
   {
    "duration": 9,
    "start_time": "2022-04-27T12:08:17.291Z"
   },
   {
    "duration": 8,
    "start_time": "2022-04-27T12:08:17.862Z"
   },
   {
    "duration": 7,
    "start_time": "2022-04-27T12:08:18.393Z"
   },
   {
    "duration": 15,
    "start_time": "2022-04-27T12:08:19.095Z"
   },
   {
    "duration": 319,
    "start_time": "2022-04-27T12:08:24.349Z"
   },
   {
    "duration": 25,
    "start_time": "2022-04-27T12:08:31.126Z"
   },
   {
    "duration": 113,
    "start_time": "2022-04-27T12:08:41.907Z"
   },
   {
    "duration": 6,
    "start_time": "2022-04-27T12:08:45.985Z"
   },
   {
    "duration": 57,
    "start_time": "2022-04-27T12:08:50.600Z"
   },
   {
    "duration": 205,
    "start_time": "2022-04-27T12:09:46.689Z"
   },
   {
    "duration": 23,
    "start_time": "2022-04-27T12:10:41.917Z"
   },
   {
    "duration": 17,
    "start_time": "2022-04-27T12:11:02.897Z"
   },
   {
    "duration": 1706,
    "start_time": "2022-04-27T12:12:31.319Z"
   },
   {
    "duration": 1653,
    "start_time": "2022-04-27T12:13:58.249Z"
   },
   {
    "duration": 211,
    "start_time": "2022-04-27T12:14:17.885Z"
   },
   {
    "duration": 49,
    "start_time": "2022-04-27T12:14:40.110Z"
   },
   {
    "duration": 52,
    "start_time": "2022-04-27T12:15:39.804Z"
   },
   {
    "duration": 109,
    "start_time": "2022-04-27T12:16:11.760Z"
   },
   {
    "duration": 117,
    "start_time": "2022-04-27T12:24:25.002Z"
   },
   {
    "duration": 109,
    "start_time": "2022-04-27T12:24:51.220Z"
   },
   {
    "duration": 117,
    "start_time": "2022-04-27T12:27:32.058Z"
   },
   {
    "duration": 79,
    "start_time": "2022-04-27T12:47:59.142Z"
   },
   {
    "duration": 1972,
    "start_time": "2022-04-27T12:48:02.943Z"
   },
   {
    "duration": 13,
    "start_time": "2022-04-27T12:48:04.917Z"
   },
   {
    "duration": 14,
    "start_time": "2022-04-27T12:48:04.931Z"
   },
   {
    "duration": 9,
    "start_time": "2022-04-27T12:48:04.955Z"
   },
   {
    "duration": 8,
    "start_time": "2022-04-27T12:48:04.966Z"
   },
   {
    "duration": 7,
    "start_time": "2022-04-27T12:48:04.976Z"
   },
   {
    "duration": 16,
    "start_time": "2022-04-27T12:48:04.985Z"
   },
   {
    "duration": 317,
    "start_time": "2022-04-27T12:48:05.002Z"
   },
   {
    "duration": 18,
    "start_time": "2022-04-27T12:48:05.321Z"
   },
   {
    "duration": 66,
    "start_time": "2022-04-27T12:48:05.354Z"
   },
   {
    "duration": 4,
    "start_time": "2022-04-27T12:48:05.422Z"
   },
   {
    "duration": 57,
    "start_time": "2022-04-27T12:48:05.427Z"
   },
   {
    "duration": 3,
    "start_time": "2022-04-27T12:48:05.485Z"
   },
   {
    "duration": 40,
    "start_time": "2022-04-27T12:48:05.490Z"
   },
   {
    "duration": 2,
    "start_time": "2022-04-27T12:48:05.532Z"
   },
   {
    "duration": 35,
    "start_time": "2022-04-27T12:48:05.535Z"
   },
   {
    "duration": 322,
    "start_time": "2022-04-27T12:48:05.571Z"
   },
   {
    "duration": 31,
    "start_time": "2022-04-27T12:48:05.895Z"
   },
   {
    "duration": 283,
    "start_time": "2022-04-27T12:48:05.928Z"
   },
   {
    "duration": 180,
    "start_time": "2022-04-27T12:48:06.213Z"
   },
   {
    "duration": 19,
    "start_time": "2022-04-27T12:48:06.395Z"
   },
   {
    "duration": 378,
    "start_time": "2022-04-27T12:48:06.415Z"
   },
   {
    "duration": 115,
    "start_time": "2022-04-27T12:48:06.795Z"
   },
   {
    "duration": 21,
    "start_time": "2022-04-27T12:48:06.911Z"
   },
   {
    "duration": 166,
    "start_time": "2022-04-27T12:48:06.934Z"
   },
   {
    "duration": 97,
    "start_time": "2022-04-27T12:48:07.102Z"
   },
   {
    "duration": 243,
    "start_time": "2022-04-27T12:48:07.201Z"
   },
   {
    "duration": 124,
    "start_time": "2022-04-27T12:48:07.448Z"
   },
   {
    "duration": 22,
    "start_time": "2022-04-27T12:48:07.573Z"
   },
   {
    "duration": 434,
    "start_time": "2022-04-27T12:48:07.597Z"
   },
   {
    "duration": 115,
    "start_time": "2022-04-27T12:48:08.033Z"
   },
   {
    "duration": 21,
    "start_time": "2022-04-27T12:48:08.149Z"
   },
   {
    "duration": 7,
    "start_time": "2022-04-27T12:48:08.172Z"
   },
   {
    "duration": 7,
    "start_time": "2022-04-27T12:48:08.181Z"
   },
   {
    "duration": 10,
    "start_time": "2022-04-27T12:48:08.189Z"
   },
   {
    "duration": 21,
    "start_time": "2022-04-27T12:48:08.200Z"
   },
   {
    "duration": 101,
    "start_time": "2022-04-27T12:48:08.223Z"
   },
   {
    "duration": 174,
    "start_time": "2022-04-27T12:48:08.326Z"
   },
   {
    "duration": 121,
    "start_time": "2022-04-27T12:48:08.502Z"
   },
   {
    "duration": 153,
    "start_time": "2022-04-27T12:48:08.625Z"
   },
   {
    "duration": 113,
    "start_time": "2022-04-27T12:48:08.780Z"
   },
   {
    "duration": 21,
    "start_time": "2022-04-27T12:48:08.895Z"
   },
   {
    "duration": 55,
    "start_time": "2022-04-27T12:48:08.917Z"
   },
   {
    "duration": 7,
    "start_time": "2022-04-27T12:48:08.974Z"
   },
   {
    "duration": 117,
    "start_time": "2022-04-27T12:48:08.983Z"
   },
   {
    "duration": 6,
    "start_time": "2022-04-27T12:48:09.101Z"
   },
   {
    "duration": 179,
    "start_time": "2022-04-27T12:48:09.109Z"
   },
   {
    "duration": 18,
    "start_time": "2022-04-27T12:48:09.289Z"
   },
   {
    "duration": 31,
    "start_time": "2022-04-27T12:48:09.310Z"
   },
   {
    "duration": 26,
    "start_time": "2022-04-27T12:48:09.342Z"
   },
   {
    "duration": 21,
    "start_time": "2022-04-27T12:48:09.370Z"
   },
   {
    "duration": 117,
    "start_time": "2022-04-27T12:49:12.137Z"
   },
   {
    "duration": 28,
    "start_time": "2022-04-27T12:49:14.825Z"
   },
   {
    "duration": 180,
    "start_time": "2022-04-27T12:49:19.720Z"
   },
   {
    "duration": 9,
    "start_time": "2022-04-27T12:49:19.902Z"
   },
   {
    "duration": 11,
    "start_time": "2022-04-27T12:49:19.913Z"
   },
   {
    "duration": 10,
    "start_time": "2022-04-27T12:49:19.926Z"
   },
   {
    "duration": 20,
    "start_time": "2022-04-27T12:49:19.938Z"
   },
   {
    "duration": 8,
    "start_time": "2022-04-27T12:49:19.959Z"
   },
   {
    "duration": 12,
    "start_time": "2022-04-27T12:49:19.969Z"
   },
   {
    "duration": 199,
    "start_time": "2022-04-27T12:49:19.983Z"
   },
   {
    "duration": 14,
    "start_time": "2022-04-27T12:49:20.183Z"
   },
   {
    "duration": 80,
    "start_time": "2022-04-27T12:49:20.200Z"
   },
   {
    "duration": 5,
    "start_time": "2022-04-27T12:49:20.281Z"
   },
   {
    "duration": 74,
    "start_time": "2022-04-27T12:49:20.288Z"
   },
   {
    "duration": 4,
    "start_time": "2022-04-27T12:49:20.364Z"
   },
   {
    "duration": 30,
    "start_time": "2022-04-27T12:49:20.370Z"
   },
   {
    "duration": 3,
    "start_time": "2022-04-27T12:49:20.401Z"
   },
   {
    "duration": 23,
    "start_time": "2022-04-27T12:49:20.406Z"
   },
   {
    "duration": 345,
    "start_time": "2022-04-27T12:49:20.431Z"
   },
   {
    "duration": 28,
    "start_time": "2022-04-27T12:49:20.777Z"
   },
   {
    "duration": 257,
    "start_time": "2022-04-27T12:49:20.806Z"
   },
   {
    "duration": 129,
    "start_time": "2022-04-27T12:49:21.065Z"
   },
   {
    "duration": 20,
    "start_time": "2022-04-27T12:49:21.195Z"
   },
   {
    "duration": 492,
    "start_time": "2022-04-27T12:49:21.217Z"
   },
   {
    "duration": 176,
    "start_time": "2022-04-27T12:49:21.712Z"
   },
   {
    "duration": 26,
    "start_time": "2022-04-27T12:49:21.889Z"
   },
   {
    "duration": 166,
    "start_time": "2022-04-27T12:49:21.916Z"
   },
   {
    "duration": 107,
    "start_time": "2022-04-27T12:49:22.084Z"
   },
   {
    "duration": 257,
    "start_time": "2022-04-27T12:49:22.192Z"
   },
   {
    "duration": 124,
    "start_time": "2022-04-27T12:49:22.454Z"
   },
   {
    "duration": 20,
    "start_time": "2022-04-27T12:49:22.580Z"
   },
   {
    "duration": 355,
    "start_time": "2022-04-27T12:49:22.602Z"
   },
   {
    "duration": 238,
    "start_time": "2022-04-27T12:49:22.958Z"
   },
   {
    "duration": 18,
    "start_time": "2022-04-27T12:49:23.198Z"
   },
   {
    "duration": 7,
    "start_time": "2022-04-27T12:49:23.218Z"
   },
   {
    "duration": 5,
    "start_time": "2022-04-27T12:49:23.227Z"
   },
   {
    "duration": 5,
    "start_time": "2022-04-27T12:49:23.255Z"
   },
   {
    "duration": 6,
    "start_time": "2022-04-27T12:49:23.261Z"
   },
   {
    "duration": 120,
    "start_time": "2022-04-27T12:49:23.269Z"
   },
   {
    "duration": 182,
    "start_time": "2022-04-27T12:49:23.391Z"
   },
   {
    "duration": 123,
    "start_time": "2022-04-27T12:49:23.574Z"
   },
   {
    "duration": 137,
    "start_time": "2022-04-27T12:49:23.699Z"
   },
   {
    "duration": 119,
    "start_time": "2022-04-27T12:49:23.837Z"
   },
   {
    "duration": 19,
    "start_time": "2022-04-27T12:49:23.958Z"
   },
   {
    "duration": 38,
    "start_time": "2022-04-27T12:49:23.979Z"
   },
   {
    "duration": 7,
    "start_time": "2022-04-27T12:49:24.019Z"
   },
   {
    "duration": 132,
    "start_time": "2022-04-27T12:49:24.028Z"
   },
   {
    "duration": 5,
    "start_time": "2022-04-27T12:49:24.162Z"
   },
   {
    "duration": 188,
    "start_time": "2022-04-27T12:49:24.169Z"
   },
   {
    "duration": 15,
    "start_time": "2022-04-27T12:49:24.359Z"
   },
   {
    "duration": 22,
    "start_time": "2022-04-27T12:49:24.375Z"
   },
   {
    "duration": 15,
    "start_time": "2022-04-27T12:49:24.398Z"
   },
   {
    "duration": 18,
    "start_time": "2022-04-27T12:49:24.414Z"
   },
   {
    "duration": 16,
    "start_time": "2022-04-27T12:50:01.889Z"
   },
   {
    "duration": 240,
    "start_time": "2022-04-27T12:54:25.869Z"
   },
   {
    "duration": 13,
    "start_time": "2022-04-27T12:54:26.112Z"
   },
   {
    "duration": 12,
    "start_time": "2022-04-27T12:54:26.127Z"
   },
   {
    "duration": 18,
    "start_time": "2022-04-27T12:54:26.142Z"
   },
   {
    "duration": 13,
    "start_time": "2022-04-27T12:54:26.162Z"
   },
   {
    "duration": 6,
    "start_time": "2022-04-27T12:54:26.177Z"
   },
   {
    "duration": 12,
    "start_time": "2022-04-27T12:54:26.184Z"
   },
   {
    "duration": 216,
    "start_time": "2022-04-27T12:54:26.198Z"
   },
   {
    "duration": 14,
    "start_time": "2022-04-27T12:54:26.416Z"
   },
   {
    "duration": 81,
    "start_time": "2022-04-27T12:54:26.433Z"
   },
   {
    "duration": 4,
    "start_time": "2022-04-27T12:54:26.516Z"
   },
   {
    "duration": 47,
    "start_time": "2022-04-27T12:54:26.522Z"
   },
   {
    "duration": 3,
    "start_time": "2022-04-27T12:54:26.571Z"
   },
   {
    "duration": 23,
    "start_time": "2022-04-27T12:54:26.575Z"
   },
   {
    "duration": 3,
    "start_time": "2022-04-27T12:54:26.599Z"
   },
   {
    "duration": 17,
    "start_time": "2022-04-27T12:54:26.604Z"
   },
   {
    "duration": 455,
    "start_time": "2022-04-27T12:54:26.623Z"
   },
   {
    "duration": 22,
    "start_time": "2022-04-27T12:54:27.080Z"
   },
   {
    "duration": 257,
    "start_time": "2022-04-27T12:54:27.104Z"
   },
   {
    "duration": 127,
    "start_time": "2022-04-27T12:54:27.363Z"
   },
   {
    "duration": 21,
    "start_time": "2022-04-27T12:54:27.492Z"
   },
   {
    "duration": 394,
    "start_time": "2022-04-27T12:54:27.514Z"
   },
   {
    "duration": 123,
    "start_time": "2022-04-27T12:54:27.910Z"
   },
   {
    "duration": 46,
    "start_time": "2022-04-27T12:54:28.034Z"
   },
   {
    "duration": 244,
    "start_time": "2022-04-27T12:54:28.082Z"
   },
   {
    "duration": 119,
    "start_time": "2022-04-27T12:54:28.328Z"
   },
   {
    "duration": 249,
    "start_time": "2022-04-27T12:54:28.448Z"
   },
   {
    "duration": 257,
    "start_time": "2022-04-27T12:54:28.701Z"
   },
   {
    "duration": 20,
    "start_time": "2022-04-27T12:54:28.959Z"
   },
   {
    "duration": 362,
    "start_time": "2022-04-27T12:54:28.981Z"
   },
   {
    "duration": 118,
    "start_time": "2022-04-27T12:54:29.344Z"
   },
   {
    "duration": 19,
    "start_time": "2022-04-27T12:54:29.464Z"
   },
   {
    "duration": 7,
    "start_time": "2022-04-27T12:54:29.485Z"
   },
   {
    "duration": 4,
    "start_time": "2022-04-27T12:54:29.494Z"
   },
   {
    "duration": 5,
    "start_time": "2022-04-27T12:54:29.500Z"
   },
   {
    "duration": 9,
    "start_time": "2022-04-27T12:54:29.506Z"
   },
   {
    "duration": 129,
    "start_time": "2022-04-27T12:54:29.516Z"
   },
   {
    "duration": 174,
    "start_time": "2022-04-27T12:54:29.647Z"
   },
   {
    "duration": 113,
    "start_time": "2022-04-27T12:54:29.822Z"
   },
   {
    "duration": 156,
    "start_time": "2022-04-27T12:54:29.937Z"
   },
   {
    "duration": 122,
    "start_time": "2022-04-27T12:54:30.095Z"
   },
   {
    "duration": 21,
    "start_time": "2022-04-27T12:54:30.218Z"
   },
   {
    "duration": 50,
    "start_time": "2022-04-27T12:54:30.240Z"
   },
   {
    "duration": 7,
    "start_time": "2022-04-27T12:54:30.291Z"
   },
   {
    "duration": 120,
    "start_time": "2022-04-27T12:54:30.299Z"
   },
   {
    "duration": 6,
    "start_time": "2022-04-27T12:54:30.420Z"
   },
   {
    "duration": 185,
    "start_time": "2022-04-27T12:54:30.427Z"
   },
   {
    "duration": 15,
    "start_time": "2022-04-27T12:54:30.613Z"
   },
   {
    "duration": 32,
    "start_time": "2022-04-27T12:54:30.630Z"
   },
   {
    "duration": 15,
    "start_time": "2022-04-27T12:54:30.663Z"
   },
   {
    "duration": 25,
    "start_time": "2022-04-27T12:54:30.679Z"
   },
   {
    "duration": 21,
    "start_time": "2022-04-27T12:55:20.351Z"
   },
   {
    "duration": 15,
    "start_time": "2022-04-27T12:55:27.351Z"
   },
   {
    "duration": 16,
    "start_time": "2022-04-27T12:55:28.552Z"
   },
   {
    "duration": 18,
    "start_time": "2022-04-27T12:57:50.415Z"
   },
   {
    "duration": 17,
    "start_time": "2022-04-27T12:59:08.256Z"
   },
   {
    "duration": 166,
    "start_time": "2022-04-27T12:59:14.204Z"
   },
   {
    "duration": 9,
    "start_time": "2022-04-27T12:59:14.372Z"
   },
   {
    "duration": 12,
    "start_time": "2022-04-27T12:59:14.382Z"
   },
   {
    "duration": 7,
    "start_time": "2022-04-27T12:59:14.396Z"
   },
   {
    "duration": 6,
    "start_time": "2022-04-27T12:59:14.405Z"
   },
   {
    "duration": 8,
    "start_time": "2022-04-27T12:59:14.412Z"
   },
   {
    "duration": 36,
    "start_time": "2022-04-27T12:59:14.422Z"
   },
   {
    "duration": 187,
    "start_time": "2022-04-27T12:59:14.460Z"
   },
   {
    "duration": 14,
    "start_time": "2022-04-27T12:59:14.649Z"
   },
   {
    "duration": 67,
    "start_time": "2022-04-27T12:59:14.666Z"
   },
   {
    "duration": 23,
    "start_time": "2022-04-27T12:59:14.734Z"
   },
   {
    "duration": 38,
    "start_time": "2022-04-27T12:59:14.759Z"
   },
   {
    "duration": 3,
    "start_time": "2022-04-27T12:59:14.799Z"
   },
   {
    "duration": 21,
    "start_time": "2022-04-27T12:59:14.803Z"
   },
   {
    "duration": 2,
    "start_time": "2022-04-27T12:59:14.826Z"
   },
   {
    "duration": 37,
    "start_time": "2022-04-27T12:59:14.830Z"
   },
   {
    "duration": 471,
    "start_time": "2022-04-27T12:59:14.868Z"
   },
   {
    "duration": 27,
    "start_time": "2022-04-27T12:59:15.340Z"
   },
   {
    "duration": 250,
    "start_time": "2022-04-27T12:59:15.369Z"
   },
   {
    "duration": 117,
    "start_time": "2022-04-27T12:59:15.621Z"
   },
   {
    "duration": 29,
    "start_time": "2022-04-27T12:59:15.740Z"
   },
   {
    "duration": 362,
    "start_time": "2022-04-27T12:59:15.770Z"
   },
   {
    "duration": 124,
    "start_time": "2022-04-27T12:59:16.133Z"
   },
   {
    "duration": 21,
    "start_time": "2022-04-27T12:59:16.259Z"
   },
   {
    "duration": 163,
    "start_time": "2022-04-27T12:59:16.282Z"
   },
   {
    "duration": 97,
    "start_time": "2022-04-27T12:59:16.446Z"
   },
   {
    "duration": 255,
    "start_time": "2022-04-27T12:59:16.544Z"
   },
   {
    "duration": 121,
    "start_time": "2022-04-27T12:59:16.802Z"
   },
   {
    "duration": 29,
    "start_time": "2022-04-27T12:59:16.925Z"
   },
   {
    "duration": 641,
    "start_time": "2022-04-27T12:59:16.956Z"
   },
   {
    "duration": 116,
    "start_time": "2022-04-27T12:59:17.599Z"
   },
   {
    "duration": 18,
    "start_time": "2022-04-27T12:59:17.717Z"
   },
   {
    "duration": 20,
    "start_time": "2022-04-27T12:59:17.737Z"
   },
   {
    "duration": 5,
    "start_time": "2022-04-27T12:59:17.758Z"
   },
   {
    "duration": 5,
    "start_time": "2022-04-27T12:59:17.765Z"
   },
   {
    "duration": 10,
    "start_time": "2022-04-27T12:59:17.772Z"
   },
   {
    "duration": 115,
    "start_time": "2022-04-27T12:59:17.784Z"
   },
   {
    "duration": 162,
    "start_time": "2022-04-27T12:59:17.901Z"
   },
   {
    "duration": 114,
    "start_time": "2022-04-27T12:59:18.065Z"
   },
   {
    "duration": 146,
    "start_time": "2022-04-27T12:59:18.181Z"
   },
   {
    "duration": 102,
    "start_time": "2022-04-27T12:59:18.328Z"
   },
   {
    "duration": 33,
    "start_time": "2022-04-27T12:59:18.432Z"
   },
   {
    "duration": 38,
    "start_time": "2022-04-27T12:59:18.466Z"
   },
   {
    "duration": 8,
    "start_time": "2022-04-27T12:59:18.505Z"
   },
   {
    "duration": 125,
    "start_time": "2022-04-27T12:59:18.514Z"
   },
   {
    "duration": 14,
    "start_time": "2022-04-27T12:59:18.640Z"
   },
   {
    "duration": 152,
    "start_time": "2022-04-27T12:59:18.656Z"
   },
   {
    "duration": 15,
    "start_time": "2022-04-27T12:59:18.810Z"
   },
   {
    "duration": 28,
    "start_time": "2022-04-27T12:59:18.827Z"
   },
   {
    "duration": 10,
    "start_time": "2022-04-27T12:59:18.857Z"
   },
   {
    "duration": 4,
    "start_time": "2022-04-27T12:59:18.869Z"
   },
   {
    "duration": 184,
    "start_time": "2022-04-27T13:01:04.339Z"
   },
   {
    "duration": 10,
    "start_time": "2022-04-27T13:01:04.524Z"
   },
   {
    "duration": 23,
    "start_time": "2022-04-27T13:01:04.535Z"
   },
   {
    "duration": 19,
    "start_time": "2022-04-27T13:01:04.560Z"
   },
   {
    "duration": 10,
    "start_time": "2022-04-27T13:01:04.581Z"
   },
   {
    "duration": 9,
    "start_time": "2022-04-27T13:01:04.592Z"
   },
   {
    "duration": 14,
    "start_time": "2022-04-27T13:01:04.602Z"
   },
   {
    "duration": 204,
    "start_time": "2022-04-27T13:01:04.617Z"
   },
   {
    "duration": 14,
    "start_time": "2022-04-27T13:01:04.823Z"
   },
   {
    "duration": 81,
    "start_time": "2022-04-27T13:01:04.840Z"
   },
   {
    "duration": 4,
    "start_time": "2022-04-27T13:01:04.922Z"
   },
   {
    "duration": 49,
    "start_time": "2022-04-27T13:01:04.928Z"
   },
   {
    "duration": 4,
    "start_time": "2022-04-27T13:01:04.978Z"
   },
   {
    "duration": 24,
    "start_time": "2022-04-27T13:01:04.984Z"
   },
   {
    "duration": 3,
    "start_time": "2022-04-27T13:01:05.010Z"
   },
   {
    "duration": 17,
    "start_time": "2022-04-27T13:01:05.014Z"
   },
   {
    "duration": 333,
    "start_time": "2022-04-27T13:01:05.033Z"
   },
   {
    "duration": 23,
    "start_time": "2022-04-27T13:01:05.367Z"
   },
   {
    "duration": 284,
    "start_time": "2022-04-27T13:01:05.392Z"
   },
   {
    "duration": 136,
    "start_time": "2022-04-27T13:01:05.679Z"
   },
   {
    "duration": 21,
    "start_time": "2022-04-27T13:01:05.817Z"
   },
   {
    "duration": 669,
    "start_time": "2022-04-27T13:01:05.840Z"
   },
   {
    "duration": 123,
    "start_time": "2022-04-27T13:01:06.511Z"
   },
   {
    "duration": 29,
    "start_time": "2022-04-27T13:01:06.636Z"
   },
   {
    "duration": 169,
    "start_time": "2022-04-27T13:01:06.667Z"
   },
   {
    "duration": 106,
    "start_time": "2022-04-27T13:01:06.837Z"
   },
   {
    "duration": 292,
    "start_time": "2022-04-27T13:01:06.945Z"
   },
   {
    "duration": 140,
    "start_time": "2022-04-27T13:01:07.241Z"
   },
   {
    "duration": 23,
    "start_time": "2022-04-27T13:01:07.383Z"
   },
   {
    "duration": 386,
    "start_time": "2022-04-27T13:01:07.407Z"
   },
   {
    "duration": 124,
    "start_time": "2022-04-27T13:01:07.795Z"
   },
   {
    "duration": 20,
    "start_time": "2022-04-27T13:01:07.921Z"
   },
   {
    "duration": 9,
    "start_time": "2022-04-27T13:01:07.955Z"
   },
   {
    "duration": 6,
    "start_time": "2022-04-27T13:01:07.965Z"
   },
   {
    "duration": 6,
    "start_time": "2022-04-27T13:01:07.973Z"
   },
   {
    "duration": 9,
    "start_time": "2022-04-27T13:01:07.981Z"
   },
   {
    "duration": 134,
    "start_time": "2022-04-27T13:01:07.992Z"
   },
   {
    "duration": 195,
    "start_time": "2022-04-27T13:01:08.128Z"
   },
   {
    "duration": 183,
    "start_time": "2022-04-27T13:01:08.325Z"
   },
   {
    "duration": 224,
    "start_time": "2022-04-27T13:01:08.510Z"
   },
   {
    "duration": 127,
    "start_time": "2022-04-27T13:01:08.736Z"
   },
   {
    "duration": 24,
    "start_time": "2022-04-27T13:01:08.865Z"
   },
   {
    "duration": 43,
    "start_time": "2022-04-27T13:01:08.890Z"
   },
   {
    "duration": 9,
    "start_time": "2022-04-27T13:01:08.954Z"
   },
   {
    "duration": 124,
    "start_time": "2022-04-27T13:01:08.964Z"
   },
   {
    "duration": 6,
    "start_time": "2022-04-27T13:01:09.091Z"
   },
   {
    "duration": 173,
    "start_time": "2022-04-27T13:01:09.099Z"
   },
   {
    "duration": 15,
    "start_time": "2022-04-27T13:01:09.274Z"
   },
   {
    "duration": 16,
    "start_time": "2022-04-27T13:01:09.291Z"
   },
   {
    "duration": 11,
    "start_time": "2022-04-27T13:01:09.309Z"
   },
   {
    "duration": 33,
    "start_time": "2022-04-27T13:01:09.322Z"
   },
   {
    "duration": 6,
    "start_time": "2022-04-27T13:01:29.230Z"
   }
  ],
  "kernelspec": {
   "display_name": "Python 3 (ipykernel)",
   "language": "python",
   "name": "python3"
  },
  "language_info": {
   "codemirror_mode": {
    "name": "ipython",
    "version": 3
   },
   "file_extension": ".py",
   "mimetype": "text/x-python",
   "name": "python",
   "nbconvert_exporter": "python",
   "pygments_lexer": "ipython3",
   "version": "3.9.7"
  },
  "toc": {
   "base_numbering": 1,
   "nav_menu": {},
   "number_sections": true,
   "sideBar": true,
   "skip_h1_title": true,
   "title_cell": "Содержание",
   "title_sidebar": "Contents",
   "toc_cell": true,
   "toc_position": {},
   "toc_section_display": true,
   "toc_window_display": true
  }
 },
 "nbformat": 4,
 "nbformat_minor": 4
}
